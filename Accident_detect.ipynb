{
  "cells": [
    {
      "cell_type": "markdown",
      "metadata": {
        "id": "view-in-github",
        "colab_type": "text"
      },
      "source": [
        "<a href=\"https://colab.research.google.com/github/Lokeshkrishna07/Accident-Detection-and-alert-system/blob/main/Accident_detect.ipynb\" target=\"_parent\"><img src=\"https://colab.research.google.com/assets/colab-badge.svg\" alt=\"Open In Colab\"/></a>"
      ]
    },
    {
      "cell_type": "code",
      "execution_count": null,
      "metadata": {
        "id": "GbCUWJ-68jRP",
        "colab": {
          "base_uri": "https://localhost:8080/",
          "height": 365
        },
        "outputId": "fa940534-a626-46fc-f95c-3046f2e64ee3"
      },
      "outputs": [
        {
          "output_type": "error",
          "ename": "MessageError",
          "evalue": "Error: credential propagation was unsuccessful",
          "traceback": [
            "\u001b[0;31m---------------------------------------------------------------------------\u001b[0m",
            "\u001b[0;31mMessageError\u001b[0m                              Traceback (most recent call last)",
            "\u001b[0;32m<ipython-input-1-69a2f061da70>\u001b[0m in \u001b[0;36m<cell line: 0>\u001b[0;34m()\u001b[0m\n\u001b[1;32m      1\u001b[0m \u001b[0;31m# Mount Google Drive (if not already mounted)\u001b[0m\u001b[0;34m\u001b[0m\u001b[0;34m\u001b[0m\u001b[0m\n\u001b[1;32m      2\u001b[0m \u001b[0;32mfrom\u001b[0m \u001b[0mgoogle\u001b[0m\u001b[0;34m.\u001b[0m\u001b[0mcolab\u001b[0m \u001b[0;32mimport\u001b[0m \u001b[0mdrive\u001b[0m\u001b[0;34m\u001b[0m\u001b[0;34m\u001b[0m\u001b[0m\n\u001b[0;32m----> 3\u001b[0;31m \u001b[0mdrive\u001b[0m\u001b[0;34m.\u001b[0m\u001b[0mmount\u001b[0m\u001b[0;34m(\u001b[0m\u001b[0;34m'/content/drive'\u001b[0m\u001b[0;34m,\u001b[0m \u001b[0mforce_remount\u001b[0m\u001b[0;34m=\u001b[0m\u001b[0;32mTrue\u001b[0m\u001b[0;34m)\u001b[0m\u001b[0;34m\u001b[0m\u001b[0;34m\u001b[0m\u001b[0m\n\u001b[0m\u001b[1;32m      4\u001b[0m \u001b[0;34m\u001b[0m\u001b[0m\n\u001b[1;32m      5\u001b[0m \u001b[0;31m# Define dataset paths\u001b[0m\u001b[0;34m\u001b[0m\u001b[0;34m\u001b[0m\u001b[0m\n",
            "\u001b[0;32m/usr/local/lib/python3.11/dist-packages/google/colab/drive.py\u001b[0m in \u001b[0;36mmount\u001b[0;34m(mountpoint, force_remount, timeout_ms, readonly)\u001b[0m\n\u001b[1;32m     98\u001b[0m \u001b[0;32mdef\u001b[0m \u001b[0mmount\u001b[0m\u001b[0;34m(\u001b[0m\u001b[0mmountpoint\u001b[0m\u001b[0;34m,\u001b[0m \u001b[0mforce_remount\u001b[0m\u001b[0;34m=\u001b[0m\u001b[0;32mFalse\u001b[0m\u001b[0;34m,\u001b[0m \u001b[0mtimeout_ms\u001b[0m\u001b[0;34m=\u001b[0m\u001b[0;36m120000\u001b[0m\u001b[0;34m,\u001b[0m \u001b[0mreadonly\u001b[0m\u001b[0;34m=\u001b[0m\u001b[0;32mFalse\u001b[0m\u001b[0;34m)\u001b[0m\u001b[0;34m:\u001b[0m\u001b[0;34m\u001b[0m\u001b[0;34m\u001b[0m\u001b[0m\n\u001b[1;32m     99\u001b[0m   \u001b[0;34m\"\"\"Mount your Google Drive at the specified mountpoint path.\"\"\"\u001b[0m\u001b[0;34m\u001b[0m\u001b[0;34m\u001b[0m\u001b[0m\n\u001b[0;32m--> 100\u001b[0;31m   return _mount(\n\u001b[0m\u001b[1;32m    101\u001b[0m       \u001b[0mmountpoint\u001b[0m\u001b[0;34m,\u001b[0m\u001b[0;34m\u001b[0m\u001b[0;34m\u001b[0m\u001b[0m\n\u001b[1;32m    102\u001b[0m       \u001b[0mforce_remount\u001b[0m\u001b[0;34m=\u001b[0m\u001b[0mforce_remount\u001b[0m\u001b[0;34m,\u001b[0m\u001b[0;34m\u001b[0m\u001b[0;34m\u001b[0m\u001b[0m\n",
            "\u001b[0;32m/usr/local/lib/python3.11/dist-packages/google/colab/drive.py\u001b[0m in \u001b[0;36m_mount\u001b[0;34m(mountpoint, force_remount, timeout_ms, ephemeral, readonly)\u001b[0m\n\u001b[1;32m    135\u001b[0m   )\n\u001b[1;32m    136\u001b[0m   \u001b[0;32mif\u001b[0m \u001b[0mephemeral\u001b[0m\u001b[0;34m:\u001b[0m\u001b[0;34m\u001b[0m\u001b[0;34m\u001b[0m\u001b[0m\n\u001b[0;32m--> 137\u001b[0;31m     _message.blocking_request(\n\u001b[0m\u001b[1;32m    138\u001b[0m         \u001b[0;34m'request_auth'\u001b[0m\u001b[0;34m,\u001b[0m\u001b[0;34m\u001b[0m\u001b[0;34m\u001b[0m\u001b[0m\n\u001b[1;32m    139\u001b[0m         \u001b[0mrequest\u001b[0m\u001b[0;34m=\u001b[0m\u001b[0;34m{\u001b[0m\u001b[0;34m'authType'\u001b[0m\u001b[0;34m:\u001b[0m \u001b[0;34m'dfs_ephemeral'\u001b[0m\u001b[0;34m}\u001b[0m\u001b[0;34m,\u001b[0m\u001b[0;34m\u001b[0m\u001b[0;34m\u001b[0m\u001b[0m\n",
            "\u001b[0;32m/usr/local/lib/python3.11/dist-packages/google/colab/_message.py\u001b[0m in \u001b[0;36mblocking_request\u001b[0;34m(request_type, request, timeout_sec, parent)\u001b[0m\n\u001b[1;32m    174\u001b[0m       \u001b[0mrequest_type\u001b[0m\u001b[0;34m,\u001b[0m \u001b[0mrequest\u001b[0m\u001b[0;34m,\u001b[0m \u001b[0mparent\u001b[0m\u001b[0;34m=\u001b[0m\u001b[0mparent\u001b[0m\u001b[0;34m,\u001b[0m \u001b[0mexpect_reply\u001b[0m\u001b[0;34m=\u001b[0m\u001b[0;32mTrue\u001b[0m\u001b[0;34m\u001b[0m\u001b[0;34m\u001b[0m\u001b[0m\n\u001b[1;32m    175\u001b[0m   )\n\u001b[0;32m--> 176\u001b[0;31m   \u001b[0;32mreturn\u001b[0m \u001b[0mread_reply_from_input\u001b[0m\u001b[0;34m(\u001b[0m\u001b[0mrequest_id\u001b[0m\u001b[0;34m,\u001b[0m \u001b[0mtimeout_sec\u001b[0m\u001b[0;34m)\u001b[0m\u001b[0;34m\u001b[0m\u001b[0;34m\u001b[0m\u001b[0m\n\u001b[0m",
            "\u001b[0;32m/usr/local/lib/python3.11/dist-packages/google/colab/_message.py\u001b[0m in \u001b[0;36mread_reply_from_input\u001b[0;34m(message_id, timeout_sec)\u001b[0m\n\u001b[1;32m    101\u001b[0m     ):\n\u001b[1;32m    102\u001b[0m       \u001b[0;32mif\u001b[0m \u001b[0;34m'error'\u001b[0m \u001b[0;32min\u001b[0m \u001b[0mreply\u001b[0m\u001b[0;34m:\u001b[0m\u001b[0;34m\u001b[0m\u001b[0;34m\u001b[0m\u001b[0m\n\u001b[0;32m--> 103\u001b[0;31m         \u001b[0;32mraise\u001b[0m \u001b[0mMessageError\u001b[0m\u001b[0;34m(\u001b[0m\u001b[0mreply\u001b[0m\u001b[0;34m[\u001b[0m\u001b[0;34m'error'\u001b[0m\u001b[0;34m]\u001b[0m\u001b[0;34m)\u001b[0m\u001b[0;34m\u001b[0m\u001b[0;34m\u001b[0m\u001b[0m\n\u001b[0m\u001b[1;32m    104\u001b[0m       \u001b[0;32mreturn\u001b[0m \u001b[0mreply\u001b[0m\u001b[0;34m.\u001b[0m\u001b[0mget\u001b[0m\u001b[0;34m(\u001b[0m\u001b[0;34m'data'\u001b[0m\u001b[0;34m,\u001b[0m \u001b[0;32mNone\u001b[0m\u001b[0;34m)\u001b[0m\u001b[0;34m\u001b[0m\u001b[0;34m\u001b[0m\u001b[0m\n\u001b[1;32m    105\u001b[0m \u001b[0;34m\u001b[0m\u001b[0m\n",
            "\u001b[0;31mMessageError\u001b[0m: Error: credential propagation was unsuccessful"
          ]
        }
      ],
      "source": [
        "# Mount Google Drive (if not already mounted)\n",
        "from google.colab import drive\n",
        "drive.mount('/content/drive', force_remount=True)\n",
        "\n",
        "# Define dataset paths\n",
        "zip_file_path = \"/content/drive/MyDrive/dataset.zip\"\n",
        "destination_dir = \"/content/accident_dataset\" #  Path where the dataset will be extracted inside Colab’s temporary storage\n",
        "\n",
        "print(zip_file_path)\n",
        "print(destination_dir)"
      ]
    },
    {
      "cell_type": "code",
      "execution_count": null,
      "metadata": {
        "id": "PO2iR0zc8xUy",
        "colab": {
          "base_uri": "https://localhost:8080/"
        },
        "outputId": "40822bdf-0ccc-46a9-b6b4-a350b7b887fa"
      },
      "outputs": [
        {
          "output_type": "stream",
          "name": "stdout",
          "text": [
            "Dataset extracted to /content/accident_dataset\n"
          ]
        }
      ],
      "source": [
        "#  re-run this code at the start of every session bcs when colab closes the extracted data in colab's content will be lost\n",
        "\n",
        "import os\n",
        "import zipfile\n",
        "from pathlib import Path\n",
        "\n",
        "# Unzip Dataset if Not Already Done\n",
        "if not os.path.exists(destination_dir):\n",
        "    with zipfile.ZipFile(zip_file_path, 'r') as zip_ref:\n",
        "        zip_ref.extractall(destination_dir)\n",
        "    print(f\"Dataset extracted to {destination_dir}\")\n",
        "else:\n",
        "    print(f\"Dataset already exists at {destination_dir}\")\n"
      ]
    },
    {
      "cell_type": "code",
      "execution_count": null,
      "metadata": {
        "id": "e-3VITGC8xRb",
        "colab": {
          "base_uri": "https://localhost:8080/"
        },
        "outputId": "169b626b-7086-4eaf-dbe1-8e9f6e34230f"
      },
      "outputs": [
        {
          "output_type": "stream",
          "name": "stdout",
          "text": [
            "Train Directory: /content/accident_dataset/dataset/train\n",
            "Validation Directory: /content/accident_dataset/dataset/valid\n",
            "test Directory: /content/accident_dataset/dataset/test\n"
          ]
        }
      ],
      "source": [
        "# verify dataset structure\n",
        "train_dir = os.path.join(destination_dir, \"dataset/train\")\n",
        "val_dir = os.path.join(destination_dir, \"dataset/valid\")\n",
        "test_dir = os.path.join(destination_dir, \"dataset/test\")\n",
        "\n",
        "\n",
        "if not os.path.exists(train_dir) or not os.path.exists(val_dir):\n",
        "    raise FileNotFoundError(\"Train/Validation folders not found. Ensure the dataset structure is correct.\")\n",
        "\n",
        "print(f\"Train Directory: {train_dir}\")\n",
        "print(f\"Validation Directory: {val_dir}\")\n",
        "print(f\"test Directory: {test_dir}\")"
      ]
    },
    {
      "cell_type": "code",
      "execution_count": null,
      "metadata": {
        "id": "KhfjfBNZ8xPk",
        "colab": {
          "base_uri": "https://localhost:8080/"
        },
        "outputId": "00291aa0-5c5c-4a38-f964-b2ea62c3fe03"
      },
      "outputs": [
        {
          "output_type": "stream",
          "name": "stdout",
          "text": [
            "Collecting ultralytics\n",
            "  Downloading ultralytics-8.3.118-py3-none-any.whl.metadata (37 kB)\n",
            "Requirement already satisfied: numpy<=2.1.1,>=1.23.0 in /usr/local/lib/python3.11/dist-packages (from ultralytics) (2.0.2)\n",
            "Requirement already satisfied: matplotlib>=3.3.0 in /usr/local/lib/python3.11/dist-packages (from ultralytics) (3.10.0)\n",
            "Requirement already satisfied: opencv-python>=4.6.0 in /usr/local/lib/python3.11/dist-packages (from ultralytics) (4.11.0.86)\n",
            "Requirement already satisfied: pillow>=7.1.2 in /usr/local/lib/python3.11/dist-packages (from ultralytics) (11.1.0)\n",
            "Requirement already satisfied: pyyaml>=5.3.1 in /usr/local/lib/python3.11/dist-packages (from ultralytics) (6.0.2)\n",
            "Requirement already satisfied: requests>=2.23.0 in /usr/local/lib/python3.11/dist-packages (from ultralytics) (2.32.3)\n",
            "Requirement already satisfied: scipy>=1.4.1 in /usr/local/lib/python3.11/dist-packages (from ultralytics) (1.14.1)\n",
            "Requirement already satisfied: torch>=1.8.0 in /usr/local/lib/python3.11/dist-packages (from ultralytics) (2.6.0+cu124)\n",
            "Requirement already satisfied: torchvision>=0.9.0 in /usr/local/lib/python3.11/dist-packages (from ultralytics) (0.21.0+cu124)\n",
            "Requirement already satisfied: tqdm>=4.64.0 in /usr/local/lib/python3.11/dist-packages (from ultralytics) (4.67.1)\n",
            "Requirement already satisfied: psutil in /usr/local/lib/python3.11/dist-packages (from ultralytics) (5.9.5)\n",
            "Requirement already satisfied: py-cpuinfo in /usr/local/lib/python3.11/dist-packages (from ultralytics) (9.0.0)\n",
            "Requirement already satisfied: pandas>=1.1.4 in /usr/local/lib/python3.11/dist-packages (from ultralytics) (2.2.2)\n",
            "Requirement already satisfied: seaborn>=0.11.0 in /usr/local/lib/python3.11/dist-packages (from ultralytics) (0.13.2)\n",
            "Collecting ultralytics-thop>=2.0.0 (from ultralytics)\n",
            "  Downloading ultralytics_thop-2.0.14-py3-none-any.whl.metadata (9.4 kB)\n",
            "Requirement already satisfied: contourpy>=1.0.1 in /usr/local/lib/python3.11/dist-packages (from matplotlib>=3.3.0->ultralytics) (1.3.2)\n",
            "Requirement already satisfied: cycler>=0.10 in /usr/local/lib/python3.11/dist-packages (from matplotlib>=3.3.0->ultralytics) (0.12.1)\n",
            "Requirement already satisfied: fonttools>=4.22.0 in /usr/local/lib/python3.11/dist-packages (from matplotlib>=3.3.0->ultralytics) (4.57.0)\n",
            "Requirement already satisfied: kiwisolver>=1.3.1 in /usr/local/lib/python3.11/dist-packages (from matplotlib>=3.3.0->ultralytics) (1.4.8)\n",
            "Requirement already satisfied: packaging>=20.0 in /usr/local/lib/python3.11/dist-packages (from matplotlib>=3.3.0->ultralytics) (24.2)\n",
            "Requirement already satisfied: pyparsing>=2.3.1 in /usr/local/lib/python3.11/dist-packages (from matplotlib>=3.3.0->ultralytics) (3.2.3)\n",
            "Requirement already satisfied: python-dateutil>=2.7 in /usr/local/lib/python3.11/dist-packages (from matplotlib>=3.3.0->ultralytics) (2.8.2)\n",
            "Requirement already satisfied: pytz>=2020.1 in /usr/local/lib/python3.11/dist-packages (from pandas>=1.1.4->ultralytics) (2025.2)\n",
            "Requirement already satisfied: tzdata>=2022.7 in /usr/local/lib/python3.11/dist-packages (from pandas>=1.1.4->ultralytics) (2025.2)\n",
            "Requirement already satisfied: charset-normalizer<4,>=2 in /usr/local/lib/python3.11/dist-packages (from requests>=2.23.0->ultralytics) (3.4.1)\n",
            "Requirement already satisfied: idna<4,>=2.5 in /usr/local/lib/python3.11/dist-packages (from requests>=2.23.0->ultralytics) (3.10)\n",
            "Requirement already satisfied: urllib3<3,>=1.21.1 in /usr/local/lib/python3.11/dist-packages (from requests>=2.23.0->ultralytics) (2.3.0)\n",
            "Requirement already satisfied: certifi>=2017.4.17 in /usr/local/lib/python3.11/dist-packages (from requests>=2.23.0->ultralytics) (2025.1.31)\n",
            "Requirement already satisfied: filelock in /usr/local/lib/python3.11/dist-packages (from torch>=1.8.0->ultralytics) (3.18.0)\n",
            "Requirement already satisfied: typing-extensions>=4.10.0 in /usr/local/lib/python3.11/dist-packages (from torch>=1.8.0->ultralytics) (4.13.2)\n",
            "Requirement already satisfied: networkx in /usr/local/lib/python3.11/dist-packages (from torch>=1.8.0->ultralytics) (3.4.2)\n",
            "Requirement already satisfied: jinja2 in /usr/local/lib/python3.11/dist-packages (from torch>=1.8.0->ultralytics) (3.1.6)\n",
            "Requirement already satisfied: fsspec in /usr/local/lib/python3.11/dist-packages (from torch>=1.8.0->ultralytics) (2025.3.2)\n",
            "Collecting nvidia-cuda-nvrtc-cu12==12.4.127 (from torch>=1.8.0->ultralytics)\n",
            "  Downloading nvidia_cuda_nvrtc_cu12-12.4.127-py3-none-manylinux2014_x86_64.whl.metadata (1.5 kB)\n",
            "Collecting nvidia-cuda-runtime-cu12==12.4.127 (from torch>=1.8.0->ultralytics)\n",
            "  Downloading nvidia_cuda_runtime_cu12-12.4.127-py3-none-manylinux2014_x86_64.whl.metadata (1.5 kB)\n",
            "Collecting nvidia-cuda-cupti-cu12==12.4.127 (from torch>=1.8.0->ultralytics)\n",
            "  Downloading nvidia_cuda_cupti_cu12-12.4.127-py3-none-manylinux2014_x86_64.whl.metadata (1.6 kB)\n",
            "Collecting nvidia-cudnn-cu12==9.1.0.70 (from torch>=1.8.0->ultralytics)\n",
            "  Downloading nvidia_cudnn_cu12-9.1.0.70-py3-none-manylinux2014_x86_64.whl.metadata (1.6 kB)\n",
            "Collecting nvidia-cublas-cu12==12.4.5.8 (from torch>=1.8.0->ultralytics)\n",
            "  Downloading nvidia_cublas_cu12-12.4.5.8-py3-none-manylinux2014_x86_64.whl.metadata (1.5 kB)\n",
            "Collecting nvidia-cufft-cu12==11.2.1.3 (from torch>=1.8.0->ultralytics)\n",
            "  Downloading nvidia_cufft_cu12-11.2.1.3-py3-none-manylinux2014_x86_64.whl.metadata (1.5 kB)\n",
            "Collecting nvidia-curand-cu12==10.3.5.147 (from torch>=1.8.0->ultralytics)\n",
            "  Downloading nvidia_curand_cu12-10.3.5.147-py3-none-manylinux2014_x86_64.whl.metadata (1.5 kB)\n",
            "Collecting nvidia-cusolver-cu12==11.6.1.9 (from torch>=1.8.0->ultralytics)\n",
            "  Downloading nvidia_cusolver_cu12-11.6.1.9-py3-none-manylinux2014_x86_64.whl.metadata (1.6 kB)\n",
            "Collecting nvidia-cusparse-cu12==12.3.1.170 (from torch>=1.8.0->ultralytics)\n",
            "  Downloading nvidia_cusparse_cu12-12.3.1.170-py3-none-manylinux2014_x86_64.whl.metadata (1.6 kB)\n",
            "Requirement already satisfied: nvidia-cusparselt-cu12==0.6.2 in /usr/local/lib/python3.11/dist-packages (from torch>=1.8.0->ultralytics) (0.6.2)\n",
            "Requirement already satisfied: nvidia-nccl-cu12==2.21.5 in /usr/local/lib/python3.11/dist-packages (from torch>=1.8.0->ultralytics) (2.21.5)\n",
            "Requirement already satisfied: nvidia-nvtx-cu12==12.4.127 in /usr/local/lib/python3.11/dist-packages (from torch>=1.8.0->ultralytics) (12.4.127)\n",
            "Collecting nvidia-nvjitlink-cu12==12.4.127 (from torch>=1.8.0->ultralytics)\n",
            "  Downloading nvidia_nvjitlink_cu12-12.4.127-py3-none-manylinux2014_x86_64.whl.metadata (1.5 kB)\n",
            "Requirement already satisfied: triton==3.2.0 in /usr/local/lib/python3.11/dist-packages (from torch>=1.8.0->ultralytics) (3.2.0)\n",
            "Requirement already satisfied: sympy==1.13.1 in /usr/local/lib/python3.11/dist-packages (from torch>=1.8.0->ultralytics) (1.13.1)\n",
            "Requirement already satisfied: mpmath<1.4,>=1.1.0 in /usr/local/lib/python3.11/dist-packages (from sympy==1.13.1->torch>=1.8.0->ultralytics) (1.3.0)\n",
            "Requirement already satisfied: six>=1.5 in /usr/local/lib/python3.11/dist-packages (from python-dateutil>=2.7->matplotlib>=3.3.0->ultralytics) (1.17.0)\n",
            "Requirement already satisfied: MarkupSafe>=2.0 in /usr/local/lib/python3.11/dist-packages (from jinja2->torch>=1.8.0->ultralytics) (3.0.2)\n",
            "Downloading ultralytics-8.3.118-py3-none-any.whl (1.0 MB)\n",
            "\u001b[2K   \u001b[90m━━━━━━━━━━━━━━━━━━━━━━━━━━━━━━━━━━━━━━━━\u001b[0m \u001b[32m1.0/1.0 MB\u001b[0m \u001b[31m26.3 MB/s\u001b[0m eta \u001b[36m0:00:00\u001b[0m\n",
            "\u001b[?25hDownloading nvidia_cublas_cu12-12.4.5.8-py3-none-manylinux2014_x86_64.whl (363.4 MB)\n",
            "\u001b[2K   \u001b[90m━━━━━━━━━━━━━━━━━━━━━━━━━━━━━━━━━━━━━━━━\u001b[0m \u001b[32m363.4/363.4 MB\u001b[0m \u001b[31m2.7 MB/s\u001b[0m eta \u001b[36m0:00:00\u001b[0m\n",
            "\u001b[?25hDownloading nvidia_cuda_cupti_cu12-12.4.127-py3-none-manylinux2014_x86_64.whl (13.8 MB)\n",
            "\u001b[2K   \u001b[90m━━━━━━━━━━━━━━━━━━━━━━━━━━━━━━━━━━━━━━━━\u001b[0m \u001b[32m13.8/13.8 MB\u001b[0m \u001b[31m124.0 MB/s\u001b[0m eta \u001b[36m0:00:00\u001b[0m\n",
            "\u001b[?25hDownloading nvidia_cuda_nvrtc_cu12-12.4.127-py3-none-manylinux2014_x86_64.whl (24.6 MB)\n",
            "\u001b[2K   \u001b[90m━━━━━━━━━━━━━━━━━━━━━━━━━━━━━━━━━━━━━━━━\u001b[0m \u001b[32m24.6/24.6 MB\u001b[0m \u001b[31m91.7 MB/s\u001b[0m eta \u001b[36m0:00:00\u001b[0m\n",
            "\u001b[?25hDownloading nvidia_cuda_runtime_cu12-12.4.127-py3-none-manylinux2014_x86_64.whl (883 kB)\n",
            "\u001b[2K   \u001b[90m━━━━━━━━━━━━━━━━━━━━━━━━━━━━━━━━━━━━━━━━\u001b[0m \u001b[32m883.7/883.7 kB\u001b[0m \u001b[31m61.9 MB/s\u001b[0m eta \u001b[36m0:00:00\u001b[0m\n",
            "\u001b[?25hDownloading nvidia_cudnn_cu12-9.1.0.70-py3-none-manylinux2014_x86_64.whl (664.8 MB)\n",
            "\u001b[2K   \u001b[90m━━━━━━━━━━━━━━━━━━━━━━━━━━━━━━━━━━━━━━━━\u001b[0m \u001b[32m664.8/664.8 MB\u001b[0m \u001b[31m3.0 MB/s\u001b[0m eta \u001b[36m0:00:00\u001b[0m\n",
            "\u001b[?25hDownloading nvidia_cufft_cu12-11.2.1.3-py3-none-manylinux2014_x86_64.whl (211.5 MB)\n",
            "\u001b[2K   \u001b[90m━━━━━━━━━━━━━━━━━━━━━━━━━━━━━━━━━━━━━━━━\u001b[0m \u001b[32m211.5/211.5 MB\u001b[0m \u001b[31m5.3 MB/s\u001b[0m eta \u001b[36m0:00:00\u001b[0m\n",
            "\u001b[?25hDownloading nvidia_curand_cu12-10.3.5.147-py3-none-manylinux2014_x86_64.whl (56.3 MB)\n",
            "\u001b[2K   \u001b[90m━━━━━━━━━━━━━━━━━━━━━━━━━━━━━━━━━━━━━━━━\u001b[0m \u001b[32m56.3/56.3 MB\u001b[0m \u001b[31m13.1 MB/s\u001b[0m eta \u001b[36m0:00:00\u001b[0m\n",
            "\u001b[?25hDownloading nvidia_cusolver_cu12-11.6.1.9-py3-none-manylinux2014_x86_64.whl (127.9 MB)\n",
            "\u001b[2K   \u001b[90m━━━━━━━━━━━━━━━━━━━━━━━━━━━━━━━━━━━━━━━━\u001b[0m \u001b[32m127.9/127.9 MB\u001b[0m \u001b[31m7.5 MB/s\u001b[0m eta \u001b[36m0:00:00\u001b[0m\n",
            "\u001b[?25hDownloading nvidia_cusparse_cu12-12.3.1.170-py3-none-manylinux2014_x86_64.whl (207.5 MB)\n",
            "\u001b[2K   \u001b[90m━━━━━━━━━━━━━━━━━━━━━━━━━━━━━━━━━━━━━━━━\u001b[0m \u001b[32m207.5/207.5 MB\u001b[0m \u001b[31m5.6 MB/s\u001b[0m eta \u001b[36m0:00:00\u001b[0m\n",
            "\u001b[?25hDownloading nvidia_nvjitlink_cu12-12.4.127-py3-none-manylinux2014_x86_64.whl (21.1 MB)\n",
            "\u001b[2K   \u001b[90m━━━━━━━━━━━━━━━━━━━━━━━━━━━━━━━━━━━━━━━━\u001b[0m \u001b[32m21.1/21.1 MB\u001b[0m \u001b[31m58.6 MB/s\u001b[0m eta \u001b[36m0:00:00\u001b[0m\n",
            "\u001b[?25hDownloading ultralytics_thop-2.0.14-py3-none-any.whl (26 kB)\n",
            "Installing collected packages: nvidia-nvjitlink-cu12, nvidia-curand-cu12, nvidia-cufft-cu12, nvidia-cuda-runtime-cu12, nvidia-cuda-nvrtc-cu12, nvidia-cuda-cupti-cu12, nvidia-cublas-cu12, nvidia-cusparse-cu12, nvidia-cudnn-cu12, nvidia-cusolver-cu12, ultralytics-thop, ultralytics\n",
            "  Attempting uninstall: nvidia-nvjitlink-cu12\n",
            "    Found existing installation: nvidia-nvjitlink-cu12 12.5.82\n",
            "    Uninstalling nvidia-nvjitlink-cu12-12.5.82:\n",
            "      Successfully uninstalled nvidia-nvjitlink-cu12-12.5.82\n",
            "  Attempting uninstall: nvidia-curand-cu12\n",
            "    Found existing installation: nvidia-curand-cu12 10.3.6.82\n",
            "    Uninstalling nvidia-curand-cu12-10.3.6.82:\n",
            "      Successfully uninstalled nvidia-curand-cu12-10.3.6.82\n",
            "  Attempting uninstall: nvidia-cufft-cu12\n",
            "    Found existing installation: nvidia-cufft-cu12 11.2.3.61\n",
            "    Uninstalling nvidia-cufft-cu12-11.2.3.61:\n",
            "      Successfully uninstalled nvidia-cufft-cu12-11.2.3.61\n",
            "  Attempting uninstall: nvidia-cuda-runtime-cu12\n",
            "    Found existing installation: nvidia-cuda-runtime-cu12 12.5.82\n",
            "    Uninstalling nvidia-cuda-runtime-cu12-12.5.82:\n",
            "      Successfully uninstalled nvidia-cuda-runtime-cu12-12.5.82\n",
            "  Attempting uninstall: nvidia-cuda-nvrtc-cu12\n",
            "    Found existing installation: nvidia-cuda-nvrtc-cu12 12.5.82\n",
            "    Uninstalling nvidia-cuda-nvrtc-cu12-12.5.82:\n",
            "      Successfully uninstalled nvidia-cuda-nvrtc-cu12-12.5.82\n",
            "  Attempting uninstall: nvidia-cuda-cupti-cu12\n",
            "    Found existing installation: nvidia-cuda-cupti-cu12 12.5.82\n",
            "    Uninstalling nvidia-cuda-cupti-cu12-12.5.82:\n",
            "      Successfully uninstalled nvidia-cuda-cupti-cu12-12.5.82\n",
            "  Attempting uninstall: nvidia-cublas-cu12\n",
            "    Found existing installation: nvidia-cublas-cu12 12.5.3.2\n",
            "    Uninstalling nvidia-cublas-cu12-12.5.3.2:\n",
            "      Successfully uninstalled nvidia-cublas-cu12-12.5.3.2\n",
            "  Attempting uninstall: nvidia-cusparse-cu12\n",
            "    Found existing installation: nvidia-cusparse-cu12 12.5.1.3\n",
            "    Uninstalling nvidia-cusparse-cu12-12.5.1.3:\n",
            "      Successfully uninstalled nvidia-cusparse-cu12-12.5.1.3\n",
            "  Attempting uninstall: nvidia-cudnn-cu12\n",
            "    Found existing installation: nvidia-cudnn-cu12 9.3.0.75\n",
            "    Uninstalling nvidia-cudnn-cu12-9.3.0.75:\n",
            "      Successfully uninstalled nvidia-cudnn-cu12-9.3.0.75\n",
            "  Attempting uninstall: nvidia-cusolver-cu12\n",
            "    Found existing installation: nvidia-cusolver-cu12 11.6.3.83\n",
            "    Uninstalling nvidia-cusolver-cu12-11.6.3.83:\n",
            "      Successfully uninstalled nvidia-cusolver-cu12-11.6.3.83\n",
            "Successfully installed nvidia-cublas-cu12-12.4.5.8 nvidia-cuda-cupti-cu12-12.4.127 nvidia-cuda-nvrtc-cu12-12.4.127 nvidia-cuda-runtime-cu12-12.4.127 nvidia-cudnn-cu12-9.1.0.70 nvidia-cufft-cu12-11.2.1.3 nvidia-curand-cu12-10.3.5.147 nvidia-cusolver-cu12-11.6.1.9 nvidia-cusparse-cu12-12.3.1.170 nvidia-nvjitlink-cu12-12.4.127 ultralytics-8.3.118 ultralytics-thop-2.0.14\n"
          ]
        }
      ],
      "source": [
        "!pip install ultralytics"
      ]
    },
    {
      "cell_type": "code",
      "execution_count": null,
      "metadata": {
        "id": "9ZBt5CBQ8xL2",
        "colab": {
          "base_uri": "https://localhost:8080/"
        },
        "outputId": "1b1f4735-4d10-4672-b93f-fef08caba913"
      },
      "outputs": [
        {
          "output_type": "stream",
          "name": "stdout",
          "text": [
            "Creating new Ultralytics Settings v0.0.6 file ✅ \n",
            "View Ultralytics Settings with 'yolo settings' or at '/root/.config/Ultralytics/settings.json'\n",
            "Update Settings with 'yolo settings key=value', i.e. 'yolo settings runs_dir=path/to/dir'. For help see https://docs.ultralytics.com/quickstart/#ultralytics-settings.\n",
            "Downloading https://github.com/ultralytics/assets/releases/download/v8.3.0/yolov8m.pt to 'yolov8m.pt'...\n"
          ]
        },
        {
          "output_type": "stream",
          "name": "stderr",
          "text": [
            "100%|██████████| 49.7M/49.7M [00:00<00:00, 324MB/s]\n"
          ]
        },
        {
          "output_type": "stream",
          "name": "stdout",
          "text": [
            "YOLO(\n",
            "  (model): DetectionModel(\n",
            "    (model): Sequential(\n",
            "      (0): Conv(\n",
            "        (conv): Conv2d(3, 48, kernel_size=(3, 3), stride=(2, 2), padding=(1, 1), bias=False)\n",
            "        (bn): BatchNorm2d(48, eps=0.001, momentum=0.03, affine=True, track_running_stats=True)\n",
            "        (act): SiLU(inplace=True)\n",
            "      )\n",
            "      (1): Conv(\n",
            "        (conv): Conv2d(48, 96, kernel_size=(3, 3), stride=(2, 2), padding=(1, 1), bias=False)\n",
            "        (bn): BatchNorm2d(96, eps=0.001, momentum=0.03, affine=True, track_running_stats=True)\n",
            "        (act): SiLU(inplace=True)\n",
            "      )\n",
            "      (2): C2f(\n",
            "        (cv1): Conv(\n",
            "          (conv): Conv2d(96, 96, kernel_size=(1, 1), stride=(1, 1), bias=False)\n",
            "          (bn): BatchNorm2d(96, eps=0.001, momentum=0.03, affine=True, track_running_stats=True)\n",
            "          (act): SiLU(inplace=True)\n",
            "        )\n",
            "        (cv2): Conv(\n",
            "          (conv): Conv2d(192, 96, kernel_size=(1, 1), stride=(1, 1), bias=False)\n",
            "          (bn): BatchNorm2d(96, eps=0.001, momentum=0.03, affine=True, track_running_stats=True)\n",
            "          (act): SiLU(inplace=True)\n",
            "        )\n",
            "        (m): ModuleList(\n",
            "          (0-1): 2 x Bottleneck(\n",
            "            (cv1): Conv(\n",
            "              (conv): Conv2d(48, 48, kernel_size=(3, 3), stride=(1, 1), padding=(1, 1), bias=False)\n",
            "              (bn): BatchNorm2d(48, eps=0.001, momentum=0.03, affine=True, track_running_stats=True)\n",
            "              (act): SiLU(inplace=True)\n",
            "            )\n",
            "            (cv2): Conv(\n",
            "              (conv): Conv2d(48, 48, kernel_size=(3, 3), stride=(1, 1), padding=(1, 1), bias=False)\n",
            "              (bn): BatchNorm2d(48, eps=0.001, momentum=0.03, affine=True, track_running_stats=True)\n",
            "              (act): SiLU(inplace=True)\n",
            "            )\n",
            "          )\n",
            "        )\n",
            "      )\n",
            "      (3): Conv(\n",
            "        (conv): Conv2d(96, 192, kernel_size=(3, 3), stride=(2, 2), padding=(1, 1), bias=False)\n",
            "        (bn): BatchNorm2d(192, eps=0.001, momentum=0.03, affine=True, track_running_stats=True)\n",
            "        (act): SiLU(inplace=True)\n",
            "      )\n",
            "      (4): C2f(\n",
            "        (cv1): Conv(\n",
            "          (conv): Conv2d(192, 192, kernel_size=(1, 1), stride=(1, 1), bias=False)\n",
            "          (bn): BatchNorm2d(192, eps=0.001, momentum=0.03, affine=True, track_running_stats=True)\n",
            "          (act): SiLU(inplace=True)\n",
            "        )\n",
            "        (cv2): Conv(\n",
            "          (conv): Conv2d(576, 192, kernel_size=(1, 1), stride=(1, 1), bias=False)\n",
            "          (bn): BatchNorm2d(192, eps=0.001, momentum=0.03, affine=True, track_running_stats=True)\n",
            "          (act): SiLU(inplace=True)\n",
            "        )\n",
            "        (m): ModuleList(\n",
            "          (0-3): 4 x Bottleneck(\n",
            "            (cv1): Conv(\n",
            "              (conv): Conv2d(96, 96, kernel_size=(3, 3), stride=(1, 1), padding=(1, 1), bias=False)\n",
            "              (bn): BatchNorm2d(96, eps=0.001, momentum=0.03, affine=True, track_running_stats=True)\n",
            "              (act): SiLU(inplace=True)\n",
            "            )\n",
            "            (cv2): Conv(\n",
            "              (conv): Conv2d(96, 96, kernel_size=(3, 3), stride=(1, 1), padding=(1, 1), bias=False)\n",
            "              (bn): BatchNorm2d(96, eps=0.001, momentum=0.03, affine=True, track_running_stats=True)\n",
            "              (act): SiLU(inplace=True)\n",
            "            )\n",
            "          )\n",
            "        )\n",
            "      )\n",
            "      (5): Conv(\n",
            "        (conv): Conv2d(192, 384, kernel_size=(3, 3), stride=(2, 2), padding=(1, 1), bias=False)\n",
            "        (bn): BatchNorm2d(384, eps=0.001, momentum=0.03, affine=True, track_running_stats=True)\n",
            "        (act): SiLU(inplace=True)\n",
            "      )\n",
            "      (6): C2f(\n",
            "        (cv1): Conv(\n",
            "          (conv): Conv2d(384, 384, kernel_size=(1, 1), stride=(1, 1), bias=False)\n",
            "          (bn): BatchNorm2d(384, eps=0.001, momentum=0.03, affine=True, track_running_stats=True)\n",
            "          (act): SiLU(inplace=True)\n",
            "        )\n",
            "        (cv2): Conv(\n",
            "          (conv): Conv2d(1152, 384, kernel_size=(1, 1), stride=(1, 1), bias=False)\n",
            "          (bn): BatchNorm2d(384, eps=0.001, momentum=0.03, affine=True, track_running_stats=True)\n",
            "          (act): SiLU(inplace=True)\n",
            "        )\n",
            "        (m): ModuleList(\n",
            "          (0-3): 4 x Bottleneck(\n",
            "            (cv1): Conv(\n",
            "              (conv): Conv2d(192, 192, kernel_size=(3, 3), stride=(1, 1), padding=(1, 1), bias=False)\n",
            "              (bn): BatchNorm2d(192, eps=0.001, momentum=0.03, affine=True, track_running_stats=True)\n",
            "              (act): SiLU(inplace=True)\n",
            "            )\n",
            "            (cv2): Conv(\n",
            "              (conv): Conv2d(192, 192, kernel_size=(3, 3), stride=(1, 1), padding=(1, 1), bias=False)\n",
            "              (bn): BatchNorm2d(192, eps=0.001, momentum=0.03, affine=True, track_running_stats=True)\n",
            "              (act): SiLU(inplace=True)\n",
            "            )\n",
            "          )\n",
            "        )\n",
            "      )\n",
            "      (7): Conv(\n",
            "        (conv): Conv2d(384, 576, kernel_size=(3, 3), stride=(2, 2), padding=(1, 1), bias=False)\n",
            "        (bn): BatchNorm2d(576, eps=0.001, momentum=0.03, affine=True, track_running_stats=True)\n",
            "        (act): SiLU(inplace=True)\n",
            "      )\n",
            "      (8): C2f(\n",
            "        (cv1): Conv(\n",
            "          (conv): Conv2d(576, 576, kernel_size=(1, 1), stride=(1, 1), bias=False)\n",
            "          (bn): BatchNorm2d(576, eps=0.001, momentum=0.03, affine=True, track_running_stats=True)\n",
            "          (act): SiLU(inplace=True)\n",
            "        )\n",
            "        (cv2): Conv(\n",
            "          (conv): Conv2d(1152, 576, kernel_size=(1, 1), stride=(1, 1), bias=False)\n",
            "          (bn): BatchNorm2d(576, eps=0.001, momentum=0.03, affine=True, track_running_stats=True)\n",
            "          (act): SiLU(inplace=True)\n",
            "        )\n",
            "        (m): ModuleList(\n",
            "          (0-1): 2 x Bottleneck(\n",
            "            (cv1): Conv(\n",
            "              (conv): Conv2d(288, 288, kernel_size=(3, 3), stride=(1, 1), padding=(1, 1), bias=False)\n",
            "              (bn): BatchNorm2d(288, eps=0.001, momentum=0.03, affine=True, track_running_stats=True)\n",
            "              (act): SiLU(inplace=True)\n",
            "            )\n",
            "            (cv2): Conv(\n",
            "              (conv): Conv2d(288, 288, kernel_size=(3, 3), stride=(1, 1), padding=(1, 1), bias=False)\n",
            "              (bn): BatchNorm2d(288, eps=0.001, momentum=0.03, affine=True, track_running_stats=True)\n",
            "              (act): SiLU(inplace=True)\n",
            "            )\n",
            "          )\n",
            "        )\n",
            "      )\n",
            "      (9): SPPF(\n",
            "        (cv1): Conv(\n",
            "          (conv): Conv2d(576, 288, kernel_size=(1, 1), stride=(1, 1), bias=False)\n",
            "          (bn): BatchNorm2d(288, eps=0.001, momentum=0.03, affine=True, track_running_stats=True)\n",
            "          (act): SiLU(inplace=True)\n",
            "        )\n",
            "        (cv2): Conv(\n",
            "          (conv): Conv2d(1152, 576, kernel_size=(1, 1), stride=(1, 1), bias=False)\n",
            "          (bn): BatchNorm2d(576, eps=0.001, momentum=0.03, affine=True, track_running_stats=True)\n",
            "          (act): SiLU(inplace=True)\n",
            "        )\n",
            "        (m): MaxPool2d(kernel_size=5, stride=1, padding=2, dilation=1, ceil_mode=False)\n",
            "      )\n",
            "      (10): Upsample(scale_factor=2.0, mode='nearest')\n",
            "      (11): Concat()\n",
            "      (12): C2f(\n",
            "        (cv1): Conv(\n",
            "          (conv): Conv2d(960, 384, kernel_size=(1, 1), stride=(1, 1), bias=False)\n",
            "          (bn): BatchNorm2d(384, eps=0.001, momentum=0.03, affine=True, track_running_stats=True)\n",
            "          (act): SiLU(inplace=True)\n",
            "        )\n",
            "        (cv2): Conv(\n",
            "          (conv): Conv2d(768, 384, kernel_size=(1, 1), stride=(1, 1), bias=False)\n",
            "          (bn): BatchNorm2d(384, eps=0.001, momentum=0.03, affine=True, track_running_stats=True)\n",
            "          (act): SiLU(inplace=True)\n",
            "        )\n",
            "        (m): ModuleList(\n",
            "          (0-1): 2 x Bottleneck(\n",
            "            (cv1): Conv(\n",
            "              (conv): Conv2d(192, 192, kernel_size=(3, 3), stride=(1, 1), padding=(1, 1), bias=False)\n",
            "              (bn): BatchNorm2d(192, eps=0.001, momentum=0.03, affine=True, track_running_stats=True)\n",
            "              (act): SiLU(inplace=True)\n",
            "            )\n",
            "            (cv2): Conv(\n",
            "              (conv): Conv2d(192, 192, kernel_size=(3, 3), stride=(1, 1), padding=(1, 1), bias=False)\n",
            "              (bn): BatchNorm2d(192, eps=0.001, momentum=0.03, affine=True, track_running_stats=True)\n",
            "              (act): SiLU(inplace=True)\n",
            "            )\n",
            "          )\n",
            "        )\n",
            "      )\n",
            "      (13): Upsample(scale_factor=2.0, mode='nearest')\n",
            "      (14): Concat()\n",
            "      (15): C2f(\n",
            "        (cv1): Conv(\n",
            "          (conv): Conv2d(576, 192, kernel_size=(1, 1), stride=(1, 1), bias=False)\n",
            "          (bn): BatchNorm2d(192, eps=0.001, momentum=0.03, affine=True, track_running_stats=True)\n",
            "          (act): SiLU(inplace=True)\n",
            "        )\n",
            "        (cv2): Conv(\n",
            "          (conv): Conv2d(384, 192, kernel_size=(1, 1), stride=(1, 1), bias=False)\n",
            "          (bn): BatchNorm2d(192, eps=0.001, momentum=0.03, affine=True, track_running_stats=True)\n",
            "          (act): SiLU(inplace=True)\n",
            "        )\n",
            "        (m): ModuleList(\n",
            "          (0-1): 2 x Bottleneck(\n",
            "            (cv1): Conv(\n",
            "              (conv): Conv2d(96, 96, kernel_size=(3, 3), stride=(1, 1), padding=(1, 1), bias=False)\n",
            "              (bn): BatchNorm2d(96, eps=0.001, momentum=0.03, affine=True, track_running_stats=True)\n",
            "              (act): SiLU(inplace=True)\n",
            "            )\n",
            "            (cv2): Conv(\n",
            "              (conv): Conv2d(96, 96, kernel_size=(3, 3), stride=(1, 1), padding=(1, 1), bias=False)\n",
            "              (bn): BatchNorm2d(96, eps=0.001, momentum=0.03, affine=True, track_running_stats=True)\n",
            "              (act): SiLU(inplace=True)\n",
            "            )\n",
            "          )\n",
            "        )\n",
            "      )\n",
            "      (16): Conv(\n",
            "        (conv): Conv2d(192, 192, kernel_size=(3, 3), stride=(2, 2), padding=(1, 1), bias=False)\n",
            "        (bn): BatchNorm2d(192, eps=0.001, momentum=0.03, affine=True, track_running_stats=True)\n",
            "        (act): SiLU(inplace=True)\n",
            "      )\n",
            "      (17): Concat()\n",
            "      (18): C2f(\n",
            "        (cv1): Conv(\n",
            "          (conv): Conv2d(576, 384, kernel_size=(1, 1), stride=(1, 1), bias=False)\n",
            "          (bn): BatchNorm2d(384, eps=0.001, momentum=0.03, affine=True, track_running_stats=True)\n",
            "          (act): SiLU(inplace=True)\n",
            "        )\n",
            "        (cv2): Conv(\n",
            "          (conv): Conv2d(768, 384, kernel_size=(1, 1), stride=(1, 1), bias=False)\n",
            "          (bn): BatchNorm2d(384, eps=0.001, momentum=0.03, affine=True, track_running_stats=True)\n",
            "          (act): SiLU(inplace=True)\n",
            "        )\n",
            "        (m): ModuleList(\n",
            "          (0-1): 2 x Bottleneck(\n",
            "            (cv1): Conv(\n",
            "              (conv): Conv2d(192, 192, kernel_size=(3, 3), stride=(1, 1), padding=(1, 1), bias=False)\n",
            "              (bn): BatchNorm2d(192, eps=0.001, momentum=0.03, affine=True, track_running_stats=True)\n",
            "              (act): SiLU(inplace=True)\n",
            "            )\n",
            "            (cv2): Conv(\n",
            "              (conv): Conv2d(192, 192, kernel_size=(3, 3), stride=(1, 1), padding=(1, 1), bias=False)\n",
            "              (bn): BatchNorm2d(192, eps=0.001, momentum=0.03, affine=True, track_running_stats=True)\n",
            "              (act): SiLU(inplace=True)\n",
            "            )\n",
            "          )\n",
            "        )\n",
            "      )\n",
            "      (19): Conv(\n",
            "        (conv): Conv2d(384, 384, kernel_size=(3, 3), stride=(2, 2), padding=(1, 1), bias=False)\n",
            "        (bn): BatchNorm2d(384, eps=0.001, momentum=0.03, affine=True, track_running_stats=True)\n",
            "        (act): SiLU(inplace=True)\n",
            "      )\n",
            "      (20): Concat()\n",
            "      (21): C2f(\n",
            "        (cv1): Conv(\n",
            "          (conv): Conv2d(960, 576, kernel_size=(1, 1), stride=(1, 1), bias=False)\n",
            "          (bn): BatchNorm2d(576, eps=0.001, momentum=0.03, affine=True, track_running_stats=True)\n",
            "          (act): SiLU(inplace=True)\n",
            "        )\n",
            "        (cv2): Conv(\n",
            "          (conv): Conv2d(1152, 576, kernel_size=(1, 1), stride=(1, 1), bias=False)\n",
            "          (bn): BatchNorm2d(576, eps=0.001, momentum=0.03, affine=True, track_running_stats=True)\n",
            "          (act): SiLU(inplace=True)\n",
            "        )\n",
            "        (m): ModuleList(\n",
            "          (0-1): 2 x Bottleneck(\n",
            "            (cv1): Conv(\n",
            "              (conv): Conv2d(288, 288, kernel_size=(3, 3), stride=(1, 1), padding=(1, 1), bias=False)\n",
            "              (bn): BatchNorm2d(288, eps=0.001, momentum=0.03, affine=True, track_running_stats=True)\n",
            "              (act): SiLU(inplace=True)\n",
            "            )\n",
            "            (cv2): Conv(\n",
            "              (conv): Conv2d(288, 288, kernel_size=(3, 3), stride=(1, 1), padding=(1, 1), bias=False)\n",
            "              (bn): BatchNorm2d(288, eps=0.001, momentum=0.03, affine=True, track_running_stats=True)\n",
            "              (act): SiLU(inplace=True)\n",
            "            )\n",
            "          )\n",
            "        )\n",
            "      )\n",
            "      (22): Detect(\n",
            "        (cv2): ModuleList(\n",
            "          (0): Sequential(\n",
            "            (0): Conv(\n",
            "              (conv): Conv2d(192, 64, kernel_size=(3, 3), stride=(1, 1), padding=(1, 1), bias=False)\n",
            "              (bn): BatchNorm2d(64, eps=0.001, momentum=0.03, affine=True, track_running_stats=True)\n",
            "              (act): SiLU(inplace=True)\n",
            "            )\n",
            "            (1): Conv(\n",
            "              (conv): Conv2d(64, 64, kernel_size=(3, 3), stride=(1, 1), padding=(1, 1), bias=False)\n",
            "              (bn): BatchNorm2d(64, eps=0.001, momentum=0.03, affine=True, track_running_stats=True)\n",
            "              (act): SiLU(inplace=True)\n",
            "            )\n",
            "            (2): Conv2d(64, 64, kernel_size=(1, 1), stride=(1, 1))\n",
            "          )\n",
            "          (1): Sequential(\n",
            "            (0): Conv(\n",
            "              (conv): Conv2d(384, 64, kernel_size=(3, 3), stride=(1, 1), padding=(1, 1), bias=False)\n",
            "              (bn): BatchNorm2d(64, eps=0.001, momentum=0.03, affine=True, track_running_stats=True)\n",
            "              (act): SiLU(inplace=True)\n",
            "            )\n",
            "            (1): Conv(\n",
            "              (conv): Conv2d(64, 64, kernel_size=(3, 3), stride=(1, 1), padding=(1, 1), bias=False)\n",
            "              (bn): BatchNorm2d(64, eps=0.001, momentum=0.03, affine=True, track_running_stats=True)\n",
            "              (act): SiLU(inplace=True)\n",
            "            )\n",
            "            (2): Conv2d(64, 64, kernel_size=(1, 1), stride=(1, 1))\n",
            "          )\n",
            "          (2): Sequential(\n",
            "            (0): Conv(\n",
            "              (conv): Conv2d(576, 64, kernel_size=(3, 3), stride=(1, 1), padding=(1, 1), bias=False)\n",
            "              (bn): BatchNorm2d(64, eps=0.001, momentum=0.03, affine=True, track_running_stats=True)\n",
            "              (act): SiLU(inplace=True)\n",
            "            )\n",
            "            (1): Conv(\n",
            "              (conv): Conv2d(64, 64, kernel_size=(3, 3), stride=(1, 1), padding=(1, 1), bias=False)\n",
            "              (bn): BatchNorm2d(64, eps=0.001, momentum=0.03, affine=True, track_running_stats=True)\n",
            "              (act): SiLU(inplace=True)\n",
            "            )\n",
            "            (2): Conv2d(64, 64, kernel_size=(1, 1), stride=(1, 1))\n",
            "          )\n",
            "        )\n",
            "        (cv3): ModuleList(\n",
            "          (0): Sequential(\n",
            "            (0): Conv(\n",
            "              (conv): Conv2d(192, 192, kernel_size=(3, 3), stride=(1, 1), padding=(1, 1), bias=False)\n",
            "              (bn): BatchNorm2d(192, eps=0.001, momentum=0.03, affine=True, track_running_stats=True)\n",
            "              (act): SiLU(inplace=True)\n",
            "            )\n",
            "            (1): Conv(\n",
            "              (conv): Conv2d(192, 192, kernel_size=(3, 3), stride=(1, 1), padding=(1, 1), bias=False)\n",
            "              (bn): BatchNorm2d(192, eps=0.001, momentum=0.03, affine=True, track_running_stats=True)\n",
            "              (act): SiLU(inplace=True)\n",
            "            )\n",
            "            (2): Conv2d(192, 80, kernel_size=(1, 1), stride=(1, 1))\n",
            "          )\n",
            "          (1): Sequential(\n",
            "            (0): Conv(\n",
            "              (conv): Conv2d(384, 192, kernel_size=(3, 3), stride=(1, 1), padding=(1, 1), bias=False)\n",
            "              (bn): BatchNorm2d(192, eps=0.001, momentum=0.03, affine=True, track_running_stats=True)\n",
            "              (act): SiLU(inplace=True)\n",
            "            )\n",
            "            (1): Conv(\n",
            "              (conv): Conv2d(192, 192, kernel_size=(3, 3), stride=(1, 1), padding=(1, 1), bias=False)\n",
            "              (bn): BatchNorm2d(192, eps=0.001, momentum=0.03, affine=True, track_running_stats=True)\n",
            "              (act): SiLU(inplace=True)\n",
            "            )\n",
            "            (2): Conv2d(192, 80, kernel_size=(1, 1), stride=(1, 1))\n",
            "          )\n",
            "          (2): Sequential(\n",
            "            (0): Conv(\n",
            "              (conv): Conv2d(576, 192, kernel_size=(3, 3), stride=(1, 1), padding=(1, 1), bias=False)\n",
            "              (bn): BatchNorm2d(192, eps=0.001, momentum=0.03, affine=True, track_running_stats=True)\n",
            "              (act): SiLU(inplace=True)\n",
            "            )\n",
            "            (1): Conv(\n",
            "              (conv): Conv2d(192, 192, kernel_size=(3, 3), stride=(1, 1), padding=(1, 1), bias=False)\n",
            "              (bn): BatchNorm2d(192, eps=0.001, momentum=0.03, affine=True, track_running_stats=True)\n",
            "              (act): SiLU(inplace=True)\n",
            "            )\n",
            "            (2): Conv2d(192, 80, kernel_size=(1, 1), stride=(1, 1))\n",
            "          )\n",
            "        )\n",
            "        (dfl): DFL(\n",
            "          (conv): Conv2d(16, 1, kernel_size=(1, 1), stride=(1, 1), bias=False)\n",
            "        )\n",
            "      )\n",
            "    )\n",
            "  )\n",
            ")\n"
          ]
        }
      ],
      "source": [
        "from ultralytics import YOLO\n",
        "print(YOLO('yolov8m.pt'))  # Test if YOLOv8 loads correctly\n"
      ]
    },
    {
      "cell_type": "code",
      "execution_count": null,
      "metadata": {
        "id": "xlVIVOgc8xKP",
        "colab": {
          "base_uri": "https://localhost:8080/"
        },
        "outputId": "e94cd52d-1ed7-441c-9ef0-fb6e5f668c10"
      },
      "outputs": [
        {
          "output_type": "stream",
          "name": "stdout",
          "text": [
            "dataset\n"
          ]
        }
      ],
      "source": [
        "!ls '/content/accident_dataset'"
      ]
    },
    {
      "cell_type": "code",
      "execution_count": null,
      "metadata": {
        "id": "OLdWgGiR8w0w",
        "colab": {
          "base_uri": "https://localhost:8080/"
        },
        "outputId": "eeb58b94-0e69-4517-eeed-5b158559c4d0"
      },
      "outputs": [
        {
          "output_type": "stream",
          "name": "stdout",
          "text": [
            "Dataset and YAML file found ✅ /content/accident_dataset/dataset/data.yaml\n"
          ]
        }
      ],
      "source": [
        "import os\n",
        "\n",
        "# Define dataset paths\n",
        "dataset_path = \"/content/accident_dataset/dataset\"\n",
        "\n",
        "data_yaml_path = os.path.join(dataset_path, \"data.yaml\")\n",
        "\n",
        "# Verify dataset exists\n",
        "assert os.path.exists(dataset_path), f\"Dataset path not found: {dataset_path}\"\n",
        "assert os.path.exists(data_yaml_path), f\"data.yaml not found in {dataset_path}\"\n",
        "\n",
        "print(\"Dataset and YAML file found ✅\", data_yaml_path)\n"
      ]
    },
    {
      "cell_type": "code",
      "execution_count": null,
      "metadata": {
        "id": "0pQ28ZYWMNlQ"
      },
      "outputs": [],
      "source": []
    },
    {
      "cell_type": "code",
      "execution_count": null,
      "metadata": {
        "colab": {
          "base_uri": "https://localhost:8080/",
          "height": 1000
        },
        "id": "eBzIb9JI8ww7",
        "outputId": "89918147-5b5a-40e2-ee2d-922b937cc30f"
      },
      "outputs": [
        {
          "metadata": {
            "tags": null
          },
          "name": "stdout",
          "output_type": "stream",
          "text": [
            "Downloading https://github.com/ultralytics/assets/releases/download/v8.3.0/yolov8s.pt to 'yolov8s.pt'...\n"
          ]
        },
        {
          "metadata": {
            "tags": null
          },
          "name": "stderr",
          "output_type": "stream",
          "text": [
            "100%|██████████| 21.5M/21.5M [00:00<00:00, 360MB/s]"
          ]
        },
        {
          "metadata": {
            "tags": null
          },
          "name": "stdout",
          "output_type": "stream",
          "text": [
            "Ultralytics 8.3.116 🚀 Python-3.11.12 torch-2.6.0+cu124 CUDA:0 (Tesla T4, 15095MiB)\n",
            "\u001b[34m\u001b[1mengine/trainer: \u001b[0mtask=detect, mode=train, model=yolov8s.pt, data=/content/accident_dataset/dataset/data.yaml, epochs=50, time=None, patience=7, batch=32, imgsz=512, save=True, save_period=1, cache=True, device=cuda, workers=2, project=/content/drive/MyDrive/Colab Notebooks/training_results, name=accident_model3, exist_ok=False, pretrained=True, optimizer=auto, verbose=True, seed=0, deterministic=True, single_cls=False, rect=False, cos_lr=False, close_mosaic=10, resume=False, amp=True, fraction=1.0, profile=False, freeze=None, multi_scale=False, overlap_mask=True, mask_ratio=4, dropout=0.0, val=True, split=val, save_json=False, conf=None, iou=0.7, max_det=300, half=False, dnn=False, plots=True, source=None, vid_stride=1, stream_buffer=False, visualize=False, augment=False, agnostic_nms=False, classes=None, retina_masks=False, embed=None, show=False, save_frames=False, save_txt=False, save_conf=False, save_crop=False, show_labels=True, show_conf=True, show_boxes=True, line_width=None, format=torchscript, keras=False, optimize=False, int8=False, dynamic=False, simplify=True, opset=None, workspace=None, nms=False, lr0=0.01, lrf=0.01, momentum=0.937, weight_decay=0.0005, warmup_epochs=3.0, warmup_momentum=0.8, warmup_bias_lr=0.1, box=7.5, cls=0.5, dfl=1.5, pose=12.0, kobj=1.0, nbs=64, hsv_h=0.015, hsv_s=0.7, hsv_v=0.4, degrees=0.0, translate=0.1, scale=0.5, shear=0.0, perspective=0.0, flipud=0.0, fliplr=0.5, bgr=0.0, mosaic=1.0, mixup=0.0, copy_paste=0.0, copy_paste_mode=flip, auto_augment=randaugment, erasing=0.4, cfg=None, tracker=botsort.yaml, save_dir=/content/drive/MyDrive/Colab Notebooks/training_results/accident_model3\n",
            "Overriding model.yaml nc=80 with nc=1\n"
          ]
        },
        {
          "metadata": {
            "tags": null
          },
          "name": "stderr",
          "output_type": "stream",
          "text": [
            "\n"
          ]
        },
        {
          "metadata": {
            "tags": null
          },
          "name": "stdout",
          "output_type": "stream",
          "text": [
            "\n",
            "                   from  n    params  module                                       arguments                     \n",
            "  0                  -1  1       928  ultralytics.nn.modules.conv.Conv             [3, 32, 3, 2]                 \n",
            "  1                  -1  1     18560  ultralytics.nn.modules.conv.Conv             [32, 64, 3, 2]                \n",
            "  2                  -1  1     29056  ultralytics.nn.modules.block.C2f             [64, 64, 1, True]             \n",
            "  3                  -1  1     73984  ultralytics.nn.modules.conv.Conv             [64, 128, 3, 2]               \n",
            "  4                  -1  2    197632  ultralytics.nn.modules.block.C2f             [128, 128, 2, True]           \n",
            "  5                  -1  1    295424  ultralytics.nn.modules.conv.Conv             [128, 256, 3, 2]              \n",
            "  6                  -1  2    788480  ultralytics.nn.modules.block.C2f             [256, 256, 2, True]           \n",
            "  7                  -1  1   1180672  ultralytics.nn.modules.conv.Conv             [256, 512, 3, 2]              \n",
            "  8                  -1  1   1838080  ultralytics.nn.modules.block.C2f             [512, 512, 1, True]           \n",
            "  9                  -1  1    656896  ultralytics.nn.modules.block.SPPF            [512, 512, 5]                 \n",
            " 10                  -1  1         0  torch.nn.modules.upsampling.Upsample         [None, 2, 'nearest']          \n",
            " 11             [-1, 6]  1         0  ultralytics.nn.modules.conv.Concat           [1]                           \n",
            " 12                  -1  1    591360  ultralytics.nn.modules.block.C2f             [768, 256, 1]                 \n",
            " 13                  -1  1         0  torch.nn.modules.upsampling.Upsample         [None, 2, 'nearest']          \n",
            " 14             [-1, 4]  1         0  ultralytics.nn.modules.conv.Concat           [1]                           \n",
            " 15                  -1  1    148224  ultralytics.nn.modules.block.C2f             [384, 128, 1]                 \n",
            " 16                  -1  1    147712  ultralytics.nn.modules.conv.Conv             [128, 128, 3, 2]              \n",
            " 17            [-1, 12]  1         0  ultralytics.nn.modules.conv.Concat           [1]                           \n",
            " 18                  -1  1    493056  ultralytics.nn.modules.block.C2f             [384, 256, 1]                 \n",
            " 19                  -1  1    590336  ultralytics.nn.modules.conv.Conv             [256, 256, 3, 2]              \n",
            " 20             [-1, 9]  1         0  ultralytics.nn.modules.conv.Concat           [1]                           \n",
            " 21                  -1  1   1969152  ultralytics.nn.modules.block.C2f             [768, 512, 1]                 \n",
            " 22        [15, 18, 21]  1   2116435  ultralytics.nn.modules.head.Detect           [1, [128, 256, 512]]          \n",
            "Model summary: 129 layers, 11,135,987 parameters, 11,135,971 gradients, 28.6 GFLOPs\n",
            "\n",
            "Transferred 349/355 items from pretrained weights\n",
            "Freezing layer 'model.22.dfl.conv.weight'\n",
            "\u001b[34m\u001b[1mAMP: \u001b[0mrunning Automatic Mixed Precision (AMP) checks...\n",
            "\u001b[34m\u001b[1mAMP: \u001b[0mchecks passed ✅\n",
            "\u001b[34m\u001b[1mtrain: \u001b[0mFast image access ✅ (ping: 0.0±0.0 ms, read: 1679.7±612.0 MB/s, size: 92.9 KB)\n"
          ]
        },
        {
          "metadata": {
            "tags": null
          },
          "name": "stderr",
          "output_type": "stream",
          "text": [
            "\u001b[34m\u001b[1mtrain: \u001b[0mScanning /content/accident_dataset/dataset/train/labels.cache... 20546 images, 3596 backgrounds, 1 corrupt: 100%|██████████| 20546/20546 [00:00<?, ?it/s]"
          ]
        },
        {
          "metadata": {
            "tags": null
          },
          "name": "stdout",
          "output_type": "stream",
          "text": [
            "\u001b[34m\u001b[1mtrain: \u001b[0m/content/accident_dataset/dataset/train/images/severityV3_35_jpeg_jpg.rf.52080093414b782053001a6343197009.jpg: ignoring corrupt image/label: could not convert string to float: '\\x046\\x006\\x000\\x002\\x00f\\x00\\x0f\\x00'\n"
          ]
        },
        {
          "metadata": {
            "tags": null
          },
          "name": "stderr",
          "output_type": "stream",
          "text": [
            "\n"
          ]
        },
        {
          "metadata": {
            "tags": null
          },
          "name": "stdout",
          "output_type": "stream",
          "text": [
            "WARNING ⚠️ \u001b[34m\u001b[1mtrain: \u001b[0m19.6GB RAM required to cache images with 50% safety margin but only 6.1/12.7GB available, not caching images\n",
            "\u001b[34m\u001b[1malbumentations: \u001b[0mBlur(p=0.01, blur_limit=(3, 7)), MedianBlur(p=0.01, blur_limit=(3, 7)), ToGray(p=0.01, num_output_channels=3, method='weighted_average'), CLAHE(p=0.01, clip_limit=(1.0, 4.0), tile_grid_size=(8, 8))\n",
            "\u001b[34m\u001b[1mval: \u001b[0mFast image access ✅ (ping: 0.0±0.0 ms, read: 617.6±335.1 MB/s, size: 66.6 KB)\n"
          ]
        },
        {
          "metadata": {
            "tags": null
          },
          "name": "stderr",
          "output_type": "stream",
          "text": [
            "\u001b[34m\u001b[1mval: \u001b[0mScanning /content/accident_dataset/dataset/valid/labels.cache... 1514 images, 128 backgrounds, 0 corrupt: 100%|██████████| 1514/1514 [00:00<?, ?it/s]\n"
          ]
        },
        {
          "metadata": {
            "tags": null
          },
          "name": "stdout",
          "output_type": "stream",
          "text": [
            "WARNING ⚠️ cache='ram' may produce non-deterministic training results. Consider cache='disk' as a deterministic alternative if your disk space allows.\n"
          ]
        },
        {
          "metadata": {
            "tags": null
          },
          "name": "stderr",
          "output_type": "stream",
          "text": [
            "\u001b[34m\u001b[1mval: \u001b[0mCaching images (1.0GB RAM): 100%|██████████| 1514/1514 [00:08<00:00, 184.20it/s]\n"
          ]
        },
        {
          "metadata": {
            "tags": null
          },
          "name": "stdout",
          "output_type": "stream",
          "text": [
            "Plotting labels to /content/drive/MyDrive/Colab Notebooks/training_results/accident_model3/labels.jpg... \n",
            "\u001b[34m\u001b[1moptimizer:\u001b[0m 'optimizer=auto' found, ignoring 'lr0=0.01' and 'momentum=0.937' and determining best 'optimizer', 'lr0' and 'momentum' automatically... \n",
            "\u001b[34m\u001b[1moptimizer:\u001b[0m SGD(lr=0.01, momentum=0.9) with parameter groups 57 weight(decay=0.0), 64 weight(decay=0.0005), 63 bias(decay=0.0)\n",
            "Image sizes 512 train, 512 val\n",
            "Using 2 dataloader workers\n",
            "Logging results to \u001b[1m/content/drive/MyDrive/Colab Notebooks/training_results/accident_model3\u001b[0m\n",
            "Starting training for 50 epochs...\n",
            "\n",
            "      Epoch    GPU_mem   box_loss   cls_loss   dfl_loss  Instances       Size\n"
          ]
        },
        {
          "metadata": {
            "tags": null
          },
          "name": "stderr",
          "output_type": "stream",
          "text": [
            "       1/50      10.1G      1.243      1.402      1.444          2        512: 100%|██████████| 643/643 [04:59<00:00,  2.15it/s]\n",
            "                 Class     Images  Instances      Box(P          R      mAP50  mAP50-95): 100%|██████████| 24/24 [00:10<00:00,  2.29it/s]"
          ]
        },
        {
          "metadata": {
            "tags": null
          },
          "name": "stdout",
          "output_type": "stream",
          "text": [
            "                   all       1514       1484      0.737      0.725      0.762      0.478\n"
          ]
        },
        {
          "metadata": {
            "tags": null
          },
          "name": "stderr",
          "output_type": "stream",
          "text": [
            "\n"
          ]
        },
        {
          "metadata": {
            "tags": null
          },
          "name": "stdout",
          "output_type": "stream",
          "text": [
            "\n",
            "      Epoch    GPU_mem   box_loss   cls_loss   dfl_loss  Instances       Size\n"
          ]
        },
        {
          "metadata": {
            "tags": null
          },
          "name": "stderr",
          "output_type": "stream",
          "text": [
            "       2/50      10.1G      1.164     0.9933      1.371          2        512: 100%|██████████| 643/643 [04:42<00:00,  2.27it/s]\n",
            "                 Class     Images  Instances      Box(P          R      mAP50  mAP50-95): 100%|██████████| 24/24 [00:10<00:00,  2.32it/s]"
          ]
        },
        {
          "metadata": {
            "tags": null
          },
          "name": "stdout",
          "output_type": "stream",
          "text": [
            "                   all       1514       1484      0.835      0.749      0.841      0.573\n"
          ]
        },
        {
          "metadata": {
            "tags": null
          },
          "name": "stderr",
          "output_type": "stream",
          "text": [
            "\n"
          ]
        },
        {
          "metadata": {
            "tags": null
          },
          "name": "stdout",
          "output_type": "stream",
          "text": [
            "\n",
            "      Epoch    GPU_mem   box_loss   cls_loss   dfl_loss  Instances       Size\n"
          ]
        },
        {
          "metadata": {
            "tags": null
          },
          "name": "stderr",
          "output_type": "stream",
          "text": [
            "       3/50      9.99G      1.246      1.093      1.431          0        512: 100%|██████████| 643/643 [04:40<00:00,  2.29it/s]\n",
            "                 Class     Images  Instances      Box(P          R      mAP50  mAP50-95): 100%|██████████| 24/24 [00:10<00:00,  2.25it/s]"
          ]
        },
        {
          "metadata": {
            "tags": null
          },
          "name": "stdout",
          "output_type": "stream",
          "text": [
            "                   all       1514       1484      0.623      0.488      0.526      0.232\n"
          ]
        },
        {
          "metadata": {
            "tags": null
          },
          "name": "stderr",
          "output_type": "stream",
          "text": [
            "\n"
          ]
        },
        {
          "metadata": {
            "tags": null
          },
          "name": "stdout",
          "output_type": "stream",
          "text": [
            "\n",
            "      Epoch    GPU_mem   box_loss   cls_loss   dfl_loss  Instances       Size\n"
          ]
        },
        {
          "metadata": {
            "tags": null
          },
          "name": "stderr",
          "output_type": "stream",
          "text": [
            "       4/50      9.96G      1.329      1.218      1.492          2        512: 100%|██████████| 643/643 [04:36<00:00,  2.32it/s]\n",
            "                 Class     Images  Instances      Box(P          R      mAP50  mAP50-95): 100%|██████████| 24/24 [00:10<00:00,  2.28it/s]"
          ]
        },
        {
          "metadata": {
            "tags": null
          },
          "name": "stdout",
          "output_type": "stream",
          "text": [
            "                   all       1514       1484      0.758      0.736      0.786      0.483\n"
          ]
        },
        {
          "metadata": {
            "tags": null
          },
          "name": "stderr",
          "output_type": "stream",
          "text": [
            "\n"
          ]
        },
        {
          "metadata": {
            "tags": null
          },
          "name": "stdout",
          "output_type": "stream",
          "text": [
            "\n",
            "      Epoch    GPU_mem   box_loss   cls_loss   dfl_loss  Instances       Size\n"
          ]
        },
        {
          "metadata": {
            "tags": null
          },
          "name": "stderr",
          "output_type": "stream",
          "text": [
            "       5/50      9.99G      1.261      1.096      1.437          0        512: 100%|██████████| 643/643 [04:32<00:00,  2.36it/s]\n",
            "                 Class     Images  Instances      Box(P          R      mAP50  mAP50-95): 100%|██████████| 24/24 [00:10<00:00,  2.38it/s]"
          ]
        },
        {
          "metadata": {
            "tags": null
          },
          "name": "stdout",
          "output_type": "stream",
          "text": [
            "                   all       1514       1484      0.846      0.715      0.815      0.509\n"
          ]
        },
        {
          "metadata": {
            "tags": null
          },
          "name": "stderr",
          "output_type": "stream",
          "text": [
            "\n"
          ]
        },
        {
          "metadata": {
            "tags": null
          },
          "name": "stdout",
          "output_type": "stream",
          "text": [
            "\n",
            "      Epoch    GPU_mem   box_loss   cls_loss   dfl_loss  Instances       Size\n"
          ]
        },
        {
          "metadata": {
            "tags": null
          },
          "name": "stderr",
          "output_type": "stream",
          "text": [
            "       6/50      10.1G       1.21          1      1.402          2        512: 100%|██████████| 643/643 [04:32<00:00,  2.36it/s]\n",
            "                 Class     Images  Instances      Box(P          R      mAP50  mAP50-95): 100%|██████████| 24/24 [00:10<00:00,  2.25it/s]"
          ]
        },
        {
          "metadata": {
            "tags": null
          },
          "name": "stdout",
          "output_type": "stream",
          "text": [
            "                   all       1514       1484      0.863      0.778      0.863      0.571\n"
          ]
        },
        {
          "metadata": {
            "tags": null
          },
          "name": "stderr",
          "output_type": "stream",
          "text": [
            "\n"
          ]
        },
        {
          "metadata": {
            "tags": null
          },
          "name": "stdout",
          "output_type": "stream",
          "text": [
            "\n",
            "      Epoch    GPU_mem   box_loss   cls_loss   dfl_loss  Instances       Size\n"
          ]
        },
        {
          "metadata": {
            "tags": null
          },
          "name": "stderr",
          "output_type": "stream",
          "text": [
            "       7/50      9.99G      1.159     0.9398      1.367          2        512: 100%|██████████| 643/643 [04:33<00:00,  2.35it/s]\n",
            "                 Class     Images  Instances      Box(P          R      mAP50  mAP50-95): 100%|██████████| 24/24 [00:10<00:00,  2.29it/s]"
          ]
        },
        {
          "metadata": {
            "tags": null
          },
          "name": "stdout",
          "output_type": "stream",
          "text": [
            "                   all       1514       1484      0.863      0.781      0.856      0.596\n"
          ]
        },
        {
          "metadata": {
            "tags": null
          },
          "name": "stderr",
          "output_type": "stream",
          "text": [
            "\n"
          ]
        },
        {
          "metadata": {
            "tags": null
          },
          "name": "stdout",
          "output_type": "stream",
          "text": [
            "\n",
            "      Epoch    GPU_mem   box_loss   cls_loss   dfl_loss  Instances       Size\n"
          ]
        },
        {
          "metadata": {
            "tags": null
          },
          "name": "stderr",
          "output_type": "stream",
          "text": [
            "       8/50      10.1G      1.133     0.8895      1.348          2        512: 100%|██████████| 643/643 [04:34<00:00,  2.35it/s]\n",
            "                 Class     Images  Instances      Box(P          R      mAP50  mAP50-95): 100%|██████████| 24/24 [00:09<00:00,  2.40it/s]"
          ]
        },
        {
          "metadata": {
            "tags": null
          },
          "name": "stdout",
          "output_type": "stream",
          "text": [
            "                   all       1514       1484       0.89      0.808      0.889      0.629\n"
          ]
        },
        {
          "metadata": {
            "tags": null
          },
          "name": "stderr",
          "output_type": "stream",
          "text": [
            "\n"
          ]
        },
        {
          "metadata": {
            "tags": null
          },
          "name": "stdout",
          "output_type": "stream",
          "text": [
            "\n",
            "      Epoch    GPU_mem   box_loss   cls_loss   dfl_loss  Instances       Size\n"
          ]
        },
        {
          "metadata": {
            "tags": null
          },
          "name": "stderr",
          "output_type": "stream",
          "text": [
            "       9/50      9.99G      1.106      0.851      1.328          4        512: 100%|██████████| 643/643 [04:30<00:00,  2.37it/s]\n",
            "                 Class     Images  Instances      Box(P          R      mAP50  mAP50-95): 100%|██████████| 24/24 [00:10<00:00,  2.28it/s]"
          ]
        },
        {
          "metadata": {
            "tags": null
          },
          "name": "stdout",
          "output_type": "stream",
          "text": [
            "                   all       1514       1484      0.887      0.801      0.887      0.635\n"
          ]
        },
        {
          "metadata": {
            "tags": null
          },
          "name": "stderr",
          "output_type": "stream",
          "text": [
            "\n"
          ]
        },
        {
          "metadata": {
            "tags": null
          },
          "name": "stdout",
          "output_type": "stream",
          "text": [
            "\n",
            "      Epoch    GPU_mem   box_loss   cls_loss   dfl_loss  Instances       Size\n"
          ]
        },
        {
          "metadata": {
            "tags": null
          },
          "name": "stderr",
          "output_type": "stream",
          "text": [
            "      10/50      10.1G      1.078     0.8213      1.314          1        512: 100%|██████████| 643/643 [04:38<00:00,  2.31it/s]\n",
            "                 Class     Images  Instances      Box(P          R      mAP50  mAP50-95): 100%|██████████| 24/24 [00:10<00:00,  2.20it/s]"
          ]
        },
        {
          "metadata": {
            "tags": null
          },
          "name": "stdout",
          "output_type": "stream",
          "text": [
            "                   all       1514       1484      0.905      0.809        0.9      0.672\n"
          ]
        },
        {
          "metadata": {
            "tags": null
          },
          "name": "stderr",
          "output_type": "stream",
          "text": [
            "\n"
          ]
        },
        {
          "metadata": {
            "tags": null
          },
          "name": "stdout",
          "output_type": "stream",
          "text": [
            "\n",
            "      Epoch    GPU_mem   box_loss   cls_loss   dfl_loss  Instances       Size\n"
          ]
        },
        {
          "metadata": {
            "tags": null
          },
          "name": "stderr",
          "output_type": "stream",
          "text": [
            "      11/50      9.99G      1.052     0.7818      1.291          2        512: 100%|██████████| 643/643 [04:38<00:00,  2.31it/s]\n",
            "                 Class     Images  Instances      Box(P          R      mAP50  mAP50-95): 100%|██████████| 24/24 [00:10<00:00,  2.25it/s]"
          ]
        },
        {
          "metadata": {
            "tags": null
          },
          "name": "stdout",
          "output_type": "stream",
          "text": [
            "                   all       1514       1484      0.878      0.847      0.908      0.672\n"
          ]
        },
        {
          "metadata": {
            "tags": null
          },
          "name": "stderr",
          "output_type": "stream",
          "text": [
            "\n"
          ]
        },
        {
          "metadata": {
            "tags": null
          },
          "name": "stdout",
          "output_type": "stream",
          "text": [
            "\n",
            "      Epoch    GPU_mem   box_loss   cls_loss   dfl_loss  Instances       Size\n"
          ]
        },
        {
          "metadata": {
            "tags": null
          },
          "name": "stderr",
          "output_type": "stream",
          "text": [
            "      12/50      9.95G      1.035     0.7571      1.275          2        512: 100%|██████████| 643/643 [04:33<00:00,  2.35it/s]\n",
            "                 Class     Images  Instances      Box(P          R      mAP50  mAP50-95): 100%|██████████| 24/24 [00:10<00:00,  2.26it/s]"
          ]
        },
        {
          "metadata": {
            "tags": null
          },
          "name": "stdout",
          "output_type": "stream",
          "text": [
            "                   all       1514       1484      0.901       0.85      0.911      0.689\n"
          ]
        },
        {
          "metadata": {
            "tags": null
          },
          "name": "stderr",
          "output_type": "stream",
          "text": [
            "\n"
          ]
        },
        {
          "metadata": {
            "tags": null
          },
          "name": "stdout",
          "output_type": "stream",
          "text": [
            "\n",
            "      Epoch    GPU_mem   box_loss   cls_loss   dfl_loss  Instances       Size\n"
          ]
        },
        {
          "metadata": {
            "tags": null
          },
          "name": "stderr",
          "output_type": "stream",
          "text": [
            "      13/50        10G      1.024      0.748      1.267          0        512: 100%|██████████| 643/643 [04:37<00:00,  2.32it/s]\n",
            "                 Class     Images  Instances      Box(P          R      mAP50  mAP50-95): 100%|██████████| 24/24 [00:10<00:00,  2.32it/s]"
          ]
        },
        {
          "metadata": {
            "tags": null
          },
          "name": "stdout",
          "output_type": "stream",
          "text": [
            "                   all       1514       1484      0.919      0.867      0.923      0.705\n"
          ]
        },
        {
          "metadata": {
            "tags": null
          },
          "name": "stderr",
          "output_type": "stream",
          "text": [
            "\n"
          ]
        },
        {
          "metadata": {
            "tags": null
          },
          "name": "stdout",
          "output_type": "stream",
          "text": [
            "\n",
            "      Epoch    GPU_mem   box_loss   cls_loss   dfl_loss  Instances       Size\n"
          ]
        },
        {
          "metadata": {
            "tags": null
          },
          "name": "stderr",
          "output_type": "stream",
          "text": [
            "      14/50      10.1G      1.001     0.7229      1.255          3        512: 100%|██████████| 643/643 [04:40<00:00,  2.29it/s]\n",
            "                 Class     Images  Instances      Box(P          R      mAP50  mAP50-95): 100%|██████████| 24/24 [00:10<00:00,  2.38it/s]"
          ]
        },
        {
          "metadata": {
            "tags": null
          },
          "name": "stdout",
          "output_type": "stream",
          "text": [
            "                   all       1514       1484       0.89      0.885      0.925       0.71\n"
          ]
        },
        {
          "metadata": {
            "tags": null
          },
          "name": "stderr",
          "output_type": "stream",
          "text": [
            "\n"
          ]
        },
        {
          "metadata": {
            "tags": null
          },
          "name": "stdout",
          "output_type": "stream",
          "text": [
            "\n",
            "      Epoch    GPU_mem   box_loss   cls_loss   dfl_loss  Instances       Size\n"
          ]
        },
        {
          "metadata": {
            "tags": null
          },
          "name": "stderr",
          "output_type": "stream",
          "text": [
            "      15/50      9.99G     0.9909     0.7085      1.248          2        512: 100%|██████████| 643/643 [04:41<00:00,  2.28it/s]\n",
            "                 Class     Images  Instances      Box(P          R      mAP50  mAP50-95): 100%|██████████| 24/24 [00:10<00:00,  2.21it/s]"
          ]
        },
        {
          "metadata": {
            "tags": null
          },
          "name": "stdout",
          "output_type": "stream",
          "text": [
            "                   all       1514       1484      0.935      0.859      0.926       0.72\n"
          ]
        },
        {
          "metadata": {
            "tags": null
          },
          "name": "stderr",
          "output_type": "stream",
          "text": [
            "\n"
          ]
        },
        {
          "metadata": {
            "tags": null
          },
          "name": "stdout",
          "output_type": "stream",
          "text": [
            "\n",
            "      Epoch    GPU_mem   box_loss   cls_loss   dfl_loss  Instances       Size\n"
          ]
        },
        {
          "metadata": {
            "tags": null
          },
          "name": "stderr",
          "output_type": "stream",
          "text": [
            "      16/50      10.1G     0.9718      0.685      1.235          2        512: 100%|██████████| 643/643 [04:37<00:00,  2.32it/s]\n",
            "                 Class     Images  Instances      Box(P          R      mAP50  mAP50-95): 100%|██████████| 24/24 [00:10<00:00,  2.39it/s]"
          ]
        },
        {
          "metadata": {
            "tags": null
          },
          "name": "stdout",
          "output_type": "stream",
          "text": [
            "                   all       1514       1484      0.907      0.875      0.928      0.732\n"
          ]
        },
        {
          "metadata": {
            "tags": null
          },
          "name": "stderr",
          "output_type": "stream",
          "text": [
            "\n"
          ]
        },
        {
          "metadata": {
            "tags": null
          },
          "name": "stdout",
          "output_type": "stream",
          "text": [
            "\n",
            "      Epoch    GPU_mem   box_loss   cls_loss   dfl_loss  Instances       Size\n"
          ]
        },
        {
          "metadata": {
            "tags": null
          },
          "name": "stderr",
          "output_type": "stream",
          "text": [
            "      17/50      9.99G     0.9661     0.6714       1.23          2        512: 100%|██████████| 643/643 [04:33<00:00,  2.35it/s]\n",
            "                 Class     Images  Instances      Box(P          R      mAP50  mAP50-95): 100%|██████████| 24/24 [00:09<00:00,  2.55it/s]"
          ]
        },
        {
          "metadata": {
            "tags": null
          },
          "name": "stdout",
          "output_type": "stream",
          "text": [
            "                   all       1514       1484      0.921      0.891      0.943      0.741\n"
          ]
        },
        {
          "metadata": {
            "tags": null
          },
          "name": "stderr",
          "output_type": "stream",
          "text": [
            "\n"
          ]
        },
        {
          "metadata": {
            "tags": null
          },
          "name": "stdout",
          "output_type": "stream",
          "text": [
            "\n",
            "      Epoch    GPU_mem   box_loss   cls_loss   dfl_loss  Instances       Size\n"
          ]
        },
        {
          "metadata": {
            "tags": null
          },
          "name": "stderr",
          "output_type": "stream",
          "text": [
            "      18/50      10.1G     0.9449     0.6672      1.214          0        512: 100%|██████████| 643/643 [04:36<00:00,  2.33it/s]\n",
            "                 Class     Images  Instances      Box(P          R      mAP50  mAP50-95): 100%|██████████| 24/24 [00:10<00:00,  2.34it/s]"
          ]
        },
        {
          "metadata": {
            "tags": null
          },
          "name": "stdout",
          "output_type": "stream",
          "text": [
            "                   all       1514       1484      0.939      0.883      0.937      0.751\n"
          ]
        },
        {
          "metadata": {
            "tags": null
          },
          "name": "stderr",
          "output_type": "stream",
          "text": [
            "\n"
          ]
        },
        {
          "metadata": {
            "tags": null
          },
          "name": "stdout",
          "output_type": "stream",
          "text": [
            "\n",
            "      Epoch    GPU_mem   box_loss   cls_loss   dfl_loss  Instances       Size\n"
          ]
        },
        {
          "metadata": {
            "tags": null
          },
          "name": "stderr",
          "output_type": "stream",
          "text": [
            "      19/50        10G     0.9418     0.6493      1.211          2        512: 100%|██████████| 643/643 [04:42<00:00,  2.28it/s]\n",
            "                 Class     Images  Instances      Box(P          R      mAP50  mAP50-95): 100%|██████████| 24/24 [00:09<00:00,  2.58it/s]"
          ]
        },
        {
          "metadata": {
            "tags": null
          },
          "name": "stdout",
          "output_type": "stream",
          "text": [
            "                   all       1514       1484      0.937      0.888      0.944      0.759\n"
          ]
        },
        {
          "metadata": {
            "tags": null
          },
          "name": "stderr",
          "output_type": "stream",
          "text": [
            "\n"
          ]
        },
        {
          "metadata": {
            "tags": null
          },
          "name": "stdout",
          "output_type": "stream",
          "text": [
            "\n",
            "      Epoch    GPU_mem   box_loss   cls_loss   dfl_loss  Instances       Size\n"
          ]
        },
        {
          "metadata": {
            "tags": null
          },
          "name": "stderr",
          "output_type": "stream",
          "text": [
            "      20/50      10.1G     0.9213     0.6271      1.196          2        512: 100%|██████████| 643/643 [04:38<00:00,  2.31it/s]\n",
            "                 Class     Images  Instances      Box(P          R      mAP50  mAP50-95): 100%|██████████| 24/24 [00:09<00:00,  2.43it/s]"
          ]
        },
        {
          "metadata": {
            "tags": null
          },
          "name": "stdout",
          "output_type": "stream",
          "text": [
            "                   all       1514       1484      0.958      0.885      0.944      0.767\n"
          ]
        },
        {
          "metadata": {
            "tags": null
          },
          "name": "stderr",
          "output_type": "stream",
          "text": [
            "\n"
          ]
        },
        {
          "metadata": {
            "tags": null
          },
          "name": "stdout",
          "output_type": "stream",
          "text": [
            "\n",
            "      Epoch    GPU_mem   box_loss   cls_loss   dfl_loss  Instances       Size\n"
          ]
        },
        {
          "metadata": {
            "tags": null
          },
          "name": "stderr",
          "output_type": "stream",
          "text": [
            "      21/50      9.99G     0.9104     0.6181      1.193          1        512: 100%|██████████| 643/643 [04:40<00:00,  2.29it/s]\n",
            "                 Class     Images  Instances      Box(P          R      mAP50  mAP50-95): 100%|██████████| 24/24 [00:09<00:00,  2.57it/s]"
          ]
        },
        {
          "metadata": {
            "tags": null
          },
          "name": "stdout",
          "output_type": "stream",
          "text": [
            "                   all       1514       1484      0.944      0.892      0.939      0.766\n"
          ]
        },
        {
          "metadata": {
            "tags": null
          },
          "name": "stderr",
          "output_type": "stream",
          "text": [
            "\n"
          ]
        },
        {
          "metadata": {
            "tags": null
          },
          "name": "stdout",
          "output_type": "stream",
          "text": [
            "\n",
            "      Epoch    GPU_mem   box_loss   cls_loss   dfl_loss  Instances       Size\n"
          ]
        },
        {
          "metadata": {
            "tags": null
          },
          "name": "stderr",
          "output_type": "stream",
          "text": [
            "      22/50      10.3G     0.9136     0.6115      1.196          1        512: 100%|██████████| 643/643 [04:36<00:00,  2.33it/s]\n",
            "                 Class     Images  Instances      Box(P          R      mAP50  mAP50-95): 100%|██████████| 24/24 [00:10<00:00,  2.27it/s]"
          ]
        },
        {
          "metadata": {
            "tags": null
          },
          "name": "stdout",
          "output_type": "stream",
          "text": [
            "                   all       1514       1484      0.948      0.889      0.944      0.768\n"
          ]
        },
        {
          "metadata": {
            "tags": null
          },
          "name": "stderr",
          "output_type": "stream",
          "text": [
            "\n"
          ]
        },
        {
          "metadata": {
            "tags": null
          },
          "name": "stdout",
          "output_type": "stream",
          "text": [
            "\n",
            "      Epoch    GPU_mem   box_loss   cls_loss   dfl_loss  Instances       Size\n"
          ]
        },
        {
          "metadata": {
            "tags": null
          },
          "name": "stderr",
          "output_type": "stream",
          "text": [
            "      23/50      9.99G     0.8927     0.5947       1.18          4        512: 100%|██████████| 643/643 [04:35<00:00,  2.33it/s]\n",
            "                 Class     Images  Instances      Box(P          R      mAP50  mAP50-95): 100%|██████████| 24/24 [00:10<00:00,  2.35it/s]"
          ]
        },
        {
          "metadata": {
            "tags": null
          },
          "name": "stdout",
          "output_type": "stream",
          "text": [
            "                   all       1514       1484      0.947      0.884      0.938      0.768\n"
          ]
        },
        {
          "metadata": {
            "tags": null
          },
          "name": "stderr",
          "output_type": "stream",
          "text": [
            "\n"
          ]
        },
        {
          "metadata": {
            "tags": null
          },
          "name": "stdout",
          "output_type": "stream",
          "text": [
            "\n",
            "      Epoch    GPU_mem   box_loss   cls_loss   dfl_loss  Instances       Size\n"
          ]
        },
        {
          "metadata": {
            "tags": null
          },
          "name": "stderr",
          "output_type": "stream",
          "text": [
            "      24/50      10.3G     0.8858     0.5871       1.18          1        512: 100%|██████████| 643/643 [04:35<00:00,  2.34it/s]\n",
            "                 Class     Images  Instances      Box(P          R      mAP50  mAP50-95): 100%|██████████| 24/24 [00:10<00:00,  2.34it/s]"
          ]
        },
        {
          "metadata": {
            "tags": null
          },
          "name": "stdout",
          "output_type": "stream",
          "text": [
            "                   all       1514       1484      0.941      0.901      0.937       0.78\n"
          ]
        },
        {
          "metadata": {
            "tags": null
          },
          "name": "stderr",
          "output_type": "stream",
          "text": [
            "\n"
          ]
        },
        {
          "metadata": {
            "tags": null
          },
          "name": "stdout",
          "output_type": "stream",
          "text": [
            "\n",
            "      Epoch    GPU_mem   box_loss   cls_loss   dfl_loss  Instances       Size\n"
          ]
        },
        {
          "metadata": {
            "tags": null
          },
          "name": "stderr",
          "output_type": "stream",
          "text": [
            "      25/50      9.99G     0.8782      0.578      1.171          3        512: 100%|██████████| 643/643 [04:30<00:00,  2.38it/s]\n",
            "                 Class     Images  Instances      Box(P          R      mAP50  mAP50-95): 100%|██████████| 24/24 [00:10<00:00,  2.31it/s]"
          ]
        },
        {
          "metadata": {
            "tags": null
          },
          "name": "stdout",
          "output_type": "stream",
          "text": [
            "                   all       1514       1484      0.947      0.907      0.944       0.78\n"
          ]
        },
        {
          "metadata": {
            "tags": null
          },
          "name": "stderr",
          "output_type": "stream",
          "text": [
            "\n"
          ]
        },
        {
          "metadata": {
            "tags": null
          },
          "name": "stdout",
          "output_type": "stream",
          "text": [
            "\n",
            "      Epoch    GPU_mem   box_loss   cls_loss   dfl_loss  Instances       Size\n"
          ]
        },
        {
          "metadata": {
            "tags": null
          },
          "name": "stderr",
          "output_type": "stream",
          "text": [
            "      26/50      10.3G     0.8624     0.5671      1.162          3        512: 100%|██████████| 643/643 [04:34<00:00,  2.34it/s]\n",
            "                 Class     Images  Instances      Box(P          R      mAP50  mAP50-95): 100%|██████████| 24/24 [00:10<00:00,  2.37it/s]"
          ]
        },
        {
          "metadata": {
            "tags": null
          },
          "name": "stdout",
          "output_type": "stream",
          "text": [
            "                   all       1514       1484      0.959        0.9      0.947      0.786\n"
          ]
        },
        {
          "metadata": {
            "tags": null
          },
          "name": "stderr",
          "output_type": "stream",
          "text": [
            "\n"
          ]
        },
        {
          "metadata": {
            "tags": null
          },
          "name": "stdout",
          "output_type": "stream",
          "text": [
            "\n",
            "      Epoch    GPU_mem   box_loss   cls_loss   dfl_loss  Instances       Size\n"
          ]
        },
        {
          "metadata": {
            "tags": null
          },
          "name": "stderr",
          "output_type": "stream",
          "text": [
            "      27/50      9.99G      0.864     0.5632      1.162          1        512: 100%|██████████| 643/643 [04:37<00:00,  2.32it/s]\n",
            "                 Class     Images  Instances      Box(P          R      mAP50  mAP50-95): 100%|██████████| 24/24 [00:09<00:00,  2.40it/s]"
          ]
        },
        {
          "metadata": {
            "tags": null
          },
          "name": "stdout",
          "output_type": "stream",
          "text": [
            "                   all       1514       1484      0.951      0.893      0.944       0.79\n"
          ]
        },
        {
          "metadata": {
            "tags": null
          },
          "name": "stderr",
          "output_type": "stream",
          "text": [
            "\n"
          ]
        },
        {
          "metadata": {
            "tags": null
          },
          "name": "stdout",
          "output_type": "stream",
          "text": [
            "\n",
            "      Epoch    GPU_mem   box_loss   cls_loss   dfl_loss  Instances       Size\n"
          ]
        },
        {
          "metadata": {
            "tags": null
          },
          "name": "stderr",
          "output_type": "stream",
          "text": [
            "      28/50      9.95G     0.8522     0.5515      1.153          1        512: 100%|██████████| 643/643 [04:34<00:00,  2.35it/s]\n",
            "                 Class     Images  Instances      Box(P          R      mAP50  mAP50-95): 100%|██████████| 24/24 [00:09<00:00,  2.59it/s]"
          ]
        },
        {
          "metadata": {
            "tags": null
          },
          "name": "stdout",
          "output_type": "stream",
          "text": [
            "                   all       1514       1484       0.95       0.91       0.95      0.795\n"
          ]
        },
        {
          "metadata": {
            "tags": null
          },
          "name": "stderr",
          "output_type": "stream",
          "text": [
            "\n"
          ]
        },
        {
          "metadata": {
            "tags": null
          },
          "name": "stdout",
          "output_type": "stream",
          "text": [
            "\n",
            "      Epoch    GPU_mem   box_loss   cls_loss   dfl_loss  Instances       Size\n"
          ]
        },
        {
          "metadata": {
            "tags": null
          },
          "name": "stderr",
          "output_type": "stream",
          "text": [
            "      29/50      9.99G     0.8354     0.5373      1.146          3        512: 100%|██████████| 643/643 [04:33<00:00,  2.35it/s]\n",
            "                 Class     Images  Instances      Box(P          R      mAP50  mAP50-95): 100%|██████████| 24/24 [00:10<00:00,  2.37it/s]"
          ]
        },
        {
          "metadata": {
            "tags": null
          },
          "name": "stdout",
          "output_type": "stream",
          "text": [
            "                   all       1514       1484      0.959      0.909      0.952      0.806\n"
          ]
        },
        {
          "metadata": {
            "tags": null
          },
          "name": "stderr",
          "output_type": "stream",
          "text": [
            "\n"
          ]
        },
        {
          "metadata": {
            "tags": null
          },
          "name": "stdout",
          "output_type": "stream",
          "text": [
            "\n",
            "      Epoch    GPU_mem   box_loss   cls_loss   dfl_loss  Instances       Size\n"
          ]
        },
        {
          "metadata": {
            "tags": null
          },
          "name": "stderr",
          "output_type": "stream",
          "text": [
            "      30/50      10.1G      0.831     0.5307      1.144          1        512: 100%|██████████| 643/643 [04:32<00:00,  2.36it/s]\n",
            "                 Class     Images  Instances      Box(P          R      mAP50  mAP50-95): 100%|██████████| 24/24 [00:10<00:00,  2.36it/s]"
          ]
        },
        {
          "metadata": {
            "tags": null
          },
          "name": "stdout",
          "output_type": "stream",
          "text": [
            "                   all       1514       1484      0.951       0.91      0.951      0.803\n"
          ]
        },
        {
          "metadata": {
            "tags": null
          },
          "name": "stderr",
          "output_type": "stream",
          "text": [
            "\n"
          ]
        },
        {
          "metadata": {
            "tags": null
          },
          "name": "stdout",
          "output_type": "stream",
          "text": [
            "\n",
            "      Epoch    GPU_mem   box_loss   cls_loss   dfl_loss  Instances       Size\n"
          ]
        },
        {
          "metadata": {
            "tags": null
          },
          "name": "stderr",
          "output_type": "stream",
          "text": [
            "      31/50      9.99G     0.8177     0.5187      1.134          4        512: 100%|██████████| 643/643 [04:28<00:00,  2.39it/s]\n",
            "                 Class     Images  Instances      Box(P          R      mAP50  mAP50-95): 100%|██████████| 24/24 [00:10<00:00,  2.33it/s]"
          ]
        },
        {
          "metadata": {
            "tags": null
          },
          "name": "stdout",
          "output_type": "stream",
          "text": [
            "                   all       1514       1484      0.951      0.905      0.946      0.808\n"
          ]
        },
        {
          "metadata": {
            "tags": null
          },
          "name": "stderr",
          "output_type": "stream",
          "text": [
            "\n"
          ]
        },
        {
          "metadata": {
            "tags": null
          },
          "name": "stdout",
          "output_type": "stream",
          "text": [
            "\n",
            "      Epoch    GPU_mem   box_loss   cls_loss   dfl_loss  Instances       Size\n"
          ]
        },
        {
          "output_type": "stream",
          "name": "stderr",
          "text": [
            "      32/50      10.1G     0.8085     0.5167      1.133          1        512: 100%|██████████| 643/643 [04:29<00:00,  2.38it/s]\n",
            "                 Class     Images  Instances      Box(P          R      mAP50  mAP50-95): 100%|██████████| 24/24 [00:09<00:00,  2.47it/s]"
          ]
        },
        {
          "output_type": "stream",
          "name": "stdout",
          "text": [
            "                   all       1514       1484      0.953       0.92      0.952      0.809\n"
          ]
        },
        {
          "output_type": "stream",
          "name": "stderr",
          "text": [
            "\n"
          ]
        },
        {
          "output_type": "stream",
          "name": "stdout",
          "text": [
            "\n",
            "      Epoch    GPU_mem   box_loss   cls_loss   dfl_loss  Instances       Size\n"
          ]
        },
        {
          "output_type": "stream",
          "name": "stderr",
          "text": [
            "      33/50      9.99G      0.801     0.5056      1.128          1        512: 100%|██████████| 643/643 [04:31<00:00,  2.37it/s]\n",
            "                 Class     Images  Instances      Box(P          R      mAP50  mAP50-95): 100%|██████████| 24/24 [00:09<00:00,  2.42it/s]"
          ]
        },
        {
          "output_type": "stream",
          "name": "stdout",
          "text": [
            "                   all       1514       1484      0.961      0.912      0.952      0.811\n"
          ]
        },
        {
          "output_type": "stream",
          "name": "stderr",
          "text": [
            "\n"
          ]
        },
        {
          "output_type": "stream",
          "name": "stdout",
          "text": [
            "\n",
            "      Epoch    GPU_mem   box_loss   cls_loss   dfl_loss  Instances       Size\n"
          ]
        },
        {
          "output_type": "stream",
          "name": "stderr",
          "text": [
            "      34/50      10.3G     0.7939     0.4971      1.121          3        512: 100%|██████████| 643/643 [04:32<00:00,  2.36it/s]\n",
            "                 Class     Images  Instances      Box(P          R      mAP50  mAP50-95): 100%|██████████| 24/24 [00:10<00:00,  2.34it/s]"
          ]
        },
        {
          "output_type": "stream",
          "name": "stdout",
          "text": [
            "                   all       1514       1484      0.957      0.911      0.954      0.819\n"
          ]
        },
        {
          "output_type": "stream",
          "name": "stderr",
          "text": [
            "\n"
          ]
        },
        {
          "output_type": "stream",
          "name": "stdout",
          "text": [
            "\n",
            "      Epoch    GPU_mem   box_loss   cls_loss   dfl_loss  Instances       Size\n"
          ]
        },
        {
          "output_type": "stream",
          "name": "stderr",
          "text": [
            "      35/50      9.99G     0.7807     0.4953      1.113          1        512: 100%|██████████| 643/643 [04:32<00:00,  2.36it/s]\n",
            "                 Class     Images  Instances      Box(P          R      mAP50  mAP50-95): 100%|██████████| 24/24 [00:10<00:00,  2.33it/s]"
          ]
        },
        {
          "output_type": "stream",
          "name": "stdout",
          "text": [
            "                   all       1514       1484      0.967      0.904      0.954      0.822\n"
          ]
        },
        {
          "output_type": "stream",
          "name": "stderr",
          "text": [
            "\n"
          ]
        },
        {
          "output_type": "stream",
          "name": "stdout",
          "text": [
            "\n",
            "      Epoch    GPU_mem   box_loss   cls_loss   dfl_loss  Instances       Size\n"
          ]
        },
        {
          "output_type": "stream",
          "name": "stderr",
          "text": [
            "      36/50      10.1G     0.7723     0.4804      1.106          3        512: 100%|██████████| 643/643 [04:37<00:00,  2.32it/s]\n",
            "                 Class     Images  Instances      Box(P          R      mAP50  mAP50-95): 100%|██████████| 24/24 [00:10<00:00,  2.37it/s]"
          ]
        },
        {
          "output_type": "stream",
          "name": "stdout",
          "text": [
            "                   all       1514       1484      0.952       0.92      0.952      0.827\n"
          ]
        },
        {
          "output_type": "stream",
          "name": "stderr",
          "text": [
            "\n"
          ]
        },
        {
          "output_type": "stream",
          "name": "stdout",
          "text": [
            "\n",
            "      Epoch    GPU_mem   box_loss   cls_loss   dfl_loss  Instances       Size\n"
          ]
        },
        {
          "output_type": "stream",
          "name": "stderr",
          "text": [
            "      37/50      9.99G     0.7693     0.4743      1.104          1        512: 100%|██████████| 643/643 [04:36<00:00,  2.33it/s]\n",
            "                 Class     Images  Instances      Box(P          R      mAP50  mAP50-95): 100%|██████████| 24/24 [00:10<00:00,  2.38it/s]"
          ]
        },
        {
          "output_type": "stream",
          "name": "stdout",
          "text": [
            "                   all       1514       1484      0.964      0.913      0.953       0.83\n"
          ]
        },
        {
          "output_type": "stream",
          "name": "stderr",
          "text": [
            "\n"
          ]
        },
        {
          "output_type": "stream",
          "name": "stdout",
          "text": [
            "\n",
            "      Epoch    GPU_mem   box_loss   cls_loss   dfl_loss  Instances       Size\n"
          ]
        },
        {
          "output_type": "stream",
          "name": "stderr",
          "text": [
            "      38/50      10.3G      0.804     0.4855      1.139         58        512:   3%|▎         | 18/643 [00:06<03:53,  2.68it/s]\n"
          ]
        },
        {
          "output_type": "error",
          "ename": "KeyboardInterrupt",
          "evalue": "",
          "traceback": [
            "\u001b[0;31m---------------------------------------------------------------------------\u001b[0m",
            "\u001b[0;31mKeyboardInterrupt\u001b[0m                         Traceback (most recent call last)",
            "\u001b[0;32m<ipython-input-12-1678ee63b9a3>\u001b[0m in \u001b[0;36m<cell line: 0>\u001b[0;34m()\u001b[0m\n\u001b[1;32m     28\u001b[0m \u001b[0mmodel\u001b[0m \u001b[0;34m=\u001b[0m \u001b[0mYOLO\u001b[0m\u001b[0;34m(\u001b[0m\u001b[0;34m\"yolov8s.pt\"\u001b[0m\u001b[0;34m)\u001b[0m  \u001b[0;31m# Smaller, faster model\u001b[0m\u001b[0;34m\u001b[0m\u001b[0;34m\u001b[0m\u001b[0m\n\u001b[1;32m     29\u001b[0m \u001b[0;34m\u001b[0m\u001b[0m\n\u001b[0;32m---> 30\u001b[0;31m model.train(\n\u001b[0m\u001b[1;32m     31\u001b[0m     \u001b[0mdata\u001b[0m\u001b[0;34m=\u001b[0m\u001b[0mdata_yaml_path\u001b[0m\u001b[0;34m,\u001b[0m\u001b[0;34m\u001b[0m\u001b[0;34m\u001b[0m\u001b[0m\n\u001b[1;32m     32\u001b[0m     \u001b[0mepochs\u001b[0m\u001b[0;34m=\u001b[0m\u001b[0;36m50\u001b[0m\u001b[0;34m,\u001b[0m\u001b[0;34m\u001b[0m\u001b[0;34m\u001b[0m\u001b[0m\n",
            "\u001b[0;32m/usr/local/lib/python3.11/dist-packages/ultralytics/engine/model.py\u001b[0m in \u001b[0;36mtrain\u001b[0;34m(self, trainer, **kwargs)\u001b[0m\n\u001b[1;32m    788\u001b[0m \u001b[0;34m\u001b[0m\u001b[0m\n\u001b[1;32m    789\u001b[0m         \u001b[0mself\u001b[0m\u001b[0;34m.\u001b[0m\u001b[0mtrainer\u001b[0m\u001b[0;34m.\u001b[0m\u001b[0mhub_session\u001b[0m \u001b[0;34m=\u001b[0m \u001b[0mself\u001b[0m\u001b[0;34m.\u001b[0m\u001b[0msession\u001b[0m  \u001b[0;31m# attach optional HUB session\u001b[0m\u001b[0;34m\u001b[0m\u001b[0;34m\u001b[0m\u001b[0m\n\u001b[0;32m--> 790\u001b[0;31m         \u001b[0mself\u001b[0m\u001b[0;34m.\u001b[0m\u001b[0mtrainer\u001b[0m\u001b[0;34m.\u001b[0m\u001b[0mtrain\u001b[0m\u001b[0;34m(\u001b[0m\u001b[0;34m)\u001b[0m\u001b[0;34m\u001b[0m\u001b[0;34m\u001b[0m\u001b[0m\n\u001b[0m\u001b[1;32m    791\u001b[0m         \u001b[0;31m# Update model and cfg after training\u001b[0m\u001b[0;34m\u001b[0m\u001b[0;34m\u001b[0m\u001b[0m\n\u001b[1;32m    792\u001b[0m         \u001b[0;32mif\u001b[0m \u001b[0mRANK\u001b[0m \u001b[0;32min\u001b[0m \u001b[0;34m{\u001b[0m\u001b[0;34m-\u001b[0m\u001b[0;36m1\u001b[0m\u001b[0;34m,\u001b[0m \u001b[0;36m0\u001b[0m\u001b[0;34m}\u001b[0m\u001b[0;34m:\u001b[0m\u001b[0;34m\u001b[0m\u001b[0;34m\u001b[0m\u001b[0m\n",
            "\u001b[0;32m/usr/local/lib/python3.11/dist-packages/ultralytics/engine/trainer.py\u001b[0m in \u001b[0;36mtrain\u001b[0;34m(self)\u001b[0m\n\u001b[1;32m    208\u001b[0m \u001b[0;34m\u001b[0m\u001b[0m\n\u001b[1;32m    209\u001b[0m         \u001b[0;32melse\u001b[0m\u001b[0;34m:\u001b[0m\u001b[0;34m\u001b[0m\u001b[0;34m\u001b[0m\u001b[0m\n\u001b[0;32m--> 210\u001b[0;31m             \u001b[0mself\u001b[0m\u001b[0;34m.\u001b[0m\u001b[0m_do_train\u001b[0m\u001b[0;34m(\u001b[0m\u001b[0mworld_size\u001b[0m\u001b[0;34m)\u001b[0m\u001b[0;34m\u001b[0m\u001b[0;34m\u001b[0m\u001b[0m\n\u001b[0m\u001b[1;32m    211\u001b[0m \u001b[0;34m\u001b[0m\u001b[0m\n\u001b[1;32m    212\u001b[0m     \u001b[0;32mdef\u001b[0m \u001b[0m_setup_scheduler\u001b[0m\u001b[0;34m(\u001b[0m\u001b[0mself\u001b[0m\u001b[0;34m)\u001b[0m\u001b[0;34m:\u001b[0m\u001b[0;34m\u001b[0m\u001b[0;34m\u001b[0m\u001b[0m\n",
            "\u001b[0;32m/usr/local/lib/python3.11/dist-packages/ultralytics/engine/trainer.py\u001b[0m in \u001b[0;36m_do_train\u001b[0;34m(self, world_size)\u001b[0m\n\u001b[1;32m    411\u001b[0m                 \u001b[0;32mif\u001b[0m \u001b[0mRANK\u001b[0m \u001b[0;32min\u001b[0m \u001b[0;34m{\u001b[0m\u001b[0;34m-\u001b[0m\u001b[0;36m1\u001b[0m\u001b[0;34m,\u001b[0m \u001b[0;36m0\u001b[0m\u001b[0;34m}\u001b[0m\u001b[0;34m:\u001b[0m\u001b[0;34m\u001b[0m\u001b[0;34m\u001b[0m\u001b[0m\n\u001b[1;32m    412\u001b[0m                     \u001b[0mloss_length\u001b[0m \u001b[0;34m=\u001b[0m \u001b[0mself\u001b[0m\u001b[0;34m.\u001b[0m\u001b[0mtloss\u001b[0m\u001b[0;34m.\u001b[0m\u001b[0mshape\u001b[0m\u001b[0;34m[\u001b[0m\u001b[0;36m0\u001b[0m\u001b[0;34m]\u001b[0m \u001b[0;32mif\u001b[0m \u001b[0mlen\u001b[0m\u001b[0;34m(\u001b[0m\u001b[0mself\u001b[0m\u001b[0;34m.\u001b[0m\u001b[0mtloss\u001b[0m\u001b[0;34m.\u001b[0m\u001b[0mshape\u001b[0m\u001b[0;34m)\u001b[0m \u001b[0;32melse\u001b[0m \u001b[0;36m1\u001b[0m\u001b[0;34m\u001b[0m\u001b[0;34m\u001b[0m\u001b[0m\n\u001b[0;32m--> 413\u001b[0;31m                     pbar.set_description(\n\u001b[0m\u001b[1;32m    414\u001b[0m                         \u001b[0;34m(\u001b[0m\u001b[0;34m\"%11s\"\u001b[0m \u001b[0;34m*\u001b[0m \u001b[0;36m2\u001b[0m \u001b[0;34m+\u001b[0m \u001b[0;34m\"%11.4g\"\u001b[0m \u001b[0;34m*\u001b[0m \u001b[0;34m(\u001b[0m\u001b[0;36m2\u001b[0m \u001b[0;34m+\u001b[0m \u001b[0mloss_length\u001b[0m\u001b[0;34m)\u001b[0m\u001b[0;34m)\u001b[0m\u001b[0;34m\u001b[0m\u001b[0;34m\u001b[0m\u001b[0m\n\u001b[1;32m    415\u001b[0m                         % (\n",
            "\u001b[0;32m/usr/local/lib/python3.11/dist-packages/tqdm/std.py\u001b[0m in \u001b[0;36mset_description\u001b[0;34m(self, desc, refresh)\u001b[0m\n\u001b[1;32m   1380\u001b[0m         \u001b[0mself\u001b[0m\u001b[0;34m.\u001b[0m\u001b[0mrefresh\u001b[0m\u001b[0;34m(\u001b[0m\u001b[0;34m)\u001b[0m\u001b[0;34m\u001b[0m\u001b[0;34m\u001b[0m\u001b[0m\n\u001b[1;32m   1381\u001b[0m \u001b[0;34m\u001b[0m\u001b[0m\n\u001b[0;32m-> 1382\u001b[0;31m     \u001b[0;32mdef\u001b[0m \u001b[0mset_description\u001b[0m\u001b[0;34m(\u001b[0m\u001b[0mself\u001b[0m\u001b[0;34m,\u001b[0m \u001b[0mdesc\u001b[0m\u001b[0;34m=\u001b[0m\u001b[0;32mNone\u001b[0m\u001b[0;34m,\u001b[0m \u001b[0mrefresh\u001b[0m\u001b[0;34m=\u001b[0m\u001b[0;32mTrue\u001b[0m\u001b[0;34m)\u001b[0m\u001b[0;34m:\u001b[0m\u001b[0;34m\u001b[0m\u001b[0;34m\u001b[0m\u001b[0m\n\u001b[0m\u001b[1;32m   1383\u001b[0m         \"\"\"\n\u001b[1;32m   1384\u001b[0m         \u001b[0mSet\u001b[0m\u001b[0;34m/\u001b[0m\u001b[0mmodify\u001b[0m \u001b[0mdescription\u001b[0m \u001b[0mof\u001b[0m \u001b[0mthe\u001b[0m \u001b[0mprogress\u001b[0m \u001b[0mbar\u001b[0m\u001b[0;34m.\u001b[0m\u001b[0;34m\u001b[0m\u001b[0;34m\u001b[0m\u001b[0m\n",
            "\u001b[0;31mKeyboardInterrupt\u001b[0m: "
          ]
        }
      ],
      "source": [
        "# from ultralytics import YOLO\n",
        "# import torch\n",
        "\n",
        "# # Load YOLOv8 model (use yolov8m.pt for balanced accuracy/speed)\n",
        "# model = YOLO(\"yolov8m.pt\")\n",
        "\n",
        "# model.train(\n",
        "#     data=data_yaml_path,  # Path to dataset config\n",
        "#     epochs=50,  # Increase epochs for better accuracy\n",
        "#     imgsz=640,  # Image size, higher can improve accuracy but needs more memory\n",
        "#     batch=16,  # Reduce if memory issues occur (adjust based on GPU)\n",
        "#     device=\"cuda\",  # Use GPU if available\n",
        "#     # device=\"cuda\" if torch.cuda.is_available() else \"cpu\",\n",
        "#     workers=2,  # Number of CPU workers (adjust based on Colab resources)\n",
        "#     # project='/content/underwater_dataset/training_results',  # Save results here\n",
        "#     project='/content/drive/MyDrive/Colab Notebooks/training_results',  # Save results to Google Drive\n",
        "#     name='accident_model',  # Name of training run\n",
        "#     save=True,  # Save checkpoints\n",
        "#     save_period=1,  # Save model every 10 epochs\n",
        "#     cache=True,  # Cache images to speed up training\n",
        "#     patience = 7,\n",
        "# )\n",
        "\n",
        "\n",
        "from ultralytics import YOLO\n",
        "import torch\n",
        "\n",
        "model = YOLO(\"yolov8s.pt\")  # Smaller, faster model\n",
        "\n",
        "model.train(\n",
        "    data=data_yaml_path,\n",
        "    epochs=50,\n",
        "    imgsz=512,    # smaller images\n",
        "    batch=32,     # bigger batch if possible\n",
        "    device=\"cuda\",\n",
        "    workers=2,\n",
        "    project='/content/drive/MyDrive/Colab Notebooks/training_results',\n",
        "    name='accident_model',\n",
        "    save=True,\n",
        "    save_period=1,\n",
        "    cache=True,\n",
        "    patience=7,\n",
        "    amp=True,     # mixed precision for speedup\n",
        ")\n"
      ]
    },
    {
      "cell_type": "code",
      "execution_count": null,
      "metadata": {
        "colab": {
          "base_uri": "https://localhost:8080/"
        },
        "id": "dLt43PWM8wu7",
        "outputId": "91d5a22d-2a5d-4d92-e2ef-b1e8591cbef6"
      },
      "outputs": [
        {
          "output_type": "stream",
          "name": "stdout",
          "text": [
            "True\n",
            "1\n",
            "Tesla T4\n"
          ]
        }
      ],
      "source": [
        "import torch\n",
        "print(torch.cuda.is_available())  # Should return True if GPU is available\n",
        "print(torch.cuda.device_count())  # Number of available GPUs\n",
        "print(torch.cuda.get_device_name(0) if torch.cuda.is_available() else \"No GPU found\")\n"
      ]
    },
    {
      "cell_type": "code",
      "execution_count": null,
      "metadata": {
        "colab": {
          "base_uri": "https://localhost:8080/"
        },
        "id": "O5Ks0TTI9Ij2",
        "outputId": "91356de2-f8da-4623-d93a-b6784c44e0fa"
      },
      "outputs": [
        {
          "output_type": "stream",
          "name": "stdout",
          "text": [
            "Ultralytics 8.3.118 🚀 Python-3.11.12 torch-2.6.0+cu124 CUDA:0 (Tesla T4, 15095MiB)\n",
            "\u001b[34m\u001b[1mengine/trainer: \u001b[0mtask=detect, mode=train, model=/content/drive/MyDrive/Colab Notebooks/training_results/accident_model3/weights/last.pt, data=/content/accident_dataset/dataset/data.yaml, epochs=50, time=None, patience=7, batch=32, imgsz=512, save=True, save_period=1, cache=True, device=cuda, workers=2, project=/content/drive/MyDrive/Colab Notebooks/training_results, name=accident_model3, exist_ok=False, pretrained=True, optimizer=auto, verbose=True, seed=0, deterministic=True, single_cls=False, rect=False, cos_lr=False, close_mosaic=10, resume=/content/drive/MyDrive/Colab Notebooks/training_results/accident_model3/weights/last.pt, amp=True, fraction=1.0, profile=False, freeze=None, multi_scale=False, overlap_mask=True, mask_ratio=4, dropout=0.0, val=True, split=val, save_json=False, conf=None, iou=0.7, max_det=300, half=False, dnn=False, plots=True, source=None, vid_stride=1, stream_buffer=False, visualize=False, augment=False, agnostic_nms=False, classes=None, retina_masks=False, embed=None, show=False, save_frames=False, save_txt=False, save_conf=False, save_crop=False, show_labels=True, show_conf=True, show_boxes=True, line_width=None, format=torchscript, keras=False, optimize=False, int8=False, dynamic=False, simplify=True, opset=None, workspace=None, nms=False, lr0=0.01, lrf=0.01, momentum=0.937, weight_decay=0.0005, warmup_epochs=3.0, warmup_momentum=0.8, warmup_bias_lr=0.0, box=7.5, cls=0.5, dfl=1.5, pose=12.0, kobj=1.0, nbs=64, hsv_h=0.015, hsv_s=0.7, hsv_v=0.4, degrees=0.0, translate=0.1, scale=0.5, shear=0.0, perspective=0.0, flipud=0.0, fliplr=0.5, bgr=0.0, mosaic=1.0, mixup=0.0, copy_paste=0.0, copy_paste_mode=flip, auto_augment=randaugment, erasing=0.4, cfg=None, tracker=botsort.yaml, save_dir=/content/drive/MyDrive/Colab Notebooks/training_results/accident_model3\n",
            "Downloading https://ultralytics.com/assets/Arial.ttf to '/root/.config/Ultralytics/Arial.ttf'...\n"
          ]
        },
        {
          "output_type": "stream",
          "name": "stderr",
          "text": [
            "100%|██████████| 755k/755k [00:00<00:00, 21.8MB/s]"
          ]
        },
        {
          "output_type": "stream",
          "name": "stdout",
          "text": [
            "\n",
            "                   from  n    params  module                                       arguments                     \n",
            "  0                  -1  1       928  ultralytics.nn.modules.conv.Conv             [3, 32, 3, 2]                 \n",
            "  1                  -1  1     18560  ultralytics.nn.modules.conv.Conv             [32, 64, 3, 2]                \n",
            "  2                  -1  1     29056  ultralytics.nn.modules.block.C2f             [64, 64, 1, True]             \n",
            "  3                  -1  1     73984  ultralytics.nn.modules.conv.Conv             [64, 128, 3, 2]               \n",
            "  4                  -1  2    197632  ultralytics.nn.modules.block.C2f             [128, 128, 2, True]           \n",
            "  5                  -1  1    295424  ultralytics.nn.modules.conv.Conv             [128, 256, 3, 2]              \n"
          ]
        },
        {
          "output_type": "stream",
          "name": "stderr",
          "text": [
            "\n"
          ]
        },
        {
          "output_type": "stream",
          "name": "stdout",
          "text": [
            "  6                  -1  2    788480  ultralytics.nn.modules.block.C2f             [256, 256, 2, True]           \n",
            "  7                  -1  1   1180672  ultralytics.nn.modules.conv.Conv             [256, 512, 3, 2]              \n",
            "  8                  -1  1   1838080  ultralytics.nn.modules.block.C2f             [512, 512, 1, True]           \n",
            "  9                  -1  1    656896  ultralytics.nn.modules.block.SPPF            [512, 512, 5]                 \n",
            " 10                  -1  1         0  torch.nn.modules.upsampling.Upsample         [None, 2, 'nearest']          \n",
            " 11             [-1, 6]  1         0  ultralytics.nn.modules.conv.Concat           [1]                           \n",
            " 12                  -1  1    591360  ultralytics.nn.modules.block.C2f             [768, 256, 1]                 \n",
            " 13                  -1  1         0  torch.nn.modules.upsampling.Upsample         [None, 2, 'nearest']          \n",
            " 14             [-1, 4]  1         0  ultralytics.nn.modules.conv.Concat           [1]                           \n",
            " 15                  -1  1    148224  ultralytics.nn.modules.block.C2f             [384, 128, 1]                 \n",
            " 16                  -1  1    147712  ultralytics.nn.modules.conv.Conv             [128, 128, 3, 2]              \n",
            " 17            [-1, 12]  1         0  ultralytics.nn.modules.conv.Concat           [1]                           \n",
            " 18                  -1  1    493056  ultralytics.nn.modules.block.C2f             [384, 256, 1]                 \n",
            " 19                  -1  1    590336  ultralytics.nn.modules.conv.Conv             [256, 256, 3, 2]              \n",
            " 20             [-1, 9]  1         0  ultralytics.nn.modules.conv.Concat           [1]                           \n",
            " 21                  -1  1   1969152  ultralytics.nn.modules.block.C2f             [768, 512, 1]                 \n",
            " 22        [15, 18, 21]  1   2116435  ultralytics.nn.modules.head.Detect           [1, [128, 256, 512]]          \n",
            "Model summary: 129 layers, 11,135,987 parameters, 11,135,971 gradients, 28.6 GFLOPs\n",
            "\n",
            "Transferred 355/355 items from pretrained weights\n",
            "Freezing layer 'model.22.dfl.conv.weight'\n",
            "\u001b[34m\u001b[1mAMP: \u001b[0mrunning Automatic Mixed Precision (AMP) checks...\n",
            "Downloading https://github.com/ultralytics/assets/releases/download/v8.3.0/yolo11n.pt to 'yolo11n.pt'...\n"
          ]
        },
        {
          "output_type": "stream",
          "name": "stderr",
          "text": [
            "100%|██████████| 5.35M/5.35M [00:00<00:00, 87.9MB/s]\n"
          ]
        },
        {
          "output_type": "stream",
          "name": "stdout",
          "text": [
            "\u001b[34m\u001b[1mAMP: \u001b[0mchecks passed ✅\n",
            "\u001b[34m\u001b[1mtrain: \u001b[0mFast image access ✅ (ping: 0.0±0.0 ms, read: 29.6±10.5 MB/s, size: 92.9 KB)\n"
          ]
        },
        {
          "output_type": "stream",
          "name": "stderr",
          "text": [
            "\u001b[34m\u001b[1mtrain: \u001b[0mScanning /content/accident_dataset/dataset/train/labels... 20546 images, 3596 backgrounds, 1 corrupt: 100%|██████████| 20546/20546 [00:32<00:00, 630.21it/s]\n"
          ]
        },
        {
          "output_type": "stream",
          "name": "stdout",
          "text": [
            "\u001b[34m\u001b[1mtrain: \u001b[0m/content/accident_dataset/dataset/train/images/severityV3_35_jpeg_jpg.rf.52080093414b782053001a6343197009.jpg: ignoring corrupt image/label: could not convert string to float: '\\x046\\x006\\x000\\x002\\x00f\\x00\\x0f\\x00'\n",
            "\u001b[34m\u001b[1mtrain: \u001b[0mNew cache created: /content/accident_dataset/dataset/train/labels.cache\n",
            "WARNING ⚠️ \u001b[34m\u001b[1mtrain: \u001b[0m19.6GB RAM required to cache images with 50% safety margin but only 9.9/12.7GB available, not caching images\n",
            "\u001b[34m\u001b[1malbumentations: \u001b[0mBlur(p=0.01, blur_limit=(3, 7)), MedianBlur(p=0.01, blur_limit=(3, 7)), ToGray(p=0.01, num_output_channels=3, method='weighted_average'), CLAHE(p=0.01, clip_limit=(1.0, 4.0), tile_grid_size=(8, 8))\n",
            "\u001b[34m\u001b[1mval: \u001b[0mFast image access ✅ (ping: 0.0±0.0 ms, read: 15.2±4.2 MB/s, size: 66.6 KB)\n"
          ]
        },
        {
          "output_type": "stream",
          "name": "stderr",
          "text": [
            "\u001b[34m\u001b[1mval: \u001b[0mScanning /content/accident_dataset/dataset/valid/labels... 1514 images, 128 backgrounds, 0 corrupt: 100%|██████████| 1514/1514 [00:03<00:00, 496.03it/s]\n"
          ]
        },
        {
          "output_type": "stream",
          "name": "stdout",
          "text": [
            "\u001b[34m\u001b[1mval: \u001b[0mNew cache created: /content/accident_dataset/dataset/valid/labels.cache\n",
            "WARNING ⚠️ cache='ram' may produce non-deterministic training results. Consider cache='disk' as a deterministic alternative if your disk space allows.\n"
          ]
        },
        {
          "output_type": "stream",
          "name": "stderr",
          "text": [
            "\u001b[34m\u001b[1mval: \u001b[0mCaching images (1.0GB RAM): 100%|██████████| 1514/1514 [00:05<00:00, 254.76it/s]\n"
          ]
        },
        {
          "output_type": "stream",
          "name": "stdout",
          "text": [
            "Plotting labels to /content/drive/MyDrive/Colab Notebooks/training_results/accident_model3/labels.jpg... \n",
            "\u001b[34m\u001b[1moptimizer:\u001b[0m 'optimizer=auto' found, ignoring 'lr0=0.01' and 'momentum=0.937' and determining best 'optimizer', 'lr0' and 'momentum' automatically... \n",
            "\u001b[34m\u001b[1moptimizer:\u001b[0m SGD(lr=0.01, momentum=0.9) with parameter groups 57 weight(decay=0.0), 64 weight(decay=0.0005), 63 bias(decay=0.0)\n",
            "Resuming training /content/drive/MyDrive/Colab Notebooks/training_results/accident_model3/weights/last.pt from epoch 38 to 50 total epochs\n",
            "Image sizes 512 train, 512 val\n",
            "Using 2 dataloader workers\n",
            "Logging results to \u001b[1m/content/drive/MyDrive/Colab Notebooks/training_results/accident_model3\u001b[0m\n",
            "Starting training for 50 epochs...\n",
            "\n",
            "      Epoch    GPU_mem   box_loss   cls_loss   dfl_loss  Instances       Size\n"
          ]
        },
        {
          "output_type": "stream",
          "name": "stderr",
          "text": [
            "      38/50      4.67G     0.7474     0.4553      1.093          2        512: 100%|██████████| 643/643 [04:34<00:00,  2.34it/s]\n",
            "                 Class     Images  Instances      Box(P          R      mAP50  mAP50-95): 100%|██████████| 24/24 [00:10<00:00,  2.23it/s]"
          ]
        },
        {
          "output_type": "stream",
          "name": "stdout",
          "text": [
            "                   all       1514       1484      0.968      0.914      0.955       0.83\n"
          ]
        },
        {
          "output_type": "stream",
          "name": "stderr",
          "text": [
            "\n"
          ]
        },
        {
          "output_type": "stream",
          "name": "stdout",
          "text": [
            "\n",
            "      Epoch    GPU_mem   box_loss   cls_loss   dfl_loss  Instances       Size\n"
          ]
        },
        {
          "output_type": "stream",
          "name": "stderr",
          "text": [
            "      39/50       6.2G     0.7475     0.4591      1.099          2        512: 100%|██████████| 643/643 [04:20<00:00,  2.46it/s]\n",
            "                 Class     Images  Instances      Box(P          R      mAP50  mAP50-95): 100%|██████████| 24/24 [00:09<00:00,  2.50it/s]"
          ]
        },
        {
          "output_type": "stream",
          "name": "stdout",
          "text": [
            "                   all       1514       1484      0.969      0.912      0.955      0.832\n"
          ]
        },
        {
          "output_type": "stream",
          "name": "stderr",
          "text": [
            "\n"
          ]
        },
        {
          "output_type": "stream",
          "name": "stdout",
          "text": [
            "\n",
            "      Epoch    GPU_mem   box_loss   cls_loss   dfl_loss  Instances       Size\n"
          ]
        },
        {
          "output_type": "stream",
          "name": "stderr",
          "text": [
            "      40/50      6.24G     0.7369       0.45      1.088          0        512: 100%|██████████| 643/643 [04:23<00:00,  2.44it/s]\n",
            "                 Class     Images  Instances      Box(P          R      mAP50  mAP50-95): 100%|██████████| 24/24 [00:09<00:00,  2.52it/s]"
          ]
        },
        {
          "output_type": "stream",
          "name": "stdout",
          "text": [
            "                   all       1514       1484      0.967      0.919      0.957      0.832\n"
          ]
        },
        {
          "output_type": "stream",
          "name": "stderr",
          "text": [
            "\n"
          ]
        },
        {
          "output_type": "stream",
          "name": "stdout",
          "text": [
            "Closing dataloader mosaic\n",
            "\u001b[34m\u001b[1malbumentations: \u001b[0mBlur(p=0.01, blur_limit=(3, 7)), MedianBlur(p=0.01, blur_limit=(3, 7)), ToGray(p=0.01, num_output_channels=3, method='weighted_average'), CLAHE(p=0.01, clip_limit=(1.0, 4.0), tile_grid_size=(8, 8))\n",
            "\n",
            "      Epoch    GPU_mem   box_loss   cls_loss   dfl_loss  Instances       Size\n"
          ]
        },
        {
          "output_type": "stream",
          "name": "stderr",
          "text": [
            "      41/50      6.25G     0.6561     0.3164      1.046          1        512: 100%|██████████| 643/643 [04:09<00:00,  2.57it/s]\n",
            "                 Class     Images  Instances      Box(P          R      mAP50  mAP50-95): 100%|██████████| 24/24 [00:09<00:00,  2.44it/s]"
          ]
        },
        {
          "output_type": "stream",
          "name": "stdout",
          "text": [
            "                   all       1514       1484      0.964      0.925      0.959      0.836\n"
          ]
        },
        {
          "output_type": "stream",
          "name": "stderr",
          "text": [
            "\n"
          ]
        },
        {
          "output_type": "stream",
          "name": "stdout",
          "text": [
            "\n",
            "      Epoch    GPU_mem   box_loss   cls_loss   dfl_loss  Instances       Size\n"
          ]
        },
        {
          "output_type": "stream",
          "name": "stderr",
          "text": [
            "      42/50      6.29G     0.6319     0.3016      1.024          1        512: 100%|██████████| 643/643 [04:08<00:00,  2.59it/s]\n",
            "                 Class     Images  Instances      Box(P          R      mAP50  mAP50-95): 100%|██████████| 24/24 [00:08<00:00,  2.68it/s]"
          ]
        },
        {
          "output_type": "stream",
          "name": "stdout",
          "text": [
            "                   all       1514       1484      0.964      0.923      0.959       0.84\n"
          ]
        },
        {
          "output_type": "stream",
          "name": "stderr",
          "text": [
            "\n"
          ]
        },
        {
          "output_type": "stream",
          "name": "stdout",
          "text": [
            "\n",
            "      Epoch    GPU_mem   box_loss   cls_loss   dfl_loss  Instances       Size\n"
          ]
        },
        {
          "output_type": "stream",
          "name": "stderr",
          "text": [
            "      43/50      6.29G     0.6188     0.2925      1.009          1        512: 100%|██████████| 643/643 [04:09<00:00,  2.58it/s]\n",
            "                 Class     Images  Instances      Box(P          R      mAP50  mAP50-95): 100%|██████████| 24/24 [00:09<00:00,  2.46it/s]"
          ]
        },
        {
          "output_type": "stream",
          "name": "stdout",
          "text": [
            "                   all       1514       1484      0.974      0.915       0.96      0.842\n"
          ]
        },
        {
          "output_type": "stream",
          "name": "stderr",
          "text": [
            "\n"
          ]
        },
        {
          "output_type": "stream",
          "name": "stdout",
          "text": [
            "\n",
            "      Epoch    GPU_mem   box_loss   cls_loss   dfl_loss  Instances       Size\n"
          ]
        },
        {
          "output_type": "stream",
          "name": "stderr",
          "text": [
            "      44/50      6.33G     0.6068     0.2849      1.004          1        512: 100%|██████████| 643/643 [04:07<00:00,  2.59it/s]\n",
            "                 Class     Images  Instances      Box(P          R      mAP50  mAP50-95): 100%|██████████| 24/24 [00:09<00:00,  2.43it/s]"
          ]
        },
        {
          "output_type": "stream",
          "name": "stdout",
          "text": [
            "                   all       1514       1484      0.976      0.914      0.961      0.844\n"
          ]
        },
        {
          "output_type": "stream",
          "name": "stderr",
          "text": [
            "\n"
          ]
        },
        {
          "output_type": "stream",
          "name": "stdout",
          "text": [
            "\n",
            "      Epoch    GPU_mem   box_loss   cls_loss   dfl_loss  Instances       Size\n"
          ]
        },
        {
          "output_type": "stream",
          "name": "stderr",
          "text": [
            "      45/50      6.34G     0.5925     0.2788     0.9924          1        512: 100%|██████████| 643/643 [04:12<00:00,  2.54it/s]\n",
            "                 Class     Images  Instances      Box(P          R      mAP50  mAP50-95): 100%|██████████| 24/24 [00:09<00:00,  2.47it/s]"
          ]
        },
        {
          "output_type": "stream",
          "name": "stdout",
          "text": [
            "                   all       1514       1484      0.977      0.913       0.96      0.847\n"
          ]
        },
        {
          "output_type": "stream",
          "name": "stderr",
          "text": [
            "\n"
          ]
        },
        {
          "output_type": "stream",
          "name": "stdout",
          "text": [
            "\n",
            "      Epoch    GPU_mem   box_loss   cls_loss   dfl_loss  Instances       Size\n"
          ]
        },
        {
          "output_type": "stream",
          "name": "stderr",
          "text": [
            "      46/50      6.38G     0.5767     0.2715     0.9867          0        512: 100%|██████████| 643/643 [04:10<00:00,  2.57it/s]\n",
            "                 Class     Images  Instances      Box(P          R      mAP50  mAP50-95): 100%|██████████| 24/24 [00:09<00:00,  2.42it/s]"
          ]
        },
        {
          "output_type": "stream",
          "name": "stdout",
          "text": [
            "                   all       1514       1484      0.979      0.912       0.96      0.848\n"
          ]
        },
        {
          "output_type": "stream",
          "name": "stderr",
          "text": [
            "\n"
          ]
        },
        {
          "output_type": "stream",
          "name": "stdout",
          "text": [
            "\n",
            "      Epoch    GPU_mem   box_loss   cls_loss   dfl_loss  Instances       Size\n"
          ]
        },
        {
          "output_type": "stream",
          "name": "stderr",
          "text": [
            "      47/50      6.39G     0.5694      0.271     0.9863          1        512: 100%|██████████| 643/643 [04:10<00:00,  2.56it/s]\n",
            "                 Class     Images  Instances      Box(P          R      mAP50  mAP50-95): 100%|██████████| 24/24 [00:09<00:00,  2.43it/s]"
          ]
        },
        {
          "output_type": "stream",
          "name": "stdout",
          "text": [
            "                   all       1514       1484      0.961      0.926       0.96      0.851\n"
          ]
        },
        {
          "output_type": "stream",
          "name": "stderr",
          "text": [
            "\n"
          ]
        },
        {
          "output_type": "stream",
          "name": "stdout",
          "text": [
            "\n",
            "      Epoch    GPU_mem   box_loss   cls_loss   dfl_loss  Instances       Size\n"
          ]
        },
        {
          "output_type": "stream",
          "name": "stderr",
          "text": [
            "      48/50      6.43G      0.557     0.2545     0.9753          1        512: 100%|██████████| 643/643 [04:09<00:00,  2.58it/s]\n",
            "                 Class     Images  Instances      Box(P          R      mAP50  mAP50-95): 100%|██████████| 24/24 [00:09<00:00,  2.42it/s]"
          ]
        },
        {
          "output_type": "stream",
          "name": "stdout",
          "text": [
            "                   all       1514       1484      0.962      0.927      0.961      0.853\n"
          ]
        },
        {
          "output_type": "stream",
          "name": "stderr",
          "text": [
            "\n"
          ]
        },
        {
          "output_type": "stream",
          "name": "stdout",
          "text": [
            "\n",
            "      Epoch    GPU_mem   box_loss   cls_loss   dfl_loss  Instances       Size\n"
          ]
        },
        {
          "output_type": "stream",
          "name": "stderr",
          "text": [
            "      49/50      6.44G     0.5477     0.2492     0.9738          1        512: 100%|██████████| 643/643 [04:08<00:00,  2.59it/s]\n",
            "                 Class     Images  Instances      Box(P          R      mAP50  mAP50-95): 100%|██████████| 24/24 [00:09<00:00,  2.65it/s]"
          ]
        },
        {
          "output_type": "stream",
          "name": "stdout",
          "text": [
            "                   all       1514       1484      0.962      0.925      0.961      0.853\n"
          ]
        },
        {
          "output_type": "stream",
          "name": "stderr",
          "text": [
            "\n"
          ]
        },
        {
          "output_type": "stream",
          "name": "stdout",
          "text": [
            "\n",
            "      Epoch    GPU_mem   box_loss   cls_loss   dfl_loss  Instances       Size\n"
          ]
        },
        {
          "output_type": "stream",
          "name": "stderr",
          "text": [
            "      50/50      6.48G     0.5372     0.2441     0.9649          0        512: 100%|██████████| 643/643 [04:07<00:00,  2.60it/s]\n",
            "                 Class     Images  Instances      Box(P          R      mAP50  mAP50-95): 100%|██████████| 24/24 [00:09<00:00,  2.44it/s]"
          ]
        },
        {
          "output_type": "stream",
          "name": "stdout",
          "text": [
            "                   all       1514       1484      0.959      0.927      0.962      0.853\n"
          ]
        },
        {
          "output_type": "stream",
          "name": "stderr",
          "text": [
            "\n"
          ]
        },
        {
          "output_type": "stream",
          "name": "stdout",
          "text": [
            "\n",
            "13 epochs completed in 0.953 hours.\n",
            "Optimizer stripped from /content/drive/MyDrive/Colab Notebooks/training_results/accident_model3/weights/last.pt, 22.5MB\n",
            "Optimizer stripped from /content/drive/MyDrive/Colab Notebooks/training_results/accident_model3/weights/best.pt, 22.5MB\n",
            "\n",
            "Validating /content/drive/MyDrive/Colab Notebooks/training_results/accident_model3/weights/best.pt...\n",
            "Ultralytics 8.3.118 🚀 Python-3.11.12 torch-2.6.0+cu124 CUDA:0 (Tesla T4, 15095MiB)\n",
            "Model summary (fused): 72 layers, 11,125,971 parameters, 0 gradients, 28.4 GFLOPs\n"
          ]
        },
        {
          "output_type": "stream",
          "name": "stderr",
          "text": [
            "                 Class     Images  Instances      Box(P          R      mAP50  mAP50-95): 100%|██████████| 24/24 [00:12<00:00,  1.91it/s]\n"
          ]
        },
        {
          "output_type": "stream",
          "name": "stdout",
          "text": [
            "                   all       1514       1484      0.959      0.928      0.962      0.853\n",
            "Speed: 0.1ms preprocess, 2.7ms inference, 0.0ms loss, 1.8ms postprocess per image\n",
            "Results saved to \u001b[1m/content/drive/MyDrive/Colab Notebooks/training_results/accident_model3\u001b[0m\n"
          ]
        },
        {
          "output_type": "execute_result",
          "data": {
            "text/plain": [
              "ultralytics.utils.metrics.DetMetrics object with attributes:\n",
              "\n",
              "ap_class_index: array([0])\n",
              "box: ultralytics.utils.metrics.Metric object\n",
              "confusion_matrix: <ultralytics.utils.metrics.ConfusionMatrix object at 0x792f4dc6cd50>\n",
              "curves: ['Precision-Recall(B)', 'F1-Confidence(B)', 'Precision-Confidence(B)', 'Recall-Confidence(B)']\n",
              "curves_results: [[array([          0,    0.001001,    0.002002,    0.003003,    0.004004,    0.005005,    0.006006,    0.007007,    0.008008,    0.009009,     0.01001,    0.011011,    0.012012,    0.013013,    0.014014,    0.015015,    0.016016,    0.017017,    0.018018,    0.019019,     0.02002,    0.021021,    0.022022,    0.023023,\n",
              "          0.024024,    0.025025,    0.026026,    0.027027,    0.028028,    0.029029,     0.03003,    0.031031,    0.032032,    0.033033,    0.034034,    0.035035,    0.036036,    0.037037,    0.038038,    0.039039,     0.04004,    0.041041,    0.042042,    0.043043,    0.044044,    0.045045,    0.046046,    0.047047,\n",
              "          0.048048,    0.049049,     0.05005,    0.051051,    0.052052,    0.053053,    0.054054,    0.055055,    0.056056,    0.057057,    0.058058,    0.059059,     0.06006,    0.061061,    0.062062,    0.063063,    0.064064,    0.065065,    0.066066,    0.067067,    0.068068,    0.069069,     0.07007,    0.071071,\n",
              "          0.072072,    0.073073,    0.074074,    0.075075,    0.076076,    0.077077,    0.078078,    0.079079,     0.08008,    0.081081,    0.082082,    0.083083,    0.084084,    0.085085,    0.086086,    0.087087,    0.088088,    0.089089,     0.09009,    0.091091,    0.092092,    0.093093,    0.094094,    0.095095,\n",
              "          0.096096,    0.097097,    0.098098,    0.099099,      0.1001,      0.1011,      0.1021,      0.1031,      0.1041,     0.10511,     0.10611,     0.10711,     0.10811,     0.10911,     0.11011,     0.11111,     0.11211,     0.11311,     0.11411,     0.11512,     0.11612,     0.11712,     0.11812,     0.11912,\n",
              "           0.12012,     0.12112,     0.12212,     0.12312,     0.12412,     0.12513,     0.12613,     0.12713,     0.12813,     0.12913,     0.13013,     0.13113,     0.13213,     0.13313,     0.13413,     0.13514,     0.13614,     0.13714,     0.13814,     0.13914,     0.14014,     0.14114,     0.14214,     0.14314,\n",
              "           0.14414,     0.14515,     0.14615,     0.14715,     0.14815,     0.14915,     0.15015,     0.15115,     0.15215,     0.15315,     0.15415,     0.15516,     0.15616,     0.15716,     0.15816,     0.15916,     0.16016,     0.16116,     0.16216,     0.16316,     0.16416,     0.16517,     0.16617,     0.16717,\n",
              "           0.16817,     0.16917,     0.17017,     0.17117,     0.17217,     0.17317,     0.17417,     0.17518,     0.17618,     0.17718,     0.17818,     0.17918,     0.18018,     0.18118,     0.18218,     0.18318,     0.18418,     0.18519,     0.18619,     0.18719,     0.18819,     0.18919,     0.19019,     0.19119,\n",
              "           0.19219,     0.19319,     0.19419,      0.1952,      0.1962,      0.1972,      0.1982,      0.1992,      0.2002,      0.2012,      0.2022,      0.2032,      0.2042,     0.20521,     0.20621,     0.20721,     0.20821,     0.20921,     0.21021,     0.21121,     0.21221,     0.21321,     0.21421,     0.21522,\n",
              "           0.21622,     0.21722,     0.21822,     0.21922,     0.22022,     0.22122,     0.22222,     0.22322,     0.22422,     0.22523,     0.22623,     0.22723,     0.22823,     0.22923,     0.23023,     0.23123,     0.23223,     0.23323,     0.23423,     0.23524,     0.23624,     0.23724,     0.23824,     0.23924,\n",
              "           0.24024,     0.24124,     0.24224,     0.24324,     0.24424,     0.24525,     0.24625,     0.24725,     0.24825,     0.24925,     0.25025,     0.25125,     0.25225,     0.25325,     0.25425,     0.25526,     0.25626,     0.25726,     0.25826,     0.25926,     0.26026,     0.26126,     0.26226,     0.26326,\n",
              "           0.26426,     0.26527,     0.26627,     0.26727,     0.26827,     0.26927,     0.27027,     0.27127,     0.27227,     0.27327,     0.27427,     0.27528,     0.27628,     0.27728,     0.27828,     0.27928,     0.28028,     0.28128,     0.28228,     0.28328,     0.28428,     0.28529,     0.28629,     0.28729,\n",
              "           0.28829,     0.28929,     0.29029,     0.29129,     0.29229,     0.29329,     0.29429,      0.2953,      0.2963,      0.2973,      0.2983,      0.2993,      0.3003,      0.3013,      0.3023,      0.3033,      0.3043,     0.30531,     0.30631,     0.30731,     0.30831,     0.30931,     0.31031,     0.31131,\n",
              "           0.31231,     0.31331,     0.31431,     0.31532,     0.31632,     0.31732,     0.31832,     0.31932,     0.32032,     0.32132,     0.32232,     0.32332,     0.32432,     0.32533,     0.32633,     0.32733,     0.32833,     0.32933,     0.33033,     0.33133,     0.33233,     0.33333,     0.33433,     0.33534,\n",
              "           0.33634,     0.33734,     0.33834,     0.33934,     0.34034,     0.34134,     0.34234,     0.34334,     0.34434,     0.34535,     0.34635,     0.34735,     0.34835,     0.34935,     0.35035,     0.35135,     0.35235,     0.35335,     0.35435,     0.35536,     0.35636,     0.35736,     0.35836,     0.35936,\n",
              "           0.36036,     0.36136,     0.36236,     0.36336,     0.36436,     0.36537,     0.36637,     0.36737,     0.36837,     0.36937,     0.37037,     0.37137,     0.37237,     0.37337,     0.37437,     0.37538,     0.37638,     0.37738,     0.37838,     0.37938,     0.38038,     0.38138,     0.38238,     0.38338,\n",
              "           0.38438,     0.38539,     0.38639,     0.38739,     0.38839,     0.38939,     0.39039,     0.39139,     0.39239,     0.39339,     0.39439,      0.3954,      0.3964,      0.3974,      0.3984,      0.3994,      0.4004,      0.4014,      0.4024,      0.4034,      0.4044,     0.40541,     0.40641,     0.40741,\n",
              "           0.40841,     0.40941,     0.41041,     0.41141,     0.41241,     0.41341,     0.41441,     0.41542,     0.41642,     0.41742,     0.41842,     0.41942,     0.42042,     0.42142,     0.42242,     0.42342,     0.42442,     0.42543,     0.42643,     0.42743,     0.42843,     0.42943,     0.43043,     0.43143,\n",
              "           0.43243,     0.43343,     0.43443,     0.43544,     0.43644,     0.43744,     0.43844,     0.43944,     0.44044,     0.44144,     0.44244,     0.44344,     0.44444,     0.44545,     0.44645,     0.44745,     0.44845,     0.44945,     0.45045,     0.45145,     0.45245,     0.45345,     0.45445,     0.45546,\n",
              "           0.45646,     0.45746,     0.45846,     0.45946,     0.46046,     0.46146,     0.46246,     0.46346,     0.46446,     0.46547,     0.46647,     0.46747,     0.46847,     0.46947,     0.47047,     0.47147,     0.47247,     0.47347,     0.47447,     0.47548,     0.47648,     0.47748,     0.47848,     0.47948,\n",
              "           0.48048,     0.48148,     0.48248,     0.48348,     0.48448,     0.48549,     0.48649,     0.48749,     0.48849,     0.48949,     0.49049,     0.49149,     0.49249,     0.49349,     0.49449,      0.4955,      0.4965,      0.4975,      0.4985,      0.4995,      0.5005,      0.5015,      0.5025,      0.5035,\n",
              "            0.5045,     0.50551,     0.50651,     0.50751,     0.50851,     0.50951,     0.51051,     0.51151,     0.51251,     0.51351,     0.51451,     0.51552,     0.51652,     0.51752,     0.51852,     0.51952,     0.52052,     0.52152,     0.52252,     0.52352,     0.52452,     0.52553,     0.52653,     0.52753,\n",
              "           0.52853,     0.52953,     0.53053,     0.53153,     0.53253,     0.53353,     0.53453,     0.53554,     0.53654,     0.53754,     0.53854,     0.53954,     0.54054,     0.54154,     0.54254,     0.54354,     0.54454,     0.54555,     0.54655,     0.54755,     0.54855,     0.54955,     0.55055,     0.55155,\n",
              "           0.55255,     0.55355,     0.55455,     0.55556,     0.55656,     0.55756,     0.55856,     0.55956,     0.56056,     0.56156,     0.56256,     0.56356,     0.56456,     0.56557,     0.56657,     0.56757,     0.56857,     0.56957,     0.57057,     0.57157,     0.57257,     0.57357,     0.57457,     0.57558,\n",
              "           0.57658,     0.57758,     0.57858,     0.57958,     0.58058,     0.58158,     0.58258,     0.58358,     0.58458,     0.58559,     0.58659,     0.58759,     0.58859,     0.58959,     0.59059,     0.59159,     0.59259,     0.59359,     0.59459,      0.5956,      0.5966,      0.5976,      0.5986,      0.5996,\n",
              "            0.6006,      0.6016,      0.6026,      0.6036,      0.6046,     0.60561,     0.60661,     0.60761,     0.60861,     0.60961,     0.61061,     0.61161,     0.61261,     0.61361,     0.61461,     0.61562,     0.61662,     0.61762,     0.61862,     0.61962,     0.62062,     0.62162,     0.62262,     0.62362,\n",
              "           0.62462,     0.62563,     0.62663,     0.62763,     0.62863,     0.62963,     0.63063,     0.63163,     0.63263,     0.63363,     0.63463,     0.63564,     0.63664,     0.63764,     0.63864,     0.63964,     0.64064,     0.64164,     0.64264,     0.64364,     0.64464,     0.64565,     0.64665,     0.64765,\n",
              "           0.64865,     0.64965,     0.65065,     0.65165,     0.65265,     0.65365,     0.65465,     0.65566,     0.65666,     0.65766,     0.65866,     0.65966,     0.66066,     0.66166,     0.66266,     0.66366,     0.66466,     0.66567,     0.66667,     0.66767,     0.66867,     0.66967,     0.67067,     0.67167,\n",
              "           0.67267,     0.67367,     0.67467,     0.67568,     0.67668,     0.67768,     0.67868,     0.67968,     0.68068,     0.68168,     0.68268,     0.68368,     0.68468,     0.68569,     0.68669,     0.68769,     0.68869,     0.68969,     0.69069,     0.69169,     0.69269,     0.69369,     0.69469,      0.6957,\n",
              "            0.6967,      0.6977,      0.6987,      0.6997,      0.7007,      0.7017,      0.7027,      0.7037,      0.7047,     0.70571,     0.70671,     0.70771,     0.70871,     0.70971,     0.71071,     0.71171,     0.71271,     0.71371,     0.71471,     0.71572,     0.71672,     0.71772,     0.71872,     0.71972,\n",
              "           0.72072,     0.72172,     0.72272,     0.72372,     0.72472,     0.72573,     0.72673,     0.72773,     0.72873,     0.72973,     0.73073,     0.73173,     0.73273,     0.73373,     0.73473,     0.73574,     0.73674,     0.73774,     0.73874,     0.73974,     0.74074,     0.74174,     0.74274,     0.74374,\n",
              "           0.74474,     0.74575,     0.74675,     0.74775,     0.74875,     0.74975,     0.75075,     0.75175,     0.75275,     0.75375,     0.75475,     0.75576,     0.75676,     0.75776,     0.75876,     0.75976,     0.76076,     0.76176,     0.76276,     0.76376,     0.76476,     0.76577,     0.76677,     0.76777,\n",
              "           0.76877,     0.76977,     0.77077,     0.77177,     0.77277,     0.77377,     0.77477,     0.77578,     0.77678,     0.77778,     0.77878,     0.77978,     0.78078,     0.78178,     0.78278,     0.78378,     0.78478,     0.78579,     0.78679,     0.78779,     0.78879,     0.78979,     0.79079,     0.79179,\n",
              "           0.79279,     0.79379,     0.79479,      0.7958,      0.7968,      0.7978,      0.7988,      0.7998,      0.8008,      0.8018,      0.8028,      0.8038,      0.8048,     0.80581,     0.80681,     0.80781,     0.80881,     0.80981,     0.81081,     0.81181,     0.81281,     0.81381,     0.81481,     0.81582,\n",
              "           0.81682,     0.81782,     0.81882,     0.81982,     0.82082,     0.82182,     0.82282,     0.82382,     0.82482,     0.82583,     0.82683,     0.82783,     0.82883,     0.82983,     0.83083,     0.83183,     0.83283,     0.83383,     0.83483,     0.83584,     0.83684,     0.83784,     0.83884,     0.83984,\n",
              "           0.84084,     0.84184,     0.84284,     0.84384,     0.84484,     0.84585,     0.84685,     0.84785,     0.84885,     0.84985,     0.85085,     0.85185,     0.85285,     0.85385,     0.85485,     0.85586,     0.85686,     0.85786,     0.85886,     0.85986,     0.86086,     0.86186,     0.86286,     0.86386,\n",
              "           0.86486,     0.86587,     0.86687,     0.86787,     0.86887,     0.86987,     0.87087,     0.87187,     0.87287,     0.87387,     0.87487,     0.87588,     0.87688,     0.87788,     0.87888,     0.87988,     0.88088,     0.88188,     0.88288,     0.88388,     0.88488,     0.88589,     0.88689,     0.88789,\n",
              "           0.88889,     0.88989,     0.89089,     0.89189,     0.89289,     0.89389,     0.89489,      0.8959,      0.8969,      0.8979,      0.8989,      0.8999,      0.9009,      0.9019,      0.9029,      0.9039,      0.9049,     0.90591,     0.90691,     0.90791,     0.90891,     0.90991,     0.91091,     0.91191,\n",
              "           0.91291,     0.91391,     0.91491,     0.91592,     0.91692,     0.91792,     0.91892,     0.91992,     0.92092,     0.92192,     0.92292,     0.92392,     0.92492,     0.92593,     0.92693,     0.92793,     0.92893,     0.92993,     0.93093,     0.93193,     0.93293,     0.93393,     0.93493,     0.93594,\n",
              "           0.93694,     0.93794,     0.93894,     0.93994,     0.94094,     0.94194,     0.94294,     0.94394,     0.94494,     0.94595,     0.94695,     0.94795,     0.94895,     0.94995,     0.95095,     0.95195,     0.95295,     0.95395,     0.95495,     0.95596,     0.95696,     0.95796,     0.95896,     0.95996,\n",
              "           0.96096,     0.96196,     0.96296,     0.96396,     0.96496,     0.96597,     0.96697,     0.96797,     0.96897,     0.96997,     0.97097,     0.97197,     0.97297,     0.97397,     0.97497,     0.97598,     0.97698,     0.97798,     0.97898,     0.97998,     0.98098,     0.98198,     0.98298,     0.98398,\n",
              "           0.98498,     0.98599,     0.98699,     0.98799,     0.98899,     0.98999,     0.99099,     0.99199,     0.99299,     0.99399,     0.99499,       0.996,       0.997,       0.998,       0.999,           1]), array([[          1,           1,           1,           1,           1,           1,           1,           1,           1,           1,           1,           1,           1,           1,           1,           1,           1,           1,           1,           1,           1,           1,           1,\n",
              "                  1,           1,           1,           1,           1,           1,           1,           1,           1,           1,           1,           1,           1,           1,           1,           1,           1,           1,           1,           1,           1,           1,           1,\n",
              "                  1,           1,           1,           1,           1,           1,           1,           1,           1,           1,           1,           1,           1,           1,           1,           1,           1,           1,           1,           1,           1,           1,           1,\n",
              "                  1,           1,           1,           1,           1,           1,           1,           1,           1,           1,           1,           1,           1,           1,           1,           1,           1,           1,           1,           1,           1,           1,           1,\n",
              "                  1,           1,           1,           1,           1,           1,           1,           1,           1,           1,           1,           1,           1,           1,           1,           1,           1,           1,           1,           1,           1,           1,           1,\n",
              "                  1,           1,           1,           1,           1,           1,           1,           1,           1,           1,           1,           1,           1,           1,           1,           1,           1,           1,           1,           1,           1,           1,           1,\n",
              "                  1,           1,           1,           1,           1,           1,           1,           1,           1,           1,           1,           1,           1,           1,           1,           1,           1,           1,           1,           1,           1,           1,           1,\n",
              "                  1,           1,           1,           1,           1,           1,           1,           1,           1,           1,           1,           1,           1,           1,           1,           1,           1,           1,           1,           1,           1,           1,           1,\n",
              "                  1,           1,           1,           1,           1,           1,           1,           1,           1,           1,           1,           1,           1,           1,           1,           1,           1,           1,           1,           1,           1,           1,           1,\n",
              "                  1,           1,           1,           1,           1,           1,           1,           1,           1,           1,           1,           1,           1,           1,           1,           1,           1,           1,           1,           1,           1,           1,           1,\n",
              "            0.99812,     0.99812,     0.99812,     0.99812,     0.99812,     0.99812,     0.99812,     0.99812,     0.99812,     0.99812,     0.99812,     0.99812,     0.99812,     0.99812,     0.99812,     0.99812,     0.99812,     0.99812,     0.99812,     0.99812,     0.99812,     0.99812,     0.99812,\n",
              "            0.99812,     0.99812,     0.99812,     0.99812,     0.99812,     0.99812,     0.99812,     0.99812,     0.99812,     0.99812,     0.99812,     0.99812,     0.99812,     0.99812,     0.99812,     0.99812,     0.99812,     0.99812,     0.99812,     0.99812,     0.99812,     0.99812,     0.99812,\n",
              "            0.99812,     0.99812,     0.99812,     0.99812,     0.99812,     0.99812,     0.99812,     0.99812,     0.99812,     0.99812,     0.99812,     0.99812,     0.99812,     0.99812,     0.99812,     0.99812,     0.99812,     0.99812,     0.99812,     0.99812,     0.99812,     0.99812,     0.99812,\n",
              "            0.99812,     0.99812,     0.99812,     0.99812,     0.99812,     0.99812,     0.99812,     0.99812,     0.99812,     0.99812,     0.99812,     0.99812,     0.99812,     0.99812,     0.99812,     0.99812,     0.99812,     0.99812,     0.99812,     0.99812,     0.99812,     0.99812,     0.99812,\n",
              "            0.99812,     0.99812,     0.99812,     0.99812,     0.99812,     0.99812,     0.99812,     0.99812,     0.99812,     0.99812,     0.99812,     0.99812,     0.99812,     0.99812,     0.99812,     0.99812,     0.99812,     0.99812,     0.99812,     0.99812,     0.99812,     0.99812,     0.99812,\n",
              "            0.99812,     0.99812,     0.99812,     0.99812,     0.99812,     0.99812,     0.99812,     0.99812,     0.99812,     0.99812,     0.99812,     0.99812,     0.99812,     0.99627,     0.99627,     0.99587,     0.99587,     0.99587,     0.99587,     0.99587,     0.99587,     0.99587,     0.99587,\n",
              "            0.99587,     0.99587,     0.99587,     0.99587,     0.99587,     0.99587,     0.99587,     0.99587,     0.99587,     0.99587,     0.99587,     0.99587,     0.99587,     0.99587,     0.99587,     0.99587,     0.99587,     0.99587,     0.99587,     0.99587,     0.99587,     0.99587,     0.99587,\n",
              "            0.99587,     0.99587,     0.99587,     0.99587,     0.99587,     0.99587,     0.99587,     0.99587,     0.99587,     0.99587,     0.99587,     0.99587,     0.99587,     0.99587,     0.99587,     0.99587,     0.99587,     0.99587,     0.99587,     0.99587,     0.99587,     0.99587,     0.99587,\n",
              "            0.99587,     0.99587,     0.99587,     0.99587,     0.99587,     0.99587,     0.99587,     0.99587,     0.99587,     0.99587,     0.99587,     0.99587,     0.99587,     0.99587,     0.99587,     0.99587,     0.99587,     0.99587,     0.99587,     0.99587,     0.99587,     0.99587,     0.99587,\n",
              "            0.99587,     0.99587,     0.99587,     0.99587,     0.99587,     0.99587,     0.99587,     0.99587,     0.99587,     0.99587,     0.99587,     0.99587,     0.99587,     0.99587,     0.99587,     0.99587,     0.99587,     0.99587,     0.99587,     0.99587,     0.99587,     0.99587,     0.99587,\n",
              "            0.99587,     0.99587,     0.99587,     0.99587,     0.99587,     0.99587,     0.99587,     0.99587,     0.99587,     0.99587,     0.99587,     0.99587,     0.99587,     0.99587,     0.99587,     0.99587,     0.99587,     0.99587,     0.99587,     0.99587,     0.99587,     0.99587,     0.99587,\n",
              "            0.99587,     0.99587,     0.99587,     0.99587,     0.99545,     0.99545,     0.99545,     0.99545,     0.99545,     0.99545,     0.99545,     0.99545,     0.99545,     0.99545,     0.99545,     0.99545,     0.99545,     0.99545,     0.99545,     0.99545,     0.99545,     0.99545,     0.99545,\n",
              "            0.99545,     0.99545,     0.99545,     0.99545,     0.99545,     0.99545,     0.99545,     0.99545,     0.99545,     0.99545,     0.99545,     0.99545,     0.99545,     0.99545,     0.99545,     0.99545,     0.99545,     0.99545,     0.99545,     0.99545,     0.99545,     0.99545,     0.99545,\n",
              "            0.99545,     0.99545,     0.99545,     0.99545,     0.99545,     0.99545,     0.99545,     0.99545,     0.99545,     0.99545,     0.99545,     0.99545,     0.99545,     0.99545,     0.99545,     0.99545,     0.99545,     0.99545,     0.99545,     0.99545,     0.99545,     0.99545,     0.99545,\n",
              "            0.99545,     0.99545,     0.99545,     0.99545,     0.99545,     0.99545,     0.99545,     0.99545,     0.99545,     0.99545,     0.99545,     0.99545,     0.99545,     0.99545,     0.99545,     0.99545,     0.99545,     0.99545,     0.99545,     0.99545,     0.99545,     0.99545,     0.99545,\n",
              "            0.99545,     0.99545,     0.99545,     0.99545,     0.99545,     0.99545,     0.99545,     0.99545,     0.99545,     0.99545,     0.99545,     0.99545,     0.99545,     0.99545,     0.99545,     0.99534,     0.99534,     0.99534,     0.99534,     0.99534,     0.99534,     0.99534,     0.99534,\n",
              "            0.99534,     0.99534,     0.99534,     0.99534,     0.99534,     0.99534,     0.99534,     0.99534,     0.99534,     0.99534,     0.99534,     0.99534,     0.99534,     0.99534,     0.99534,     0.99534,     0.99534,     0.99534,     0.99534,     0.99534,     0.99534,     0.99534,     0.99534,\n",
              "            0.99534,     0.99534,     0.99534,     0.99534,     0.99534,     0.99534,     0.99534,     0.99534,     0.99534,     0.99534,     0.99534,     0.99534,     0.99534,     0.99534,     0.99534,     0.99534,     0.99534,     0.99534,     0.99534,     0.99534,     0.99534,     0.99534,     0.99534,\n",
              "            0.99534,     0.99534,     0.99534,     0.99534,     0.99534,     0.99534,     0.99534,     0.99534,     0.99534,     0.99534,     0.99534,     0.99534,     0.99534,     0.99534,     0.99534,     0.99534,     0.99534,     0.99534,     0.99534,     0.99534,     0.99534,     0.99534,     0.99534,\n",
              "            0.99534,     0.99534,     0.99534,     0.99534,     0.99534,     0.99534,     0.99534,     0.99534,     0.99534,     0.99534,     0.99534,     0.99534,     0.99534,     0.99534,     0.99534,     0.99534,     0.99534,     0.99534,     0.99534,     0.99534,     0.99534,     0.99534,     0.99534,\n",
              "            0.99534,     0.99534,     0.99534,     0.99534,     0.99534,     0.99534,     0.99534,     0.99534,     0.99534,     0.99534,     0.99534,     0.99534,     0.99534,     0.99534,     0.99534,     0.99534,     0.99534,     0.99534,     0.99534,     0.99534,     0.99534,     0.99534,     0.99534,\n",
              "            0.99534,     0.99534,     0.99534,     0.99534,     0.99534,     0.99534,      0.9946,      0.9946,      0.9946,      0.9946,      0.9946,      0.9946,      0.9946,      0.9946,      0.9946,      0.9946,      0.9946,      0.9946,      0.9946,      0.9946,      0.9946,      0.9946,      0.9946,\n",
              "             0.9946,      0.9946,      0.9946,      0.9946,      0.9946,      0.9946,      0.9946,      0.9946,      0.9939,      0.9939,      0.9939,      0.9939,      0.9939,      0.9939,      0.9939,      0.9939,      0.9939,      0.9939,      0.9939,      0.9939,      0.9939,      0.9939,      0.9939,\n",
              "             0.9939,      0.9939,      0.9939,      0.9939,      0.9939,      0.9939,      0.9939,      0.9939,      0.9939,     0.99321,     0.99321,     0.99321,     0.99321,     0.99321,     0.99321,     0.99321,     0.99321,     0.99321,     0.99321,     0.99321,     0.99321,     0.99321,     0.99321,\n",
              "            0.99321,     0.99321,     0.99321,     0.99321,     0.99321,     0.99321,     0.99321,     0.99257,     0.99257,     0.99257,     0.99257,     0.99257,     0.99257,     0.99257,     0.99257,     0.99257,     0.99257,     0.99257,     0.99257,     0.99257,     0.99257,     0.99257,     0.99257,\n",
              "            0.99257,     0.99257,     0.99257,     0.99257,     0.99257,     0.99212,     0.99212,     0.99212,     0.99212,     0.99212,     0.99212,     0.99212,     0.99212,     0.99212,     0.99212,     0.99212,     0.99212,     0.99212,     0.99212,     0.99212,     0.99212,     0.99212,     0.99212,\n",
              "            0.99212,     0.99212,     0.99212,     0.99212,     0.99212,     0.99212,     0.99212,     0.99212,     0.99212,     0.99212,     0.99212,     0.99212,     0.99212,     0.99212,     0.99212,     0.99212,     0.99212,     0.99212,     0.99212,     0.99212,     0.99135,      0.9906,      0.9906,\n",
              "             0.9906,     0.98988,     0.98988,     0.98988,     0.98988,     0.98988,     0.98913,     0.98794,     0.98794,     0.98794,     0.98794,     0.98794,     0.98794,     0.98794,     0.98794,     0.98794,     0.98794,     0.98794,     0.98794,     0.98794,     0.98794,     0.98794,     0.98794,\n",
              "            0.98794,     0.98794,     0.98794,     0.98794,     0.98794,     0.98794,     0.98794,     0.98794,     0.98794,     0.98722,     0.98649,      0.9858,      0.9858,      0.9858,     0.98509,     0.98509,     0.98373,     0.98373,     0.98373,     0.98373,     0.98373,     0.98373,     0.98313,\n",
              "            0.98313,     0.98313,     0.98313,     0.98313,     0.98313,     0.98313,     0.98249,     0.98249,     0.98249,     0.98249,     0.98038,     0.98038,      0.9797,     0.97832,     0.97832,     0.97693,     0.97067,     0.97002,     0.96937,     0.96937,     0.96875,     0.96875,     0.96742,\n",
              "            0.96608,     0.96479,     0.96479,     0.96416,     0.96221,     0.96221,     0.96157,     0.95839,     0.95839,     0.95839,     0.95839,      0.9558,     0.95258,     0.95258,     0.95134,     0.95007,     0.94755,     0.93991,     0.92814,     0.92814,     0.91787,     0.91612,      0.9085,\n",
              "            0.85531,     0.83962,     0.81486,     0.78372,     0.78037,      0.7691,     0.76839,      0.6908,     0.69028,     0.67477,     0.65738,      0.6466,     0.62704,      0.6122,     0.59796,     0.58373,     0.56949,     0.55525,     0.54102,     0.52678,     0.51254,      0.4983,     0.48407,\n",
              "            0.46983,     0.45559,     0.44135,     0.42712,     0.41288,     0.39864,     0.38441,     0.37017,     0.35593,     0.34169,     0.32746,     0.31322,     0.29898,     0.28474,     0.27051,     0.25627,     0.24203,      0.2278,     0.21356,     0.19932,     0.18508,     0.17085,     0.15661,\n",
              "            0.14237,     0.12814,      0.1139,    0.099661,    0.085423,    0.071186,    0.056949,    0.042712,    0.028474,    0.014237,           0]]), 'Recall', 'Precision'], [array([          0,    0.001001,    0.002002,    0.003003,    0.004004,    0.005005,    0.006006,    0.007007,    0.008008,    0.009009,     0.01001,    0.011011,    0.012012,    0.013013,    0.014014,    0.015015,    0.016016,    0.017017,    0.018018,    0.019019,     0.02002,    0.021021,    0.022022,    0.023023,\n",
              "          0.024024,    0.025025,    0.026026,    0.027027,    0.028028,    0.029029,     0.03003,    0.031031,    0.032032,    0.033033,    0.034034,    0.035035,    0.036036,    0.037037,    0.038038,    0.039039,     0.04004,    0.041041,    0.042042,    0.043043,    0.044044,    0.045045,    0.046046,    0.047047,\n",
              "          0.048048,    0.049049,     0.05005,    0.051051,    0.052052,    0.053053,    0.054054,    0.055055,    0.056056,    0.057057,    0.058058,    0.059059,     0.06006,    0.061061,    0.062062,    0.063063,    0.064064,    0.065065,    0.066066,    0.067067,    0.068068,    0.069069,     0.07007,    0.071071,\n",
              "          0.072072,    0.073073,    0.074074,    0.075075,    0.076076,    0.077077,    0.078078,    0.079079,     0.08008,    0.081081,    0.082082,    0.083083,    0.084084,    0.085085,    0.086086,    0.087087,    0.088088,    0.089089,     0.09009,    0.091091,    0.092092,    0.093093,    0.094094,    0.095095,\n",
              "          0.096096,    0.097097,    0.098098,    0.099099,      0.1001,      0.1011,      0.1021,      0.1031,      0.1041,     0.10511,     0.10611,     0.10711,     0.10811,     0.10911,     0.11011,     0.11111,     0.11211,     0.11311,     0.11411,     0.11512,     0.11612,     0.11712,     0.11812,     0.11912,\n",
              "           0.12012,     0.12112,     0.12212,     0.12312,     0.12412,     0.12513,     0.12613,     0.12713,     0.12813,     0.12913,     0.13013,     0.13113,     0.13213,     0.13313,     0.13413,     0.13514,     0.13614,     0.13714,     0.13814,     0.13914,     0.14014,     0.14114,     0.14214,     0.14314,\n",
              "           0.14414,     0.14515,     0.14615,     0.14715,     0.14815,     0.14915,     0.15015,     0.15115,     0.15215,     0.15315,     0.15415,     0.15516,     0.15616,     0.15716,     0.15816,     0.15916,     0.16016,     0.16116,     0.16216,     0.16316,     0.16416,     0.16517,     0.16617,     0.16717,\n",
              "           0.16817,     0.16917,     0.17017,     0.17117,     0.17217,     0.17317,     0.17417,     0.17518,     0.17618,     0.17718,     0.17818,     0.17918,     0.18018,     0.18118,     0.18218,     0.18318,     0.18418,     0.18519,     0.18619,     0.18719,     0.18819,     0.18919,     0.19019,     0.19119,\n",
              "           0.19219,     0.19319,     0.19419,      0.1952,      0.1962,      0.1972,      0.1982,      0.1992,      0.2002,      0.2012,      0.2022,      0.2032,      0.2042,     0.20521,     0.20621,     0.20721,     0.20821,     0.20921,     0.21021,     0.21121,     0.21221,     0.21321,     0.21421,     0.21522,\n",
              "           0.21622,     0.21722,     0.21822,     0.21922,     0.22022,     0.22122,     0.22222,     0.22322,     0.22422,     0.22523,     0.22623,     0.22723,     0.22823,     0.22923,     0.23023,     0.23123,     0.23223,     0.23323,     0.23423,     0.23524,     0.23624,     0.23724,     0.23824,     0.23924,\n",
              "           0.24024,     0.24124,     0.24224,     0.24324,     0.24424,     0.24525,     0.24625,     0.24725,     0.24825,     0.24925,     0.25025,     0.25125,     0.25225,     0.25325,     0.25425,     0.25526,     0.25626,     0.25726,     0.25826,     0.25926,     0.26026,     0.26126,     0.26226,     0.26326,\n",
              "           0.26426,     0.26527,     0.26627,     0.26727,     0.26827,     0.26927,     0.27027,     0.27127,     0.27227,     0.27327,     0.27427,     0.27528,     0.27628,     0.27728,     0.27828,     0.27928,     0.28028,     0.28128,     0.28228,     0.28328,     0.28428,     0.28529,     0.28629,     0.28729,\n",
              "           0.28829,     0.28929,     0.29029,     0.29129,     0.29229,     0.29329,     0.29429,      0.2953,      0.2963,      0.2973,      0.2983,      0.2993,      0.3003,      0.3013,      0.3023,      0.3033,      0.3043,     0.30531,     0.30631,     0.30731,     0.30831,     0.30931,     0.31031,     0.31131,\n",
              "           0.31231,     0.31331,     0.31431,     0.31532,     0.31632,     0.31732,     0.31832,     0.31932,     0.32032,     0.32132,     0.32232,     0.32332,     0.32432,     0.32533,     0.32633,     0.32733,     0.32833,     0.32933,     0.33033,     0.33133,     0.33233,     0.33333,     0.33433,     0.33534,\n",
              "           0.33634,     0.33734,     0.33834,     0.33934,     0.34034,     0.34134,     0.34234,     0.34334,     0.34434,     0.34535,     0.34635,     0.34735,     0.34835,     0.34935,     0.35035,     0.35135,     0.35235,     0.35335,     0.35435,     0.35536,     0.35636,     0.35736,     0.35836,     0.35936,\n",
              "           0.36036,     0.36136,     0.36236,     0.36336,     0.36436,     0.36537,     0.36637,     0.36737,     0.36837,     0.36937,     0.37037,     0.37137,     0.37237,     0.37337,     0.37437,     0.37538,     0.37638,     0.37738,     0.37838,     0.37938,     0.38038,     0.38138,     0.38238,     0.38338,\n",
              "           0.38438,     0.38539,     0.38639,     0.38739,     0.38839,     0.38939,     0.39039,     0.39139,     0.39239,     0.39339,     0.39439,      0.3954,      0.3964,      0.3974,      0.3984,      0.3994,      0.4004,      0.4014,      0.4024,      0.4034,      0.4044,     0.40541,     0.40641,     0.40741,\n",
              "           0.40841,     0.40941,     0.41041,     0.41141,     0.41241,     0.41341,     0.41441,     0.41542,     0.41642,     0.41742,     0.41842,     0.41942,     0.42042,     0.42142,     0.42242,     0.42342,     0.42442,     0.42543,     0.42643,     0.42743,     0.42843,     0.42943,     0.43043,     0.43143,\n",
              "           0.43243,     0.43343,     0.43443,     0.43544,     0.43644,     0.43744,     0.43844,     0.43944,     0.44044,     0.44144,     0.44244,     0.44344,     0.44444,     0.44545,     0.44645,     0.44745,     0.44845,     0.44945,     0.45045,     0.45145,     0.45245,     0.45345,     0.45445,     0.45546,\n",
              "           0.45646,     0.45746,     0.45846,     0.45946,     0.46046,     0.46146,     0.46246,     0.46346,     0.46446,     0.46547,     0.46647,     0.46747,     0.46847,     0.46947,     0.47047,     0.47147,     0.47247,     0.47347,     0.47447,     0.47548,     0.47648,     0.47748,     0.47848,     0.47948,\n",
              "           0.48048,     0.48148,     0.48248,     0.48348,     0.48448,     0.48549,     0.48649,     0.48749,     0.48849,     0.48949,     0.49049,     0.49149,     0.49249,     0.49349,     0.49449,      0.4955,      0.4965,      0.4975,      0.4985,      0.4995,      0.5005,      0.5015,      0.5025,      0.5035,\n",
              "            0.5045,     0.50551,     0.50651,     0.50751,     0.50851,     0.50951,     0.51051,     0.51151,     0.51251,     0.51351,     0.51451,     0.51552,     0.51652,     0.51752,     0.51852,     0.51952,     0.52052,     0.52152,     0.52252,     0.52352,     0.52452,     0.52553,     0.52653,     0.52753,\n",
              "           0.52853,     0.52953,     0.53053,     0.53153,     0.53253,     0.53353,     0.53453,     0.53554,     0.53654,     0.53754,     0.53854,     0.53954,     0.54054,     0.54154,     0.54254,     0.54354,     0.54454,     0.54555,     0.54655,     0.54755,     0.54855,     0.54955,     0.55055,     0.55155,\n",
              "           0.55255,     0.55355,     0.55455,     0.55556,     0.55656,     0.55756,     0.55856,     0.55956,     0.56056,     0.56156,     0.56256,     0.56356,     0.56456,     0.56557,     0.56657,     0.56757,     0.56857,     0.56957,     0.57057,     0.57157,     0.57257,     0.57357,     0.57457,     0.57558,\n",
              "           0.57658,     0.57758,     0.57858,     0.57958,     0.58058,     0.58158,     0.58258,     0.58358,     0.58458,     0.58559,     0.58659,     0.58759,     0.58859,     0.58959,     0.59059,     0.59159,     0.59259,     0.59359,     0.59459,      0.5956,      0.5966,      0.5976,      0.5986,      0.5996,\n",
              "            0.6006,      0.6016,      0.6026,      0.6036,      0.6046,     0.60561,     0.60661,     0.60761,     0.60861,     0.60961,     0.61061,     0.61161,     0.61261,     0.61361,     0.61461,     0.61562,     0.61662,     0.61762,     0.61862,     0.61962,     0.62062,     0.62162,     0.62262,     0.62362,\n",
              "           0.62462,     0.62563,     0.62663,     0.62763,     0.62863,     0.62963,     0.63063,     0.63163,     0.63263,     0.63363,     0.63463,     0.63564,     0.63664,     0.63764,     0.63864,     0.63964,     0.64064,     0.64164,     0.64264,     0.64364,     0.64464,     0.64565,     0.64665,     0.64765,\n",
              "           0.64865,     0.64965,     0.65065,     0.65165,     0.65265,     0.65365,     0.65465,     0.65566,     0.65666,     0.65766,     0.65866,     0.65966,     0.66066,     0.66166,     0.66266,     0.66366,     0.66466,     0.66567,     0.66667,     0.66767,     0.66867,     0.66967,     0.67067,     0.67167,\n",
              "           0.67267,     0.67367,     0.67467,     0.67568,     0.67668,     0.67768,     0.67868,     0.67968,     0.68068,     0.68168,     0.68268,     0.68368,     0.68468,     0.68569,     0.68669,     0.68769,     0.68869,     0.68969,     0.69069,     0.69169,     0.69269,     0.69369,     0.69469,      0.6957,\n",
              "            0.6967,      0.6977,      0.6987,      0.6997,      0.7007,      0.7017,      0.7027,      0.7037,      0.7047,     0.70571,     0.70671,     0.70771,     0.70871,     0.70971,     0.71071,     0.71171,     0.71271,     0.71371,     0.71471,     0.71572,     0.71672,     0.71772,     0.71872,     0.71972,\n",
              "           0.72072,     0.72172,     0.72272,     0.72372,     0.72472,     0.72573,     0.72673,     0.72773,     0.72873,     0.72973,     0.73073,     0.73173,     0.73273,     0.73373,     0.73473,     0.73574,     0.73674,     0.73774,     0.73874,     0.73974,     0.74074,     0.74174,     0.74274,     0.74374,\n",
              "           0.74474,     0.74575,     0.74675,     0.74775,     0.74875,     0.74975,     0.75075,     0.75175,     0.75275,     0.75375,     0.75475,     0.75576,     0.75676,     0.75776,     0.75876,     0.75976,     0.76076,     0.76176,     0.76276,     0.76376,     0.76476,     0.76577,     0.76677,     0.76777,\n",
              "           0.76877,     0.76977,     0.77077,     0.77177,     0.77277,     0.77377,     0.77477,     0.77578,     0.77678,     0.77778,     0.77878,     0.77978,     0.78078,     0.78178,     0.78278,     0.78378,     0.78478,     0.78579,     0.78679,     0.78779,     0.78879,     0.78979,     0.79079,     0.79179,\n",
              "           0.79279,     0.79379,     0.79479,      0.7958,      0.7968,      0.7978,      0.7988,      0.7998,      0.8008,      0.8018,      0.8028,      0.8038,      0.8048,     0.80581,     0.80681,     0.80781,     0.80881,     0.80981,     0.81081,     0.81181,     0.81281,     0.81381,     0.81481,     0.81582,\n",
              "           0.81682,     0.81782,     0.81882,     0.81982,     0.82082,     0.82182,     0.82282,     0.82382,     0.82482,     0.82583,     0.82683,     0.82783,     0.82883,     0.82983,     0.83083,     0.83183,     0.83283,     0.83383,     0.83483,     0.83584,     0.83684,     0.83784,     0.83884,     0.83984,\n",
              "           0.84084,     0.84184,     0.84284,     0.84384,     0.84484,     0.84585,     0.84685,     0.84785,     0.84885,     0.84985,     0.85085,     0.85185,     0.85285,     0.85385,     0.85485,     0.85586,     0.85686,     0.85786,     0.85886,     0.85986,     0.86086,     0.86186,     0.86286,     0.86386,\n",
              "           0.86486,     0.86587,     0.86687,     0.86787,     0.86887,     0.86987,     0.87087,     0.87187,     0.87287,     0.87387,     0.87487,     0.87588,     0.87688,     0.87788,     0.87888,     0.87988,     0.88088,     0.88188,     0.88288,     0.88388,     0.88488,     0.88589,     0.88689,     0.88789,\n",
              "           0.88889,     0.88989,     0.89089,     0.89189,     0.89289,     0.89389,     0.89489,      0.8959,      0.8969,      0.8979,      0.8989,      0.8999,      0.9009,      0.9019,      0.9029,      0.9039,      0.9049,     0.90591,     0.90691,     0.90791,     0.90891,     0.90991,     0.91091,     0.91191,\n",
              "           0.91291,     0.91391,     0.91491,     0.91592,     0.91692,     0.91792,     0.91892,     0.91992,     0.92092,     0.92192,     0.92292,     0.92392,     0.92492,     0.92593,     0.92693,     0.92793,     0.92893,     0.92993,     0.93093,     0.93193,     0.93293,     0.93393,     0.93493,     0.93594,\n",
              "           0.93694,     0.93794,     0.93894,     0.93994,     0.94094,     0.94194,     0.94294,     0.94394,     0.94494,     0.94595,     0.94695,     0.94795,     0.94895,     0.94995,     0.95095,     0.95195,     0.95295,     0.95395,     0.95495,     0.95596,     0.95696,     0.95796,     0.95896,     0.95996,\n",
              "           0.96096,     0.96196,     0.96296,     0.96396,     0.96496,     0.96597,     0.96697,     0.96797,     0.96897,     0.96997,     0.97097,     0.97197,     0.97297,     0.97397,     0.97497,     0.97598,     0.97698,     0.97798,     0.97898,     0.97998,     0.98098,     0.98198,     0.98298,     0.98398,\n",
              "           0.98498,     0.98599,     0.98699,     0.98799,     0.98899,     0.98999,     0.99099,     0.99199,     0.99299,     0.99399,     0.99499,       0.996,       0.997,       0.998,       0.999,           1]), array([[    0.74757,     0.74757,     0.80009,     0.82657,     0.84375,     0.85123,     0.85715,     0.86647,     0.87099,     0.87507,     0.87844,     0.88272,     0.88602,      0.8886,     0.88928,      0.8913,     0.89318,     0.89459,     0.89582,     0.89706,     0.89892,     0.90036,     0.90202,\n",
              "            0.90233,     0.90355,     0.90573,     0.90629,     0.90725,     0.90846,     0.90938,     0.91077,     0.91113,     0.91217,     0.91269,     0.91355,     0.91446,     0.91497,     0.91519,     0.91538,     0.91597,     0.91613,     0.91651,     0.91795,     0.91849,     0.91869,      0.9189,\n",
              "            0.91958,     0.91982,     0.92034,     0.92068,     0.92118,     0.92174,     0.92199,      0.9221,     0.92221,     0.92242,     0.92284,     0.92338,      0.9239,      0.9241,     0.92426,     0.92444,     0.92534,     0.92553,     0.92544,     0.92569,     0.92562,     0.92579,     0.92631,\n",
              "            0.92675,     0.92686,     0.92697,     0.92719,     0.92792,     0.92833,     0.92867,     0.92884,      0.9292,     0.92936,     0.92911,     0.92903,     0.92895,     0.92886,     0.92878,     0.92897,     0.92917,     0.92934,     0.93012,     0.93057,     0.93098,     0.93106,     0.93114,\n",
              "            0.93122,     0.93129,     0.93135,     0.93141,     0.93147,     0.93153,     0.93161,     0.93169,     0.93177,     0.93185,     0.93248,     0.93273,      0.9331,     0.93395,     0.93397,     0.93389,     0.93381,     0.93372,     0.93333,       0.934,     0.93416,     0.93444,     0.93496,\n",
              "             0.9353,     0.93552,     0.93559,     0.93566,     0.93573,      0.9358,      0.9362,     0.93631,     0.93641,     0.93657,     0.93679,     0.93714,     0.93721,     0.93728,     0.93734,     0.93741,      0.9375,      0.9376,      0.9377,     0.93762,     0.93747,     0.93743,     0.93757,\n",
              "            0.93795,      0.9384,     0.93856,     0.93867,     0.93873,      0.9388,     0.93886,     0.93892,     0.93889,     0.93875,     0.93862,     0.93864,      0.9387,     0.93876,     0.93882,     0.93888,     0.93895,     0.93905,     0.93916,      0.9393,     0.93954,      0.9402,      0.9403,\n",
              "            0.94039,     0.94048,     0.94052,     0.94055,     0.94057,      0.9406,     0.94063,     0.94065,     0.94068,     0.94071,     0.94073,     0.94076,     0.94079,     0.94081,     0.94086,     0.94093,     0.94099,     0.94105,     0.94111,     0.94124,      0.9414,     0.94149,     0.94155,\n",
              "            0.94161,     0.94166,     0.94172,     0.94178,     0.94187,     0.94196,     0.94205,     0.94236,     0.94205,     0.94226,     0.94237,     0.94242,     0.94247,     0.94252,     0.94257,     0.94262,     0.94266,     0.94271,     0.94275,     0.94279,     0.94283,     0.94288,     0.94292,\n",
              "            0.94296,     0.94262,     0.94273,     0.94284,     0.94295,     0.94306,     0.94317,     0.94323,     0.94312,     0.94301,      0.9429,     0.94321,     0.94317,     0.94313,     0.94309,     0.94306,     0.94302,     0.94298,     0.94294,      0.9429,     0.94286,     0.94289,     0.94293,\n",
              "            0.94297,     0.94302,     0.94306,      0.9431,     0.94314,     0.94317,     0.94314,     0.94311,     0.94308,     0.94305,     0.94302,     0.94299,     0.94295,     0.94292,     0.94289,     0.94286,     0.94283,     0.94273,      0.9426,     0.94248,     0.94263,     0.94279,     0.94283,\n",
              "            0.94286,      0.9429,     0.94294,     0.94297,     0.94301,     0.94305,     0.94308,     0.94314,     0.94322,     0.94331,     0.94339,     0.94349,      0.9436,     0.94371,     0.94406,     0.94403,       0.944,     0.94397,     0.94394,     0.94391,     0.94388,     0.94385,     0.94382,\n",
              "            0.94379,     0.94376,     0.94373,     0.94336,     0.94341,     0.94346,     0.94351,     0.94356,     0.94361,     0.94366,     0.94408,     0.94418,     0.94428,     0.94428,     0.94386,     0.94374,     0.94363,     0.94352,     0.94342,     0.94332,     0.94322,     0.94311,     0.94298,\n",
              "            0.94286,     0.94288,     0.94296,     0.94303,      0.9431,     0.94313,     0.94307,     0.94301,     0.94294,     0.94288,     0.94282,     0.94285,     0.94299,     0.94315,     0.94347,     0.94353,     0.94358,     0.94364,      0.9437,     0.94376,      0.9438,     0.94385,      0.9439,\n",
              "            0.94395,     0.94399,     0.94404,     0.94408,     0.94403,     0.94398,     0.94393,     0.94388,     0.94384,     0.94379,     0.94374,     0.94404,     0.94399,     0.94395,      0.9439,     0.94385,     0.94381,     0.94376,     0.94371,     0.94363,     0.94344,     0.94331,     0.94329,\n",
              "            0.94327,     0.94325,     0.94323,     0.94321,     0.94319,     0.94316,     0.94314,     0.94312,      0.9431,     0.94308,     0.94306,     0.94304,     0.94302,       0.943,     0.94298,     0.94296,     0.94297,     0.94299,       0.943,     0.94302,     0.94303,     0.94305,     0.94307,\n",
              "            0.94308,      0.9431,     0.94311,     0.94313,     0.94315,     0.94316,     0.94318,     0.94319,     0.94321,     0.94322,     0.94324,     0.94326,     0.94327,     0.94329,      0.9433,     0.94332,     0.94333,     0.94334,     0.94336,     0.94337,     0.94339,      0.9434,     0.94342,\n",
              "            0.94343,     0.94344,     0.94346,     0.94347,     0.94349,      0.9435,     0.94352,     0.94353,     0.94354,     0.94356,     0.94357,     0.94359,      0.9436,     0.94363,     0.94366,     0.94369,     0.94372,     0.94375,     0.94378,     0.94381,     0.94384,     0.94387,      0.9439,\n",
              "            0.94392,     0.94385,     0.94379,     0.94372,     0.94365,     0.94358,     0.94328,     0.94339,     0.94351,     0.94348,     0.94342,     0.94336,      0.9433,     0.94324,     0.94318,     0.94281,     0.94285,     0.94289,     0.94294,     0.94298,     0.94302,     0.94307,     0.94311,\n",
              "             0.9431,     0.94307,     0.94303,       0.943,     0.94296,     0.94293,      0.9429,     0.94286,     0.94283,     0.94279,     0.94276,     0.94286,     0.94297,     0.94308,     0.94305,     0.94301,     0.94297,     0.94294,      0.9429,     0.94286,     0.94283,     0.94279,     0.94276,\n",
              "            0.94272,     0.94275,     0.94279,     0.94282,     0.94286,      0.9429,     0.94293,     0.94297,       0.943,     0.94304,     0.94323,     0.94304,     0.94298,     0.94296,     0.94293,      0.9429,     0.94288,     0.94285,     0.94282,      0.9428,     0.94277,     0.94274,     0.94272,\n",
              "            0.94269,     0.94266,     0.94267,     0.94289,     0.94302,     0.94309,     0.94316,     0.94324,     0.94319,      0.9429,      0.9428,     0.94271,     0.94262,     0.94251,     0.94239,     0.94226,     0.94221,     0.94224,     0.94228,     0.94231,     0.94234,     0.94238,     0.94241,\n",
              "            0.94244,     0.94248,     0.94251,     0.94248,     0.94243,     0.94238,     0.94233,     0.94228,     0.94223,     0.94218,     0.94185,     0.94185,     0.94192,     0.94198,     0.94205,     0.94211,     0.94192,     0.94174,     0.94168,     0.94162,     0.94155,     0.94149,     0.94143,\n",
              "            0.94143,     0.94166,     0.94163,     0.94154,     0.94145,     0.94135,     0.94144,     0.94155,     0.94166,     0.94171,     0.94176,     0.94181,     0.94186,      0.9419,     0.94195,       0.942,      0.9421,      0.9422,     0.94229,     0.94234,     0.94236,     0.94238,      0.9424,\n",
              "            0.94242,     0.94244,     0.94247,     0.94249,     0.94251,     0.94253,     0.94255,     0.94257,      0.9426,     0.94262,     0.94264,     0.94267,     0.94272,     0.94276,     0.94281,     0.94285,      0.9429,     0.94294,       0.943,     0.94307,     0.94315,     0.94322,     0.94329,\n",
              "            0.94306,     0.94329,     0.94334,     0.94339,     0.94344,     0.94349,     0.94354,      0.9436,     0.94368,     0.94377,     0.94385,     0.94389,      0.9437,     0.94356,     0.94361,     0.94366,     0.94371,     0.94376,      0.9438,     0.94385,     0.94397,     0.94419,     0.94387,\n",
              "            0.94367,     0.94348,     0.94323,     0.94315,     0.94322,      0.9433,     0.94337,     0.94347,     0.94369,     0.94304,     0.94312,     0.94319,     0.94327,     0.94334,     0.94316,     0.94274,     0.94281,     0.94301,     0.94318,     0.94357,     0.94337,     0.94319,     0.94308,\n",
              "            0.94297,     0.94286,     0.94282,     0.94277,     0.94273,     0.94269,     0.94264,      0.9426,     0.94255,     0.94251,      0.9423,     0.94209,     0.94196,     0.94183,      0.9417,     0.94154,     0.94139,     0.94111,     0.94134,     0.94095,      0.9409,     0.94085,      0.9408,\n",
              "            0.94076,     0.94071,     0.94066,     0.94061,     0.94049,     0.94034,     0.94019,     0.94006,     0.93994,      0.9396,     0.93932,     0.93913,     0.93893,     0.93874,     0.93824,     0.93799,     0.93786,     0.93773,     0.93762,     0.93773,     0.93784,     0.93789,     0.93755,\n",
              "            0.93744,     0.93733,     0.93722,     0.93637,     0.93612,     0.93576,     0.93537,     0.93527,     0.93522,     0.93517,     0.93511,     0.93506,     0.93501,     0.93496,     0.93473,     0.93498,     0.93515,     0.93499,      0.9346,     0.93456,     0.93469,     0.93472,     0.93386,\n",
              "            0.93319,     0.93306,     0.93293,     0.93298,     0.93267,     0.93247,     0.93204,     0.93186,      0.9317,      0.9315,     0.93086,     0.93009,     0.92983,      0.9288,     0.92855,     0.92835,     0.92812,     0.92766,     0.92685,     0.92647,     0.92546,      0.9253,     0.92514,\n",
              "            0.92447,     0.92401,     0.92274,     0.92258,     0.92242,     0.92178,     0.92077,     0.92057,     0.92008,     0.91981,     0.91887,     0.91879,     0.91871,     0.91863,     0.91855,     0.91831,     0.91811,     0.91775,     0.91687,     0.91668,     0.91655,     0.91641,     0.91626,\n",
              "            0.91479,     0.91475,     0.91445,     0.91463,     0.91383,     0.91324,       0.913,     0.91288,     0.91276,     0.91223,     0.91196,     0.91178,     0.91164,     0.91151,     0.91088,     0.91017,     0.90976,     0.90942,     0.90922,     0.90899,     0.90871,     0.90844,     0.90817,\n",
              "             0.9079,     0.90762,     0.90739,     0.90718,       0.907,     0.90684,     0.90658,     0.90603,     0.90542,     0.90492,     0.90399,     0.90327,     0.90206,     0.90134,     0.90019,     0.89998,     0.89872,     0.89826,     0.89746,     0.89621,     0.89456,     0.89399,     0.89382,\n",
              "            0.89287,     0.89175,     0.89156,     0.89114,     0.89065,     0.89009,     0.88896,      0.8886,     0.88843,     0.88807,     0.88731,      0.8871,     0.88655,     0.88627,     0.88532,      0.8851,     0.88479,     0.88437,     0.88394,     0.88328,     0.88274,     0.88199,      0.8812,\n",
              "            0.88091,     0.88053,     0.87939,     0.87929,     0.87936,      0.8785,     0.87807,      0.8775,     0.87699,     0.87535,     0.87428,     0.87398,     0.87299,     0.87269,     0.87226,     0.87209,     0.87191,     0.87167,     0.87133,     0.87071,     0.87037,     0.87009,     0.86987,\n",
              "            0.86951,     0.86838,     0.86827,     0.86816,     0.86805,     0.86783,     0.86702,     0.86672,     0.86643,     0.86621,     0.86489,     0.86357,     0.86335,     0.86182,      0.8616,     0.86136,     0.86093,     0.86063,     0.86024,     0.85861,     0.85759,     0.85714,     0.85516,\n",
              "            0.85458,     0.85323,     0.85204,     0.85142,      0.8516,     0.85018,     0.84988,     0.84856,      0.8472,      0.8454,     0.84492,      0.8431,     0.84209,     0.84171,     0.83972,     0.83714,     0.83585,     0.83483,     0.83456,     0.83191,     0.82959,      0.8268,     0.82585,\n",
              "            0.82444,     0.82209,     0.81973,     0.81548,     0.81073,     0.80833,     0.80591,     0.80253,     0.80154,     0.79958,     0.79616,     0.79468,     0.79074,     0.78825,     0.78625,     0.78524,     0.78286,     0.78086,     0.77818,     0.77716,     0.77354,       0.768,     0.76388,\n",
              "            0.76129,     0.75892,     0.75606,     0.74819,     0.74447,     0.74179,     0.73674,     0.73193,     0.72967,     0.72529,     0.72253,     0.71865,     0.71531,     0.71027,     0.70744,      0.7029,     0.69834,     0.68913,     0.67745,     0.67211,     0.66553,     0.65586,     0.65369,\n",
              "            0.64569,     0.63697,     0.63129,     0.62557,     0.61851,     0.60944,     0.60024,     0.59292,     0.58283,     0.56985,     0.56291,     0.55379,     0.54169,     0.52675,      0.5137,     0.49788,     0.48249,     0.46281,     0.44994,     0.43024,     0.40661,     0.38929,      0.3691,\n",
              "             0.3555,     0.33889,     0.31813,     0.29783,     0.27703,     0.25776,     0.23701,     0.20822,     0.18737,      0.1683,     0.14882,     0.12538,      0.1122,    0.097621,    0.087755,    0.075292,    0.060766,    0.048591,    0.030396,    0.023773,    0.013123,   0.0077218,   0.0063683,\n",
              "           0.005819,   0.0051093,   0.0034328,           0,           0,           0,           0,           0,           0,           0,           0,           0,           0,           0,           0,           0,           0,           0,           0,           0,           0,           0,           0,\n",
              "                  0,           0,           0,           0,           0,           0,           0,           0,           0,           0,           0]]), 'Confidence', 'F1'], [array([          0,    0.001001,    0.002002,    0.003003,    0.004004,    0.005005,    0.006006,    0.007007,    0.008008,    0.009009,     0.01001,    0.011011,    0.012012,    0.013013,    0.014014,    0.015015,    0.016016,    0.017017,    0.018018,    0.019019,     0.02002,    0.021021,    0.022022,    0.023023,\n",
              "          0.024024,    0.025025,    0.026026,    0.027027,    0.028028,    0.029029,     0.03003,    0.031031,    0.032032,    0.033033,    0.034034,    0.035035,    0.036036,    0.037037,    0.038038,    0.039039,     0.04004,    0.041041,    0.042042,    0.043043,    0.044044,    0.045045,    0.046046,    0.047047,\n",
              "          0.048048,    0.049049,     0.05005,    0.051051,    0.052052,    0.053053,    0.054054,    0.055055,    0.056056,    0.057057,    0.058058,    0.059059,     0.06006,    0.061061,    0.062062,    0.063063,    0.064064,    0.065065,    0.066066,    0.067067,    0.068068,    0.069069,     0.07007,    0.071071,\n",
              "          0.072072,    0.073073,    0.074074,    0.075075,    0.076076,    0.077077,    0.078078,    0.079079,     0.08008,    0.081081,    0.082082,    0.083083,    0.084084,    0.085085,    0.086086,    0.087087,    0.088088,    0.089089,     0.09009,    0.091091,    0.092092,    0.093093,    0.094094,    0.095095,\n",
              "          0.096096,    0.097097,    0.098098,    0.099099,      0.1001,      0.1011,      0.1021,      0.1031,      0.1041,     0.10511,     0.10611,     0.10711,     0.10811,     0.10911,     0.11011,     0.11111,     0.11211,     0.11311,     0.11411,     0.11512,     0.11612,     0.11712,     0.11812,     0.11912,\n",
              "           0.12012,     0.12112,     0.12212,     0.12312,     0.12412,     0.12513,     0.12613,     0.12713,     0.12813,     0.12913,     0.13013,     0.13113,     0.13213,     0.13313,     0.13413,     0.13514,     0.13614,     0.13714,     0.13814,     0.13914,     0.14014,     0.14114,     0.14214,     0.14314,\n",
              "           0.14414,     0.14515,     0.14615,     0.14715,     0.14815,     0.14915,     0.15015,     0.15115,     0.15215,     0.15315,     0.15415,     0.15516,     0.15616,     0.15716,     0.15816,     0.15916,     0.16016,     0.16116,     0.16216,     0.16316,     0.16416,     0.16517,     0.16617,     0.16717,\n",
              "           0.16817,     0.16917,     0.17017,     0.17117,     0.17217,     0.17317,     0.17417,     0.17518,     0.17618,     0.17718,     0.17818,     0.17918,     0.18018,     0.18118,     0.18218,     0.18318,     0.18418,     0.18519,     0.18619,     0.18719,     0.18819,     0.18919,     0.19019,     0.19119,\n",
              "           0.19219,     0.19319,     0.19419,      0.1952,      0.1962,      0.1972,      0.1982,      0.1992,      0.2002,      0.2012,      0.2022,      0.2032,      0.2042,     0.20521,     0.20621,     0.20721,     0.20821,     0.20921,     0.21021,     0.21121,     0.21221,     0.21321,     0.21421,     0.21522,\n",
              "           0.21622,     0.21722,     0.21822,     0.21922,     0.22022,     0.22122,     0.22222,     0.22322,     0.22422,     0.22523,     0.22623,     0.22723,     0.22823,     0.22923,     0.23023,     0.23123,     0.23223,     0.23323,     0.23423,     0.23524,     0.23624,     0.23724,     0.23824,     0.23924,\n",
              "           0.24024,     0.24124,     0.24224,     0.24324,     0.24424,     0.24525,     0.24625,     0.24725,     0.24825,     0.24925,     0.25025,     0.25125,     0.25225,     0.25325,     0.25425,     0.25526,     0.25626,     0.25726,     0.25826,     0.25926,     0.26026,     0.26126,     0.26226,     0.26326,\n",
              "           0.26426,     0.26527,     0.26627,     0.26727,     0.26827,     0.26927,     0.27027,     0.27127,     0.27227,     0.27327,     0.27427,     0.27528,     0.27628,     0.27728,     0.27828,     0.27928,     0.28028,     0.28128,     0.28228,     0.28328,     0.28428,     0.28529,     0.28629,     0.28729,\n",
              "           0.28829,     0.28929,     0.29029,     0.29129,     0.29229,     0.29329,     0.29429,      0.2953,      0.2963,      0.2973,      0.2983,      0.2993,      0.3003,      0.3013,      0.3023,      0.3033,      0.3043,     0.30531,     0.30631,     0.30731,     0.30831,     0.30931,     0.31031,     0.31131,\n",
              "           0.31231,     0.31331,     0.31431,     0.31532,     0.31632,     0.31732,     0.31832,     0.31932,     0.32032,     0.32132,     0.32232,     0.32332,     0.32432,     0.32533,     0.32633,     0.32733,     0.32833,     0.32933,     0.33033,     0.33133,     0.33233,     0.33333,     0.33433,     0.33534,\n",
              "           0.33634,     0.33734,     0.33834,     0.33934,     0.34034,     0.34134,     0.34234,     0.34334,     0.34434,     0.34535,     0.34635,     0.34735,     0.34835,     0.34935,     0.35035,     0.35135,     0.35235,     0.35335,     0.35435,     0.35536,     0.35636,     0.35736,     0.35836,     0.35936,\n",
              "           0.36036,     0.36136,     0.36236,     0.36336,     0.36436,     0.36537,     0.36637,     0.36737,     0.36837,     0.36937,     0.37037,     0.37137,     0.37237,     0.37337,     0.37437,     0.37538,     0.37638,     0.37738,     0.37838,     0.37938,     0.38038,     0.38138,     0.38238,     0.38338,\n",
              "           0.38438,     0.38539,     0.38639,     0.38739,     0.38839,     0.38939,     0.39039,     0.39139,     0.39239,     0.39339,     0.39439,      0.3954,      0.3964,      0.3974,      0.3984,      0.3994,      0.4004,      0.4014,      0.4024,      0.4034,      0.4044,     0.40541,     0.40641,     0.40741,\n",
              "           0.40841,     0.40941,     0.41041,     0.41141,     0.41241,     0.41341,     0.41441,     0.41542,     0.41642,     0.41742,     0.41842,     0.41942,     0.42042,     0.42142,     0.42242,     0.42342,     0.42442,     0.42543,     0.42643,     0.42743,     0.42843,     0.42943,     0.43043,     0.43143,\n",
              "           0.43243,     0.43343,     0.43443,     0.43544,     0.43644,     0.43744,     0.43844,     0.43944,     0.44044,     0.44144,     0.44244,     0.44344,     0.44444,     0.44545,     0.44645,     0.44745,     0.44845,     0.44945,     0.45045,     0.45145,     0.45245,     0.45345,     0.45445,     0.45546,\n",
              "           0.45646,     0.45746,     0.45846,     0.45946,     0.46046,     0.46146,     0.46246,     0.46346,     0.46446,     0.46547,     0.46647,     0.46747,     0.46847,     0.46947,     0.47047,     0.47147,     0.47247,     0.47347,     0.47447,     0.47548,     0.47648,     0.47748,     0.47848,     0.47948,\n",
              "           0.48048,     0.48148,     0.48248,     0.48348,     0.48448,     0.48549,     0.48649,     0.48749,     0.48849,     0.48949,     0.49049,     0.49149,     0.49249,     0.49349,     0.49449,      0.4955,      0.4965,      0.4975,      0.4985,      0.4995,      0.5005,      0.5015,      0.5025,      0.5035,\n",
              "            0.5045,     0.50551,     0.50651,     0.50751,     0.50851,     0.50951,     0.51051,     0.51151,     0.51251,     0.51351,     0.51451,     0.51552,     0.51652,     0.51752,     0.51852,     0.51952,     0.52052,     0.52152,     0.52252,     0.52352,     0.52452,     0.52553,     0.52653,     0.52753,\n",
              "           0.52853,     0.52953,     0.53053,     0.53153,     0.53253,     0.53353,     0.53453,     0.53554,     0.53654,     0.53754,     0.53854,     0.53954,     0.54054,     0.54154,     0.54254,     0.54354,     0.54454,     0.54555,     0.54655,     0.54755,     0.54855,     0.54955,     0.55055,     0.55155,\n",
              "           0.55255,     0.55355,     0.55455,     0.55556,     0.55656,     0.55756,     0.55856,     0.55956,     0.56056,     0.56156,     0.56256,     0.56356,     0.56456,     0.56557,     0.56657,     0.56757,     0.56857,     0.56957,     0.57057,     0.57157,     0.57257,     0.57357,     0.57457,     0.57558,\n",
              "           0.57658,     0.57758,     0.57858,     0.57958,     0.58058,     0.58158,     0.58258,     0.58358,     0.58458,     0.58559,     0.58659,     0.58759,     0.58859,     0.58959,     0.59059,     0.59159,     0.59259,     0.59359,     0.59459,      0.5956,      0.5966,      0.5976,      0.5986,      0.5996,\n",
              "            0.6006,      0.6016,      0.6026,      0.6036,      0.6046,     0.60561,     0.60661,     0.60761,     0.60861,     0.60961,     0.61061,     0.61161,     0.61261,     0.61361,     0.61461,     0.61562,     0.61662,     0.61762,     0.61862,     0.61962,     0.62062,     0.62162,     0.62262,     0.62362,\n",
              "           0.62462,     0.62563,     0.62663,     0.62763,     0.62863,     0.62963,     0.63063,     0.63163,     0.63263,     0.63363,     0.63463,     0.63564,     0.63664,     0.63764,     0.63864,     0.63964,     0.64064,     0.64164,     0.64264,     0.64364,     0.64464,     0.64565,     0.64665,     0.64765,\n",
              "           0.64865,     0.64965,     0.65065,     0.65165,     0.65265,     0.65365,     0.65465,     0.65566,     0.65666,     0.65766,     0.65866,     0.65966,     0.66066,     0.66166,     0.66266,     0.66366,     0.66466,     0.66567,     0.66667,     0.66767,     0.66867,     0.66967,     0.67067,     0.67167,\n",
              "           0.67267,     0.67367,     0.67467,     0.67568,     0.67668,     0.67768,     0.67868,     0.67968,     0.68068,     0.68168,     0.68268,     0.68368,     0.68468,     0.68569,     0.68669,     0.68769,     0.68869,     0.68969,     0.69069,     0.69169,     0.69269,     0.69369,     0.69469,      0.6957,\n",
              "            0.6967,      0.6977,      0.6987,      0.6997,      0.7007,      0.7017,      0.7027,      0.7037,      0.7047,     0.70571,     0.70671,     0.70771,     0.70871,     0.70971,     0.71071,     0.71171,     0.71271,     0.71371,     0.71471,     0.71572,     0.71672,     0.71772,     0.71872,     0.71972,\n",
              "           0.72072,     0.72172,     0.72272,     0.72372,     0.72472,     0.72573,     0.72673,     0.72773,     0.72873,     0.72973,     0.73073,     0.73173,     0.73273,     0.73373,     0.73473,     0.73574,     0.73674,     0.73774,     0.73874,     0.73974,     0.74074,     0.74174,     0.74274,     0.74374,\n",
              "           0.74474,     0.74575,     0.74675,     0.74775,     0.74875,     0.74975,     0.75075,     0.75175,     0.75275,     0.75375,     0.75475,     0.75576,     0.75676,     0.75776,     0.75876,     0.75976,     0.76076,     0.76176,     0.76276,     0.76376,     0.76476,     0.76577,     0.76677,     0.76777,\n",
              "           0.76877,     0.76977,     0.77077,     0.77177,     0.77277,     0.77377,     0.77477,     0.77578,     0.77678,     0.77778,     0.77878,     0.77978,     0.78078,     0.78178,     0.78278,     0.78378,     0.78478,     0.78579,     0.78679,     0.78779,     0.78879,     0.78979,     0.79079,     0.79179,\n",
              "           0.79279,     0.79379,     0.79479,      0.7958,      0.7968,      0.7978,      0.7988,      0.7998,      0.8008,      0.8018,      0.8028,      0.8038,      0.8048,     0.80581,     0.80681,     0.80781,     0.80881,     0.80981,     0.81081,     0.81181,     0.81281,     0.81381,     0.81481,     0.81582,\n",
              "           0.81682,     0.81782,     0.81882,     0.81982,     0.82082,     0.82182,     0.82282,     0.82382,     0.82482,     0.82583,     0.82683,     0.82783,     0.82883,     0.82983,     0.83083,     0.83183,     0.83283,     0.83383,     0.83483,     0.83584,     0.83684,     0.83784,     0.83884,     0.83984,\n",
              "           0.84084,     0.84184,     0.84284,     0.84384,     0.84484,     0.84585,     0.84685,     0.84785,     0.84885,     0.84985,     0.85085,     0.85185,     0.85285,     0.85385,     0.85485,     0.85586,     0.85686,     0.85786,     0.85886,     0.85986,     0.86086,     0.86186,     0.86286,     0.86386,\n",
              "           0.86486,     0.86587,     0.86687,     0.86787,     0.86887,     0.86987,     0.87087,     0.87187,     0.87287,     0.87387,     0.87487,     0.87588,     0.87688,     0.87788,     0.87888,     0.87988,     0.88088,     0.88188,     0.88288,     0.88388,     0.88488,     0.88589,     0.88689,     0.88789,\n",
              "           0.88889,     0.88989,     0.89089,     0.89189,     0.89289,     0.89389,     0.89489,      0.8959,      0.8969,      0.8979,      0.8989,      0.8999,      0.9009,      0.9019,      0.9029,      0.9039,      0.9049,     0.90591,     0.90691,     0.90791,     0.90891,     0.90991,     0.91091,     0.91191,\n",
              "           0.91291,     0.91391,     0.91491,     0.91592,     0.91692,     0.91792,     0.91892,     0.91992,     0.92092,     0.92192,     0.92292,     0.92392,     0.92492,     0.92593,     0.92693,     0.92793,     0.92893,     0.92993,     0.93093,     0.93193,     0.93293,     0.93393,     0.93493,     0.93594,\n",
              "           0.93694,     0.93794,     0.93894,     0.93994,     0.94094,     0.94194,     0.94294,     0.94394,     0.94494,     0.94595,     0.94695,     0.94795,     0.94895,     0.94995,     0.95095,     0.95195,     0.95295,     0.95395,     0.95495,     0.95596,     0.95696,     0.95796,     0.95896,     0.95996,\n",
              "           0.96096,     0.96196,     0.96296,     0.96396,     0.96496,     0.96597,     0.96697,     0.96797,     0.96897,     0.96997,     0.97097,     0.97197,     0.97297,     0.97397,     0.97497,     0.97598,     0.97698,     0.97798,     0.97898,     0.97998,     0.98098,     0.98198,     0.98298,     0.98398,\n",
              "           0.98498,     0.98599,     0.98699,     0.98799,     0.98899,     0.98999,     0.99099,     0.99199,     0.99299,     0.99399,     0.99499,       0.996,       0.997,       0.998,       0.999,           1]), array([[    0.61339,     0.61339,     0.68991,     0.73105,     0.75836,     0.77232,     0.78257,     0.79873,     0.80693,     0.81396,     0.82033,     0.82782,     0.83364,     0.83822,     0.83997,     0.84411,      0.8475,     0.85003,     0.85226,      0.8545,     0.85845,     0.86107,     0.86413,\n",
              "            0.86469,     0.86693,     0.87095,       0.872,     0.87376,     0.87601,     0.87773,     0.88032,     0.88099,     0.88295,     0.88392,     0.88554,     0.88725,     0.88821,     0.88862,     0.88898,     0.89009,      0.8904,     0.89111,     0.89384,     0.89487,     0.89525,     0.89565,\n",
              "            0.89694,     0.89739,     0.89838,     0.89903,     0.89998,     0.90105,     0.90154,     0.90175,     0.90195,     0.90235,     0.90316,     0.90419,      0.9052,     0.90558,     0.90588,     0.90622,     0.90796,     0.90849,     0.90878,     0.90925,     0.90958,     0.91008,     0.91108,\n",
              "            0.91195,     0.91216,     0.91237,     0.91279,     0.91421,     0.91501,     0.91567,     0.91601,     0.91734,     0.91765,     0.91782,      0.9178,     0.91779,     0.91778,     0.91777,     0.91816,     0.91857,      0.9189,     0.92041,     0.92129,      0.9221,     0.92226,     0.92242,\n",
              "            0.92258,     0.92271,     0.92283,     0.92295,     0.92307,     0.92319,     0.92334,      0.9235,     0.92366,     0.92382,     0.92506,     0.92554,     0.92628,     0.92794,     0.92813,     0.92812,     0.92811,      0.9281,     0.92805,     0.92937,     0.92969,     0.93023,     0.93128,\n",
              "            0.93194,     0.93238,     0.93253,     0.93267,     0.93281,     0.93295,     0.93374,     0.93395,     0.93416,     0.93447,      0.9349,     0.93561,     0.93574,     0.93588,     0.93601,     0.93614,     0.93633,     0.93653,     0.93673,     0.93677,     0.93675,     0.93686,     0.93714,\n",
              "            0.93789,     0.93879,     0.93911,     0.93934,     0.93946,     0.93959,     0.93972,     0.93984,      0.9399,     0.93988,     0.93987,     0.93996,     0.94008,     0.94019,     0.94031,     0.94042,     0.94057,     0.94078,     0.94099,     0.94128,     0.94175,     0.94309,     0.94328,\n",
              "            0.94347,     0.94365,     0.94373,     0.94379,     0.94384,     0.94389,     0.94395,       0.944,     0.94405,     0.94411,     0.94416,     0.94421,     0.94426,     0.94432,     0.94442,     0.94455,     0.94467,      0.9448,     0.94492,     0.94518,      0.9455,     0.94569,     0.94581,\n",
              "            0.94592,     0.94604,     0.94615,     0.94627,     0.94645,     0.94663,     0.94681,     0.94745,     0.94813,     0.94862,     0.94884,     0.94894,     0.94904,     0.94914,     0.94924,     0.94934,     0.94944,     0.94953,     0.94961,      0.9497,     0.94978,     0.94987,     0.94996,\n",
              "            0.95004,     0.95005,     0.95027,      0.9505,     0.95072,     0.95094,     0.95116,     0.95133,     0.95132,     0.95131,      0.9513,     0.95196,     0.95195,     0.95195,     0.95194,     0.95194,     0.95194,     0.95193,     0.95193,     0.95193,     0.95192,     0.95199,     0.95208,\n",
              "            0.95216,     0.95225,     0.95233,     0.95242,      0.9525,     0.95258,     0.95257,     0.95257,     0.95257,     0.95257,     0.95256,     0.95256,     0.95256,     0.95255,     0.95255,     0.95255,     0.95255,     0.95254,     0.95253,     0.95251,     0.95287,     0.95319,     0.95326,\n",
              "            0.95334,     0.95341,     0.95349,     0.95356,     0.95364,     0.95371,     0.95379,     0.95391,     0.95408,     0.95425,     0.95441,     0.95462,     0.95484,     0.95507,      0.9558,      0.9558,      0.9558,     0.95579,     0.95579,     0.95579,     0.95579,     0.95578,     0.95578,\n",
              "            0.95578,     0.95578,     0.95577,     0.95576,     0.95587,     0.95597,     0.95608,     0.95618,     0.95629,     0.95639,     0.95725,     0.95746,     0.95767,     0.95836,     0.95833,     0.95832,     0.95831,      0.9583,     0.95829,     0.95829,     0.95828,     0.95827,     0.95826,\n",
              "            0.95825,     0.95836,     0.95851,     0.95866,     0.95881,     0.95891,     0.95891,      0.9589,      0.9589,     0.95889,     0.95889,     0.95902,     0.95929,     0.95963,     0.96029,     0.96041,     0.96053,     0.96065,     0.96077,     0.96089,     0.96099,     0.96109,     0.96118,\n",
              "            0.96128,     0.96138,     0.96148,     0.96156,     0.96156,     0.96156,     0.96155,     0.96155,     0.96155,     0.96154,     0.96154,     0.96221,     0.96221,      0.9622,      0.9622,      0.9622,     0.96219,     0.96219,     0.96219,     0.96218,     0.96217,     0.96216,     0.96216,\n",
              "            0.96215,     0.96215,     0.96215,     0.96215,     0.96215,     0.96215,     0.96215,     0.96214,     0.96214,     0.96214,     0.96214,     0.96214,     0.96214,     0.96213,     0.96213,     0.96213,     0.96217,      0.9622,     0.96223,     0.96226,      0.9623,     0.96233,     0.96236,\n",
              "             0.9624,     0.96243,     0.96246,     0.96249,     0.96253,     0.96256,     0.96259,     0.96263,     0.96266,     0.96269,     0.96273,     0.96276,     0.96279,     0.96282,     0.96285,     0.96288,     0.96291,     0.96294,     0.96297,       0.963,     0.96303,     0.96306,     0.96309,\n",
              "            0.96312,     0.96315,     0.96318,     0.96321,     0.96324,     0.96327,      0.9633,     0.96333,     0.96336,     0.96339,     0.96342,     0.96345,     0.96348,     0.96354,      0.9636,     0.96366,     0.96373,     0.96379,     0.96385,     0.96391,     0.96398,     0.96404,      0.9641,\n",
              "            0.96416,     0.96416,     0.96415,     0.96415,     0.96414,     0.96414,     0.96428,     0.96451,     0.96475,     0.96479,     0.96478,     0.96478,     0.96477,     0.96477,     0.96477,     0.96476,     0.96485,     0.96494,     0.96503,     0.96512,     0.96521,      0.9653,     0.96539,\n",
              "            0.96542,     0.96542,     0.96541,     0.96541,     0.96541,     0.96541,      0.9654,      0.9654,      0.9654,      0.9654,      0.9654,     0.96561,     0.96585,     0.96608,     0.96608,     0.96607,     0.96607,     0.96607,     0.96607,     0.96606,     0.96606,     0.96606,     0.96606,\n",
              "            0.96605,     0.96613,      0.9662,     0.96628,     0.96635,     0.96642,      0.9665,     0.96657,     0.96664,     0.96672,     0.96741,      0.9674,      0.9674,      0.9674,     0.96739,     0.96739,     0.96739,     0.96739,     0.96739,     0.96739,     0.96738,     0.96738,     0.96738,\n",
              "            0.96738,     0.96738,     0.96744,     0.96791,     0.96817,     0.96832,     0.96848,     0.96864,     0.96874,     0.96873,     0.96872,     0.96871,     0.96871,      0.9687,     0.96869,     0.96869,     0.96872,     0.96879,     0.96886,     0.96893,       0.969,     0.96907,     0.96914,\n",
              "            0.96921,     0.96928,     0.96935,     0.96937,     0.96937,     0.96937,     0.96936,     0.96936,     0.96936,     0.96935,     0.96933,     0.96946,      0.9696,     0.96974,     0.96988,     0.97002,     0.97001,        0.97,        0.97,     0.96999,     0.96999,     0.96999,     0.96998,\n",
              "            0.97009,     0.97056,     0.97067,     0.97066,     0.97066,     0.97065,     0.97086,     0.97109,     0.97133,     0.97144,     0.97154,     0.97165,     0.97175,     0.97185,     0.97195,     0.97207,     0.97227,     0.97247,     0.97268,     0.97277,     0.97282,     0.97286,     0.97291,\n",
              "            0.97296,       0.973,     0.97305,      0.9731,     0.97314,     0.97319,     0.97323,     0.97328,     0.97333,     0.97337,     0.97342,     0.97349,     0.97359,     0.97368,     0.97378,     0.97388,     0.97397,     0.97407,     0.97418,     0.97434,      0.9745,     0.97466,     0.97482,\n",
              "            0.97509,     0.97557,     0.97568,     0.97579,      0.9759,     0.97601,     0.97612,     0.97624,     0.97642,      0.9766,     0.97678,     0.97693,     0.97692,     0.97693,     0.97704,     0.97714,     0.97724,     0.97735,     0.97745,     0.97755,      0.9778,     0.97828,     0.97831,\n",
              "             0.9783,     0.97829,     0.97828,     0.97836,     0.97852,     0.97868,     0.97885,     0.97905,     0.97954,      0.9797,     0.97986,     0.98002,     0.98018,     0.98034,     0.98037,     0.98035,     0.98076,      0.9812,     0.98157,     0.98241,     0.98249,     0.98248,     0.98248,\n",
              "            0.98247,     0.98247,     0.98247,     0.98247,     0.98246,     0.98246,     0.98246,     0.98246,     0.98246,     0.98246,     0.98245,     0.98244,     0.98244,     0.98243,     0.98243,     0.98242,     0.98242,     0.98263,     0.98312,     0.98311,     0.98311,     0.98311,     0.98311,\n",
              "            0.98311,      0.9831,      0.9831,      0.9831,      0.9831,     0.98309,     0.98309,     0.98308,     0.98308,     0.98307,     0.98306,     0.98305,     0.98305,     0.98304,     0.98302,     0.98301,     0.98301,       0.983,     0.98302,     0.98327,     0.98351,     0.98373,     0.98372,\n",
              "            0.98371,     0.98371,      0.9837,     0.98368,     0.98367,     0.98366,     0.98365,     0.98364,     0.98364,     0.98364,     0.98364,     0.98364,     0.98363,     0.98363,     0.98362,     0.98456,     0.98494,     0.98508,     0.98507,     0.98526,     0.98556,      0.9858,     0.98577,\n",
              "            0.98575,     0.98575,     0.98575,     0.98648,      0.9872,     0.98794,     0.98793,     0.98792,     0.98792,     0.98791,      0.9879,     0.98788,     0.98787,     0.98785,     0.98784,     0.98784,     0.98783,     0.98782,      0.9878,     0.98779,     0.98777,     0.98776,     0.98776,\n",
              "            0.98774,     0.98773,      0.9877,      0.9877,     0.98769,     0.98768,     0.98765,     0.98765,     0.98763,     0.98763,     0.98761,      0.9876,      0.9876,      0.9876,      0.9876,     0.98987,     0.98987,     0.98986,     0.98985,     0.98984,     0.98984,     0.98984,     0.99044,\n",
              "            0.99057,     0.99135,     0.99134,     0.99211,     0.99211,      0.9921,     0.99209,     0.99209,     0.99209,     0.99208,     0.99208,     0.99207,     0.99207,     0.99207,     0.99206,     0.99205,     0.99204,     0.99204,     0.99203,     0.99203,     0.99203,     0.99202,     0.99202,\n",
              "            0.99201,     0.99201,       0.992,       0.992,       0.992,       0.992,     0.99199,     0.99198,     0.99197,     0.99197,     0.99195,     0.99194,     0.99192,     0.99191,     0.99189,     0.99189,     0.99186,     0.99186,     0.99184,     0.99182,      0.9918,     0.99179,     0.99178,\n",
              "            0.99177,      0.9919,     0.99256,     0.99255,     0.99255,     0.99254,     0.99252,     0.99252,     0.99251,     0.99251,      0.9925,     0.99249,     0.99249,     0.99248,     0.99247,     0.99246,     0.99246,     0.99245,     0.99245,     0.99244,     0.99243,     0.99242,      0.9924,\n",
              "             0.9924,     0.99239,     0.99238,     0.99278,     0.99321,      0.9932,      0.9932,     0.99319,     0.99318,     0.99316,     0.99314,     0.99314,     0.99313,     0.99312,     0.99312,     0.99311,     0.99311,     0.99311,      0.9931,     0.99309,     0.99309,     0.99309,     0.99308,\n",
              "            0.99308,     0.99306,     0.99306,     0.99306,     0.99306,     0.99305,     0.99304,     0.99304,     0.99303,     0.99389,     0.99388,     0.99386,     0.99386,     0.99384,     0.99384,     0.99383,     0.99383,     0.99382,     0.99382,      0.9938,     0.99378,     0.99378,     0.99375,\n",
              "            0.99375,     0.99373,     0.99371,     0.99371,     0.99451,     0.99458,     0.99458,     0.99457,     0.99455,     0.99453,     0.99453,      0.9945,     0.99449,     0.99449,     0.99447,     0.99444,     0.99442,     0.99441,     0.99533,     0.99531,     0.99528,     0.99526,     0.99525,\n",
              "            0.99523,     0.99521,     0.99519,     0.99515,      0.9951,     0.99507,     0.99505,     0.99501,       0.995,     0.99498,     0.99495,     0.99493,     0.99489,     0.99486,     0.99484,     0.99483,     0.99481,     0.99478,     0.99476,     0.99474,      0.9947,     0.99464,      0.9946,\n",
              "            0.99457,     0.99454,     0.99451,     0.99441,     0.99437,     0.99434,     0.99541,     0.99536,     0.99534,      0.9953,     0.99527,     0.99523,      0.9952,     0.99514,     0.99511,     0.99506,     0.99501,     0.99491,     0.99478,     0.99472,     0.99464,     0.99452,     0.99586,\n",
              "            0.99579,      0.9957,     0.99564,     0.99559,     0.99551,     0.99542,     0.99532,     0.99524,     0.99512,     0.99496,     0.99488,     0.99476,      0.9946,     0.99625,     0.99806,     0.99797,     0.99789,     0.99777,     0.99769,     0.99755,     0.99737,     0.99722,           1,\n",
              "                  1,           1,           1,           1,           1,           1,           1,           1,           1,           1,           1,           1,           1,           1,           1,           1,           1,           1,           1,           1,           1,           1,           1,\n",
              "                  1,           1,           1,           1,           1,           1,           1,           1,           1,           1,           1,           1,           1,           1,           1,           1,           1,           1,           1,           1,           1,           1,           1,\n",
              "                  1,           1,           1,           1,           1,           1,           1,           1,           1,           1,           1]]), 'Confidence', 'Precision'], [array([          0,    0.001001,    0.002002,    0.003003,    0.004004,    0.005005,    0.006006,    0.007007,    0.008008,    0.009009,     0.01001,    0.011011,    0.012012,    0.013013,    0.014014,    0.015015,    0.016016,    0.017017,    0.018018,    0.019019,     0.02002,    0.021021,    0.022022,    0.023023,\n",
              "          0.024024,    0.025025,    0.026026,    0.027027,    0.028028,    0.029029,     0.03003,    0.031031,    0.032032,    0.033033,    0.034034,    0.035035,    0.036036,    0.037037,    0.038038,    0.039039,     0.04004,    0.041041,    0.042042,    0.043043,    0.044044,    0.045045,    0.046046,    0.047047,\n",
              "          0.048048,    0.049049,     0.05005,    0.051051,    0.052052,    0.053053,    0.054054,    0.055055,    0.056056,    0.057057,    0.058058,    0.059059,     0.06006,    0.061061,    0.062062,    0.063063,    0.064064,    0.065065,    0.066066,    0.067067,    0.068068,    0.069069,     0.07007,    0.071071,\n",
              "          0.072072,    0.073073,    0.074074,    0.075075,    0.076076,    0.077077,    0.078078,    0.079079,     0.08008,    0.081081,    0.082082,    0.083083,    0.084084,    0.085085,    0.086086,    0.087087,    0.088088,    0.089089,     0.09009,    0.091091,    0.092092,    0.093093,    0.094094,    0.095095,\n",
              "          0.096096,    0.097097,    0.098098,    0.099099,      0.1001,      0.1011,      0.1021,      0.1031,      0.1041,     0.10511,     0.10611,     0.10711,     0.10811,     0.10911,     0.11011,     0.11111,     0.11211,     0.11311,     0.11411,     0.11512,     0.11612,     0.11712,     0.11812,     0.11912,\n",
              "           0.12012,     0.12112,     0.12212,     0.12312,     0.12412,     0.12513,     0.12613,     0.12713,     0.12813,     0.12913,     0.13013,     0.13113,     0.13213,     0.13313,     0.13413,     0.13514,     0.13614,     0.13714,     0.13814,     0.13914,     0.14014,     0.14114,     0.14214,     0.14314,\n",
              "           0.14414,     0.14515,     0.14615,     0.14715,     0.14815,     0.14915,     0.15015,     0.15115,     0.15215,     0.15315,     0.15415,     0.15516,     0.15616,     0.15716,     0.15816,     0.15916,     0.16016,     0.16116,     0.16216,     0.16316,     0.16416,     0.16517,     0.16617,     0.16717,\n",
              "           0.16817,     0.16917,     0.17017,     0.17117,     0.17217,     0.17317,     0.17417,     0.17518,     0.17618,     0.17718,     0.17818,     0.17918,     0.18018,     0.18118,     0.18218,     0.18318,     0.18418,     0.18519,     0.18619,     0.18719,     0.18819,     0.18919,     0.19019,     0.19119,\n",
              "           0.19219,     0.19319,     0.19419,      0.1952,      0.1962,      0.1972,      0.1982,      0.1992,      0.2002,      0.2012,      0.2022,      0.2032,      0.2042,     0.20521,     0.20621,     0.20721,     0.20821,     0.20921,     0.21021,     0.21121,     0.21221,     0.21321,     0.21421,     0.21522,\n",
              "           0.21622,     0.21722,     0.21822,     0.21922,     0.22022,     0.22122,     0.22222,     0.22322,     0.22422,     0.22523,     0.22623,     0.22723,     0.22823,     0.22923,     0.23023,     0.23123,     0.23223,     0.23323,     0.23423,     0.23524,     0.23624,     0.23724,     0.23824,     0.23924,\n",
              "           0.24024,     0.24124,     0.24224,     0.24324,     0.24424,     0.24525,     0.24625,     0.24725,     0.24825,     0.24925,     0.25025,     0.25125,     0.25225,     0.25325,     0.25425,     0.25526,     0.25626,     0.25726,     0.25826,     0.25926,     0.26026,     0.26126,     0.26226,     0.26326,\n",
              "           0.26426,     0.26527,     0.26627,     0.26727,     0.26827,     0.26927,     0.27027,     0.27127,     0.27227,     0.27327,     0.27427,     0.27528,     0.27628,     0.27728,     0.27828,     0.27928,     0.28028,     0.28128,     0.28228,     0.28328,     0.28428,     0.28529,     0.28629,     0.28729,\n",
              "           0.28829,     0.28929,     0.29029,     0.29129,     0.29229,     0.29329,     0.29429,      0.2953,      0.2963,      0.2973,      0.2983,      0.2993,      0.3003,      0.3013,      0.3023,      0.3033,      0.3043,     0.30531,     0.30631,     0.30731,     0.30831,     0.30931,     0.31031,     0.31131,\n",
              "           0.31231,     0.31331,     0.31431,     0.31532,     0.31632,     0.31732,     0.31832,     0.31932,     0.32032,     0.32132,     0.32232,     0.32332,     0.32432,     0.32533,     0.32633,     0.32733,     0.32833,     0.32933,     0.33033,     0.33133,     0.33233,     0.33333,     0.33433,     0.33534,\n",
              "           0.33634,     0.33734,     0.33834,     0.33934,     0.34034,     0.34134,     0.34234,     0.34334,     0.34434,     0.34535,     0.34635,     0.34735,     0.34835,     0.34935,     0.35035,     0.35135,     0.35235,     0.35335,     0.35435,     0.35536,     0.35636,     0.35736,     0.35836,     0.35936,\n",
              "           0.36036,     0.36136,     0.36236,     0.36336,     0.36436,     0.36537,     0.36637,     0.36737,     0.36837,     0.36937,     0.37037,     0.37137,     0.37237,     0.37337,     0.37437,     0.37538,     0.37638,     0.37738,     0.37838,     0.37938,     0.38038,     0.38138,     0.38238,     0.38338,\n",
              "           0.38438,     0.38539,     0.38639,     0.38739,     0.38839,     0.38939,     0.39039,     0.39139,     0.39239,     0.39339,     0.39439,      0.3954,      0.3964,      0.3974,      0.3984,      0.3994,      0.4004,      0.4014,      0.4024,      0.4034,      0.4044,     0.40541,     0.40641,     0.40741,\n",
              "           0.40841,     0.40941,     0.41041,     0.41141,     0.41241,     0.41341,     0.41441,     0.41542,     0.41642,     0.41742,     0.41842,     0.41942,     0.42042,     0.42142,     0.42242,     0.42342,     0.42442,     0.42543,     0.42643,     0.42743,     0.42843,     0.42943,     0.43043,     0.43143,\n",
              "           0.43243,     0.43343,     0.43443,     0.43544,     0.43644,     0.43744,     0.43844,     0.43944,     0.44044,     0.44144,     0.44244,     0.44344,     0.44444,     0.44545,     0.44645,     0.44745,     0.44845,     0.44945,     0.45045,     0.45145,     0.45245,     0.45345,     0.45445,     0.45546,\n",
              "           0.45646,     0.45746,     0.45846,     0.45946,     0.46046,     0.46146,     0.46246,     0.46346,     0.46446,     0.46547,     0.46647,     0.46747,     0.46847,     0.46947,     0.47047,     0.47147,     0.47247,     0.47347,     0.47447,     0.47548,     0.47648,     0.47748,     0.47848,     0.47948,\n",
              "           0.48048,     0.48148,     0.48248,     0.48348,     0.48448,     0.48549,     0.48649,     0.48749,     0.48849,     0.48949,     0.49049,     0.49149,     0.49249,     0.49349,     0.49449,      0.4955,      0.4965,      0.4975,      0.4985,      0.4995,      0.5005,      0.5015,      0.5025,      0.5035,\n",
              "            0.5045,     0.50551,     0.50651,     0.50751,     0.50851,     0.50951,     0.51051,     0.51151,     0.51251,     0.51351,     0.51451,     0.51552,     0.51652,     0.51752,     0.51852,     0.51952,     0.52052,     0.52152,     0.52252,     0.52352,     0.52452,     0.52553,     0.52653,     0.52753,\n",
              "           0.52853,     0.52953,     0.53053,     0.53153,     0.53253,     0.53353,     0.53453,     0.53554,     0.53654,     0.53754,     0.53854,     0.53954,     0.54054,     0.54154,     0.54254,     0.54354,     0.54454,     0.54555,     0.54655,     0.54755,     0.54855,     0.54955,     0.55055,     0.55155,\n",
              "           0.55255,     0.55355,     0.55455,     0.55556,     0.55656,     0.55756,     0.55856,     0.55956,     0.56056,     0.56156,     0.56256,     0.56356,     0.56456,     0.56557,     0.56657,     0.56757,     0.56857,     0.56957,     0.57057,     0.57157,     0.57257,     0.57357,     0.57457,     0.57558,\n",
              "           0.57658,     0.57758,     0.57858,     0.57958,     0.58058,     0.58158,     0.58258,     0.58358,     0.58458,     0.58559,     0.58659,     0.58759,     0.58859,     0.58959,     0.59059,     0.59159,     0.59259,     0.59359,     0.59459,      0.5956,      0.5966,      0.5976,      0.5986,      0.5996,\n",
              "            0.6006,      0.6016,      0.6026,      0.6036,      0.6046,     0.60561,     0.60661,     0.60761,     0.60861,     0.60961,     0.61061,     0.61161,     0.61261,     0.61361,     0.61461,     0.61562,     0.61662,     0.61762,     0.61862,     0.61962,     0.62062,     0.62162,     0.62262,     0.62362,\n",
              "           0.62462,     0.62563,     0.62663,     0.62763,     0.62863,     0.62963,     0.63063,     0.63163,     0.63263,     0.63363,     0.63463,     0.63564,     0.63664,     0.63764,     0.63864,     0.63964,     0.64064,     0.64164,     0.64264,     0.64364,     0.64464,     0.64565,     0.64665,     0.64765,\n",
              "           0.64865,     0.64965,     0.65065,     0.65165,     0.65265,     0.65365,     0.65465,     0.65566,     0.65666,     0.65766,     0.65866,     0.65966,     0.66066,     0.66166,     0.66266,     0.66366,     0.66466,     0.66567,     0.66667,     0.66767,     0.66867,     0.66967,     0.67067,     0.67167,\n",
              "           0.67267,     0.67367,     0.67467,     0.67568,     0.67668,     0.67768,     0.67868,     0.67968,     0.68068,     0.68168,     0.68268,     0.68368,     0.68468,     0.68569,     0.68669,     0.68769,     0.68869,     0.68969,     0.69069,     0.69169,     0.69269,     0.69369,     0.69469,      0.6957,\n",
              "            0.6967,      0.6977,      0.6987,      0.6997,      0.7007,      0.7017,      0.7027,      0.7037,      0.7047,     0.70571,     0.70671,     0.70771,     0.70871,     0.70971,     0.71071,     0.71171,     0.71271,     0.71371,     0.71471,     0.71572,     0.71672,     0.71772,     0.71872,     0.71972,\n",
              "           0.72072,     0.72172,     0.72272,     0.72372,     0.72472,     0.72573,     0.72673,     0.72773,     0.72873,     0.72973,     0.73073,     0.73173,     0.73273,     0.73373,     0.73473,     0.73574,     0.73674,     0.73774,     0.73874,     0.73974,     0.74074,     0.74174,     0.74274,     0.74374,\n",
              "           0.74474,     0.74575,     0.74675,     0.74775,     0.74875,     0.74975,     0.75075,     0.75175,     0.75275,     0.75375,     0.75475,     0.75576,     0.75676,     0.75776,     0.75876,     0.75976,     0.76076,     0.76176,     0.76276,     0.76376,     0.76476,     0.76577,     0.76677,     0.76777,\n",
              "           0.76877,     0.76977,     0.77077,     0.77177,     0.77277,     0.77377,     0.77477,     0.77578,     0.77678,     0.77778,     0.77878,     0.77978,     0.78078,     0.78178,     0.78278,     0.78378,     0.78478,     0.78579,     0.78679,     0.78779,     0.78879,     0.78979,     0.79079,     0.79179,\n",
              "           0.79279,     0.79379,     0.79479,      0.7958,      0.7968,      0.7978,      0.7988,      0.7998,      0.8008,      0.8018,      0.8028,      0.8038,      0.8048,     0.80581,     0.80681,     0.80781,     0.80881,     0.80981,     0.81081,     0.81181,     0.81281,     0.81381,     0.81481,     0.81582,\n",
              "           0.81682,     0.81782,     0.81882,     0.81982,     0.82082,     0.82182,     0.82282,     0.82382,     0.82482,     0.82583,     0.82683,     0.82783,     0.82883,     0.82983,     0.83083,     0.83183,     0.83283,     0.83383,     0.83483,     0.83584,     0.83684,     0.83784,     0.83884,     0.83984,\n",
              "           0.84084,     0.84184,     0.84284,     0.84384,     0.84484,     0.84585,     0.84685,     0.84785,     0.84885,     0.84985,     0.85085,     0.85185,     0.85285,     0.85385,     0.85485,     0.85586,     0.85686,     0.85786,     0.85886,     0.85986,     0.86086,     0.86186,     0.86286,     0.86386,\n",
              "           0.86486,     0.86587,     0.86687,     0.86787,     0.86887,     0.86987,     0.87087,     0.87187,     0.87287,     0.87387,     0.87487,     0.87588,     0.87688,     0.87788,     0.87888,     0.87988,     0.88088,     0.88188,     0.88288,     0.88388,     0.88488,     0.88589,     0.88689,     0.88789,\n",
              "           0.88889,     0.88989,     0.89089,     0.89189,     0.89289,     0.89389,     0.89489,      0.8959,      0.8969,      0.8979,      0.8989,      0.8999,      0.9009,      0.9019,      0.9029,      0.9039,      0.9049,     0.90591,     0.90691,     0.90791,     0.90891,     0.90991,     0.91091,     0.91191,\n",
              "           0.91291,     0.91391,     0.91491,     0.91592,     0.91692,     0.91792,     0.91892,     0.91992,     0.92092,     0.92192,     0.92292,     0.92392,     0.92492,     0.92593,     0.92693,     0.92793,     0.92893,     0.92993,     0.93093,     0.93193,     0.93293,     0.93393,     0.93493,     0.93594,\n",
              "           0.93694,     0.93794,     0.93894,     0.93994,     0.94094,     0.94194,     0.94294,     0.94394,     0.94494,     0.94595,     0.94695,     0.94795,     0.94895,     0.94995,     0.95095,     0.95195,     0.95295,     0.95395,     0.95495,     0.95596,     0.95696,     0.95796,     0.95896,     0.95996,\n",
              "           0.96096,     0.96196,     0.96296,     0.96396,     0.96496,     0.96597,     0.96697,     0.96797,     0.96897,     0.96997,     0.97097,     0.97197,     0.97297,     0.97397,     0.97497,     0.97598,     0.97698,     0.97798,     0.97898,     0.97998,     0.98098,     0.98198,     0.98298,     0.98398,\n",
              "           0.98498,     0.98599,     0.98699,     0.98799,     0.98899,     0.98999,     0.99099,     0.99199,     0.99299,     0.99399,     0.99499,       0.996,       0.997,       0.998,       0.999,           1]), array([[    0.95687,     0.95687,     0.95216,     0.95081,     0.95081,     0.94811,     0.94744,     0.94677,     0.94609,     0.94609,     0.94542,     0.94542,     0.94542,     0.94542,     0.94474,     0.94407,     0.94407,     0.94407,     0.94407,     0.94407,      0.9434,      0.9434,      0.9434,\n",
              "             0.9434,      0.9434,      0.9434,      0.9434,      0.9434,      0.9434,      0.9434,      0.9434,      0.9434,      0.9434,      0.9434,      0.9434,      0.9434,      0.9434,      0.9434,      0.9434,      0.9434,      0.9434,      0.9434,      0.9434,      0.9434,      0.9434,      0.9434,\n",
              "             0.9434,      0.9434,      0.9434,      0.9434,      0.9434,      0.9434,      0.9434,      0.9434,      0.9434,      0.9434,      0.9434,      0.9434,      0.9434,      0.9434,      0.9434,      0.9434,      0.9434,     0.94323,     0.94272,     0.94272,     0.94224,     0.94205,     0.94205,\n",
              "            0.94205,     0.94205,     0.94205,     0.94205,     0.94205,     0.94205,     0.94205,     0.94205,     0.94137,     0.94137,     0.94069,     0.94054,     0.94038,     0.94022,     0.94006,     0.94003,     0.94003,     0.94003,     0.94003,     0.94003,     0.94003,     0.94003,     0.94003,\n",
              "            0.94003,     0.94003,     0.94003,     0.94003,     0.94003,     0.94003,     0.94003,     0.94003,     0.94003,     0.94003,     0.94003,     0.94003,     0.94003,     0.94003,     0.93989,     0.93973,     0.93957,     0.93941,     0.93868,     0.93868,     0.93868,     0.93868,     0.93868,\n",
              "            0.93868,     0.93868,     0.93868,     0.93868,     0.93868,     0.93868,     0.93868,     0.93868,     0.93868,     0.93868,     0.93868,     0.93868,     0.93868,     0.93868,     0.93868,     0.93868,     0.93868,     0.93868,     0.93868,     0.93847,     0.93818,     0.93801,     0.93801,\n",
              "            0.93801,     0.93801,     0.93801,     0.93801,     0.93801,     0.93801,     0.93801,     0.93801,     0.93788,     0.93762,     0.93737,     0.93733,     0.93733,     0.93733,     0.93733,     0.93733,     0.93733,     0.93733,     0.93733,     0.93733,     0.93733,     0.93733,     0.93733,\n",
              "            0.93733,     0.93733,     0.93733,     0.93733,     0.93733,     0.93733,     0.93733,     0.93733,     0.93733,     0.93733,     0.93733,     0.93733,     0.93733,     0.93733,     0.93733,     0.93733,     0.93733,     0.93733,     0.93733,     0.93733,     0.93733,     0.93733,     0.93733,\n",
              "            0.93733,     0.93733,     0.93733,     0.93733,     0.93733,     0.93733,     0.93733,     0.93733,     0.93606,     0.93598,     0.93598,     0.93598,     0.93598,     0.93598,     0.93598,     0.93598,     0.93598,     0.93598,     0.93598,     0.93598,     0.93598,     0.93598,     0.93598,\n",
              "            0.93598,     0.93531,     0.93531,     0.93531,     0.93531,     0.93531,     0.93531,     0.93526,     0.93506,     0.93485,     0.93465,     0.93462,     0.93455,     0.93448,     0.93441,     0.93433,     0.93426,     0.93419,     0.93412,     0.93405,     0.93398,     0.93396,     0.93396,\n",
              "            0.93396,     0.93396,     0.93396,     0.93396,     0.93396,     0.93395,      0.9339,     0.93384,     0.93378,     0.93372,     0.93366,      0.9336,     0.93354,     0.93348,     0.93343,     0.93337,     0.93331,     0.93313,     0.93289,     0.93265,     0.93261,     0.93261,     0.93261,\n",
              "            0.93261,     0.93261,     0.93261,     0.93261,     0.93261,     0.93261,     0.93261,     0.93261,     0.93261,     0.93261,     0.93261,     0.93261,     0.93261,     0.93261,      0.9326,     0.93255,     0.93249,     0.93244,     0.93238,     0.93232,     0.93227,     0.93221,     0.93215,\n",
              "             0.9321,     0.93204,     0.93198,     0.93127,     0.93127,     0.93127,     0.93127,     0.93127,     0.93127,     0.93127,     0.93127,     0.93127,     0.93127,     0.93061,     0.92981,      0.9296,     0.92939,     0.92919,       0.929,     0.92882,     0.92863,     0.92842,     0.92819,\n",
              "            0.92796,      0.9279,      0.9279,      0.9279,      0.9279,     0.92786,     0.92774,     0.92763,     0.92751,      0.9274,     0.92728,     0.92722,     0.92722,     0.92722,     0.92722,     0.92722,     0.92722,     0.92722,     0.92722,     0.92722,     0.92722,     0.92722,     0.92722,\n",
              "            0.92722,     0.92722,     0.92722,     0.92721,     0.92712,     0.92703,     0.92694,     0.92686,     0.92677,     0.92668,     0.92659,     0.92654,     0.92646,     0.92637,     0.92628,      0.9262,     0.92611,     0.92602,     0.92594,     0.92578,     0.92544,     0.92519,     0.92515,\n",
              "            0.92511,     0.92507,     0.92503,     0.92499,     0.92496,     0.92492,     0.92488,     0.92484,      0.9248,     0.92476,     0.92472,     0.92468,     0.92464,     0.92461,     0.92457,     0.92453,     0.92453,     0.92453,     0.92453,     0.92453,     0.92453,     0.92453,     0.92453,\n",
              "            0.92453,     0.92453,     0.92453,     0.92453,     0.92453,     0.92453,     0.92453,     0.92453,     0.92453,     0.92453,     0.92453,     0.92453,     0.92453,     0.92453,     0.92453,     0.92453,     0.92453,     0.92453,     0.92453,     0.92453,     0.92453,     0.92453,     0.92453,\n",
              "            0.92453,     0.92453,     0.92453,     0.92453,     0.92453,     0.92453,     0.92453,     0.92453,     0.92453,     0.92453,     0.92453,     0.92453,     0.92453,     0.92453,     0.92453,     0.92453,     0.92453,     0.92453,     0.92453,     0.92453,     0.92453,     0.92453,     0.92453,\n",
              "            0.92451,     0.92439,     0.92426,     0.92414,     0.92401,     0.92389,     0.92318,     0.92318,     0.92318,     0.92309,     0.92298,     0.92287,     0.92276,     0.92265,     0.92254,     0.92183,     0.92183,     0.92183,     0.92183,     0.92183,     0.92183,     0.92183,     0.92183,\n",
              "            0.92179,     0.92173,     0.92167,      0.9216,     0.92154,     0.92148,     0.92141,     0.92135,     0.92129,     0.92123,     0.92116,     0.92116,     0.92116,     0.92116,     0.92109,     0.92102,     0.92096,     0.92089,     0.92082,     0.92075,     0.92069,     0.92062,     0.92055,\n",
              "            0.92049,     0.92049,     0.92049,     0.92049,     0.92049,     0.92049,     0.92049,     0.92049,     0.92049,     0.92049,     0.92023,     0.91988,     0.91977,     0.91972,     0.91967,     0.91962,     0.91957,     0.91953,     0.91948,     0.91943,     0.91938,     0.91933,     0.91928,\n",
              "            0.91923,     0.91918,     0.91914,     0.91914,     0.91914,     0.91914,     0.91914,     0.91914,     0.91894,     0.91841,     0.91824,     0.91807,     0.91789,      0.9177,     0.91747,     0.91724,     0.91712,     0.91712,     0.91712,     0.91712,     0.91712,     0.91712,     0.91712,\n",
              "            0.91712,     0.91712,     0.91712,     0.91705,     0.91696,     0.91687,     0.91677,     0.91668,     0.91659,      0.9165,     0.91589,     0.91577,     0.91577,     0.91577,     0.91577,     0.91576,     0.91541,     0.91508,     0.91497,     0.91485,     0.91474,     0.91462,     0.91451,\n",
              "            0.91442,     0.91442,     0.91429,     0.91412,     0.91394,     0.91377,     0.91375,     0.91375,     0.91375,     0.91375,     0.91375,     0.91375,     0.91375,     0.91375,     0.91375,     0.91375,     0.91375,     0.91375,     0.91375,     0.91375,     0.91375,     0.91375,     0.91375,\n",
              "            0.91375,     0.91375,     0.91375,     0.91375,     0.91375,     0.91375,     0.91375,     0.91375,     0.91375,     0.91375,     0.91375,     0.91375,     0.91375,     0.91375,     0.91375,     0.91375,     0.91375,     0.91375,     0.91375,     0.91375,     0.91375,     0.91375,     0.91375,\n",
              "            0.91307,     0.91307,     0.91307,     0.91307,     0.91307,     0.91307,     0.91307,     0.91307,     0.91307,     0.91307,     0.91307,     0.91302,     0.91267,      0.9124,      0.9124,      0.9124,      0.9124,      0.9124,      0.9124,      0.9124,      0.9124,      0.9124,     0.91177,\n",
              "             0.9114,     0.91105,      0.9106,     0.91038,     0.91038,     0.91038,     0.91038,     0.91038,     0.91038,     0.90903,     0.90903,     0.90903,     0.90903,     0.90903,     0.90866,      0.9079,     0.90768,     0.90768,     0.90768,     0.90768,     0.90725,     0.90691,     0.90672,\n",
              "            0.90652,     0.90633,     0.90625,     0.90617,     0.90609,       0.906,     0.90592,     0.90584,     0.90576,     0.90568,     0.90531,     0.90492,     0.90469,     0.90446,     0.90421,     0.90393,     0.90365,     0.90296,     0.90296,     0.90225,     0.90216,     0.90207,     0.90199,\n",
              "             0.9019,     0.90182,     0.90173,     0.90164,     0.90142,     0.90115,     0.90088,     0.90065,     0.90042,     0.89981,      0.8993,     0.89896,     0.89861,     0.89827,     0.89736,      0.8969,     0.89667,     0.89644,     0.89623,     0.89623,     0.89623,     0.89613,     0.89552,\n",
              "            0.89532,     0.89513,     0.89493,     0.89341,     0.89295,     0.89231,     0.89162,     0.89143,     0.89134,     0.89125,     0.89116,     0.89106,     0.89097,     0.89088,     0.89047,     0.89016,     0.89016,     0.88975,     0.88906,     0.88881,     0.88881,     0.88867,     0.88714,\n",
              "            0.88595,     0.88572,     0.88549,     0.88498,     0.88385,     0.88289,     0.88213,     0.88182,     0.88155,     0.88118,     0.88004,     0.87869,     0.87823,     0.87642,     0.87597,     0.87563,     0.87522,      0.8744,     0.87299,     0.87231,     0.87055,     0.87027,        0.87,\n",
              "            0.86881,     0.86801,      0.8658,     0.86552,     0.86524,     0.86412,     0.86237,     0.86202,     0.86117,     0.86071,     0.85908,     0.85895,     0.85881,     0.85867,     0.85853,      0.8564,     0.85605,     0.85543,     0.85391,     0.85359,     0.85336,     0.85313,     0.85243,\n",
              "            0.84979,     0.84913,     0.84862,     0.84838,     0.84701,     0.84599,     0.84558,     0.84538,     0.84518,     0.84428,     0.84381,     0.84351,     0.84328,     0.84305,     0.84197,     0.84077,     0.84008,     0.83951,     0.83916,     0.83877,     0.83831,     0.83785,     0.83739,\n",
              "            0.83693,     0.83647,     0.83607,     0.83572,     0.83542,     0.83514,     0.83471,     0.83378,     0.83275,     0.83191,     0.83036,     0.82915,     0.82714,     0.82593,     0.82401,     0.82366,     0.82157,     0.82081,     0.81948,     0.81741,     0.81469,     0.81374,     0.81347,\n",
              "             0.8119,     0.80997,     0.80922,     0.80853,     0.80772,     0.80681,     0.80496,     0.80438,     0.80411,     0.80351,     0.80228,     0.80194,     0.80105,     0.80059,     0.79905,      0.7987,      0.7982,     0.79751,     0.79682,     0.79576,     0.79489,     0.79367,      0.7924,\n",
              "            0.79194,     0.79133,     0.78949,     0.78908,     0.78892,     0.78755,     0.78686,     0.78596,     0.78514,     0.78252,     0.78082,     0.78036,     0.77878,     0.77832,     0.77763,     0.77735,     0.77708,      0.7767,     0.77615,     0.77519,     0.77464,      0.7742,     0.77386,\n",
              "            0.77329,     0.77152,     0.77135,     0.77118,       0.771,     0.77066,     0.76938,     0.76891,     0.76845,     0.76759,     0.76554,     0.76348,     0.76313,     0.76077,     0.76042,     0.76004,     0.75938,     0.75892,     0.75831,      0.7558,     0.75423,     0.75354,     0.75049,\n",
              "             0.7496,     0.74755,     0.74572,     0.74478,     0.74461,      0.7424,     0.74194,     0.73993,     0.73788,     0.73516,     0.73444,     0.73171,     0.73019,     0.72962,     0.72665,     0.72281,     0.72089,     0.71938,      0.7185,     0.71459,     0.71119,     0.70711,     0.70573,\n",
              "            0.70368,     0.70027,     0.69687,     0.69077,       0.684,      0.6806,     0.67719,     0.67244,     0.67106,     0.66833,     0.66358,     0.66153,      0.6561,      0.6527,     0.64997,     0.64859,     0.64537,     0.64266,     0.63905,     0.63767,     0.63284,     0.62548,     0.62005,\n",
              "            0.61665,     0.61356,     0.60984,      0.5997,     0.59495,     0.59155,     0.58477,     0.57876,     0.57595,     0.57052,     0.56712,     0.56237,     0.55829,     0.55219,     0.54879,     0.54337,     0.53794,     0.52713,     0.51361,     0.50752,     0.50007,     0.48925,     0.48653,\n",
              "            0.47773,     0.46826,     0.46217,     0.45607,     0.44862,     0.43915,     0.42969,     0.42224,      0.4121,     0.39926,     0.39249,      0.3837,     0.37221,     0.35802,     0.34586,     0.33167,     0.31816,     0.30128,     0.29047,     0.27426,     0.25536,     0.24185,     0.22632,\n",
              "            0.21617,     0.20401,     0.18915,     0.17497,     0.16078,     0.14795,     0.13444,     0.11621,     0.10337,    0.091882,    0.080392,    0.066882,    0.059435,    0.051315,    0.045891,    0.039119,    0.031335,      0.0249,    0.015433,     0.01203,    0.006605,   0.0038758,   0.0031943,\n",
              "           0.002918,   0.0025612,   0.0017194,           0,           0,           0,           0,           0,           0,           0,           0,           0,           0,           0,           0,           0,           0,           0,           0,           0,           0,           0,           0,\n",
              "                  0,           0,           0,           0,           0,           0,           0,           0,           0,           0,           0]]), 'Confidence', 'Recall']]\n",
              "fitness: np.float64(0.8640052950630438)\n",
              "keys: ['metrics/precision(B)', 'metrics/recall(B)', 'metrics/mAP50(B)', 'metrics/mAP50-95(B)']\n",
              "maps: array([    0.85315])\n",
              "names: {0: 'Accident'}\n",
              "plot: True\n",
              "results_dict: {'metrics/precision(B)': np.float64(0.95889726849017), 'metrics/recall(B)': np.float64(0.9275120527085936), 'metrics/mAP50(B)': np.float64(0.9617449924907108), 'metrics/mAP50-95(B)': np.float64(0.853145328682192), 'fitness': np.float64(0.8640052950630438)}\n",
              "save_dir: PosixPath('/content/drive/MyDrive/Colab Notebooks/training_results/accident_model3')\n",
              "speed: {'preprocess': 0.13208891875786932, 'inference': 2.7259828863938202, 'loss': 0.00021849537559011717, 'postprocess': 1.7932754669740416}\n",
              "task: 'detect'"
            ]
          },
          "metadata": {},
          "execution_count": 9
        }
      ],
      "source": [
        "# # Resume training (optional)\n",
        "\n",
        "# from ultralytics import YOLO\n",
        "\n",
        "# model = YOLO(\"/content/drive/MyDrive/Colab Notebooks/training_results/accident_model/weights/last.pt\")  # Load last saved model\n",
        "\n",
        "# model.train(\n",
        "#     data=\"data.yaml\",  # Dataset configuration\n",
        "#     epochs=70,  # Continue training until full completion\n",
        "#     imgsz=640,\n",
        "#     batch=16,\n",
        "#     device=\"cuda\",\n",
        "#     project=\"/content/drive/MyDrive/Colab Notebooks/training_results\",\n",
        "#     name=\"accidentmodel_2\",\n",
        "#     save=True,\n",
        "#     save_period=1,\n",
        "#     cache=True,\n",
        "#     resume=True  # Resume from last checkpoint\n",
        "# )\n",
        "\n",
        "\n",
        "# from ultralytics import YOLO\n",
        "\n",
        "# model = YOLO(\"/content/drive/MyDrive/Colab Notebooks/training_results/accident_model/weights/last.pt\")  # Load model weights only\n",
        "\n",
        "# model.train(\n",
        "#     data=\"/content/accident_dataset/dataset/data.yaml\",\n",
        "#     epochs=20,  # 20 more epochs\n",
        "#     imgsz=640,\n",
        "#     batch=16,\n",
        "#     device=\"cuda\",\n",
        "#     project=\"/content/drive/MyDrive/Colab Notebooks/training_results\",\n",
        "#     name=\"accidentmodel_2\",  # You can use a new name if you want\n",
        "#     save=True,\n",
        "#     save_period=1,\n",
        "#     cache=True,\n",
        "#     resume=False  # <- Important!\n",
        "# )\n",
        "\n",
        "\n",
        "from ultralytics import YOLO\n",
        "\n",
        "# Load the previously saved checkpoint\n",
        "model = YOLO('/content/drive/MyDrive/Colab Notebooks/training_results/accident_model3/weights/last.pt')\n",
        "\n",
        "# Resume training from the last checkpoint\n",
        "model.train(\n",
        "    data=\"/content/accident_dataset/dataset/data.yaml\",\n",
        "    epochs=50,  # Can be set to additional epochs as needed\n",
        "    imgsz=512,\n",
        "    batch=32,\n",
        "    device=\"cuda\",\n",
        "    workers=2,\n",
        "    project='/content/drive/MyDrive/Colab Notebooks/training_results',\n",
        "    name='accident_model4',  # Must match the original training run name\n",
        "    save=True,\n",
        "    save_period=1,\n",
        "    cache=True,\n",
        "    patience=7,\n",
        "    amp=True,\n",
        "    resume=True  # Key flag to resume training\n",
        ")"
      ]
    },
    {
      "cell_type": "code",
      "execution_count": null,
      "metadata": {
        "colab": {
          "base_uri": "https://localhost:8080/"
        },
        "id": "MtVDHJxA9IaQ",
        "outputId": "4344259b-0e20-4c99-c3b6-b4bbe60e9824"
      },
      "outputs": [
        {
          "output_type": "stream",
          "name": "stdout",
          "text": [
            "\n",
            "image 1/362 /content/accident_dataset/dataset/test/images/5_17_jpg.rf.2cfeb69167add73d8770a7c11858907c.jpg: 416x512 (no detections), 71.4ms\n",
            "image 2/362 /content/accident_dataset/dataset/test/images/5_22_jpg.rf.34fc5c96747de488c9904462e319fb94.jpg: 416x512 (no detections), 13.0ms\n",
            "image 3/362 /content/accident_dataset/dataset/test/images/5_28_jpg.rf.a607cec7b0ce8839f3a63a4831811ed0.jpg: 416x512 (no detections), 13.2ms\n",
            "image 4/362 /content/accident_dataset/dataset/test/images/Accidents-online-video-cutter_com-1-_mp4-113_jpg.rf.112f0d2de1c63e3f74eab57d547761e9.jpg: 288x512 1 Accident, 67.3ms\n",
            "image 5/362 /content/accident_dataset/dataset/test/images/Accidents-online-video-cutter_com-1-_mp4-130_jpg.rf.ec0bb625a1004c02fd46b003211b05d8.jpg: 288x512 (no detections), 15.8ms\n",
            "image 6/362 /content/accident_dataset/dataset/test/images/Accidents-online-video-cutter_com-1-_mp4-135_jpg.rf.f108f575af0aea85bd906f42fd02eb1c.jpg: 288x512 (no detections), 13.6ms\n",
            "image 7/362 /content/accident_dataset/dataset/test/images/Accidents-online-video-cutter_com-1-_mp4-137_jpg.rf.7d32c5cb51f07fb8a90faf9d1a22a7d6.jpg: 288x512 (no detections), 8.5ms\n",
            "image 8/362 /content/accident_dataset/dataset/test/images/Accidents-online-video-cutter_com-1-_mp4-140_jpg.rf.d3c6fa318f4f3c3043745d6c22dfc238.jpg: 288x512 (no detections), 12.4ms\n",
            "image 9/362 /content/accident_dataset/dataset/test/images/Accidents-online-video-cutter_com-1-_mp4-142_jpg.rf.fd010f5fd2cd8b38f0f484fe7a606646.jpg: 288x512 (no detections), 8.5ms\n",
            "image 10/362 /content/accident_dataset/dataset/test/images/Accidents-online-video-cutter_com-1-_mp4-143_jpg.rf.47a2e8b9e631f1a9287e2b06c650d2d7.jpg: 288x512 1 Accident, 8.5ms\n",
            "image 11/362 /content/accident_dataset/dataset/test/images/Accidents-online-video-cutter_com-1-_mp4-152_jpg.rf.fd75a0aad3f8a43c965e1c72279a6e74.jpg: 288x512 (no detections), 8.5ms\n",
            "image 12/362 /content/accident_dataset/dataset/test/images/Accidents-online-video-cutter_com-1-_mp4-162_jpg.rf.676e821850de05531d5a4ca28f9be2f1.jpg: 288x512 (no detections), 8.5ms\n",
            "image 13/362 /content/accident_dataset/dataset/test/images/Accidents-online-video-cutter_com-1-_mp4-165_jpg.rf.ce17b08d6ffc9e4128be6b837f030ac1.jpg: 288x512 (no detections), 8.8ms\n",
            "image 14/362 /content/accident_dataset/dataset/test/images/Accidents-online-video-cutter_com-1-_mp4-23_jpg.rf.769e8161d5dd6387492722e2feb10694.jpg: 288x512 1 Accident, 8.6ms\n",
            "image 15/362 /content/accident_dataset/dataset/test/images/Accidents-online-video-cutter_com-1-_mp4-30_jpg.rf.5478c115658d8ff16011ffce562b04d5.jpg: 288x512 1 Accident, 8.5ms\n",
            "image 16/362 /content/accident_dataset/dataset/test/images/Accidents-online-video-cutter_com-1-_mp4-37_jpg.rf.06b9e5d76c14d06554665ccd2524dd4b.jpg: 288x512 1 Accident, 8.5ms\n",
            "image 17/362 /content/accident_dataset/dataset/test/images/Accidents-online-video-cutter_com-1-_mp4-42_jpg.rf.8f21c476d147387b0dfab48f3644f2bc.jpg: 288x512 1 Accident, 8.5ms\n",
            "image 18/362 /content/accident_dataset/dataset/test/images/Accidents-online-video-cutter_com-1-_mp4-48_jpg.rf.4c0e90c5d919a281e9a1aeef5c0e1a12.jpg: 288x512 1 Accident, 8.5ms\n",
            "image 19/362 /content/accident_dataset/dataset/test/images/Accidents-online-video-cutter_com-1-_mp4-51_jpg.rf.cab8d6d6d59492b759600190037efb40.jpg: 288x512 1 Accident, 8.5ms\n",
            "image 20/362 /content/accident_dataset/dataset/test/images/Accidents-online-video-cutter_com-1-_mp4-52_jpg.rf.0f5acd4e500296efd93304cc1b14f40d.jpg: 288x512 1 Accident, 7.2ms\n",
            "image 21/362 /content/accident_dataset/dataset/test/images/Accidents-online-video-cutter_com-1-_mp4-53_jpg.rf.e73c9ffbbbfb81141033c02f7127de56.jpg: 288x512 1 Accident, 7.2ms\n",
            "image 22/362 /content/accident_dataset/dataset/test/images/Accidents-online-video-cutter_com-_mp4-1005_jpg.rf.135c42e6d78c80503fcad9f8833d27d2.jpg: 288x512 (no detections), 7.2ms\n",
            "image 23/362 /content/accident_dataset/dataset/test/images/Accidents-online-video-cutter_com-_mp4-1010_jpg.rf.17c968cba9173dcc4e4bf6e3b9cb1d28.jpg: 288x512 (no detections), 7.3ms\n",
            "image 24/362 /content/accident_dataset/dataset/test/images/Accidents-online-video-cutter_com-_mp4-1029_jpg.rf.8652f3cd051165b6655140fc305b4141.jpg: 288x512 (no detections), 7.3ms\n",
            "image 25/362 /content/accident_dataset/dataset/test/images/Accidents-online-video-cutter_com-_mp4-1033_jpg.rf.7681c430080bec5ffa9fbd9ff431a12e.jpg: 288x512 (no detections), 7.2ms\n",
            "image 26/362 /content/accident_dataset/dataset/test/images/Accidents-online-video-cutter_com-_mp4-1034_jpg.rf.c60bf4bd5b4652d49969ce079e3c2783.jpg: 288x512 (no detections), 7.2ms\n",
            "image 27/362 /content/accident_dataset/dataset/test/images/Accidents-online-video-cutter_com-_mp4-1049_jpg.rf.ef16f3ce5c6d562f3151d9bc1d2c7acd.jpg: 288x512 (no detections), 7.2ms\n",
            "image 28/362 /content/accident_dataset/dataset/test/images/Accidents-online-video-cutter_com-_mp4-1051_jpg.rf.88828dc42ad9c022c75889868d7c65b8.jpg: 288x512 (no detections), 7.2ms\n",
            "image 29/362 /content/accident_dataset/dataset/test/images/Accidents-online-video-cutter_com-_mp4-1062_jpg.rf.a3f21c9abcbdf0100d49516ec0f8a64c.jpg: 288x512 (no detections), 7.2ms\n",
            "image 30/362 /content/accident_dataset/dataset/test/images/Accidents-online-video-cutter_com-_mp4-1071_jpg.rf.8f27079e644ced09ba97b16ce092dbfa.jpg: 288x512 (no detections), 7.2ms\n",
            "image 31/362 /content/accident_dataset/dataset/test/images/Accidents-online-video-cutter_com-_mp4-1072_jpg.rf.12879252f412cc5f1a0934e9d65ca386.jpg: 288x512 (no detections), 7.3ms\n",
            "image 32/362 /content/accident_dataset/dataset/test/images/Accidents-online-video-cutter_com-_mp4-1075_jpg.rf.4196039c4155b5eff66f7b52c90d5e1e.jpg: 288x512 (no detections), 7.2ms\n",
            "image 33/362 /content/accident_dataset/dataset/test/images/Accidents-online-video-cutter_com-_mp4-1099_jpg.rf.2b343d1a26e9fbbd6490be7c7d34262f.jpg: 288x512 (no detections), 6.2ms\n",
            "image 34/362 /content/accident_dataset/dataset/test/images/Accidents-online-video-cutter_com-_mp4-1110_jpg.rf.6df05b2b6b0aba722cefcada54a7368f.jpg: 288x512 (no detections), 6.2ms\n",
            "image 35/362 /content/accident_dataset/dataset/test/images/Accidents-online-video-cutter_com-_mp4-1143_jpg.rf.f3f261cc1c98f7354f9f6ee0c1ad3f1e.jpg: 288x512 (no detections), 6.9ms\n",
            "image 36/362 /content/accident_dataset/dataset/test/images/Accidents-online-video-cutter_com-_mp4-1157_jpg.rf.43c484182214c1e0de064da8939e324a.jpg: 288x512 (no detections), 7.0ms\n",
            "image 37/362 /content/accident_dataset/dataset/test/images/Accidents-online-video-cutter_com-_mp4-1168_jpg.rf.ea7432b148d62d87a7d32f247c1c9151.jpg: 288x512 (no detections), 6.4ms\n",
            "image 38/362 /content/accident_dataset/dataset/test/images/Accidents-online-video-cutter_com-_mp4-1172_jpg.rf.330cbd93a86023d1de58b9ed93dcc4ed.jpg: 288x512 (no detections), 6.3ms\n",
            "image 39/362 /content/accident_dataset/dataset/test/images/Accidents-online-video-cutter_com-_mp4-1176_jpg.rf.daec44b4afc96b263bebfb4c5f07072e.jpg: 288x512 (no detections), 6.2ms\n",
            "image 40/362 /content/accident_dataset/dataset/test/images/Accidents-online-video-cutter_com-_mp4-1183_jpg.rf.bcf357dcb727c61b03c0fb3ce02b02c1.jpg: 288x512 (no detections), 6.5ms\n",
            "image 41/362 /content/accident_dataset/dataset/test/images/Accidents-online-video-cutter_com-_mp4-1184_jpg.rf.f4477a9d4f3fc82aaff07151b815bf03.jpg: 288x512 (no detections), 6.4ms\n",
            "image 42/362 /content/accident_dataset/dataset/test/images/Accidents-online-video-cutter_com-_mp4-118_jpg.rf.e63e7c094bb096026e5b8c27f3828a20.jpg: 288x512 (no detections), 6.2ms\n",
            "image 43/362 /content/accident_dataset/dataset/test/images/Accidents-online-video-cutter_com-_mp4-1206_jpg.rf.6950ad90d7e4925a894d90f8e1b4630c.jpg: 288x512 (no detections), 6.4ms\n",
            "image 44/362 /content/accident_dataset/dataset/test/images/Accidents-online-video-cutter_com-_mp4-1211_jpg.rf.bb940a5b1ab8ed100c4156948c845171.jpg: 288x512 (no detections), 6.3ms\n",
            "image 45/362 /content/accident_dataset/dataset/test/images/Accidents-online-video-cutter_com-_mp4-1219_jpg.rf.fec8a073137ab8d004e388386447d452.jpg: 288x512 (no detections), 7.5ms\n",
            "image 46/362 /content/accident_dataset/dataset/test/images/Accidents-online-video-cutter_com-_mp4-1263_jpg.rf.173243e892c27cf336f1fbd6028a302d.jpg: 288x512 (no detections), 6.5ms\n",
            "image 47/362 /content/accident_dataset/dataset/test/images/Accidents-online-video-cutter_com-_mp4-1264_jpg.rf.3d58e0be1e88af6c28bdcef689df5ee2.jpg: 288x512 (no detections), 6.3ms\n",
            "image 48/362 /content/accident_dataset/dataset/test/images/Accidents-online-video-cutter_com-_mp4-1270_jpg.rf.5c09871710b821a0c4bb295f365bc893.jpg: 288x512 (no detections), 6.3ms\n",
            "image 49/362 /content/accident_dataset/dataset/test/images/Accidents-online-video-cutter_com-_mp4-1271_jpg.rf.ad477427801e152bc5c5db3521498a3b.jpg: 288x512 (no detections), 6.2ms\n",
            "image 50/362 /content/accident_dataset/dataset/test/images/Accidents-online-video-cutter_com-_mp4-1277_jpg.rf.4e767c35045d1a463d0678faeb85fe4d.jpg: 288x512 (no detections), 6.3ms\n",
            "image 51/362 /content/accident_dataset/dataset/test/images/Accidents-online-video-cutter_com-_mp4-1281_jpg.rf.ad3dd0e955f64039c34704876a4ee87b.jpg: 288x512 (no detections), 6.5ms\n",
            "image 52/362 /content/accident_dataset/dataset/test/images/Accidents-online-video-cutter_com-_mp4-1283_jpg.rf.3a6b6ebfa1b30fac719755ed73752e29.jpg: 288x512 (no detections), 6.2ms\n",
            "image 53/362 /content/accident_dataset/dataset/test/images/Accidents-online-video-cutter_com-_mp4-129_jpg.rf.553d13da09631a35f1c25a654dfdf7ed.jpg: 288x512 (no detections), 6.5ms\n",
            "image 54/362 /content/accident_dataset/dataset/test/images/Accidents-online-video-cutter_com-_mp4-1313_jpg.rf.7d66084776e16daab77eb13894541ee6.jpg: 288x512 (no detections), 7.1ms\n",
            "image 55/362 /content/accident_dataset/dataset/test/images/Accidents-online-video-cutter_com-_mp4-131_jpg.rf.7b485fd13630fa7954ea195b8f7b94c2.jpg: 288x512 (no detections), 6.4ms\n",
            "image 56/362 /content/accident_dataset/dataset/test/images/Accidents-online-video-cutter_com-_mp4-1324_jpg.rf.e6551c4aff5998ae8d2429736c7e5401.jpg: 288x512 (no detections), 6.5ms\n",
            "image 57/362 /content/accident_dataset/dataset/test/images/Accidents-online-video-cutter_com-_mp4-1330_jpg.rf.1b212e4bb1cc7483e47a82cf97eb888d.jpg: 288x512 (no detections), 6.8ms\n",
            "image 58/362 /content/accident_dataset/dataset/test/images/Accidents-online-video-cutter_com-_mp4-135_jpg.rf.2962622b965791d137970ea0ebffc934.jpg: 288x512 (no detections), 6.5ms\n",
            "image 59/362 /content/accident_dataset/dataset/test/images/Accidents-online-video-cutter_com-_mp4-1360_jpg.rf.9cc94106dbb34e0d7ce2565901d5254e.jpg: 288x512 (no detections), 6.4ms\n",
            "image 60/362 /content/accident_dataset/dataset/test/images/Accidents-online-video-cutter_com-_mp4-1369_jpg.rf.7eb96ecb323eb5d436a167d8ea56b82a.jpg: 288x512 (no detections), 6.6ms\n",
            "image 61/362 /content/accident_dataset/dataset/test/images/Accidents-online-video-cutter_com-_mp4-13_jpg.rf.96acbb8fef0d37fadfbdc749577c4e49.jpg: 288x512 (no detections), 6.7ms\n",
            "image 62/362 /content/accident_dataset/dataset/test/images/Accidents-online-video-cutter_com-_mp4-141_jpg.rf.7f39fbeac1840211aa17840da297da9d.jpg: 288x512 (no detections), 6.6ms\n",
            "image 63/362 /content/accident_dataset/dataset/test/images/Accidents-online-video-cutter_com-_mp4-15_jpg.rf.670ee267698f4858a463e9fe191be66c.jpg: 288x512 (no detections), 6.6ms\n",
            "image 64/362 /content/accident_dataset/dataset/test/images/Accidents-online-video-cutter_com-_mp4-160_jpg.rf.bb1c52491b77576bd6ed9a53a5e96323.jpg: 288x512 (no detections), 6.4ms\n",
            "image 65/362 /content/accident_dataset/dataset/test/images/Accidents-online-video-cutter_com-_mp4-164_jpg.rf.f3f6ea89e9e75c1fe070de0470229866.jpg: 288x512 (no detections), 6.5ms\n",
            "image 66/362 /content/accident_dataset/dataset/test/images/Accidents-online-video-cutter_com-_mp4-168_jpg.rf.977a92bc567d0f755f90a05b9a536e96.jpg: 288x512 (no detections), 8.7ms\n",
            "image 67/362 /content/accident_dataset/dataset/test/images/Accidents-online-video-cutter_com-_mp4-172_jpg.rf.0dabab2a5c5a691b49f95f0da3f62b6b.jpg: 288x512 (no detections), 6.3ms\n",
            "image 68/362 /content/accident_dataset/dataset/test/images/Accidents-online-video-cutter_com-_mp4-181_jpg.rf.bc081d6d796f9064a11abb8e6eec1422.jpg: 288x512 (no detections), 6.3ms\n",
            "image 69/362 /content/accident_dataset/dataset/test/images/Accidents-online-video-cutter_com-_mp4-183_jpg.rf.7abc2cdbd19139ab979ddec5a63159bb.jpg: 288x512 (no detections), 6.4ms\n",
            "image 70/362 /content/accident_dataset/dataset/test/images/Accidents-online-video-cutter_com-_mp4-190_jpg.rf.8db8c3e7e7577f7c548b5b8eaac44098.jpg: 288x512 (no detections), 6.4ms\n",
            "image 71/362 /content/accident_dataset/dataset/test/images/Accidents-online-video-cutter_com-_mp4-199_jpg.rf.fd969d93b916e39b45a7d67baeb15793.jpg: 288x512 (no detections), 6.5ms\n",
            "image 72/362 /content/accident_dataset/dataset/test/images/Accidents-online-video-cutter_com-_mp4-19_jpg.rf.dede93013a0c76849770bfcba152fed0.jpg: 288x512 (no detections), 7.3ms\n",
            "image 73/362 /content/accident_dataset/dataset/test/images/Accidents-online-video-cutter_com-_mp4-202_jpg.rf.49fc764e5c401846c8453083e6cb1037.jpg: 288x512 (no detections), 6.7ms\n",
            "image 74/362 /content/accident_dataset/dataset/test/images/Accidents-online-video-cutter_com-_mp4-210_jpg.rf.f1c17f6f194ffba64b0f3d1efa86b1ff.jpg: 288x512 (no detections), 6.4ms\n",
            "image 75/362 /content/accident_dataset/dataset/test/images/Accidents-online-video-cutter_com-_mp4-214_jpg.rf.6e22bea43616451488a3da356489725f.jpg: 288x512 (no detections), 6.5ms\n",
            "image 76/362 /content/accident_dataset/dataset/test/images/Accidents-online-video-cutter_com-_mp4-223_jpg.rf.aa3995d17d4e60d559ae27ec7de028bf.jpg: 288x512 (no detections), 6.4ms\n",
            "image 77/362 /content/accident_dataset/dataset/test/images/Accidents-online-video-cutter_com-_mp4-240_jpg.rf.139a67eb06b969743d24962a9508ba3a.jpg: 288x512 (no detections), 7.9ms\n",
            "image 78/362 /content/accident_dataset/dataset/test/images/Accidents-online-video-cutter_com-_mp4-261_jpg.rf.d57df853c29e32ea5eae02b1bc5beaa8.jpg: 288x512 (no detections), 11.4ms\n",
            "image 79/362 /content/accident_dataset/dataset/test/images/Accidents-online-video-cutter_com-_mp4-266_jpg.rf.c769719df145b110323e4a91ee87c612.jpg: 288x512 (no detections), 6.7ms\n",
            "image 80/362 /content/accident_dataset/dataset/test/images/Accidents-online-video-cutter_com-_mp4-284_jpg.rf.6508c780b7db5a735ba0065d5258c359.jpg: 288x512 (no detections), 6.5ms\n",
            "image 81/362 /content/accident_dataset/dataset/test/images/Accidents-online-video-cutter_com-_mp4-299_jpg.rf.1a7fe37dc414b87cefe38bbf7ef3b0a8.jpg: 288x512 (no detections), 8.6ms\n",
            "image 82/362 /content/accident_dataset/dataset/test/images/Accidents-online-video-cutter_com-_mp4-309_jpg.rf.60901fa34c14508a71587edafdc64418.jpg: 288x512 (no detections), 7.7ms\n",
            "image 83/362 /content/accident_dataset/dataset/test/images/Accidents-online-video-cutter_com-_mp4-320_jpg.rf.9e7dcadf5795e28952e3f0402c6ce7a3.jpg: 288x512 (no detections), 7.8ms\n",
            "image 84/362 /content/accident_dataset/dataset/test/images/Accidents-online-video-cutter_com-_mp4-325_jpg.rf.3f118102c8e3e407d01cbb44c8a02f9f.jpg: 288x512 (no detections), 6.5ms\n",
            "image 85/362 /content/accident_dataset/dataset/test/images/Accidents-online-video-cutter_com-_mp4-32_jpg.rf.a008d380588a3c03e86ab0afdf52116e.jpg: 288x512 (no detections), 6.5ms\n",
            "image 86/362 /content/accident_dataset/dataset/test/images/Accidents-online-video-cutter_com-_mp4-330_jpg.rf.da0ecf47733a240e0d47c8ce536d81f4.jpg: 288x512 (no detections), 6.9ms\n",
            "image 87/362 /content/accident_dataset/dataset/test/images/Accidents-online-video-cutter_com-_mp4-333_jpg.rf.3944a3f6a4de46372b96f1c5535c3fd5.jpg: 288x512 (no detections), 6.4ms\n",
            "image 88/362 /content/accident_dataset/dataset/test/images/Accidents-online-video-cutter_com-_mp4-33_jpg.rf.0ee84267afefd54963d0cbc6d2359c07.jpg: 288x512 (no detections), 7.6ms\n",
            "image 89/362 /content/accident_dataset/dataset/test/images/Accidents-online-video-cutter_com-_mp4-346_jpg.rf.bb748667d4f9b4a307d83a5b129103f4.jpg: 288x512 (no detections), 6.3ms\n",
            "image 90/362 /content/accident_dataset/dataset/test/images/Accidents-online-video-cutter_com-_mp4-34_jpg.rf.84a227be4cc903d41a1faaf0b5b83eff.jpg: 288x512 (no detections), 6.4ms\n",
            "image 91/362 /content/accident_dataset/dataset/test/images/Accidents-online-video-cutter_com-_mp4-374_jpg.rf.5be2e7de9efa6018834611d990e72454.jpg: 288x512 (no detections), 6.2ms\n",
            "image 92/362 /content/accident_dataset/dataset/test/images/Accidents-online-video-cutter_com-_mp4-380_jpg.rf.baadebc2d8d71e9117759be510620858.jpg: 288x512 (no detections), 6.3ms\n",
            "image 93/362 /content/accident_dataset/dataset/test/images/Accidents-online-video-cutter_com-_mp4-397_jpg.rf.0f6db0d56ed176ad3b07c87e4796a4e4.jpg: 288x512 (no detections), 7.3ms\n",
            "image 94/362 /content/accident_dataset/dataset/test/images/Accidents-online-video-cutter_com-_mp4-400_jpg.rf.89e56ca0b0448e7607f80fe2c867fa2a.jpg: 288x512 (no detections), 6.2ms\n",
            "image 95/362 /content/accident_dataset/dataset/test/images/Accidents-online-video-cutter_com-_mp4-413_jpg.rf.eab02b0f005523ef4b2e428a66224b44.jpg: 288x512 (no detections), 7.2ms\n",
            "image 96/362 /content/accident_dataset/dataset/test/images/Accidents-online-video-cutter_com-_mp4-421_jpg.rf.fc033a94cd73440c7b266fc59f96a4e2.jpg: 288x512 (no detections), 6.3ms\n",
            "image 97/362 /content/accident_dataset/dataset/test/images/Accidents-online-video-cutter_com-_mp4-428_jpg.rf.d40878d0cd60f72af44791e1d495232c.jpg: 288x512 (no detections), 6.2ms\n",
            "image 98/362 /content/accident_dataset/dataset/test/images/Accidents-online-video-cutter_com-_mp4-429_jpg.rf.291090ed9b4814f7670920c01c903676.jpg: 288x512 (no detections), 6.1ms\n",
            "image 99/362 /content/accident_dataset/dataset/test/images/Accidents-online-video-cutter_com-_mp4-438_jpg.rf.6d3f57f143d07ce001138ebebda7651e.jpg: 288x512 (no detections), 6.2ms\n",
            "image 100/362 /content/accident_dataset/dataset/test/images/Accidents-online-video-cutter_com-_mp4-458_jpg.rf.8da187c5ad54097a8e261a78f1bfb286.jpg: 288x512 1 Accident, 6.2ms\n",
            "image 101/362 /content/accident_dataset/dataset/test/images/Accidents-online-video-cutter_com-_mp4-45_jpg.rf.a1f199b7276854bf020d85eccd3f8f42.jpg: 288x512 (no detections), 6.3ms\n",
            "image 102/362 /content/accident_dataset/dataset/test/images/Accidents-online-video-cutter_com-_mp4-476_jpg.rf.1fd5c29c4eb1ee8d5d8ca1ed8f5d8a2c.jpg: 288x512 (no detections), 6.3ms\n",
            "image 103/362 /content/accident_dataset/dataset/test/images/Accidents-online-video-cutter_com-_mp4-508_jpg.rf.3b72076df8150bc590903f95cb01116d.jpg: 288x512 (no detections), 6.1ms\n",
            "image 104/362 /content/accident_dataset/dataset/test/images/Accidents-online-video-cutter_com-_mp4-512_jpg.rf.980ffdb86c5192bc65ebaef02715cdc8.jpg: 288x512 (no detections), 6.2ms\n",
            "image 105/362 /content/accident_dataset/dataset/test/images/Accidents-online-video-cutter_com-_mp4-525_jpg.rf.fdc5c4029c39286db3bbfab0ff8e0133.jpg: 288x512 (no detections), 6.6ms\n",
            "image 106/362 /content/accident_dataset/dataset/test/images/Accidents-online-video-cutter_com-_mp4-530_jpg.rf.c860745d6990707ba12a574d64b0a89d.jpg: 288x512 (no detections), 8.2ms\n",
            "image 107/362 /content/accident_dataset/dataset/test/images/Accidents-online-video-cutter_com-_mp4-532_jpg.rf.bd683794efed25064e6559a6ec343689.jpg: 288x512 (no detections), 6.3ms\n",
            "image 108/362 /content/accident_dataset/dataset/test/images/Accidents-online-video-cutter_com-_mp4-567_jpg.rf.b975a92134f0e803bf26705cdb591b2f.jpg: 288x512 (no detections), 6.5ms\n",
            "image 109/362 /content/accident_dataset/dataset/test/images/Accidents-online-video-cutter_com-_mp4-569_jpg.rf.277024b2c9eb21bc87277ba985abc353.jpg: 288x512 (no detections), 6.4ms\n",
            "image 110/362 /content/accident_dataset/dataset/test/images/Accidents-online-video-cutter_com-_mp4-577_jpg.rf.7687819ac1ca2e682c36dc4d29853a5d.jpg: 288x512 (no detections), 6.4ms\n",
            "image 111/362 /content/accident_dataset/dataset/test/images/Accidents-online-video-cutter_com-_mp4-604_jpg.rf.f9bde066f1dc4dbcc8172a0bb4c97d8d.jpg: 288x512 (no detections), 6.5ms\n",
            "image 112/362 /content/accident_dataset/dataset/test/images/Accidents-online-video-cutter_com-_mp4-615_jpg.rf.648ef9497f936ff7039429b737d21294.jpg: 288x512 (no detections), 6.3ms\n",
            "image 113/362 /content/accident_dataset/dataset/test/images/Accidents-online-video-cutter_com-_mp4-620_jpg.rf.7cec62969f51b95ea5bb240213c8ddcd.jpg: 288x512 (no detections), 6.4ms\n",
            "image 114/362 /content/accident_dataset/dataset/test/images/Accidents-online-video-cutter_com-_mp4-627_jpg.rf.c94c0d2e202579a23ddb44dd21629dbf.jpg: 288x512 (no detections), 6.4ms\n",
            "image 115/362 /content/accident_dataset/dataset/test/images/Accidents-online-video-cutter_com-_mp4-62_jpg.rf.118d03962525702271fae11171fcd0ee.jpg: 288x512 (no detections), 6.2ms\n",
            "image 116/362 /content/accident_dataset/dataset/test/images/Accidents-online-video-cutter_com-_mp4-664_jpg.rf.78e48b2d3aae25cc4094b66c24d6375a.jpg: 288x512 (no detections), 6.1ms\n",
            "image 117/362 /content/accident_dataset/dataset/test/images/Accidents-online-video-cutter_com-_mp4-665_jpg.rf.bc7ec843992e0e06b139b786e92c59de.jpg: 288x512 (no detections), 6.4ms\n",
            "image 118/362 /content/accident_dataset/dataset/test/images/Accidents-online-video-cutter_com-_mp4-674_jpg.rf.d35389c404d3115b39a6912c0353e7ea.jpg: 288x512 (no detections), 6.3ms\n",
            "image 119/362 /content/accident_dataset/dataset/test/images/Accidents-online-video-cutter_com-_mp4-684_jpg.rf.267b37f916d9327dd4da64ebae067e5d.jpg: 288x512 (no detections), 6.2ms\n",
            "image 120/362 /content/accident_dataset/dataset/test/images/Accidents-online-video-cutter_com-_mp4-689_jpg.rf.8b2a8ae5a6c59a0d19d9a915626a6875.jpg: 288x512 (no detections), 6.1ms\n",
            "image 121/362 /content/accident_dataset/dataset/test/images/Accidents-online-video-cutter_com-_mp4-706_jpg.rf.06c9942b793d80d1cb9f5ffa917a8525.jpg: 288x512 (no detections), 6.4ms\n",
            "image 122/362 /content/accident_dataset/dataset/test/images/Accidents-online-video-cutter_com-_mp4-717_jpg.rf.345645578e032aad352f2681a9651723.jpg: 288x512 (no detections), 7.2ms\n",
            "image 123/362 /content/accident_dataset/dataset/test/images/Accidents-online-video-cutter_com-_mp4-738_jpg.rf.8aa48d2064005371af3d60b061d33733.jpg: 288x512 (no detections), 6.3ms\n",
            "image 124/362 /content/accident_dataset/dataset/test/images/Accidents-online-video-cutter_com-_mp4-744_jpg.rf.33e892c4e3b97409e330015a8372fb4c.jpg: 288x512 (no detections), 6.7ms\n",
            "image 125/362 /content/accident_dataset/dataset/test/images/Accidents-online-video-cutter_com-_mp4-74_jpg.rf.102e3c794fe35283c44625e7cd09cfd1.jpg: 288x512 (no detections), 6.6ms\n",
            "image 126/362 /content/accident_dataset/dataset/test/images/Accidents-online-video-cutter_com-_mp4-750_jpg.rf.53f8c9bf7b9703efca86d2d7774bc8a9.jpg: 288x512 (no detections), 6.4ms\n",
            "image 127/362 /content/accident_dataset/dataset/test/images/Accidents-online-video-cutter_com-_mp4-760_jpg.rf.f6e69cf9859eec3fc3808f50b776803e.jpg: 288x512 (no detections), 6.3ms\n",
            "image 128/362 /content/accident_dataset/dataset/test/images/Accidents-online-video-cutter_com-_mp4-761_jpg.rf.d812b764bfbf89af66a71d902c07aeab.jpg: 288x512 (no detections), 6.6ms\n",
            "image 129/362 /content/accident_dataset/dataset/test/images/Accidents-online-video-cutter_com-_mp4-809_jpg.rf.94e276a2ff739104e4806193c413349c.jpg: 288x512 (no detections), 6.3ms\n",
            "image 130/362 /content/accident_dataset/dataset/test/images/Accidents-online-video-cutter_com-_mp4-815_jpg.rf.8aba5909d733327e63b59eb631060cfc.jpg: 288x512 (no detections), 6.3ms\n",
            "image 131/362 /content/accident_dataset/dataset/test/images/Accidents-online-video-cutter_com-_mp4-817_jpg.rf.4d299e739fc87de0cbc29252b91aea2b.jpg: 288x512 (no detections), 6.4ms\n",
            "image 132/362 /content/accident_dataset/dataset/test/images/Accidents-online-video-cutter_com-_mp4-824_jpg.rf.145ddb7326b219e60259a27806bafab7.jpg: 288x512 (no detections), 6.2ms\n",
            "image 133/362 /content/accident_dataset/dataset/test/images/Accidents-online-video-cutter_com-_mp4-829_jpg.rf.c31a73d5198a30aa0b31fbf362de94d6.jpg: 288x512 (no detections), 6.3ms\n",
            "image 134/362 /content/accident_dataset/dataset/test/images/Accidents-online-video-cutter_com-_mp4-84_jpg.rf.1865cebb68b317c9ed126c7f305825fd.jpg: 288x512 (no detections), 6.5ms\n",
            "image 135/362 /content/accident_dataset/dataset/test/images/Accidents-online-video-cutter_com-_mp4-851_jpg.rf.b18f098aa196be5dc37b606f64e997f8.jpg: 288x512 (no detections), 6.2ms\n",
            "image 136/362 /content/accident_dataset/dataset/test/images/Accidents-online-video-cutter_com-_mp4-866_jpg.rf.676bd8ea2a95a76124d3e5797219a298.jpg: 288x512 (no detections), 6.4ms\n",
            "image 137/362 /content/accident_dataset/dataset/test/images/Accidents-online-video-cutter_com-_mp4-868_jpg.rf.3408cba763c01077cad4e4b6ceaf05bd.jpg: 288x512 (no detections), 6.5ms\n",
            "image 138/362 /content/accident_dataset/dataset/test/images/Accidents-online-video-cutter_com-_mp4-874_jpg.rf.dd7fa0090fc27367cc01a283f4df0537.jpg: 288x512 (no detections), 6.3ms\n",
            "image 139/362 /content/accident_dataset/dataset/test/images/Accidents-online-video-cutter_com-_mp4-877_jpg.rf.51a3befe436494e56555539b6ade8fa6.jpg: 288x512 (no detections), 7.3ms\n",
            "image 140/362 /content/accident_dataset/dataset/test/images/Accidents-online-video-cutter_com-_mp4-886_jpg.rf.8aad40e3745d56e52746d7c679277aee.jpg: 288x512 (no detections), 6.5ms\n",
            "image 141/362 /content/accident_dataset/dataset/test/images/Accidents-online-video-cutter_com-_mp4-907_jpg.rf.0c7271ffeca25072c28f72668015e1b4.jpg: 288x512 (no detections), 6.5ms\n",
            "image 142/362 /content/accident_dataset/dataset/test/images/Accidents-online-video-cutter_com-_mp4-909_jpg.rf.762c5329429d32a3292bb74a41c42c18.jpg: 288x512 (no detections), 6.3ms\n",
            "image 143/362 /content/accident_dataset/dataset/test/images/Accidents-online-video-cutter_com-_mp4-90_jpg.rf.07b52d897fa305834edf8fb3f675da3f.jpg: 288x512 (no detections), 6.2ms\n",
            "image 144/362 /content/accident_dataset/dataset/test/images/Accidents-online-video-cutter_com-_mp4-910_jpg.rf.50f48fb2d2d7c22f91dfa1ab4a288185.jpg: 288x512 (no detections), 6.3ms\n",
            "image 145/362 /content/accident_dataset/dataset/test/images/Accidents-online-video-cutter_com-_mp4-913_jpg.rf.32219033f7ae7d6b880d5e3149bbccc8.jpg: 288x512 (no detections), 6.1ms\n",
            "image 146/362 /content/accident_dataset/dataset/test/images/Accidents-online-video-cutter_com-_mp4-916_jpg.rf.afea743fb917da98fe0cade5fd182173.jpg: 288x512 (no detections), 12.9ms\n",
            "image 147/362 /content/accident_dataset/dataset/test/images/Accidents-online-video-cutter_com-_mp4-921_jpg.rf.b2a0c8fe0a2403104cf332f79f9e8571.jpg: 288x512 (no detections), 10.7ms\n",
            "image 148/362 /content/accident_dataset/dataset/test/images/Accidents-online-video-cutter_com-_mp4-935_jpg.rf.5c74b6a05c27de53f656b764c1ea5566.jpg: 288x512 (no detections), 7.8ms\n",
            "image 149/362 /content/accident_dataset/dataset/test/images/Accidents-online-video-cutter_com-_mp4-942_jpg.rf.ff3e2e88baa4b9d59f77cc179f7a8603.jpg: 288x512 (no detections), 6.4ms\n",
            "image 150/362 /content/accident_dataset/dataset/test/images/Accidents-online-video-cutter_com-_mp4-94_jpg.rf.320ce9f57c6a7c3a6d184a483803c15d.jpg: 288x512 (no detections), 6.2ms\n",
            "image 151/362 /content/accident_dataset/dataset/test/images/Accidents-online-video-cutter_com-_mp4-951_jpg.rf.830f0a57e0f70e8de5414410a063cd4e.jpg: 288x512 (no detections), 6.2ms\n",
            "image 152/362 /content/accident_dataset/dataset/test/images/Accidents-online-video-cutter_com-_mp4-957_jpg.rf.2df898463d25adb037f8150bed830f18.jpg: 288x512 (no detections), 6.4ms\n",
            "image 153/362 /content/accident_dataset/dataset/test/images/Accidents-online-video-cutter_com-_mp4-960_jpg.rf.81e9387a739d582523f55640c4563489.jpg: 288x512 (no detections), 6.3ms\n",
            "image 154/362 /content/accident_dataset/dataset/test/images/Accidents-online-video-cutter_com-_mp4-967_jpg.rf.8dbeb0da81664637f6bbcfee6aba0b18.jpg: 288x512 (no detections), 7.4ms\n",
            "image 155/362 /content/accident_dataset/dataset/test/images/Accidents-online-video-cutter_com-_mp4-977_jpg.rf.f319969a4b2999c67db2e084c3dd8e2a.jpg: 288x512 (no detections), 6.1ms\n",
            "image 156/362 /content/accident_dataset/dataset/test/images/Accidents-online-video-cutter_com-_mp4-987_jpg.rf.06fca495304ee54b543f4a6752fca193.jpg: 288x512 (no detections), 6.9ms\n",
            "image 157/362 /content/accident_dataset/dataset/test/images/Accidents-online-video-cutter_com-_mp4-988_jpg.rf.2bcb7eaef4fbcb16c724b9d9e2c5417d.jpg: 288x512 (no detections), 6.2ms\n",
            "image 158/362 /content/accident_dataset/dataset/test/images/Accidents-online-video-cutter_com-_mp4-990_jpg.rf.1e8e1b310cdc8be995c24dd7f6298470.jpg: 288x512 (no detections), 6.0ms\n",
            "image 159/362 /content/accident_dataset/dataset/test/images/Accidents-online-video-cutter_com-_mp4-994_jpg.rf.e1280d38979114f05e8e3cf09c80d253.jpg: 288x512 (no detections), 6.0ms\n",
            "image 160/362 /content/accident_dataset/dataset/test/images/Accidents-online-video-cutter_com-_mp4-9_jpg.rf.932830ba77e08935fd023f576df8a1fd.jpg: 288x512 (no detections), 6.1ms\n",
            "image 161/362 /content/accident_dataset/dataset/test/images/OIF-3-_jpeg.rf.149564927d199290884b666dc09d1706.jpg: 352x512 (no detections), 41.4ms\n",
            "image 162/362 /content/accident_dataset/dataset/test/images/OIF-5-_jpeg.rf.aaeec060261ebbdb1d81af4f83a2e6a2.jpg: 320x512 (no detections), 39.1ms\n",
            "image 163/362 /content/accident_dataset/dataset/test/images/OIP-15-_jpeg.rf.7ecd1ef552a6e5e9b23081cd609a34b5.jpg: 352x512 (no detections), 7.3ms\n",
            "image 164/362 /content/accident_dataset/dataset/test/images/OIP-17-_jpeg.rf.a9cf74fbbcc5cdf347b0194f08a89de7.jpg: 352x512 1 Accident, 6.4ms\n",
            "image 165/362 /content/accident_dataset/dataset/test/images/OIP-2023-04-25T164422-021_jpeg.rf.a928bc02363b68f5bafd99e2d625b45b.jpg: 384x512 1 Accident, 40.8ms\n",
            "image 166/362 /content/accident_dataset/dataset/test/images/OIP-2023-04-25T164424-141_jpeg.rf.f319bc88cfacc7ae61592439a1df96ae.jpg: 384x512 (no detections), 6.5ms\n",
            "image 167/362 /content/accident_dataset/dataset/test/images/OIP-2023-04-25T164424-342_jpeg.rf.fbf10a0693c1f05f84ec8d6230ddd641.jpg: 352x512 (no detections), 7.0ms\n",
            "image 168/362 /content/accident_dataset/dataset/test/images/OIP-2023-04-25T164425-588_jpeg.rf.dab572e3c32831edbc0f5295e0a207cc.jpg: 384x512 1 Accident, 8.1ms\n",
            "image 169/362 /content/accident_dataset/dataset/test/images/OIP-2023-04-25T164427-625_jpeg.rf.2dc7fd87e01458884c0018b92a96c9fa.jpg: 416x512 1 Accident, 7.3ms\n",
            "image 170/362 /content/accident_dataset/dataset/test/images/OIP-2023-04-25T164432-323_jpeg.rf.cfc2449f938ae21a6737e246e88b068e.jpg: 512x384 2 Accidents, 39.8ms\n",
            "image 171/362 /content/accident_dataset/dataset/test/images/OIP-2023-04-25T164432-559_jpeg.rf.5d3396c13c8b23aa7861728101182882.jpg: 448x512 1 Accident, 41.3ms\n",
            "image 172/362 /content/accident_dataset/dataset/test/images/OIP-2023-04-25T164433-194_jpeg.rf.9ac913e9ad69ddece6701d8bba313a4e.jpg: 320x512 (no detections), 7.5ms\n",
            "image 173/362 /content/accident_dataset/dataset/test/images/OIP-2023-04-25T164433-623_jpeg.rf.7d676cd6df2774ef218c45782cfe7624.jpg: 352x512 (no detections), 7.2ms\n",
            "image 174/362 /content/accident_dataset/dataset/test/images/OIP-2023-04-25T164434-207_jpeg.rf.7df57ececf8a5049927bc74a5204959a.jpg: 448x512 (no detections), 7.4ms\n",
            "image 175/362 /content/accident_dataset/dataset/test/images/OIP-2023-04-25T164435-445_jpeg.rf.065ff070bd4010eccab34d312057a984.jpg: 352x512 1 Accident, 7.1ms\n",
            "image 176/362 /content/accident_dataset/dataset/test/images/OIP-2023-04-25T164442-631_jpeg.rf.eb323cc0590940a709fb9d3f78f888a1.jpg: 448x512 1 Accident, 7.4ms\n",
            "image 177/362 /content/accident_dataset/dataset/test/images/OIP-2023-04-25T164443-649_jpeg.rf.36aee26c652326a22128a854c9d60602.jpg: 416x512 1 Accident, 8.8ms\n",
            "image 178/362 /content/accident_dataset/dataset/test/images/OIP-2023-04-25T164446-814_jpeg.rf.f7bacd84bd6ec9d53253ae4accdeffc5.jpg: 480x512 (no detections), 39.6ms\n",
            "image 179/362 /content/accident_dataset/dataset/test/images/OIP-2023-04-25T164447-258_jpeg.rf.5730ca3159984e7dddc5ed92eff9cd1f.jpg: 416x512 (no detections), 7.3ms\n",
            "image 180/362 /content/accident_dataset/dataset/test/images/OIP-2023-04-25T164448-787_jpeg.rf.62c22c3f0f504cc913136e9b3fa16c52.jpg: 384x512 (no detections), 8.1ms\n",
            "image 181/362 /content/accident_dataset/dataset/test/images/OIP-2023-04-25T164451-168_jpeg.rf.e53dc0bfd45e36796913c3c02f48092b.jpg: 384x512 (no detections), 6.6ms\n",
            "image 182/362 /content/accident_dataset/dataset/test/images/OIP-2023-04-25T164451-932_jpeg.rf.a057bda20608b1305cb121b167943ccd.jpg: 448x512 (no detections), 7.4ms\n",
            "image 183/362 /content/accident_dataset/dataset/test/images/OIP-2023-04-25T164454-309_jpeg.rf.b578a6925e2f37cf587b1bf5b447a71c.jpg: 512x480 (no detections), 39.3ms\n",
            "image 184/362 /content/accident_dataset/dataset/test/images/OIP-2023-04-25T164454-512_jpeg.rf.e6dc7d4b33b50bfd914db8db2356a749.jpg: 416x512 (no detections), 7.3ms\n",
            "image 185/362 /content/accident_dataset/dataset/test/images/OIP-2023-04-25T164457-008_jpeg.rf.59cf2bd9f9dc70e1e2a940b4ed65b24a.jpg: 448x512 1 Accident, 7.5ms\n",
            "image 186/362 /content/accident_dataset/dataset/test/images/OIP-2023-04-25T164457-193_jpeg.rf.4073bdb20f7c8e00561539b7232b2e10.jpg: 192x512 (no detections), 38.2ms\n",
            "image 187/362 /content/accident_dataset/dataset/test/images/OIP-2023-04-25T164457-973_jpeg.rf.00aa50815567d40c1f7cd2ed81e29dee.jpg: 416x512 (no detections), 7.3ms\n",
            "image 188/362 /content/accident_dataset/dataset/test/images/OIP-2023-04-25T164458-963_jpeg.rf.6a7b3004f10225158f3c7780f8052fe2.jpg: 448x512 1 Accident, 7.4ms\n",
            "image 189/362 /content/accident_dataset/dataset/test/images/OIP-21-_jpeg.rf.dabc04a6658ff17dece00f1eec205721.jpg: 352x512 1 Accident, 7.1ms\n",
            "image 190/362 /content/accident_dataset/dataset/test/images/OIP-27-_jpeg.rf.741aadf8d9a9c222e894539960095534.jpg: 352x512 (no detections), 6.4ms\n",
            "image 191/362 /content/accident_dataset/dataset/test/images/OIP-29-_jpeg.rf.6791932955fecc76137918796c683f48.jpg: 384x512 1 Accident, 7.3ms\n",
            "image 192/362 /content/accident_dataset/dataset/test/images/OIP-33-_jpeg.rf.f8ba5433f06eecef29849b7ba838d73d.jpg: 288x512 (no detections), 7.4ms\n",
            "image 193/362 /content/accident_dataset/dataset/test/images/OIP-35-_jpeg.rf.6c004b5e93f03e9271dc8b2c672da267.jpg: 352x512 1 Accident, 7.3ms\n",
            "image 194/362 /content/accident_dataset/dataset/test/images/OIP-40-_jpeg.rf.d5f1140740659037c0efab34e0167ed4.jpg: 352x512 (no detections), 8.3ms\n",
            "image 195/362 /content/accident_dataset/dataset/test/images/OIP-42-_jpeg.rf.3a8be7088c7816c2e22010b8a41ad5fe.jpg: 352x512 1 Accident, 7.4ms\n",
            "image 196/362 /content/accident_dataset/dataset/test/images/OIP-47-_jpeg.rf.ba0b63ed3993302b1a0587fca54af0da.jpg: 320x512 (no detections), 7.1ms\n",
            "image 197/362 /content/accident_dataset/dataset/test/images/OIP-54-_jpeg.rf.0f30e1234babca56dab40839d93d286d.jpg: 352x512 (no detections), 7.4ms\n",
            "image 198/362 /content/accident_dataset/dataset/test/images/OIP-64-_jpeg.rf.0c606210e0b5bd294c8a03f325b62697.jpg: 416x512 1 Accident, 7.4ms\n",
            "image 199/362 /content/accident_dataset/dataset/test/images/OIP-91-_jpeg.rf.c3e70a5c2f8ed6a8dcf728cdf784a1cc.jpg: 416x512 (no detections), 6.6ms\n",
            "image 200/362 /content/accident_dataset/dataset/test/images/OIP-96-_jpeg.rf.849826c1911d055b0d2f2bde4573a0e3.jpg: 480x512 1 Accident, 7.4ms\n",
            "image 201/362 /content/accident_dataset/dataset/test/images/OIP_jpeg.rf.752f2831c7bbf32928258e9e9a2b3758.jpg: 352x512 (no detections), 8.0ms\n",
            "image 202/362 /content/accident_dataset/dataset/test/images/download-3-_jpeg.rf.70f027a23c87570615a230e3975ca7c3.jpg: 352x512 1 Accident, 6.5ms\n",
            "image 203/362 /content/accident_dataset/dataset/test/images/download-3-_jpeg.rf.cce9072adc0523ea8febdf16b4bfc5d1.jpg: 352x512 1 Accident, 8.9ms\n",
            "image 204/362 /content/accident_dataset/dataset/test/images/download-7-_jpeg.rf.394640fbb5ef0953d42d32e3c8178948.jpg: 352x512 1 Accident, 13.2ms\n",
            "image 205/362 /content/accident_dataset/dataset/test/images/ezgif-frame-007_jpg.rf.f2ef22f5d1cf4c75336192dbb1446c46.jpg: 288x512 (no detections), 7.2ms\n",
            "image 206/362 /content/accident_dataset/dataset/test/images/ezgif-frame-016_jpg.rf.b6263385b3d7aee4608605c447b41652.jpg: 288x512 (no detections), 6.8ms\n",
            "image 207/362 /content/accident_dataset/dataset/test/images/ezgif-frame-018_jpg.rf.788dd956c94ebe62163e6c341ce869c5.jpg: 288x512 (no detections), 6.3ms\n",
            "image 208/362 /content/accident_dataset/dataset/test/images/ezgif-frame-020_jpg.rf.15f3742e94144e76c67cd76d18c0d165.jpg: 288x512 (no detections), 6.7ms\n",
            "image 209/362 /content/accident_dataset/dataset/test/images/ezgif-frame-024_jpg.rf.1d08f3386d872ec9981a7cf9a8afd0f0.jpg: 288x512 (no detections), 6.9ms\n",
            "image 210/362 /content/accident_dataset/dataset/test/images/ezgif-frame-024_jpg.rf.643d39662542d6f1e0982dba4f37eaac.jpg: 288x512 (no detections), 6.6ms\n",
            "image 211/362 /content/accident_dataset/dataset/test/images/ezgif-frame-035_jpg.rf.d9184204ed2bddcd62a9de32da9f7be0.jpg: 288x512 (no detections), 6.8ms\n",
            "image 212/362 /content/accident_dataset/dataset/test/images/ezgif-frame-044_jpg.rf.94426f79762e7535cfbfad8b73abdceb.jpg: 288x512 1 Accident, 6.5ms\n",
            "image 213/362 /content/accident_dataset/dataset/test/images/ezgif-frame-046_jpg.rf.77a0989df94e9ab429352ea5e2849c51.jpg: 288x512 (no detections), 6.4ms\n",
            "image 214/362 /content/accident_dataset/dataset/test/images/ezgif-frame-047_jpg.rf.391fd051afa4acd7bc3446d16fa350ee.jpg: 288x512 1 Accident, 6.3ms\n",
            "image 215/362 /content/accident_dataset/dataset/test/images/ezgif-frame-052_jpg.rf.2caa63d1f6051f8ae7ea4b7f76b4fc30.jpg: 288x512 1 Accident, 8.1ms\n",
            "image 216/362 /content/accident_dataset/dataset/test/images/ezgif-frame-066_jpg.rf.ef4da09d3bb481e18e7a79c037d36478.jpg: 288x512 (no detections), 6.5ms\n",
            "image 217/362 /content/accident_dataset/dataset/test/images/ezgif-frame-070_jpg.rf.21895546db643bac5932dc88ef0818d8.jpg: 288x512 1 Accident, 6.2ms\n",
            "image 218/362 /content/accident_dataset/dataset/test/images/ezgif-frame-084_jpg.rf.2ea1180ecca550911a11c5a6988a1c4a.jpg: 288x512 (no detections), 6.3ms\n",
            "image 219/362 /content/accident_dataset/dataset/test/images/ezgif-frame-084_jpg.rf.9d0d7b6be10072eb005adbe071f7efd9.jpg: 288x512 (no detections), 6.4ms\n",
            "image 220/362 /content/accident_dataset/dataset/test/images/ezgif-frame-086_jpg.rf.8e31073eefb5146679207a2f1a9a4f67.jpg: 288x512 (no detections), 6.3ms\n",
            "image 221/362 /content/accident_dataset/dataset/test/images/ezgif-frame-087_jpg.rf.7de1855941a751b4aace6559779e49a7.jpg: 288x512 (no detections), 6.6ms\n",
            "image 222/362 /content/accident_dataset/dataset/test/images/ezgif-frame-096_jpg.rf.f064b0df4711d7383f5e7c51ab99b233.jpg: 288x512 (no detections), 8.0ms\n",
            "image 223/362 /content/accident_dataset/dataset/test/images/ezgif-frame-099_jpg.rf.600b01a165b3839bc4e168a03d49f3ae.jpg: 288x512 (no detections), 6.7ms\n",
            "image 224/362 /content/accident_dataset/dataset/test/images/ezgif-frame-101_jpg.rf.72ad6271a8e9c4fffacfe55447527d70.jpg: 288x512 (no detections), 6.6ms\n",
            "image 225/362 /content/accident_dataset/dataset/test/images/ezgif-frame-102_jpg.rf.6316ad4e8f57787c720bd0736cde3b0c.jpg: 288x512 (no detections), 6.6ms\n",
            "image 226/362 /content/accident_dataset/dataset/test/images/ezgif-frame-108_jpg.rf.0e2df0f5d9dea423b2d9c8ce6ceda55f.jpg: 288x512 (no detections), 7.5ms\n",
            "image 227/362 /content/accident_dataset/dataset/test/images/ezgif-frame-109_jpg.rf.4b95cd49aaffb9e5cba024f243bd275e.jpg: 288x512 (no detections), 6.3ms\n",
            "image 228/362 /content/accident_dataset/dataset/test/images/ezgif-frame-118_jpg.rf.295a4354c03b7e06dc06cd528bb5f273.jpg: 288x512 (no detections), 6.4ms\n",
            "image 229/362 /content/accident_dataset/dataset/test/images/ezgif-frame-121_jpg.rf.023cdbab6d1e0c0903e2ef1b2d1bb0f6.jpg: 288x512 (no detections), 8.3ms\n",
            "image 230/362 /content/accident_dataset/dataset/test/images/ezgif-frame-123_jpg.rf.056a416328c95b64be610d7562c27ba1.jpg: 288x512 (no detections), 6.4ms\n",
            "image 231/362 /content/accident_dataset/dataset/test/images/ezgif-frame-125_jpg.rf.91870dc597a28517a69bef2db27e8473.jpg: 288x512 (no detections), 6.3ms\n",
            "image 232/362 /content/accident_dataset/dataset/test/images/ezgif-frame-129_jpg.rf.f43a4e6920cd1990ad0eb0f03020285e.jpg: 288x512 (no detections), 6.3ms\n",
            "image 233/362 /content/accident_dataset/dataset/test/images/ezgif-frame-143_jpg.rf.381cfb84d7294108b1b0da2361e7086a.jpg: 288x512 (no detections), 6.2ms\n",
            "image 234/362 /content/accident_dataset/dataset/test/images/ezgif-frame-144_jpg.rf.e1d6c5db2c430ae2eac16334389392dc.jpg: 288x512 (no detections), 7.6ms\n",
            "image 235/362 /content/accident_dataset/dataset/test/images/ezgif-frame-145_jpg.rf.4c86a41832b93231b3e579b149b57cf5.jpg: 288x512 (no detections), 6.2ms\n",
            "image 236/362 /content/accident_dataset/dataset/test/images/test10_1_jpg.rf.ffd328c4f2a4de066fc774ec869be120.jpg: 288x512 (no detections), 6.2ms\n",
            "image 237/362 /content/accident_dataset/dataset/test/images/test10_2_jpg.rf.449b46bbae103204f207d58e39bb068c.jpg: 288x512 (no detections), 6.2ms\n",
            "image 238/362 /content/accident_dataset/dataset/test/images/test10_3_jpg.rf.d994368f5e362613cd8e3fdf7b22c74c.jpg: 288x512 (no detections), 6.4ms\n",
            "image 239/362 /content/accident_dataset/dataset/test/images/test10_4_jpg.rf.6e82f9694997aacc9588ca7ee7cb2652.jpg: 288x512 (no detections), 6.7ms\n",
            "image 240/362 /content/accident_dataset/dataset/test/images/test10_5_jpg.rf.032572e2bf4a9dc933dd0e7f2d74d78c.jpg: 288x512 (no detections), 6.2ms\n",
            "image 241/362 /content/accident_dataset/dataset/test/images/test10_6_jpg.rf.29753fcd66d5a8517252ab346fa0b16c.jpg: 288x512 (no detections), 6.1ms\n",
            "image 242/362 /content/accident_dataset/dataset/test/images/test10_7_jpg.rf.e6a0fcc8fb35aa5b7d253b04d0b40f6d.jpg: 288x512 (no detections), 6.3ms\n",
            "image 243/362 /content/accident_dataset/dataset/test/images/test10_8_jpg.rf.3431896029fbdb7f076b26a800118be9.jpg: 288x512 (no detections), 6.3ms\n",
            "image 244/362 /content/accident_dataset/dataset/test/images/test11_10_jpg.rf.36f133f35489385822c2cbff29cfd3ae.jpg: 288x512 (no detections), 6.2ms\n",
            "image 245/362 /content/accident_dataset/dataset/test/images/test11_11_jpg.rf.583227f2f9829c03e337eaf68d89f2a0.jpg: 288x512 (no detections), 8.2ms\n",
            "image 246/362 /content/accident_dataset/dataset/test/images/test11_12_jpg.rf.f8e873b065886dba5040056d172a520a.jpg: 288x512 (no detections), 6.4ms\n",
            "image 247/362 /content/accident_dataset/dataset/test/images/test11_13_jpg.rf.7f49fb3061681c245df90808183a38b8.jpg: 288x512 (no detections), 7.2ms\n",
            "image 248/362 /content/accident_dataset/dataset/test/images/test11_14_jpg.rf.aedd2487ca0ddbad0e6b01753a6de9b4.jpg: 288x512 (no detections), 6.2ms\n",
            "image 249/362 /content/accident_dataset/dataset/test/images/test11_15_jpg.rf.f53bf6b10dd655052da9f722963b50a5.jpg: 288x512 (no detections), 6.8ms\n",
            "image 250/362 /content/accident_dataset/dataset/test/images/test11_16_jpg.rf.1f617d3f8802e798bd04b7eb61b95188.jpg: 288x512 (no detections), 6.3ms\n",
            "image 251/362 /content/accident_dataset/dataset/test/images/test11_1_jpg.rf.c464657c0ae5b36a345d52207b23cd8a.jpg: 288x512 (no detections), 6.2ms\n",
            "image 252/362 /content/accident_dataset/dataset/test/images/test11_2_jpg.rf.5216ac618694805b787750738bd2197c.jpg: 288x512 (no detections), 6.3ms\n",
            "image 253/362 /content/accident_dataset/dataset/test/images/test11_38_jpg.rf.058271b7649a3ffb0e553bd3b85168b6.jpg: 288x512 (no detections), 6.7ms\n",
            "image 254/362 /content/accident_dataset/dataset/test/images/test11_39_jpg.rf.ac34ee5ffaa1ba2ef5243b74c5b24c96.jpg: 288x512 (no detections), 6.5ms\n",
            "image 255/362 /content/accident_dataset/dataset/test/images/test11_3_jpg.rf.763928d9c923b2def6d1ee84103ef7c4.jpg: 288x512 (no detections), 7.5ms\n",
            "image 256/362 /content/accident_dataset/dataset/test/images/test11_40_jpg.rf.f569fee674f77459575229c9f7f01a05.jpg: 288x512 (no detections), 9.0ms\n",
            "image 257/362 /content/accident_dataset/dataset/test/images/test11_41_jpg.rf.3822d20529204538aa237dfdd055cf19.jpg: 288x512 (no detections), 7.8ms\n",
            "image 258/362 /content/accident_dataset/dataset/test/images/test11_42_jpg.rf.de0eb0532a277384a21470b0ac8128f0.jpg: 288x512 (no detections), 13.5ms\n",
            "image 259/362 /content/accident_dataset/dataset/test/images/test11_43_jpg.rf.929a81fb1d35d2710ea1b953c68750bb.jpg: 288x512 (no detections), 7.5ms\n",
            "image 260/362 /content/accident_dataset/dataset/test/images/test11_44_jpg.rf.c865fa5499f3563be6232b6c5f1c4657.jpg: 288x512 (no detections), 6.2ms\n",
            "image 261/362 /content/accident_dataset/dataset/test/images/test11_45_jpg.rf.f5c3bdff09a7862bb3567100657e0595.jpg: 288x512 (no detections), 6.5ms\n",
            "image 262/362 /content/accident_dataset/dataset/test/images/test11_46_jpg.rf.bc9028440131b0c0fe011f5d7b1620de.jpg: 288x512 (no detections), 6.1ms\n",
            "image 263/362 /content/accident_dataset/dataset/test/images/test11_47_jpg.rf.04de445797a75a7a2ce8d59776c4986f.jpg: 288x512 (no detections), 6.3ms\n",
            "image 264/362 /content/accident_dataset/dataset/test/images/test11_48_jpg.rf.7e266a5383b45ab6acfff04444b0a4db.jpg: 288x512 (no detections), 6.5ms\n",
            "image 265/362 /content/accident_dataset/dataset/test/images/test11_49_jpg.rf.27bdaa458d1c3a2e0ea02c134dca8f09.jpg: 288x512 (no detections), 6.2ms\n",
            "image 266/362 /content/accident_dataset/dataset/test/images/test11_4_jpg.rf.08ba8e0a078484694945b855aafddd2f.jpg: 288x512 (no detections), 8.0ms\n",
            "image 267/362 /content/accident_dataset/dataset/test/images/test11_50_jpg.rf.0c6fcf01f865d02f7247e30c97a8e499.jpg: 288x512 (no detections), 6.4ms\n",
            "image 268/362 /content/accident_dataset/dataset/test/images/test11_56_jpg.rf.914ac0235b8c28fc35b4bfa6dafb7666.jpg: 288x512 (no detections), 6.3ms\n",
            "image 269/362 /content/accident_dataset/dataset/test/images/test11_57_jpg.rf.d4a69465459890f3da127789e3756f92.jpg: 288x512 (no detections), 6.1ms\n",
            "image 270/362 /content/accident_dataset/dataset/test/images/test11_58_jpg.rf.30a83164df6bb0720e769ddddd8b0ccc.jpg: 288x512 (no detections), 6.1ms\n",
            "image 271/362 /content/accident_dataset/dataset/test/images/test11_59_jpg.rf.53d43657ac847ad0e34be0f30c2f626a.jpg: 288x512 (no detections), 6.3ms\n",
            "image 272/362 /content/accident_dataset/dataset/test/images/test11_5_jpg.rf.d51afcc98208eba3de40ca9f923ce6cc.jpg: 288x512 (no detections), 6.4ms\n",
            "image 273/362 /content/accident_dataset/dataset/test/images/test11_60_jpg.rf.1f7449022a34566a78f805435517c888.jpg: 288x512 (no detections), 6.1ms\n",
            "image 274/362 /content/accident_dataset/dataset/test/images/test11_61_jpg.rf.ceb85c31e2bd9a3999f25da89c9010d3.jpg: 288x512 (no detections), 6.5ms\n",
            "image 275/362 /content/accident_dataset/dataset/test/images/test11_6_jpg.rf.be2412e2b8bca545c82758c46a89369f.jpg: 288x512 (no detections), 6.4ms\n",
            "image 276/362 /content/accident_dataset/dataset/test/images/test11_7_jpg.rf.ca653bc913551cb21f78ef9cebc34304.jpg: 288x512 (no detections), 6.5ms\n",
            "image 277/362 /content/accident_dataset/dataset/test/images/test11_8_jpg.rf.eab88dbf21d63ab54f19d4f256025946.jpg: 288x512 (no detections), 6.5ms\n",
            "image 278/362 /content/accident_dataset/dataset/test/images/test11_9_jpg.rf.f6748b103caf41b488c99aec285ab70b.jpg: 288x512 (no detections), 6.1ms\n",
            "image 279/362 /content/accident_dataset/dataset/test/images/test12_10_jpg.rf.499dd15d0102982baf51f7b112cef252.jpg: 288x512 (no detections), 6.1ms\n",
            "image 280/362 /content/accident_dataset/dataset/test/images/test12_11_jpg.rf.03e61a8f2ddefd77c6491144734c2204.jpg: 288x512 (no detections), 6.2ms\n",
            "image 281/362 /content/accident_dataset/dataset/test/images/test12_1_jpg.rf.03b06cff7244dae688a0d59af6f4958c.jpg: 288x512 (no detections), 6.2ms\n",
            "image 282/362 /content/accident_dataset/dataset/test/images/test12_2_jpg.rf.3486e2faaa5e66fbb55fbc9da4a12714.jpg: 288x512 (no detections), 6.1ms\n",
            "image 283/362 /content/accident_dataset/dataset/test/images/test12_8_jpg.rf.bcef50e721e99471a4baee56443ed494.jpg: 288x512 (no detections), 6.3ms\n",
            "image 284/362 /content/accident_dataset/dataset/test/images/test12_9_jpg.rf.f1b91b03f6f0472723021c11a80957ca.jpg: 288x512 (no detections), 6.6ms\n",
            "image 285/362 /content/accident_dataset/dataset/test/images/test13_26_jpg.rf.935feef0825d8d1ca300693c44800b76.jpg: 288x512 (no detections), 6.4ms\n",
            "image 286/362 /content/accident_dataset/dataset/test/images/test13_27_jpg.rf.3ecaf030ff852f77bc8afe2989926e09.jpg: 288x512 (no detections), 6.3ms\n",
            "image 287/362 /content/accident_dataset/dataset/test/images/test13_28_jpg.rf.be8d51d64fae8437dc84e51c8cdf8da2.jpg: 288x512 (no detections), 7.8ms\n",
            "image 288/362 /content/accident_dataset/dataset/test/images/test13_29_jpg.rf.985ce1d8e6bd9f45dad3f1f524a310ca.jpg: 288x512 (no detections), 6.8ms\n",
            "image 289/362 /content/accident_dataset/dataset/test/images/test13_2_jpg.rf.bf421e88f3345465a9d2ae5cc6367ae9.jpg: 288x512 (no detections), 6.6ms\n",
            "image 290/362 /content/accident_dataset/dataset/test/images/test13_30_jpg.rf.c5bff11170dbe0d191f8918bab9a3c18.jpg: 288x512 (no detections), 6.5ms\n",
            "image 291/362 /content/accident_dataset/dataset/test/images/test13_31_jpg.rf.1e72c37f24b7feeaa1bd38f9a52647c9.jpg: 288x512 (no detections), 6.9ms\n",
            "image 292/362 /content/accident_dataset/dataset/test/images/test13_3_jpg.rf.bff22a8f2323f6ac3c3d3a18905d9396.jpg: 288x512 (no detections), 6.5ms\n",
            "image 293/362 /content/accident_dataset/dataset/test/images/test13_4_jpg.rf.19d582810deae26e097e1e510f3edf81.jpg: 288x512 (no detections), 6.5ms\n",
            "image 294/362 /content/accident_dataset/dataset/test/images/test13_5_jpg.rf.0c83fc3ce1658cca16384ce00f27ebfd.jpg: 288x512 (no detections), 6.5ms\n",
            "image 295/362 /content/accident_dataset/dataset/test/images/test13_6_jpg.rf.e177d3210293df171a8e4932b6bac169.jpg: 288x512 (no detections), 6.7ms\n",
            "image 296/362 /content/accident_dataset/dataset/test/images/test13_7_jpg.rf.95019cac095ff752f538f57b58606dd8.jpg: 288x512 (no detections), 7.2ms\n",
            "image 297/362 /content/accident_dataset/dataset/test/images/test13_8_jpg.rf.bcbd6cda6aaf1e5bcfb3be03aad06d2d.jpg: 288x512 (no detections), 6.6ms\n",
            "image 298/362 /content/accident_dataset/dataset/test/images/test13_9_jpg.rf.1d4417efc1c632cc65041357dcd7b3b1.jpg: 288x512 (no detections), 6.6ms\n",
            "image 299/362 /content/accident_dataset/dataset/test/images/test14_1_jpg.rf.787a27a76c6d268c28f08927c26fe246.jpg: 288x512 (no detections), 6.5ms\n",
            "image 300/362 /content/accident_dataset/dataset/test/images/test14_22_jpg.rf.b76b196cea3f4fbfbe11595961ff506c.jpg: 288x512 (no detections), 6.7ms\n",
            "image 301/362 /content/accident_dataset/dataset/test/images/test14_23_jpg.rf.c83282740a82f47468efb9daf190bed0.jpg: 288x512 (no detections), 6.8ms\n",
            "image 302/362 /content/accident_dataset/dataset/test/images/test14_24_jpg.rf.14942fb5eda5c6fb5a4c4f9651f760d9.jpg: 288x512 (no detections), 6.6ms\n",
            "image 303/362 /content/accident_dataset/dataset/test/images/test14_25_jpg.rf.0f8636a1de1706ffcaa8f0b33a2c4621.jpg: 288x512 (no detections), 6.7ms\n",
            "image 304/362 /content/accident_dataset/dataset/test/images/test14_2_jpg.rf.382ecaa87677a6a7893b12d18aa21cdb.jpg: 288x512 (no detections), 8.4ms\n",
            "image 305/362 /content/accident_dataset/dataset/test/images/test14_3_jpg.rf.0531a038f4d552e5c241937708671a65.jpg: 288x512 (no detections), 7.6ms\n",
            "image 306/362 /content/accident_dataset/dataset/test/images/test14_4_jpg.rf.41d05bbca818b8fa99c8295c7c63c1d4.jpg: 288x512 (no detections), 7.7ms\n",
            "image 307/362 /content/accident_dataset/dataset/test/images/test14_5_jpg.rf.77ff3b524470873e6f19e72d3462674e.jpg: 288x512 (no detections), 6.6ms\n",
            "image 308/362 /content/accident_dataset/dataset/test/images/test14_6_jpg.rf.e74c228c20d6f3259729fa9c77fbe55c.jpg: 288x512 (no detections), 6.6ms\n",
            "image 309/362 /content/accident_dataset/dataset/test/images/test14_7_jpg.rf.ee5427424a6eb23b7b6aeaab6d4f1062.jpg: 288x512 (no detections), 12.0ms\n",
            "image 310/362 /content/accident_dataset/dataset/test/images/test14_8_jpg.rf.b20634d3bae351cae6725eb6f47c8b43.jpg: 288x512 (no detections), 7.1ms\n",
            "image 311/362 /content/accident_dataset/dataset/test/images/test15_17_jpg.rf.a1da429cb41c7fcb0f7f6afa24bd9116.jpg: 288x512 (no detections), 6.9ms\n",
            "image 312/362 /content/accident_dataset/dataset/test/images/test15_18_jpg.rf.b3850ce209484c724c154daaa065123c.jpg: 288x512 (no detections), 6.6ms\n",
            "image 313/362 /content/accident_dataset/dataset/test/images/test15_19_jpg.rf.e5cf293595dc9933fde8e01b069e2b52.jpg: 288x512 (no detections), 6.6ms\n",
            "image 314/362 /content/accident_dataset/dataset/test/images/test15_1_jpg.rf.35de60a20087e681e7e9af5604741f73.jpg: 288x512 (no detections), 6.6ms\n",
            "image 315/362 /content/accident_dataset/dataset/test/images/test15_20_jpg.rf.ee6e1a473bf8e79cee33045a04ec3d47.jpg: 288x512 (no detections), 6.7ms\n",
            "image 316/362 /content/accident_dataset/dataset/test/images/test15_21_jpg.rf.575d75e8baa12d38fcf0ce168583b2c7.jpg: 288x512 (no detections), 6.6ms\n",
            "image 317/362 /content/accident_dataset/dataset/test/images/test15_22_jpg.rf.882ee740eff32fa84aebf2a4b6749d02.jpg: 288x512 (no detections), 6.6ms\n",
            "image 318/362 /content/accident_dataset/dataset/test/images/test15_23_jpg.rf.f2b615b05f5f8c60876e9d05f9708c8a.jpg: 288x512 (no detections), 6.6ms\n",
            "image 319/362 /content/accident_dataset/dataset/test/images/test15_24_jpg.rf.4d3325aaf5f815c057a0c94a8b03aeed.jpg: 288x512 (no detections), 7.3ms\n",
            "image 320/362 /content/accident_dataset/dataset/test/images/test15_25_jpg.rf.0c85b9f59d0f81d2375829a9bf25cbf0.jpg: 288x512 (no detections), 6.8ms\n",
            "image 321/362 /content/accident_dataset/dataset/test/images/test15_26_jpg.rf.6e7e25e9a7cd3ac050acf4a37ed208ea.jpg: 288x512 (no detections), 6.9ms\n",
            "image 322/362 /content/accident_dataset/dataset/test/images/test15_28_jpg.rf.f5ba1c184973ab3fae1447210fb86f68.jpg: 288x512 (no detections), 6.8ms\n",
            "image 323/362 /content/accident_dataset/dataset/test/images/test15_29_jpg.rf.c7f298637e54fca2e346db2343e046d9.jpg: 288x512 (no detections), 6.9ms\n",
            "image 324/362 /content/accident_dataset/dataset/test/images/test15_30_jpg.rf.3bd4f039773c3581c75815ba3cfcc51d.jpg: 288x512 (no detections), 6.8ms\n",
            "image 325/362 /content/accident_dataset/dataset/test/images/test15_31_jpg.rf.fdd563dadabcfd895e5d933dcd775871.jpg: 288x512 (no detections), 6.8ms\n",
            "image 326/362 /content/accident_dataset/dataset/test/images/test16_10_jpg.rf.39fb049a825a0be6b6aa002a2412ed39.jpg: 288x512 (no detections), 8.0ms\n",
            "image 327/362 /content/accident_dataset/dataset/test/images/test16_11_jpg.rf.de4eb722e005dc855ec0ba14cd4d8c6d.jpg: 288x512 (no detections), 6.9ms\n",
            "image 328/362 /content/accident_dataset/dataset/test/images/test16_12_jpg.rf.dcae99bd984dc006fe5c66fa971d77db.jpg: 288x512 (no detections), 7.0ms\n",
            "image 329/362 /content/accident_dataset/dataset/test/images/test16_13_jpg.rf.d4cc7f131e34937cf48befc4f7046d1c.jpg: 288x512 (no detections), 10.8ms\n",
            "image 330/362 /content/accident_dataset/dataset/test/images/test16_14_jpg.rf.c43184c672dba9a25f662932dbfd2a85.jpg: 288x512 (no detections), 7.1ms\n",
            "image 331/362 /content/accident_dataset/dataset/test/images/test16_15_jpg.rf.b5e5b60fbbc953889e51344d21ee12df.jpg: 288x512 (no detections), 7.0ms\n",
            "image 332/362 /content/accident_dataset/dataset/test/images/test16_16_jpg.rf.368c08e0acb62245a45c86f18d65ac1b.jpg: 288x512 (no detections), 7.0ms\n",
            "image 333/362 /content/accident_dataset/dataset/test/images/test16_17_jpg.rf.82bafb3339c2bc36e33b84bcafe0d754.jpg: 288x512 (no detections), 7.0ms\n",
            "image 334/362 /content/accident_dataset/dataset/test/images/test16_18_jpg.rf.3142f8556352ef08c3f7c3412c03d844.jpg: 288x512 (no detections), 9.0ms\n",
            "image 335/362 /content/accident_dataset/dataset/test/images/test16_1_jpg.rf.8dabc161b92bf4097bc250cfbd3a5d05.jpg: 288x512 (no detections), 7.0ms\n",
            "image 336/362 /content/accident_dataset/dataset/test/images/test16_2_jpg.rf.298d811d309f2922e037a6cf71878439.jpg: 288x512 (no detections), 7.0ms\n",
            "image 337/362 /content/accident_dataset/dataset/test/images/test16_3_jpg.rf.eb64287f07c5d589c415a4f06f574517.jpg: 288x512 (no detections), 7.1ms\n",
            "image 338/362 /content/accident_dataset/dataset/test/images/test16_4_jpg.rf.beac3b54732b59cd03b6e273dca52b64.jpg: 288x512 (no detections), 7.1ms\n",
            "image 339/362 /content/accident_dataset/dataset/test/images/test16_5_jpg.rf.218afedfc57975ec0bbcd7a316ce7c09.jpg: 288x512 (no detections), 7.1ms\n",
            "image 340/362 /content/accident_dataset/dataset/test/images/test16_6_jpg.rf.696cccd31e481804efe6c13c553e5e6a.jpg: 288x512 (no detections), 7.1ms\n",
            "image 341/362 /content/accident_dataset/dataset/test/images/test16_7_jpg.rf.168d3a89175350c84aee2ec94c614d90.jpg: 288x512 (no detections), 7.2ms\n",
            "image 342/362 /content/accident_dataset/dataset/test/images/test16_8_jpg.rf.015d0efef2e98dc3052b0c165519c1e2.jpg: 288x512 (no detections), 7.1ms\n",
            "image 343/362 /content/accident_dataset/dataset/test/images/test17_1_jpg.rf.8598f79538d44adc00ec167fde873417.jpg: 288x512 (no detections), 7.3ms\n",
            "image 344/362 /content/accident_dataset/dataset/test/images/test18_13_jpg.rf.5f999c2c327df6662d92d80cfeeb6b69.jpg: 288x512 (no detections), 7.5ms\n",
            "image 345/362 /content/accident_dataset/dataset/test/images/test1_11_jpg.rf.80ab13920a8ba990b31481487552fff6.jpg: 288x512 (no detections), 7.1ms\n",
            "image 346/362 /content/accident_dataset/dataset/test/images/test1_12_jpg.rf.f1947ac698ce51d32830897a5941fc46.jpg: 288x512 (no detections), 7.6ms\n",
            "image 347/362 /content/accident_dataset/dataset/test/images/test1_4_jpg.rf.a2d268e5008a94409c40e45c32d29f23.jpg: 288x512 (no detections), 7.3ms\n",
            "image 348/362 /content/accident_dataset/dataset/test/images/test1_7_jpg.rf.8f9898fb580fa6db4d703eb7e26d30ee.jpg: 288x512 (no detections), 7.1ms\n",
            "image 349/362 /content/accident_dataset/dataset/test/images/test1_8_jpg.rf.936b5e8e28f351f198187cf58a8f676c.jpg: 288x512 (no detections), 7.1ms\n",
            "image 350/362 /content/accident_dataset/dataset/test/images/test1_9_jpg.rf.83c90972eddd08ad62b6c55bc127e9b7.jpg: 288x512 (no detections), 8.4ms\n",
            "image 351/362 /content/accident_dataset/dataset/test/images/test20_11_jpg.rf.0e2b0edd02aa651c84892ff789fe6003.jpg: 288x512 (no detections), 7.1ms\n",
            "image 352/362 /content/accident_dataset/dataset/test/images/test20_12_jpg.rf.b0fbd9fb561640a2183135e647ab0138.jpg: 288x512 (no detections), 7.1ms\n",
            "image 353/362 /content/accident_dataset/dataset/test/images/test20_14_jpg.rf.eddb4e80369f275cba662a9a556ed747.jpg: 288x512 (no detections), 7.1ms\n",
            "image 354/362 /content/accident_dataset/dataset/test/images/test20_1_jpg.rf.d844aa5fbd47d35a12c54f2f4440c3ad.jpg: 288x512 (no detections), 7.1ms\n",
            "image 355/362 /content/accident_dataset/dataset/test/images/test20_2_jpg.rf.bbeab5f0b9ab4802d4f30a300c20fb95.jpg: 288x512 (no detections), 11.5ms\n",
            "image 356/362 /content/accident_dataset/dataset/test/images/test20_4_jpg.rf.cc02856d28e4e755fe5c6fc0e32c9711.jpg: 288x512 (no detections), 14.6ms\n",
            "image 357/362 /content/accident_dataset/dataset/test/images/test20_5_jpg.rf.21fa9b860c0c8c0e64374752a0da7c54.jpg: 288x512 (no detections), 8.6ms\n",
            "image 358/362 /content/accident_dataset/dataset/test/images/test20_7_jpg.rf.dd19268a541ce71657ba846f35177aef.jpg: 288x512 (no detections), 7.3ms\n",
            "image 359/362 /content/accident_dataset/dataset/test/images/th-10-_jpeg.rf.80beca80212bf4ee8dee63d984dcfb6d.jpg: 512x512 (no detections), 12.2ms\n",
            "image 360/362 /content/accident_dataset/dataset/test/images/th-19-_jpeg.rf.9d45ccb2de88747b7d9f3dc52f1c57a2.jpg: 512x512 (no detections), 9.4ms\n",
            "image 361/362 /content/accident_dataset/dataset/test/images/th-25-_jpeg.rf.3ad6c5b20048d7aa4726d504a9e29f6f.jpg: 512x512 1 Accident, 9.4ms\n",
            "image 362/362 /content/accident_dataset/dataset/test/images/th-6-_jpeg.rf.f943cb5871273bd3d5ded3147598747d.jpg: 512x512 (no detections), 9.4ms\n",
            "Speed: 1.4ms preprocess, 8.2ms inference, 0.7ms postprocess per image at shape (1, 3, 512, 512)\n",
            "Results saved to \u001b[1mruns/detect/predict\u001b[0m\n"
          ]
        }
      ],
      "source": [
        "# Test the model on new images\n",
        "\n",
        "from ultralytics import YOLO\n",
        "\n",
        "model = YOLO(\"/content/drive/MyDrive/Colab Notebooks/training_results/accident_model3/weights/best.pt\")\n",
        "\n",
        "results = model.predict(\"/content/accident_dataset/dataset/test/images/\", save=True, conf=0.8)\n",
        "\n",
        "#  conf=0.5: By setting conf=0.5, you are specifying that you only want to keep predictions where the model's confidence score is 0.5 or higher. Predictions with a confidence score below this threshold will be discarded. This helps in filtering out less certain predictions, which can improve the quality of the results you are interested in.\n"
      ]
    },
    {
      "cell_type": "code",
      "source": [
        "from ultralytics import YOLO\n",
        "\n",
        "# Load your trained model\n",
        "model = YOLO(\"/content/drive/MyDrive/Colab Notebooks/training_results/accident_model3/weights/best.pt\")\n",
        "\n",
        "# Run validation\n",
        "metrics = model.val(\n",
        "    data=\"/content/accident_dataset/dataset/data.yaml\",  # your dataset config file\n",
        "    conf=0.5,  # confidence threshold for evaluation\n",
        "    split='test'  # important if you want to evaluate on test images\n",
        ")\n",
        "\n",
        "# After validation, 'metrics' will have all details\n",
        "print(metrics)\n",
        "s"
      ],
      "metadata": {
        "id": "_cZiJrfmcgYF",
        "colab": {
          "base_uri": "https://localhost:8080/",
          "height": 1000
        },
        "outputId": "8388f292-4cbe-49ab-f605-e9a1a88627d5"
      },
      "execution_count": null,
      "outputs": [
        {
          "output_type": "stream",
          "name": "stdout",
          "text": [
            "Ultralytics 8.3.118 🚀 Python-3.11.12 torch-2.6.0+cu124 CUDA:0 (Tesla T4, 15095MiB)\n",
            "Model summary (fused): 72 layers, 11,125,971 parameters, 0 gradients, 28.4 GFLOPs\n",
            "\u001b[34m\u001b[1mval: \u001b[0mFast image access ✅ (ping: 0.0±0.0 ms, read: 1194.5±652.2 MB/s, size: 48.2 KB)\n"
          ]
        },
        {
          "output_type": "stream",
          "name": "stderr",
          "text": [
            "\u001b[34m\u001b[1mval: \u001b[0mScanning /content/accident_dataset/dataset/test/labels... 362 images, 186 backgrounds, 0 corrupt: 100%|██████████| 362/362 [00:00<00:00, 2648.57it/s]"
          ]
        },
        {
          "output_type": "stream",
          "name": "stdout",
          "text": [
            "\u001b[34m\u001b[1mval: \u001b[0mNew cache created: /content/accident_dataset/dataset/test/labels.cache\n"
          ]
        },
        {
          "output_type": "stream",
          "name": "stderr",
          "text": [
            "\n",
            "                 Class     Images  Instances      Box(P          R      mAP50  mAP50-95): 100%|██████████| 23/23 [00:03<00:00,  6.19it/s]\n"
          ]
        },
        {
          "output_type": "stream",
          "name": "stdout",
          "text": [
            "                   all        362        204       0.91      0.841      0.872      0.463\n",
            "Speed: 0.9ms preprocess, 4.3ms inference, 0.0ms loss, 1.1ms postprocess per image\n",
            "Results saved to \u001b[1mruns/detect/val\u001b[0m\n",
            "ultralytics.utils.metrics.DetMetrics object with attributes:\n",
            "\n",
            "ap_class_index: array([0])\n",
            "box: ultralytics.utils.metrics.Metric object\n",
            "confusion_matrix: <ultralytics.utils.metrics.ConfusionMatrix object at 0x792f49306a10>\n",
            "curves: ['Precision-Recall(B)', 'F1-Confidence(B)', 'Precision-Confidence(B)', 'Recall-Confidence(B)']\n",
            "curves_results: [[array([          0,    0.001001,    0.002002,    0.003003,    0.004004,    0.005005,    0.006006,    0.007007,    0.008008,    0.009009,     0.01001,    0.011011,    0.012012,    0.013013,    0.014014,    0.015015,    0.016016,    0.017017,    0.018018,    0.019019,     0.02002,    0.021021,    0.022022,    0.023023,\n",
            "          0.024024,    0.025025,    0.026026,    0.027027,    0.028028,    0.029029,     0.03003,    0.031031,    0.032032,    0.033033,    0.034034,    0.035035,    0.036036,    0.037037,    0.038038,    0.039039,     0.04004,    0.041041,    0.042042,    0.043043,    0.044044,    0.045045,    0.046046,    0.047047,\n",
            "          0.048048,    0.049049,     0.05005,    0.051051,    0.052052,    0.053053,    0.054054,    0.055055,    0.056056,    0.057057,    0.058058,    0.059059,     0.06006,    0.061061,    0.062062,    0.063063,    0.064064,    0.065065,    0.066066,    0.067067,    0.068068,    0.069069,     0.07007,    0.071071,\n",
            "          0.072072,    0.073073,    0.074074,    0.075075,    0.076076,    0.077077,    0.078078,    0.079079,     0.08008,    0.081081,    0.082082,    0.083083,    0.084084,    0.085085,    0.086086,    0.087087,    0.088088,    0.089089,     0.09009,    0.091091,    0.092092,    0.093093,    0.094094,    0.095095,\n",
            "          0.096096,    0.097097,    0.098098,    0.099099,      0.1001,      0.1011,      0.1021,      0.1031,      0.1041,     0.10511,     0.10611,     0.10711,     0.10811,     0.10911,     0.11011,     0.11111,     0.11211,     0.11311,     0.11411,     0.11512,     0.11612,     0.11712,     0.11812,     0.11912,\n",
            "           0.12012,     0.12112,     0.12212,     0.12312,     0.12412,     0.12513,     0.12613,     0.12713,     0.12813,     0.12913,     0.13013,     0.13113,     0.13213,     0.13313,     0.13413,     0.13514,     0.13614,     0.13714,     0.13814,     0.13914,     0.14014,     0.14114,     0.14214,     0.14314,\n",
            "           0.14414,     0.14515,     0.14615,     0.14715,     0.14815,     0.14915,     0.15015,     0.15115,     0.15215,     0.15315,     0.15415,     0.15516,     0.15616,     0.15716,     0.15816,     0.15916,     0.16016,     0.16116,     0.16216,     0.16316,     0.16416,     0.16517,     0.16617,     0.16717,\n",
            "           0.16817,     0.16917,     0.17017,     0.17117,     0.17217,     0.17317,     0.17417,     0.17518,     0.17618,     0.17718,     0.17818,     0.17918,     0.18018,     0.18118,     0.18218,     0.18318,     0.18418,     0.18519,     0.18619,     0.18719,     0.18819,     0.18919,     0.19019,     0.19119,\n",
            "           0.19219,     0.19319,     0.19419,      0.1952,      0.1962,      0.1972,      0.1982,      0.1992,      0.2002,      0.2012,      0.2022,      0.2032,      0.2042,     0.20521,     0.20621,     0.20721,     0.20821,     0.20921,     0.21021,     0.21121,     0.21221,     0.21321,     0.21421,     0.21522,\n",
            "           0.21622,     0.21722,     0.21822,     0.21922,     0.22022,     0.22122,     0.22222,     0.22322,     0.22422,     0.22523,     0.22623,     0.22723,     0.22823,     0.22923,     0.23023,     0.23123,     0.23223,     0.23323,     0.23423,     0.23524,     0.23624,     0.23724,     0.23824,     0.23924,\n",
            "           0.24024,     0.24124,     0.24224,     0.24324,     0.24424,     0.24525,     0.24625,     0.24725,     0.24825,     0.24925,     0.25025,     0.25125,     0.25225,     0.25325,     0.25425,     0.25526,     0.25626,     0.25726,     0.25826,     0.25926,     0.26026,     0.26126,     0.26226,     0.26326,\n",
            "           0.26426,     0.26527,     0.26627,     0.26727,     0.26827,     0.26927,     0.27027,     0.27127,     0.27227,     0.27327,     0.27427,     0.27528,     0.27628,     0.27728,     0.27828,     0.27928,     0.28028,     0.28128,     0.28228,     0.28328,     0.28428,     0.28529,     0.28629,     0.28729,\n",
            "           0.28829,     0.28929,     0.29029,     0.29129,     0.29229,     0.29329,     0.29429,      0.2953,      0.2963,      0.2973,      0.2983,      0.2993,      0.3003,      0.3013,      0.3023,      0.3033,      0.3043,     0.30531,     0.30631,     0.30731,     0.30831,     0.30931,     0.31031,     0.31131,\n",
            "           0.31231,     0.31331,     0.31431,     0.31532,     0.31632,     0.31732,     0.31832,     0.31932,     0.32032,     0.32132,     0.32232,     0.32332,     0.32432,     0.32533,     0.32633,     0.32733,     0.32833,     0.32933,     0.33033,     0.33133,     0.33233,     0.33333,     0.33433,     0.33534,\n",
            "           0.33634,     0.33734,     0.33834,     0.33934,     0.34034,     0.34134,     0.34234,     0.34334,     0.34434,     0.34535,     0.34635,     0.34735,     0.34835,     0.34935,     0.35035,     0.35135,     0.35235,     0.35335,     0.35435,     0.35536,     0.35636,     0.35736,     0.35836,     0.35936,\n",
            "           0.36036,     0.36136,     0.36236,     0.36336,     0.36436,     0.36537,     0.36637,     0.36737,     0.36837,     0.36937,     0.37037,     0.37137,     0.37237,     0.37337,     0.37437,     0.37538,     0.37638,     0.37738,     0.37838,     0.37938,     0.38038,     0.38138,     0.38238,     0.38338,\n",
            "           0.38438,     0.38539,     0.38639,     0.38739,     0.38839,     0.38939,     0.39039,     0.39139,     0.39239,     0.39339,     0.39439,      0.3954,      0.3964,      0.3974,      0.3984,      0.3994,      0.4004,      0.4014,      0.4024,      0.4034,      0.4044,     0.40541,     0.40641,     0.40741,\n",
            "           0.40841,     0.40941,     0.41041,     0.41141,     0.41241,     0.41341,     0.41441,     0.41542,     0.41642,     0.41742,     0.41842,     0.41942,     0.42042,     0.42142,     0.42242,     0.42342,     0.42442,     0.42543,     0.42643,     0.42743,     0.42843,     0.42943,     0.43043,     0.43143,\n",
            "           0.43243,     0.43343,     0.43443,     0.43544,     0.43644,     0.43744,     0.43844,     0.43944,     0.44044,     0.44144,     0.44244,     0.44344,     0.44444,     0.44545,     0.44645,     0.44745,     0.44845,     0.44945,     0.45045,     0.45145,     0.45245,     0.45345,     0.45445,     0.45546,\n",
            "           0.45646,     0.45746,     0.45846,     0.45946,     0.46046,     0.46146,     0.46246,     0.46346,     0.46446,     0.46547,     0.46647,     0.46747,     0.46847,     0.46947,     0.47047,     0.47147,     0.47247,     0.47347,     0.47447,     0.47548,     0.47648,     0.47748,     0.47848,     0.47948,\n",
            "           0.48048,     0.48148,     0.48248,     0.48348,     0.48448,     0.48549,     0.48649,     0.48749,     0.48849,     0.48949,     0.49049,     0.49149,     0.49249,     0.49349,     0.49449,      0.4955,      0.4965,      0.4975,      0.4985,      0.4995,      0.5005,      0.5015,      0.5025,      0.5035,\n",
            "            0.5045,     0.50551,     0.50651,     0.50751,     0.50851,     0.50951,     0.51051,     0.51151,     0.51251,     0.51351,     0.51451,     0.51552,     0.51652,     0.51752,     0.51852,     0.51952,     0.52052,     0.52152,     0.52252,     0.52352,     0.52452,     0.52553,     0.52653,     0.52753,\n",
            "           0.52853,     0.52953,     0.53053,     0.53153,     0.53253,     0.53353,     0.53453,     0.53554,     0.53654,     0.53754,     0.53854,     0.53954,     0.54054,     0.54154,     0.54254,     0.54354,     0.54454,     0.54555,     0.54655,     0.54755,     0.54855,     0.54955,     0.55055,     0.55155,\n",
            "           0.55255,     0.55355,     0.55455,     0.55556,     0.55656,     0.55756,     0.55856,     0.55956,     0.56056,     0.56156,     0.56256,     0.56356,     0.56456,     0.56557,     0.56657,     0.56757,     0.56857,     0.56957,     0.57057,     0.57157,     0.57257,     0.57357,     0.57457,     0.57558,\n",
            "           0.57658,     0.57758,     0.57858,     0.57958,     0.58058,     0.58158,     0.58258,     0.58358,     0.58458,     0.58559,     0.58659,     0.58759,     0.58859,     0.58959,     0.59059,     0.59159,     0.59259,     0.59359,     0.59459,      0.5956,      0.5966,      0.5976,      0.5986,      0.5996,\n",
            "            0.6006,      0.6016,      0.6026,      0.6036,      0.6046,     0.60561,     0.60661,     0.60761,     0.60861,     0.60961,     0.61061,     0.61161,     0.61261,     0.61361,     0.61461,     0.61562,     0.61662,     0.61762,     0.61862,     0.61962,     0.62062,     0.62162,     0.62262,     0.62362,\n",
            "           0.62462,     0.62563,     0.62663,     0.62763,     0.62863,     0.62963,     0.63063,     0.63163,     0.63263,     0.63363,     0.63463,     0.63564,     0.63664,     0.63764,     0.63864,     0.63964,     0.64064,     0.64164,     0.64264,     0.64364,     0.64464,     0.64565,     0.64665,     0.64765,\n",
            "           0.64865,     0.64965,     0.65065,     0.65165,     0.65265,     0.65365,     0.65465,     0.65566,     0.65666,     0.65766,     0.65866,     0.65966,     0.66066,     0.66166,     0.66266,     0.66366,     0.66466,     0.66567,     0.66667,     0.66767,     0.66867,     0.66967,     0.67067,     0.67167,\n",
            "           0.67267,     0.67367,     0.67467,     0.67568,     0.67668,     0.67768,     0.67868,     0.67968,     0.68068,     0.68168,     0.68268,     0.68368,     0.68468,     0.68569,     0.68669,     0.68769,     0.68869,     0.68969,     0.69069,     0.69169,     0.69269,     0.69369,     0.69469,      0.6957,\n",
            "            0.6967,      0.6977,      0.6987,      0.6997,      0.7007,      0.7017,      0.7027,      0.7037,      0.7047,     0.70571,     0.70671,     0.70771,     0.70871,     0.70971,     0.71071,     0.71171,     0.71271,     0.71371,     0.71471,     0.71572,     0.71672,     0.71772,     0.71872,     0.71972,\n",
            "           0.72072,     0.72172,     0.72272,     0.72372,     0.72472,     0.72573,     0.72673,     0.72773,     0.72873,     0.72973,     0.73073,     0.73173,     0.73273,     0.73373,     0.73473,     0.73574,     0.73674,     0.73774,     0.73874,     0.73974,     0.74074,     0.74174,     0.74274,     0.74374,\n",
            "           0.74474,     0.74575,     0.74675,     0.74775,     0.74875,     0.74975,     0.75075,     0.75175,     0.75275,     0.75375,     0.75475,     0.75576,     0.75676,     0.75776,     0.75876,     0.75976,     0.76076,     0.76176,     0.76276,     0.76376,     0.76476,     0.76577,     0.76677,     0.76777,\n",
            "           0.76877,     0.76977,     0.77077,     0.77177,     0.77277,     0.77377,     0.77477,     0.77578,     0.77678,     0.77778,     0.77878,     0.77978,     0.78078,     0.78178,     0.78278,     0.78378,     0.78478,     0.78579,     0.78679,     0.78779,     0.78879,     0.78979,     0.79079,     0.79179,\n",
            "           0.79279,     0.79379,     0.79479,      0.7958,      0.7968,      0.7978,      0.7988,      0.7998,      0.8008,      0.8018,      0.8028,      0.8038,      0.8048,     0.80581,     0.80681,     0.80781,     0.80881,     0.80981,     0.81081,     0.81181,     0.81281,     0.81381,     0.81481,     0.81582,\n",
            "           0.81682,     0.81782,     0.81882,     0.81982,     0.82082,     0.82182,     0.82282,     0.82382,     0.82482,     0.82583,     0.82683,     0.82783,     0.82883,     0.82983,     0.83083,     0.83183,     0.83283,     0.83383,     0.83483,     0.83584,     0.83684,     0.83784,     0.83884,     0.83984,\n",
            "           0.84084,     0.84184,     0.84284,     0.84384,     0.84484,     0.84585,     0.84685,     0.84785,     0.84885,     0.84985,     0.85085,     0.85185,     0.85285,     0.85385,     0.85485,     0.85586,     0.85686,     0.85786,     0.85886,     0.85986,     0.86086,     0.86186,     0.86286,     0.86386,\n",
            "           0.86486,     0.86587,     0.86687,     0.86787,     0.86887,     0.86987,     0.87087,     0.87187,     0.87287,     0.87387,     0.87487,     0.87588,     0.87688,     0.87788,     0.87888,     0.87988,     0.88088,     0.88188,     0.88288,     0.88388,     0.88488,     0.88589,     0.88689,     0.88789,\n",
            "           0.88889,     0.88989,     0.89089,     0.89189,     0.89289,     0.89389,     0.89489,      0.8959,      0.8969,      0.8979,      0.8989,      0.8999,      0.9009,      0.9019,      0.9029,      0.9039,      0.9049,     0.90591,     0.90691,     0.90791,     0.90891,     0.90991,     0.91091,     0.91191,\n",
            "           0.91291,     0.91391,     0.91491,     0.91592,     0.91692,     0.91792,     0.91892,     0.91992,     0.92092,     0.92192,     0.92292,     0.92392,     0.92492,     0.92593,     0.92693,     0.92793,     0.92893,     0.92993,     0.93093,     0.93193,     0.93293,     0.93393,     0.93493,     0.93594,\n",
            "           0.93694,     0.93794,     0.93894,     0.93994,     0.94094,     0.94194,     0.94294,     0.94394,     0.94494,     0.94595,     0.94695,     0.94795,     0.94895,     0.94995,     0.95095,     0.95195,     0.95295,     0.95395,     0.95495,     0.95596,     0.95696,     0.95796,     0.95896,     0.95996,\n",
            "           0.96096,     0.96196,     0.96296,     0.96396,     0.96496,     0.96597,     0.96697,     0.96797,     0.96897,     0.96997,     0.97097,     0.97197,     0.97297,     0.97397,     0.97497,     0.97598,     0.97698,     0.97798,     0.97898,     0.97998,     0.98098,     0.98198,     0.98298,     0.98398,\n",
            "           0.98498,     0.98599,     0.98699,     0.98799,     0.98899,     0.98999,     0.99099,     0.99199,     0.99299,     0.99399,     0.99499,       0.996,       0.997,       0.998,       0.999,           1]), array([[          1,           1,           1,           1,           1,           1,           1,           1,           1,           1,           1,           1,           1,           1,           1,           1,           1,           1,           1,           1,           1,           1,           1,\n",
            "                  1,           1,           1,           1,           1,           1,           1,           1,           1,           1,           1,           1,           1,           1,           1,           1,           1,           1,           1,           1,           1,           1,           1,\n",
            "                  1,           1,           1,           1,           1,           1,           1,           1,           1,           1,           1,           1,           1,           1,           1,           1,           1,           1,           1,           1,           1,           1,           1,\n",
            "                  1,           1,           1,           1,           1,           1,           1,           1,           1,           1,           1,           1,           1,           1,           1,           1,           1,           1,           1,           1,           1,           1,           1,\n",
            "                  1,           1,           1,           1,           1,           1,           1,           1,           1,           1,           1,           1,           1,           1,           1,           1,           1,           1,           1,           1,           1,           1,           1,\n",
            "                  1,           1,           1,           1,           1,           1,           1,           1,     0.97826,     0.97826,     0.97826,     0.97826,     0.97826,     0.97826,     0.97826,     0.97826,     0.97826,     0.97826,     0.97826,     0.97826,     0.97826,     0.97826,     0.97826,\n",
            "            0.97826,     0.97826,     0.97826,     0.97826,     0.97826,     0.97826,     0.97826,     0.97826,     0.97826,     0.97826,     0.97826,     0.97826,     0.97826,     0.97826,     0.97826,     0.97826,     0.97826,     0.97826,     0.97826,     0.97826,     0.97826,     0.97826,     0.97826,\n",
            "            0.97826,     0.97826,     0.97826,     0.97826,     0.97826,     0.97826,     0.97826,     0.97826,     0.97826,     0.97826,     0.97826,     0.97826,     0.97826,     0.97826,     0.97826,     0.97826,     0.97826,     0.97826,     0.97826,     0.97826,     0.97826,     0.97826,     0.97826,\n",
            "            0.97826,     0.97826,     0.97826,     0.97826,     0.97826,     0.97826,     0.97826,     0.97826,     0.97826,     0.97826,     0.97826,     0.97826,     0.97826,     0.97826,     0.97826,     0.97826,     0.97826,     0.97826,     0.97826,     0.97826,     0.97826,     0.97826,     0.97826,\n",
            "            0.97826,     0.97826,     0.97826,     0.97826,     0.97826,     0.97826,     0.97826,     0.97826,     0.97826,     0.97826,     0.97826,     0.97826,     0.97826,     0.97826,     0.96078,     0.96078,     0.96078,     0.96078,     0.96078,     0.96078,     0.96078,     0.96078,     0.96078,\n",
            "            0.96078,     0.96078,     0.96078,     0.96078,     0.96078,     0.96078,     0.96078,     0.96078,     0.96078,     0.96078,     0.94444,     0.94444,     0.94444,     0.94444,     0.94444,     0.94444,     0.94444,     0.94444,     0.94444,     0.94444,      0.9375,      0.9375,      0.9375,\n",
            "             0.9375,      0.9375,      0.9375,      0.9375,      0.9375,      0.9375,      0.9375,      0.9375,      0.9375,      0.9375,      0.9375,      0.9375,      0.9375,      0.9375,      0.9375,      0.9375,      0.9375,      0.9375,      0.9375,      0.9375,      0.9375,      0.9375,      0.9375,\n",
            "             0.9375,      0.9375,      0.9375,      0.9375,      0.9375,      0.9375,      0.9375,      0.9375,      0.9375,      0.9375,      0.9375,      0.9375,      0.9375,      0.9375,      0.9375,      0.9375,      0.9375,      0.9375,      0.9375,      0.9375,      0.9375,      0.9375,      0.9375,\n",
            "             0.9375,      0.9375,      0.9375,      0.9375,      0.9375,      0.9375,      0.9375,      0.9375,      0.9375,      0.9375,      0.9375,      0.9375,      0.9375,      0.9375,      0.9375,      0.9375,      0.9375,      0.9375,      0.9375,      0.9375,      0.9375,      0.9375,      0.9375,\n",
            "             0.9375,      0.9375,      0.9375,      0.9375,      0.9375,      0.9375,      0.9375,      0.9375,      0.9375,      0.9375,      0.9375,      0.9375,      0.9375,      0.9375,      0.9375,      0.9375,      0.9375,      0.9375,      0.9375,      0.9375,      0.9375,      0.9375,      0.9375,\n",
            "             0.9375,      0.9375,      0.9375,      0.9375,      0.9375,      0.9375,      0.9375,      0.9375,      0.9375,      0.9375,      0.9375,      0.9375,      0.9375,      0.9375,      0.9375,      0.9375,      0.9375,      0.9375,      0.9375,      0.9375,      0.9375,      0.9375,      0.9375,\n",
            "             0.9375,      0.9375,      0.9375,      0.9375,      0.9375,      0.9375,      0.9375,      0.9375,      0.9375,      0.9375,      0.9375,      0.9375,      0.9375,      0.9375,      0.9375,      0.9375,      0.9375,      0.9375,      0.9375,      0.9375,      0.9375,      0.9375,      0.9375,\n",
            "             0.9375,      0.9375,      0.9375,      0.9375,      0.9375,      0.9375,      0.9375,      0.9375,      0.9375,      0.9375,      0.9375,      0.9375,      0.9375,      0.9375,      0.9375,      0.9375,      0.9375,      0.9375,      0.9375,      0.9375,      0.9375,      0.9375,      0.9375,\n",
            "             0.9375,      0.9375,      0.9375,      0.9375,      0.9375,      0.9375,      0.9375,      0.9375,      0.9375,      0.9375,      0.9375,      0.9375,      0.9375,      0.9375,      0.9375,      0.9375,      0.9375,      0.9375,      0.9375,      0.9375,      0.9375,      0.9375,      0.9375,\n",
            "             0.9375,      0.9375,      0.9375,      0.9375,     0.93333,     0.93333,     0.93333,     0.93333,     0.93333,     0.93333,     0.93333,     0.93333,     0.93333,     0.93333,     0.93333,     0.93333,     0.93333,     0.93333,     0.93333,     0.93333,     0.93333,     0.93333,     0.93333,\n",
            "            0.93333,     0.93333,     0.93333,     0.93333,     0.93333,     0.93333,     0.93333,     0.93333,     0.93333,     0.93333,     0.93333,     0.93333,     0.93333,     0.93333,     0.93333,     0.93333,     0.93333,     0.93333,     0.93333,     0.93333,     0.93333,     0.93333,     0.93333,\n",
            "            0.93333,     0.93333,     0.93333,     0.93333,     0.93333,     0.93333,     0.93333,     0.93333,     0.93333,     0.93333,     0.93333,     0.93333,     0.93333,     0.93333,     0.93333,     0.93333,     0.93333,     0.93333,     0.93333,     0.93333,     0.93333,     0.93333,     0.93333,\n",
            "            0.93333,     0.93333,     0.93333,     0.93333,     0.93333,     0.93333,     0.93333,     0.93333,     0.93333,     0.93333,     0.93333,     0.93333,     0.93333,     0.93333,     0.93333,     0.93333,     0.93333,     0.93333,     0.93333,     0.93333,     0.93333,     0.93333,     0.93333,\n",
            "            0.93333,     0.93333,     0.93333,     0.93333,     0.93333,     0.93333,     0.93333,     0.93333,     0.93333,     0.93333,     0.93333,     0.93333,     0.93333,     0.93333,     0.93333,     0.93333,     0.93333,     0.93333,     0.93333,     0.93333,     0.93333,     0.93333,     0.93333,\n",
            "            0.93333,     0.93333,     0.93333,     0.93333,     0.93333,     0.93333,     0.93333,     0.93333,     0.93333,     0.93333,     0.93333,     0.93333,     0.93333,     0.93333,     0.93333,     0.93333,     0.93333,     0.93333,     0.93333,     0.93333,     0.93333,     0.93333,     0.93333,\n",
            "            0.93333,     0.93333,     0.93333,     0.93333,     0.93333,     0.93333,     0.93333,     0.93333,     0.93333,     0.93333,     0.93333,     0.93333,     0.93333,     0.93333,     0.93333,     0.93333,     0.93333,     0.93333,     0.93333,     0.93333,     0.93333,     0.93333,     0.93333,\n",
            "            0.93333,     0.93333,     0.93333,     0.93333,     0.93333,     0.93333,     0.93333,     0.93333,     0.93333,     0.93333,     0.93333,     0.93333,     0.93333,     0.93333,     0.93333,     0.93333,     0.93333,     0.93333,     0.93333,     0.93333,     0.93333,     0.93333,     0.93333,\n",
            "            0.93333,     0.93333,     0.93333,     0.93333,     0.93333,     0.93333,     0.93333,     0.93333,     0.93333,     0.93333,     0.93333,     0.93333,     0.93333,     0.93333,     0.93333,     0.93333,     0.93333,     0.93333,     0.93333,     0.93333,     0.93333,     0.93333,     0.93333,\n",
            "            0.93333,     0.93333,     0.93333,     0.93333,     0.93333,     0.93333,     0.93333,     0.93333,     0.93333,     0.93333,     0.93333,     0.93333,     0.93333,     0.93333,     0.93333,     0.93333,     0.93333,     0.93333,     0.93333,     0.93333,     0.93333,     0.93333,     0.93333,\n",
            "            0.93333,     0.93333,     0.93333,     0.93333,     0.93333,     0.93333,     0.93333,     0.93333,     0.93333,     0.93333,     0.93333,     0.93333,     0.93333,     0.93333,     0.93333,     0.93333,     0.93333,     0.93333,     0.93333,     0.93333,     0.93333,     0.93333,     0.93333,\n",
            "            0.93333,     0.93333,     0.93333,     0.93333,     0.93333,     0.93333,     0.93333,     0.93333,     0.93333,     0.93333,     0.93333,     0.93333,     0.93333,     0.93333,     0.93333,     0.93333,     0.93333,     0.93333,     0.93333,     0.93333,     0.93333,     0.93333,     0.93333,\n",
            "            0.93333,     0.93333,     0.93333,     0.93333,     0.93333,     0.93333,     0.93333,     0.93333,     0.93333,     0.93333,     0.93333,     0.93333,     0.93333,     0.93333,     0.93333,     0.93333,     0.93333,     0.93333,     0.93333,     0.93333,     0.93333,     0.93333,     0.93333,\n",
            "            0.93333,     0.93333,     0.93333,     0.93333,     0.93333,     0.93333,     0.93333,     0.93333,     0.93333,     0.93333,     0.93333,     0.93333,     0.93333,     0.93333,     0.93333,     0.93333,     0.93333,     0.93333,     0.93333,     0.92899,     0.92899,     0.92899,     0.92899,\n",
            "            0.92899,     0.92899,     0.92899,     0.92899,     0.92899,     0.92899,     0.92899,     0.92899,     0.92899,     0.92899,     0.91954,     0.91954,     0.91954,     0.91954,     0.91954,     0.91954,     0.91954,     0.91954,     0.91954,     0.91954,     0.91954,     0.91954,     0.91954,\n",
            "            0.91954,     0.91954,     0.91525,     0.91525,     0.91525,     0.91525,     0.91525,     0.91525,     0.91525,     0.91525,     0.91525,     0.91525,     0.91111,     0.91111,     0.91111,     0.91111,     0.91111,     0.91111,     0.91111,     0.91111,     0.91111,     0.91111,     0.91005,\n",
            "            0.91005,     0.91005,     0.91005,     0.91005,     0.91005,     0.91005,     0.91005,     0.91005,     0.91005,     0.91005,     0.91005,     0.91005,     0.91005,     0.91005,     0.91005,     0.91005,     0.91005,     0.91005,     0.91005,     0.91005,     0.91005,     0.91005,     0.91005,\n",
            "            0.91005,     0.91005,     0.91005,     0.91005,     0.91005,     0.91005,     0.91005,     0.91005,     0.91005,     0.91005,     0.91005,     0.91005,     0.91005,     0.91005,     0.91005,     0.90104,     0.90104,     0.90104,     0.90104,     0.90104,      0.8916,     0.88569,     0.87979,\n",
            "            0.87388,     0.86798,     0.86207,     0.85617,     0.85026,     0.84436,     0.83846,     0.83255,     0.82665,     0.82074,     0.81484,     0.80893,     0.80303,     0.79712,     0.79122,     0.78531,     0.77941,      0.7735,      0.7676,      0.7617,     0.75579,     0.74989,     0.74398,\n",
            "            0.73808,     0.73217,     0.72627,     0.72036,     0.71446,     0.70855,     0.70265,     0.69674,     0.69084,     0.68494,     0.67903,     0.67313,     0.66722,     0.66132,     0.65541,     0.64951,      0.6436,      0.6377,     0.63179,     0.62589,     0.61998,     0.61408,     0.60818,\n",
            "            0.60227,     0.59637,     0.59046,     0.58456,     0.57865,     0.57275,     0.56684,     0.56094,     0.55503,     0.54913,     0.54322,     0.53732,     0.53142,     0.52551,     0.51961,      0.5137,      0.5078,     0.50189,     0.49599,     0.49008,     0.48418,     0.47827,     0.47237,\n",
            "            0.46646,     0.46056,     0.45466,     0.44875,     0.44285,     0.43694,     0.43104,     0.42513,     0.41923,     0.41332,     0.40742,     0.40151,     0.39561,      0.3897,      0.3838,      0.3779,     0.37199,     0.36609,     0.36018,     0.35428,     0.34837,     0.34247,     0.33656,\n",
            "            0.33066,     0.32475,     0.31885,     0.31294,     0.30704,     0.30114,     0.29523,     0.28933,     0.28342,     0.27752,     0.27161,     0.26571,      0.2598,      0.2539,     0.24799,     0.24209,     0.23618,     0.23028,     0.22438,     0.21847,     0.21257,     0.20666,     0.20076,\n",
            "            0.19485,     0.18895,     0.18304,     0.17714,     0.17123,     0.16533,     0.15942,     0.15352,     0.14762,     0.14171,     0.13581,      0.1299,       0.124,     0.11809,     0.11219,     0.10628,     0.10038,    0.094474,    0.088569,    0.082665,     0.07676,    0.070855,    0.064951,\n",
            "           0.059046,    0.053142,    0.047237,    0.041332,    0.035428,    0.029523,    0.023618,    0.017714,    0.011809,   0.0059046,           0]]), 'Recall', 'Precision'], [array([          0,    0.001001,    0.002002,    0.003003,    0.004004,    0.005005,    0.006006,    0.007007,    0.008008,    0.009009,     0.01001,    0.011011,    0.012012,    0.013013,    0.014014,    0.015015,    0.016016,    0.017017,    0.018018,    0.019019,     0.02002,    0.021021,    0.022022,    0.023023,\n",
            "          0.024024,    0.025025,    0.026026,    0.027027,    0.028028,    0.029029,     0.03003,    0.031031,    0.032032,    0.033033,    0.034034,    0.035035,    0.036036,    0.037037,    0.038038,    0.039039,     0.04004,    0.041041,    0.042042,    0.043043,    0.044044,    0.045045,    0.046046,    0.047047,\n",
            "          0.048048,    0.049049,     0.05005,    0.051051,    0.052052,    0.053053,    0.054054,    0.055055,    0.056056,    0.057057,    0.058058,    0.059059,     0.06006,    0.061061,    0.062062,    0.063063,    0.064064,    0.065065,    0.066066,    0.067067,    0.068068,    0.069069,     0.07007,    0.071071,\n",
            "          0.072072,    0.073073,    0.074074,    0.075075,    0.076076,    0.077077,    0.078078,    0.079079,     0.08008,    0.081081,    0.082082,    0.083083,    0.084084,    0.085085,    0.086086,    0.087087,    0.088088,    0.089089,     0.09009,    0.091091,    0.092092,    0.093093,    0.094094,    0.095095,\n",
            "          0.096096,    0.097097,    0.098098,    0.099099,      0.1001,      0.1011,      0.1021,      0.1031,      0.1041,     0.10511,     0.10611,     0.10711,     0.10811,     0.10911,     0.11011,     0.11111,     0.11211,     0.11311,     0.11411,     0.11512,     0.11612,     0.11712,     0.11812,     0.11912,\n",
            "           0.12012,     0.12112,     0.12212,     0.12312,     0.12412,     0.12513,     0.12613,     0.12713,     0.12813,     0.12913,     0.13013,     0.13113,     0.13213,     0.13313,     0.13413,     0.13514,     0.13614,     0.13714,     0.13814,     0.13914,     0.14014,     0.14114,     0.14214,     0.14314,\n",
            "           0.14414,     0.14515,     0.14615,     0.14715,     0.14815,     0.14915,     0.15015,     0.15115,     0.15215,     0.15315,     0.15415,     0.15516,     0.15616,     0.15716,     0.15816,     0.15916,     0.16016,     0.16116,     0.16216,     0.16316,     0.16416,     0.16517,     0.16617,     0.16717,\n",
            "           0.16817,     0.16917,     0.17017,     0.17117,     0.17217,     0.17317,     0.17417,     0.17518,     0.17618,     0.17718,     0.17818,     0.17918,     0.18018,     0.18118,     0.18218,     0.18318,     0.18418,     0.18519,     0.18619,     0.18719,     0.18819,     0.18919,     0.19019,     0.19119,\n",
            "           0.19219,     0.19319,     0.19419,      0.1952,      0.1962,      0.1972,      0.1982,      0.1992,      0.2002,      0.2012,      0.2022,      0.2032,      0.2042,     0.20521,     0.20621,     0.20721,     0.20821,     0.20921,     0.21021,     0.21121,     0.21221,     0.21321,     0.21421,     0.21522,\n",
            "           0.21622,     0.21722,     0.21822,     0.21922,     0.22022,     0.22122,     0.22222,     0.22322,     0.22422,     0.22523,     0.22623,     0.22723,     0.22823,     0.22923,     0.23023,     0.23123,     0.23223,     0.23323,     0.23423,     0.23524,     0.23624,     0.23724,     0.23824,     0.23924,\n",
            "           0.24024,     0.24124,     0.24224,     0.24324,     0.24424,     0.24525,     0.24625,     0.24725,     0.24825,     0.24925,     0.25025,     0.25125,     0.25225,     0.25325,     0.25425,     0.25526,     0.25626,     0.25726,     0.25826,     0.25926,     0.26026,     0.26126,     0.26226,     0.26326,\n",
            "           0.26426,     0.26527,     0.26627,     0.26727,     0.26827,     0.26927,     0.27027,     0.27127,     0.27227,     0.27327,     0.27427,     0.27528,     0.27628,     0.27728,     0.27828,     0.27928,     0.28028,     0.28128,     0.28228,     0.28328,     0.28428,     0.28529,     0.28629,     0.28729,\n",
            "           0.28829,     0.28929,     0.29029,     0.29129,     0.29229,     0.29329,     0.29429,      0.2953,      0.2963,      0.2973,      0.2983,      0.2993,      0.3003,      0.3013,      0.3023,      0.3033,      0.3043,     0.30531,     0.30631,     0.30731,     0.30831,     0.30931,     0.31031,     0.31131,\n",
            "           0.31231,     0.31331,     0.31431,     0.31532,     0.31632,     0.31732,     0.31832,     0.31932,     0.32032,     0.32132,     0.32232,     0.32332,     0.32432,     0.32533,     0.32633,     0.32733,     0.32833,     0.32933,     0.33033,     0.33133,     0.33233,     0.33333,     0.33433,     0.33534,\n",
            "           0.33634,     0.33734,     0.33834,     0.33934,     0.34034,     0.34134,     0.34234,     0.34334,     0.34434,     0.34535,     0.34635,     0.34735,     0.34835,     0.34935,     0.35035,     0.35135,     0.35235,     0.35335,     0.35435,     0.35536,     0.35636,     0.35736,     0.35836,     0.35936,\n",
            "           0.36036,     0.36136,     0.36236,     0.36336,     0.36436,     0.36537,     0.36637,     0.36737,     0.36837,     0.36937,     0.37037,     0.37137,     0.37237,     0.37337,     0.37437,     0.37538,     0.37638,     0.37738,     0.37838,     0.37938,     0.38038,     0.38138,     0.38238,     0.38338,\n",
            "           0.38438,     0.38539,     0.38639,     0.38739,     0.38839,     0.38939,     0.39039,     0.39139,     0.39239,     0.39339,     0.39439,      0.3954,      0.3964,      0.3974,      0.3984,      0.3994,      0.4004,      0.4014,      0.4024,      0.4034,      0.4044,     0.40541,     0.40641,     0.40741,\n",
            "           0.40841,     0.40941,     0.41041,     0.41141,     0.41241,     0.41341,     0.41441,     0.41542,     0.41642,     0.41742,     0.41842,     0.41942,     0.42042,     0.42142,     0.42242,     0.42342,     0.42442,     0.42543,     0.42643,     0.42743,     0.42843,     0.42943,     0.43043,     0.43143,\n",
            "           0.43243,     0.43343,     0.43443,     0.43544,     0.43644,     0.43744,     0.43844,     0.43944,     0.44044,     0.44144,     0.44244,     0.44344,     0.44444,     0.44545,     0.44645,     0.44745,     0.44845,     0.44945,     0.45045,     0.45145,     0.45245,     0.45345,     0.45445,     0.45546,\n",
            "           0.45646,     0.45746,     0.45846,     0.45946,     0.46046,     0.46146,     0.46246,     0.46346,     0.46446,     0.46547,     0.46647,     0.46747,     0.46847,     0.46947,     0.47047,     0.47147,     0.47247,     0.47347,     0.47447,     0.47548,     0.47648,     0.47748,     0.47848,     0.47948,\n",
            "           0.48048,     0.48148,     0.48248,     0.48348,     0.48448,     0.48549,     0.48649,     0.48749,     0.48849,     0.48949,     0.49049,     0.49149,     0.49249,     0.49349,     0.49449,      0.4955,      0.4965,      0.4975,      0.4985,      0.4995,      0.5005,      0.5015,      0.5025,      0.5035,\n",
            "            0.5045,     0.50551,     0.50651,     0.50751,     0.50851,     0.50951,     0.51051,     0.51151,     0.51251,     0.51351,     0.51451,     0.51552,     0.51652,     0.51752,     0.51852,     0.51952,     0.52052,     0.52152,     0.52252,     0.52352,     0.52452,     0.52553,     0.52653,     0.52753,\n",
            "           0.52853,     0.52953,     0.53053,     0.53153,     0.53253,     0.53353,     0.53453,     0.53554,     0.53654,     0.53754,     0.53854,     0.53954,     0.54054,     0.54154,     0.54254,     0.54354,     0.54454,     0.54555,     0.54655,     0.54755,     0.54855,     0.54955,     0.55055,     0.55155,\n",
            "           0.55255,     0.55355,     0.55455,     0.55556,     0.55656,     0.55756,     0.55856,     0.55956,     0.56056,     0.56156,     0.56256,     0.56356,     0.56456,     0.56557,     0.56657,     0.56757,     0.56857,     0.56957,     0.57057,     0.57157,     0.57257,     0.57357,     0.57457,     0.57558,\n",
            "           0.57658,     0.57758,     0.57858,     0.57958,     0.58058,     0.58158,     0.58258,     0.58358,     0.58458,     0.58559,     0.58659,     0.58759,     0.58859,     0.58959,     0.59059,     0.59159,     0.59259,     0.59359,     0.59459,      0.5956,      0.5966,      0.5976,      0.5986,      0.5996,\n",
            "            0.6006,      0.6016,      0.6026,      0.6036,      0.6046,     0.60561,     0.60661,     0.60761,     0.60861,     0.60961,     0.61061,     0.61161,     0.61261,     0.61361,     0.61461,     0.61562,     0.61662,     0.61762,     0.61862,     0.61962,     0.62062,     0.62162,     0.62262,     0.62362,\n",
            "           0.62462,     0.62563,     0.62663,     0.62763,     0.62863,     0.62963,     0.63063,     0.63163,     0.63263,     0.63363,     0.63463,     0.63564,     0.63664,     0.63764,     0.63864,     0.63964,     0.64064,     0.64164,     0.64264,     0.64364,     0.64464,     0.64565,     0.64665,     0.64765,\n",
            "           0.64865,     0.64965,     0.65065,     0.65165,     0.65265,     0.65365,     0.65465,     0.65566,     0.65666,     0.65766,     0.65866,     0.65966,     0.66066,     0.66166,     0.66266,     0.66366,     0.66466,     0.66567,     0.66667,     0.66767,     0.66867,     0.66967,     0.67067,     0.67167,\n",
            "           0.67267,     0.67367,     0.67467,     0.67568,     0.67668,     0.67768,     0.67868,     0.67968,     0.68068,     0.68168,     0.68268,     0.68368,     0.68468,     0.68569,     0.68669,     0.68769,     0.68869,     0.68969,     0.69069,     0.69169,     0.69269,     0.69369,     0.69469,      0.6957,\n",
            "            0.6967,      0.6977,      0.6987,      0.6997,      0.7007,      0.7017,      0.7027,      0.7037,      0.7047,     0.70571,     0.70671,     0.70771,     0.70871,     0.70971,     0.71071,     0.71171,     0.71271,     0.71371,     0.71471,     0.71572,     0.71672,     0.71772,     0.71872,     0.71972,\n",
            "           0.72072,     0.72172,     0.72272,     0.72372,     0.72472,     0.72573,     0.72673,     0.72773,     0.72873,     0.72973,     0.73073,     0.73173,     0.73273,     0.73373,     0.73473,     0.73574,     0.73674,     0.73774,     0.73874,     0.73974,     0.74074,     0.74174,     0.74274,     0.74374,\n",
            "           0.74474,     0.74575,     0.74675,     0.74775,     0.74875,     0.74975,     0.75075,     0.75175,     0.75275,     0.75375,     0.75475,     0.75576,     0.75676,     0.75776,     0.75876,     0.75976,     0.76076,     0.76176,     0.76276,     0.76376,     0.76476,     0.76577,     0.76677,     0.76777,\n",
            "           0.76877,     0.76977,     0.77077,     0.77177,     0.77277,     0.77377,     0.77477,     0.77578,     0.77678,     0.77778,     0.77878,     0.77978,     0.78078,     0.78178,     0.78278,     0.78378,     0.78478,     0.78579,     0.78679,     0.78779,     0.78879,     0.78979,     0.79079,     0.79179,\n",
            "           0.79279,     0.79379,     0.79479,      0.7958,      0.7968,      0.7978,      0.7988,      0.7998,      0.8008,      0.8018,      0.8028,      0.8038,      0.8048,     0.80581,     0.80681,     0.80781,     0.80881,     0.80981,     0.81081,     0.81181,     0.81281,     0.81381,     0.81481,     0.81582,\n",
            "           0.81682,     0.81782,     0.81882,     0.81982,     0.82082,     0.82182,     0.82282,     0.82382,     0.82482,     0.82583,     0.82683,     0.82783,     0.82883,     0.82983,     0.83083,     0.83183,     0.83283,     0.83383,     0.83483,     0.83584,     0.83684,     0.83784,     0.83884,     0.83984,\n",
            "           0.84084,     0.84184,     0.84284,     0.84384,     0.84484,     0.84585,     0.84685,     0.84785,     0.84885,     0.84985,     0.85085,     0.85185,     0.85285,     0.85385,     0.85485,     0.85586,     0.85686,     0.85786,     0.85886,     0.85986,     0.86086,     0.86186,     0.86286,     0.86386,\n",
            "           0.86486,     0.86587,     0.86687,     0.86787,     0.86887,     0.86987,     0.87087,     0.87187,     0.87287,     0.87387,     0.87487,     0.87588,     0.87688,     0.87788,     0.87888,     0.87988,     0.88088,     0.88188,     0.88288,     0.88388,     0.88488,     0.88589,     0.88689,     0.88789,\n",
            "           0.88889,     0.88989,     0.89089,     0.89189,     0.89289,     0.89389,     0.89489,      0.8959,      0.8969,      0.8979,      0.8989,      0.8999,      0.9009,      0.9019,      0.9029,      0.9039,      0.9049,     0.90591,     0.90691,     0.90791,     0.90891,     0.90991,     0.91091,     0.91191,\n",
            "           0.91291,     0.91391,     0.91491,     0.91592,     0.91692,     0.91792,     0.91892,     0.91992,     0.92092,     0.92192,     0.92292,     0.92392,     0.92492,     0.92593,     0.92693,     0.92793,     0.92893,     0.92993,     0.93093,     0.93193,     0.93293,     0.93393,     0.93493,     0.93594,\n",
            "           0.93694,     0.93794,     0.93894,     0.93994,     0.94094,     0.94194,     0.94294,     0.94394,     0.94494,     0.94595,     0.94695,     0.94795,     0.94895,     0.94995,     0.95095,     0.95195,     0.95295,     0.95395,     0.95495,     0.95596,     0.95696,     0.95796,     0.95896,     0.95996,\n",
            "           0.96096,     0.96196,     0.96296,     0.96396,     0.96496,     0.96597,     0.96697,     0.96797,     0.96897,     0.96997,     0.97097,     0.97197,     0.97297,     0.97397,     0.97497,     0.97598,     0.97698,     0.97798,     0.97898,     0.97998,     0.98098,     0.98198,     0.98298,     0.98398,\n",
            "           0.98498,     0.98599,     0.98699,     0.98799,     0.98899,     0.98999,     0.99099,     0.99199,     0.99299,     0.99399,     0.99499,       0.996,       0.997,       0.998,       0.999,           1]), array([[    0.87154,     0.87154,     0.87154,     0.87154,     0.87154,     0.87154,     0.87154,     0.87154,     0.87154,     0.87154,     0.87154,     0.87154,     0.87154,     0.87154,     0.87154,     0.87154,     0.87154,     0.87154,     0.87154,     0.87154,     0.87154,     0.87154,     0.87154,\n",
            "            0.87154,     0.87154,     0.87154,     0.87154,     0.87154,     0.87154,     0.87154,     0.87154,     0.87154,     0.87154,     0.87154,     0.87154,     0.87154,     0.87154,     0.87154,     0.87154,     0.87154,     0.87154,     0.87154,     0.87154,     0.87154,     0.87154,     0.87154,\n",
            "            0.87154,     0.87154,     0.87154,     0.87154,     0.87154,     0.87154,     0.87154,     0.87154,     0.87154,     0.87154,     0.87154,     0.87154,     0.87154,     0.87154,     0.87154,     0.87154,     0.87154,     0.87154,     0.87154,     0.87154,     0.87154,     0.87154,     0.87154,\n",
            "            0.87154,     0.87154,     0.87154,     0.87154,     0.87154,     0.87154,     0.87154,     0.87154,     0.87154,     0.87154,     0.87154,     0.87154,     0.87154,     0.87154,     0.87154,     0.87154,     0.87154,     0.87154,     0.87154,     0.87154,     0.87154,     0.87154,     0.87154,\n",
            "            0.87154,     0.87154,     0.87154,     0.87154,     0.87154,     0.87154,     0.87154,     0.87154,     0.87154,     0.87154,     0.87154,     0.87154,     0.87154,     0.87154,     0.87154,     0.87154,     0.87154,     0.87154,     0.87154,     0.87154,     0.87154,     0.87154,     0.87154,\n",
            "            0.87154,     0.87154,     0.87154,     0.87154,     0.87154,     0.87154,     0.87154,     0.87154,     0.87154,     0.87154,     0.87154,     0.87154,     0.87154,     0.87154,     0.87154,     0.87154,     0.87154,     0.87154,     0.87154,     0.87154,     0.87154,     0.87154,     0.87154,\n",
            "            0.87154,     0.87154,     0.87154,     0.87154,     0.87154,     0.87154,     0.87154,     0.87154,     0.87154,     0.87154,     0.87154,     0.87154,     0.87154,     0.87154,     0.87154,     0.87154,     0.87154,     0.87154,     0.87154,     0.87154,     0.87154,     0.87154,     0.87154,\n",
            "            0.87154,     0.87154,     0.87154,     0.87154,     0.87154,     0.87154,     0.87154,     0.87154,     0.87154,     0.87154,     0.87154,     0.87154,     0.87154,     0.87154,     0.87154,     0.87154,     0.87154,     0.87154,     0.87154,     0.87154,     0.87154,     0.87154,     0.87154,\n",
            "            0.87154,     0.87154,     0.87154,     0.87154,     0.87154,     0.87154,     0.87154,     0.87154,     0.87154,     0.87154,     0.87154,     0.87154,     0.87154,     0.87154,     0.87154,     0.87154,     0.87154,     0.87154,     0.87154,     0.87154,     0.87154,     0.87154,     0.87154,\n",
            "            0.87154,     0.87154,     0.87154,     0.87154,     0.87154,     0.87154,     0.87154,     0.87154,     0.87154,     0.87154,     0.87154,     0.87154,     0.87154,     0.87154,     0.87154,     0.87154,     0.87154,     0.87154,     0.87154,     0.87154,     0.87154,     0.87154,     0.87154,\n",
            "            0.87154,     0.87154,     0.87154,     0.87154,     0.87154,     0.87154,     0.87154,     0.87154,     0.87154,     0.87154,     0.87154,     0.87154,     0.87154,     0.87154,     0.87154,     0.87154,     0.87154,     0.87154,     0.87154,     0.87154,     0.87154,     0.87154,     0.87154,\n",
            "            0.87154,     0.87154,     0.87154,     0.87154,     0.87154,     0.87154,     0.87154,     0.87154,     0.87154,     0.87154,     0.87154,     0.87154,     0.87154,     0.87154,     0.87154,     0.87154,     0.87154,     0.87154,     0.87154,     0.87154,     0.87154,     0.87154,     0.87154,\n",
            "            0.87154,     0.87154,     0.87154,     0.87154,     0.87154,     0.87154,     0.87154,     0.87154,     0.87154,     0.87154,     0.87154,     0.87154,     0.87154,     0.87154,     0.87154,     0.87154,     0.87154,     0.87154,     0.87154,     0.87154,     0.87154,     0.87154,     0.87154,\n",
            "            0.87154,     0.87154,     0.87154,     0.87154,     0.87154,     0.87154,     0.87154,     0.87154,     0.87154,     0.87154,     0.87154,     0.87154,     0.87154,     0.87154,     0.87154,     0.87154,     0.87154,     0.87154,     0.87154,     0.87154,     0.87154,     0.87154,     0.87154,\n",
            "            0.87154,     0.87154,     0.87154,     0.87154,     0.87154,     0.87154,     0.87154,     0.87154,     0.87154,     0.87154,     0.87154,     0.87154,     0.87154,     0.87154,     0.87154,     0.87154,     0.87154,     0.87154,     0.87154,     0.87154,     0.87154,     0.87154,     0.87154,\n",
            "            0.87154,     0.87154,     0.87154,     0.87154,     0.87154,     0.87154,     0.87154,     0.87154,     0.87154,     0.87154,     0.87154,     0.87154,     0.87154,     0.87154,     0.87154,     0.87154,     0.87154,     0.87154,     0.87154,     0.87154,     0.87154,     0.87154,     0.87154,\n",
            "            0.87154,     0.87154,     0.87154,     0.87154,     0.87154,     0.87154,     0.87154,     0.87154,     0.87154,     0.87154,     0.87154,     0.87154,     0.87154,     0.87154,     0.87154,     0.87154,     0.87154,     0.87154,     0.87154,     0.87154,     0.87154,     0.87154,     0.87154,\n",
            "            0.87154,     0.87154,     0.87154,     0.87154,     0.87154,     0.87154,     0.87154,     0.87154,     0.87154,     0.87154,     0.87154,     0.87154,     0.87154,     0.87154,     0.87154,     0.87154,     0.87154,     0.87154,     0.87154,     0.87154,     0.87154,     0.87154,     0.87154,\n",
            "            0.87154,     0.87154,     0.87154,     0.87154,     0.87154,     0.87154,     0.87154,     0.87154,     0.87154,     0.87154,     0.87154,     0.87154,     0.87154,     0.87154,     0.87154,     0.87154,     0.87154,     0.87154,     0.87154,     0.87154,     0.87154,     0.87154,     0.87154,\n",
            "            0.87154,     0.87154,     0.87154,     0.87154,     0.87154,     0.87154,     0.87154,     0.87154,     0.87154,     0.87154,     0.87154,     0.87154,     0.87154,     0.87154,     0.87154,     0.87154,     0.87154,     0.87154,     0.87154,     0.87154,     0.87154,     0.87154,     0.87154,\n",
            "            0.87154,     0.87154,     0.87154,     0.87154,     0.87154,     0.87154,     0.87154,     0.87154,     0.87154,     0.87154,     0.87154,     0.87154,     0.87154,     0.87154,     0.87154,     0.87154,     0.87154,     0.87154,     0.87154,     0.87154,     0.87154,     0.87154,     0.87154,\n",
            "            0.87154,     0.87154,     0.87154,     0.87154,     0.87154,     0.87154,     0.87154,     0.87154,     0.87154,     0.87154,     0.87154,     0.87154,     0.87154,     0.87154,     0.87154,     0.87154,     0.87154,     0.87167,     0.87371,     0.87339,     0.87308,     0.87276,     0.87244,\n",
            "            0.87212,      0.8718,     0.87148,     0.87116,     0.87099,     0.87173,     0.87246,     0.87344,     0.87531,     0.87527,     0.87523,     0.87519,     0.87515,     0.87511,     0.87507,     0.87503,     0.87499,     0.87495,     0.87491,     0.87487,     0.87483,     0.87479,     0.87475,\n",
            "            0.87471,     0.87467,     0.87464,      0.8746,     0.87456,     0.87452,     0.87448,     0.87444,      0.8744,     0.87436,     0.87432,     0.87428,     0.87424,      0.8742,     0.87416,     0.87412,     0.87408,     0.87404,       0.874,     0.87396,     0.87392,     0.87388,     0.87384,\n",
            "             0.8738,     0.87377,     0.87373,     0.87369,     0.87365,     0.87361,     0.87357,     0.87353,     0.87349,     0.87345,     0.87341,     0.87337,     0.87333,     0.87329,     0.87325,     0.87321,     0.87317,     0.87313,     0.87309,     0.87305,     0.87301,     0.87297,     0.87293,\n",
            "            0.87289,     0.87285,     0.87281,     0.87277,     0.87274,      0.8727,     0.87266,     0.87262,     0.87258,     0.87254,      0.8725,     0.87246,     0.87211,     0.87168,     0.87125,     0.87081,     0.87038,     0.86995,     0.86944,     0.86827,      0.8671,     0.86634,     0.86581,\n",
            "            0.86528,     0.86475,     0.86422,      0.8637,     0.86322,     0.86275,     0.86228,      0.8618,     0.86133,     0.86085,     0.85885,     0.85725,     0.85608,     0.85491,     0.85365,     0.85239,     0.85227,     0.85277,     0.85327,     0.85377,     0.85381,     0.85203,     0.85097,\n",
            "            0.85057,     0.85017,     0.84977,     0.84937,     0.84897,     0.84857,     0.84818,     0.84978,     0.85019,     0.84985,     0.84951,     0.84918,     0.84884,      0.8485,     0.84817,     0.84783,     0.84749,     0.84462,     0.84471,     0.84104,     0.83799,     0.83934,     0.84133,\n",
            "            0.84042,     0.83827,     0.83479,     0.83347,     0.83281,     0.83457,      0.8336,     0.83242,     0.82808,     0.82682,     0.82555,     0.82463,     0.82387,     0.82312,     0.82236,     0.82144,     0.82029,     0.81915,     0.81107,     0.80769,     0.80517,     0.80267,     0.79818,\n",
            "            0.79541,     0.79407,     0.79274,     0.78867,      0.7872,     0.78574,      0.7866,     0.78357,      0.7811,       0.773,     0.77123,     0.76842,     0.76574,     0.76435,     0.76269,     0.75765,     0.75098,     0.74805,     0.74636,     0.74413,     0.73794,     0.73022,     0.72417,\n",
            "             0.7214,     0.72007,     0.71874,     0.71052,     0.70914,     0.70776,     0.70389,      0.7009,     0.69434,      0.6912,     0.67791,     0.67567,     0.67307,     0.66525,     0.66038,     0.65388,     0.65154,     0.65044,     0.64883,     0.64054,     0.63754,     0.63587,     0.63116,\n",
            "            0.62927,     0.62824,     0.62721,     0.62618,      0.6261,     0.62655,     0.62699,     0.62744,     0.62718,      0.6232,     0.62251,     0.62182,     0.62113,     0.62044,     0.61975,     0.61906,     0.61597,     0.61379,     0.61279,     0.61179,     0.61079,     0.60985,     0.61021,\n",
            "            0.61056,     0.61091,     0.61126,     0.61161,     0.61149,     0.61046,     0.60942,     0.60839,     0.60735,     0.60571,     0.60402,     0.60246,      0.6015,     0.60054,     0.59957,     0.59861,      0.5983,     0.59907,     0.59983,     0.59394,     0.59021,     0.58534,     0.58229,\n",
            "             0.5799,     0.57796,     0.57535,     0.56732,     0.54604,     0.53232,     0.51796,     0.51347,     0.50956,     0.50365,     0.49886,     0.49664,     0.49447,     0.49277,     0.49106,     0.48935,     0.48117,     0.47795,     0.47226,     0.47111,     0.46997,     0.46882,     0.46767,\n",
            "            0.46184,     0.46314,     0.45474,     0.44783,     0.44054,     0.43453,     0.42666,     0.41517,      0.4056,     0.40113,      0.3948,     0.39345,     0.38674,     0.38314,     0.38311,     0.38343,     0.38375,     0.38407,     0.38269,     0.36873,     0.36339,      0.3615,      0.3596,\n",
            "            0.35983,     0.35652,     0.35276,     0.34593,     0.34371,      0.3415,     0.33738,      0.3312,     0.32656,      0.3133,     0.30929,     0.30466,     0.29489,     0.29067,     0.28869,     0.28671,     0.28472,     0.28164,     0.27842,     0.27518,     0.27192,     0.26636,     0.25703,\n",
            "            0.25224,      0.2485,     0.23811,      0.2294,     0.22418,     0.22261,     0.22103,     0.21945,     0.21786,     0.21765,     0.21631,     0.21497,     0.21362,     0.21228,     0.21093,     0.20807,     0.20457,     0.19696,     0.18672,     0.16888,      0.1597,     0.15315,     0.15225,\n",
            "            0.15136,     0.15046,     0.14957,     0.14867,     0.14777,     0.14687,     0.14597,     0.14466,     0.14278,      0.1409,     0.13902,     0.13713,     0.13496,     0.13277,     0.13057,     0.11972,      0.1162,     0.11266,     0.11038,     0.10909,      0.1078,      0.1065,     0.10521,\n",
            "            0.10391,      0.1026,     0.10068,    0.098588,    0.096488,    0.094384,    0.092544,     0.09091,    0.089274,    0.087635,    0.085993,      0.0844,    0.083298,    0.082195,    0.081091,    0.079985,    0.078878,    0.077769,     0.07666,    0.075549,    0.073522,    0.071423,     0.06932,\n",
            "           0.067211,    0.063693,    0.059189,    0.031336,    0.026521,    0.023755,     0.02098,    0.019195,    0.018688,     0.01818,    0.017672,    0.017164,    0.016655,    0.016146,    0.015637,    0.015128,    0.014618,    0.014109,    0.013598,    0.013088,    0.012577,    0.012067,    0.011555,\n",
            "           0.011044,    0.010532,     0.01002,           0,           0,           0,           0,           0,           0,           0,           0,           0,           0,           0,           0,           0,           0,           0,           0,           0,           0,           0,           0,\n",
            "                  0,           0,           0,           0,           0,           0,           0,           0,           0,           0,           0,           0,           0,           0,           0,           0,           0,           0,           0,           0,           0,           0,           0,\n",
            "                  0,           0,           0,           0,           0,           0,           0,           0,           0,           0,           0,           0,           0,           0,           0,           0,           0,           0,           0,           0,           0,           0,           0,\n",
            "                  0,           0,           0,           0,           0,           0,           0,           0,           0,           0,           0]]), 'Confidence', 'F1'], [array([          0,    0.001001,    0.002002,    0.003003,    0.004004,    0.005005,    0.006006,    0.007007,    0.008008,    0.009009,     0.01001,    0.011011,    0.012012,    0.013013,    0.014014,    0.015015,    0.016016,    0.017017,    0.018018,    0.019019,     0.02002,    0.021021,    0.022022,    0.023023,\n",
            "          0.024024,    0.025025,    0.026026,    0.027027,    0.028028,    0.029029,     0.03003,    0.031031,    0.032032,    0.033033,    0.034034,    0.035035,    0.036036,    0.037037,    0.038038,    0.039039,     0.04004,    0.041041,    0.042042,    0.043043,    0.044044,    0.045045,    0.046046,    0.047047,\n",
            "          0.048048,    0.049049,     0.05005,    0.051051,    0.052052,    0.053053,    0.054054,    0.055055,    0.056056,    0.057057,    0.058058,    0.059059,     0.06006,    0.061061,    0.062062,    0.063063,    0.064064,    0.065065,    0.066066,    0.067067,    0.068068,    0.069069,     0.07007,    0.071071,\n",
            "          0.072072,    0.073073,    0.074074,    0.075075,    0.076076,    0.077077,    0.078078,    0.079079,     0.08008,    0.081081,    0.082082,    0.083083,    0.084084,    0.085085,    0.086086,    0.087087,    0.088088,    0.089089,     0.09009,    0.091091,    0.092092,    0.093093,    0.094094,    0.095095,\n",
            "          0.096096,    0.097097,    0.098098,    0.099099,      0.1001,      0.1011,      0.1021,      0.1031,      0.1041,     0.10511,     0.10611,     0.10711,     0.10811,     0.10911,     0.11011,     0.11111,     0.11211,     0.11311,     0.11411,     0.11512,     0.11612,     0.11712,     0.11812,     0.11912,\n",
            "           0.12012,     0.12112,     0.12212,     0.12312,     0.12412,     0.12513,     0.12613,     0.12713,     0.12813,     0.12913,     0.13013,     0.13113,     0.13213,     0.13313,     0.13413,     0.13514,     0.13614,     0.13714,     0.13814,     0.13914,     0.14014,     0.14114,     0.14214,     0.14314,\n",
            "           0.14414,     0.14515,     0.14615,     0.14715,     0.14815,     0.14915,     0.15015,     0.15115,     0.15215,     0.15315,     0.15415,     0.15516,     0.15616,     0.15716,     0.15816,     0.15916,     0.16016,     0.16116,     0.16216,     0.16316,     0.16416,     0.16517,     0.16617,     0.16717,\n",
            "           0.16817,     0.16917,     0.17017,     0.17117,     0.17217,     0.17317,     0.17417,     0.17518,     0.17618,     0.17718,     0.17818,     0.17918,     0.18018,     0.18118,     0.18218,     0.18318,     0.18418,     0.18519,     0.18619,     0.18719,     0.18819,     0.18919,     0.19019,     0.19119,\n",
            "           0.19219,     0.19319,     0.19419,      0.1952,      0.1962,      0.1972,      0.1982,      0.1992,      0.2002,      0.2012,      0.2022,      0.2032,      0.2042,     0.20521,     0.20621,     0.20721,     0.20821,     0.20921,     0.21021,     0.21121,     0.21221,     0.21321,     0.21421,     0.21522,\n",
            "           0.21622,     0.21722,     0.21822,     0.21922,     0.22022,     0.22122,     0.22222,     0.22322,     0.22422,     0.22523,     0.22623,     0.22723,     0.22823,     0.22923,     0.23023,     0.23123,     0.23223,     0.23323,     0.23423,     0.23524,     0.23624,     0.23724,     0.23824,     0.23924,\n",
            "           0.24024,     0.24124,     0.24224,     0.24324,     0.24424,     0.24525,     0.24625,     0.24725,     0.24825,     0.24925,     0.25025,     0.25125,     0.25225,     0.25325,     0.25425,     0.25526,     0.25626,     0.25726,     0.25826,     0.25926,     0.26026,     0.26126,     0.26226,     0.26326,\n",
            "           0.26426,     0.26527,     0.26627,     0.26727,     0.26827,     0.26927,     0.27027,     0.27127,     0.27227,     0.27327,     0.27427,     0.27528,     0.27628,     0.27728,     0.27828,     0.27928,     0.28028,     0.28128,     0.28228,     0.28328,     0.28428,     0.28529,     0.28629,     0.28729,\n",
            "           0.28829,     0.28929,     0.29029,     0.29129,     0.29229,     0.29329,     0.29429,      0.2953,      0.2963,      0.2973,      0.2983,      0.2993,      0.3003,      0.3013,      0.3023,      0.3033,      0.3043,     0.30531,     0.30631,     0.30731,     0.30831,     0.30931,     0.31031,     0.31131,\n",
            "           0.31231,     0.31331,     0.31431,     0.31532,     0.31632,     0.31732,     0.31832,     0.31932,     0.32032,     0.32132,     0.32232,     0.32332,     0.32432,     0.32533,     0.32633,     0.32733,     0.32833,     0.32933,     0.33033,     0.33133,     0.33233,     0.33333,     0.33433,     0.33534,\n",
            "           0.33634,     0.33734,     0.33834,     0.33934,     0.34034,     0.34134,     0.34234,     0.34334,     0.34434,     0.34535,     0.34635,     0.34735,     0.34835,     0.34935,     0.35035,     0.35135,     0.35235,     0.35335,     0.35435,     0.35536,     0.35636,     0.35736,     0.35836,     0.35936,\n",
            "           0.36036,     0.36136,     0.36236,     0.36336,     0.36436,     0.36537,     0.36637,     0.36737,     0.36837,     0.36937,     0.37037,     0.37137,     0.37237,     0.37337,     0.37437,     0.37538,     0.37638,     0.37738,     0.37838,     0.37938,     0.38038,     0.38138,     0.38238,     0.38338,\n",
            "           0.38438,     0.38539,     0.38639,     0.38739,     0.38839,     0.38939,     0.39039,     0.39139,     0.39239,     0.39339,     0.39439,      0.3954,      0.3964,      0.3974,      0.3984,      0.3994,      0.4004,      0.4014,      0.4024,      0.4034,      0.4044,     0.40541,     0.40641,     0.40741,\n",
            "           0.40841,     0.40941,     0.41041,     0.41141,     0.41241,     0.41341,     0.41441,     0.41542,     0.41642,     0.41742,     0.41842,     0.41942,     0.42042,     0.42142,     0.42242,     0.42342,     0.42442,     0.42543,     0.42643,     0.42743,     0.42843,     0.42943,     0.43043,     0.43143,\n",
            "           0.43243,     0.43343,     0.43443,     0.43544,     0.43644,     0.43744,     0.43844,     0.43944,     0.44044,     0.44144,     0.44244,     0.44344,     0.44444,     0.44545,     0.44645,     0.44745,     0.44845,     0.44945,     0.45045,     0.45145,     0.45245,     0.45345,     0.45445,     0.45546,\n",
            "           0.45646,     0.45746,     0.45846,     0.45946,     0.46046,     0.46146,     0.46246,     0.46346,     0.46446,     0.46547,     0.46647,     0.46747,     0.46847,     0.46947,     0.47047,     0.47147,     0.47247,     0.47347,     0.47447,     0.47548,     0.47648,     0.47748,     0.47848,     0.47948,\n",
            "           0.48048,     0.48148,     0.48248,     0.48348,     0.48448,     0.48549,     0.48649,     0.48749,     0.48849,     0.48949,     0.49049,     0.49149,     0.49249,     0.49349,     0.49449,      0.4955,      0.4965,      0.4975,      0.4985,      0.4995,      0.5005,      0.5015,      0.5025,      0.5035,\n",
            "            0.5045,     0.50551,     0.50651,     0.50751,     0.50851,     0.50951,     0.51051,     0.51151,     0.51251,     0.51351,     0.51451,     0.51552,     0.51652,     0.51752,     0.51852,     0.51952,     0.52052,     0.52152,     0.52252,     0.52352,     0.52452,     0.52553,     0.52653,     0.52753,\n",
            "           0.52853,     0.52953,     0.53053,     0.53153,     0.53253,     0.53353,     0.53453,     0.53554,     0.53654,     0.53754,     0.53854,     0.53954,     0.54054,     0.54154,     0.54254,     0.54354,     0.54454,     0.54555,     0.54655,     0.54755,     0.54855,     0.54955,     0.55055,     0.55155,\n",
            "           0.55255,     0.55355,     0.55455,     0.55556,     0.55656,     0.55756,     0.55856,     0.55956,     0.56056,     0.56156,     0.56256,     0.56356,     0.56456,     0.56557,     0.56657,     0.56757,     0.56857,     0.56957,     0.57057,     0.57157,     0.57257,     0.57357,     0.57457,     0.57558,\n",
            "           0.57658,     0.57758,     0.57858,     0.57958,     0.58058,     0.58158,     0.58258,     0.58358,     0.58458,     0.58559,     0.58659,     0.58759,     0.58859,     0.58959,     0.59059,     0.59159,     0.59259,     0.59359,     0.59459,      0.5956,      0.5966,      0.5976,      0.5986,      0.5996,\n",
            "            0.6006,      0.6016,      0.6026,      0.6036,      0.6046,     0.60561,     0.60661,     0.60761,     0.60861,     0.60961,     0.61061,     0.61161,     0.61261,     0.61361,     0.61461,     0.61562,     0.61662,     0.61762,     0.61862,     0.61962,     0.62062,     0.62162,     0.62262,     0.62362,\n",
            "           0.62462,     0.62563,     0.62663,     0.62763,     0.62863,     0.62963,     0.63063,     0.63163,     0.63263,     0.63363,     0.63463,     0.63564,     0.63664,     0.63764,     0.63864,     0.63964,     0.64064,     0.64164,     0.64264,     0.64364,     0.64464,     0.64565,     0.64665,     0.64765,\n",
            "           0.64865,     0.64965,     0.65065,     0.65165,     0.65265,     0.65365,     0.65465,     0.65566,     0.65666,     0.65766,     0.65866,     0.65966,     0.66066,     0.66166,     0.66266,     0.66366,     0.66466,     0.66567,     0.66667,     0.66767,     0.66867,     0.66967,     0.67067,     0.67167,\n",
            "           0.67267,     0.67367,     0.67467,     0.67568,     0.67668,     0.67768,     0.67868,     0.67968,     0.68068,     0.68168,     0.68268,     0.68368,     0.68468,     0.68569,     0.68669,     0.68769,     0.68869,     0.68969,     0.69069,     0.69169,     0.69269,     0.69369,     0.69469,      0.6957,\n",
            "            0.6967,      0.6977,      0.6987,      0.6997,      0.7007,      0.7017,      0.7027,      0.7037,      0.7047,     0.70571,     0.70671,     0.70771,     0.70871,     0.70971,     0.71071,     0.71171,     0.71271,     0.71371,     0.71471,     0.71572,     0.71672,     0.71772,     0.71872,     0.71972,\n",
            "           0.72072,     0.72172,     0.72272,     0.72372,     0.72472,     0.72573,     0.72673,     0.72773,     0.72873,     0.72973,     0.73073,     0.73173,     0.73273,     0.73373,     0.73473,     0.73574,     0.73674,     0.73774,     0.73874,     0.73974,     0.74074,     0.74174,     0.74274,     0.74374,\n",
            "           0.74474,     0.74575,     0.74675,     0.74775,     0.74875,     0.74975,     0.75075,     0.75175,     0.75275,     0.75375,     0.75475,     0.75576,     0.75676,     0.75776,     0.75876,     0.75976,     0.76076,     0.76176,     0.76276,     0.76376,     0.76476,     0.76577,     0.76677,     0.76777,\n",
            "           0.76877,     0.76977,     0.77077,     0.77177,     0.77277,     0.77377,     0.77477,     0.77578,     0.77678,     0.77778,     0.77878,     0.77978,     0.78078,     0.78178,     0.78278,     0.78378,     0.78478,     0.78579,     0.78679,     0.78779,     0.78879,     0.78979,     0.79079,     0.79179,\n",
            "           0.79279,     0.79379,     0.79479,      0.7958,      0.7968,      0.7978,      0.7988,      0.7998,      0.8008,      0.8018,      0.8028,      0.8038,      0.8048,     0.80581,     0.80681,     0.80781,     0.80881,     0.80981,     0.81081,     0.81181,     0.81281,     0.81381,     0.81481,     0.81582,\n",
            "           0.81682,     0.81782,     0.81882,     0.81982,     0.82082,     0.82182,     0.82282,     0.82382,     0.82482,     0.82583,     0.82683,     0.82783,     0.82883,     0.82983,     0.83083,     0.83183,     0.83283,     0.83383,     0.83483,     0.83584,     0.83684,     0.83784,     0.83884,     0.83984,\n",
            "           0.84084,     0.84184,     0.84284,     0.84384,     0.84484,     0.84585,     0.84685,     0.84785,     0.84885,     0.84985,     0.85085,     0.85185,     0.85285,     0.85385,     0.85485,     0.85586,     0.85686,     0.85786,     0.85886,     0.85986,     0.86086,     0.86186,     0.86286,     0.86386,\n",
            "           0.86486,     0.86587,     0.86687,     0.86787,     0.86887,     0.86987,     0.87087,     0.87187,     0.87287,     0.87387,     0.87487,     0.87588,     0.87688,     0.87788,     0.87888,     0.87988,     0.88088,     0.88188,     0.88288,     0.88388,     0.88488,     0.88589,     0.88689,     0.88789,\n",
            "           0.88889,     0.88989,     0.89089,     0.89189,     0.89289,     0.89389,     0.89489,      0.8959,      0.8969,      0.8979,      0.8989,      0.8999,      0.9009,      0.9019,      0.9029,      0.9039,      0.9049,     0.90591,     0.90691,     0.90791,     0.90891,     0.90991,     0.91091,     0.91191,\n",
            "           0.91291,     0.91391,     0.91491,     0.91592,     0.91692,     0.91792,     0.91892,     0.91992,     0.92092,     0.92192,     0.92292,     0.92392,     0.92492,     0.92593,     0.92693,     0.92793,     0.92893,     0.92993,     0.93093,     0.93193,     0.93293,     0.93393,     0.93493,     0.93594,\n",
            "           0.93694,     0.93794,     0.93894,     0.93994,     0.94094,     0.94194,     0.94294,     0.94394,     0.94494,     0.94595,     0.94695,     0.94795,     0.94895,     0.94995,     0.95095,     0.95195,     0.95295,     0.95395,     0.95495,     0.95596,     0.95696,     0.95796,     0.95896,     0.95996,\n",
            "           0.96096,     0.96196,     0.96296,     0.96396,     0.96496,     0.96597,     0.96697,     0.96797,     0.96897,     0.96997,     0.97097,     0.97197,     0.97297,     0.97397,     0.97497,     0.97598,     0.97698,     0.97798,     0.97898,     0.97998,     0.98098,     0.98198,     0.98298,     0.98398,\n",
            "           0.98498,     0.98599,     0.98699,     0.98799,     0.98899,     0.98999,     0.99099,     0.99199,     0.99299,     0.99399,     0.99499,       0.996,       0.997,       0.998,       0.999,           1]), array([[    0.89637,     0.89637,     0.89637,     0.89637,     0.89637,     0.89637,     0.89637,     0.89637,     0.89637,     0.89637,     0.89637,     0.89637,     0.89637,     0.89637,     0.89637,     0.89637,     0.89637,     0.89637,     0.89637,     0.89637,     0.89637,     0.89637,     0.89637,\n",
            "            0.89637,     0.89637,     0.89637,     0.89637,     0.89637,     0.89637,     0.89637,     0.89637,     0.89637,     0.89637,     0.89637,     0.89637,     0.89637,     0.89637,     0.89637,     0.89637,     0.89637,     0.89637,     0.89637,     0.89637,     0.89637,     0.89637,     0.89637,\n",
            "            0.89637,     0.89637,     0.89637,     0.89637,     0.89637,     0.89637,     0.89637,     0.89637,     0.89637,     0.89637,     0.89637,     0.89637,     0.89637,     0.89637,     0.89637,     0.89637,     0.89637,     0.89637,     0.89637,     0.89637,     0.89637,     0.89637,     0.89637,\n",
            "            0.89637,     0.89637,     0.89637,     0.89637,     0.89637,     0.89637,     0.89637,     0.89637,     0.89637,     0.89637,     0.89637,     0.89637,     0.89637,     0.89637,     0.89637,     0.89637,     0.89637,     0.89637,     0.89637,     0.89637,     0.89637,     0.89637,     0.89637,\n",
            "            0.89637,     0.89637,     0.89637,     0.89637,     0.89637,     0.89637,     0.89637,     0.89637,     0.89637,     0.89637,     0.89637,     0.89637,     0.89637,     0.89637,     0.89637,     0.89637,     0.89637,     0.89637,     0.89637,     0.89637,     0.89637,     0.89637,     0.89637,\n",
            "            0.89637,     0.89637,     0.89637,     0.89637,     0.89637,     0.89637,     0.89637,     0.89637,     0.89637,     0.89637,     0.89637,     0.89637,     0.89637,     0.89637,     0.89637,     0.89637,     0.89637,     0.89637,     0.89637,     0.89637,     0.89637,     0.89637,     0.89637,\n",
            "            0.89637,     0.89637,     0.89637,     0.89637,     0.89637,     0.89637,     0.89637,     0.89637,     0.89637,     0.89637,     0.89637,     0.89637,     0.89637,     0.89637,     0.89637,     0.89637,     0.89637,     0.89637,     0.89637,     0.89637,     0.89637,     0.89637,     0.89637,\n",
            "            0.89637,     0.89637,     0.89637,     0.89637,     0.89637,     0.89637,     0.89637,     0.89637,     0.89637,     0.89637,     0.89637,     0.89637,     0.89637,     0.89637,     0.89637,     0.89637,     0.89637,     0.89637,     0.89637,     0.89637,     0.89637,     0.89637,     0.89637,\n",
            "            0.89637,     0.89637,     0.89637,     0.89637,     0.89637,     0.89637,     0.89637,     0.89637,     0.89637,     0.89637,     0.89637,     0.89637,     0.89637,     0.89637,     0.89637,     0.89637,     0.89637,     0.89637,     0.89637,     0.89637,     0.89637,     0.89637,     0.89637,\n",
            "            0.89637,     0.89637,     0.89637,     0.89637,     0.89637,     0.89637,     0.89637,     0.89637,     0.89637,     0.89637,     0.89637,     0.89637,     0.89637,     0.89637,     0.89637,     0.89637,     0.89637,     0.89637,     0.89637,     0.89637,     0.89637,     0.89637,     0.89637,\n",
            "            0.89637,     0.89637,     0.89637,     0.89637,     0.89637,     0.89637,     0.89637,     0.89637,     0.89637,     0.89637,     0.89637,     0.89637,     0.89637,     0.89637,     0.89637,     0.89637,     0.89637,     0.89637,     0.89637,     0.89637,     0.89637,     0.89637,     0.89637,\n",
            "            0.89637,     0.89637,     0.89637,     0.89637,     0.89637,     0.89637,     0.89637,     0.89637,     0.89637,     0.89637,     0.89637,     0.89637,     0.89637,     0.89637,     0.89637,     0.89637,     0.89637,     0.89637,     0.89637,     0.89637,     0.89637,     0.89637,     0.89637,\n",
            "            0.89637,     0.89637,     0.89637,     0.89637,     0.89637,     0.89637,     0.89637,     0.89637,     0.89637,     0.89637,     0.89637,     0.89637,     0.89637,     0.89637,     0.89637,     0.89637,     0.89637,     0.89637,     0.89637,     0.89637,     0.89637,     0.89637,     0.89637,\n",
            "            0.89637,     0.89637,     0.89637,     0.89637,     0.89637,     0.89637,     0.89637,     0.89637,     0.89637,     0.89637,     0.89637,     0.89637,     0.89637,     0.89637,     0.89637,     0.89637,     0.89637,     0.89637,     0.89637,     0.89637,     0.89637,     0.89637,     0.89637,\n",
            "            0.89637,     0.89637,     0.89637,     0.89637,     0.89637,     0.89637,     0.89637,     0.89637,     0.89637,     0.89637,     0.89637,     0.89637,     0.89637,     0.89637,     0.89637,     0.89637,     0.89637,     0.89637,     0.89637,     0.89637,     0.89637,     0.89637,     0.89637,\n",
            "            0.89637,     0.89637,     0.89637,     0.89637,     0.89637,     0.89637,     0.89637,     0.89637,     0.89637,     0.89637,     0.89637,     0.89637,     0.89637,     0.89637,     0.89637,     0.89637,     0.89637,     0.89637,     0.89637,     0.89637,     0.89637,     0.89637,     0.89637,\n",
            "            0.89637,     0.89637,     0.89637,     0.89637,     0.89637,     0.89637,     0.89637,     0.89637,     0.89637,     0.89637,     0.89637,     0.89637,     0.89637,     0.89637,     0.89637,     0.89637,     0.89637,     0.89637,     0.89637,     0.89637,     0.89637,     0.89637,     0.89637,\n",
            "            0.89637,     0.89637,     0.89637,     0.89637,     0.89637,     0.89637,     0.89637,     0.89637,     0.89637,     0.89637,     0.89637,     0.89637,     0.89637,     0.89637,     0.89637,     0.89637,     0.89637,     0.89637,     0.89637,     0.89637,     0.89637,     0.89637,     0.89637,\n",
            "            0.89637,     0.89637,     0.89637,     0.89637,     0.89637,     0.89637,     0.89637,     0.89637,     0.89637,     0.89637,     0.89637,     0.89637,     0.89637,     0.89637,     0.89637,     0.89637,     0.89637,     0.89637,     0.89637,     0.89637,     0.89637,     0.89637,     0.89637,\n",
            "            0.89637,     0.89637,     0.89637,     0.89637,     0.89637,     0.89637,     0.89637,     0.89637,     0.89637,     0.89637,     0.89637,     0.89637,     0.89637,     0.89637,     0.89637,     0.89637,     0.89637,     0.89637,     0.89637,     0.89637,     0.89637,     0.89637,     0.89637,\n",
            "            0.89637,     0.89637,     0.89637,     0.89637,     0.89637,     0.89637,     0.89637,     0.89637,     0.89637,     0.89637,     0.89637,     0.89637,     0.89637,     0.89637,     0.89637,     0.89637,     0.89637,     0.89637,     0.89637,     0.89637,     0.89637,     0.89637,     0.89637,\n",
            "            0.89637,     0.89637,     0.89637,     0.89637,     0.89637,     0.89637,     0.89637,     0.89637,     0.89637,     0.89637,     0.89637,     0.89637,     0.89637,     0.89637,     0.89637,     0.89637,     0.89637,     0.89665,     0.90104,     0.90098,     0.90092,     0.90086,     0.90081,\n",
            "            0.90075,     0.90069,     0.90063,     0.90057,     0.90076,     0.90233,      0.9039,       0.906,     0.91005,     0.91004,     0.91004,     0.91003,     0.91002,     0.91002,     0.91001,        0.91,        0.91,     0.90999,     0.90999,     0.90998,     0.90997,     0.90997,     0.90996,\n",
            "            0.90995,     0.90995,     0.90994,     0.90993,     0.90993,     0.90992,     0.90991,     0.90991,      0.9099,     0.90989,     0.90989,     0.90988,     0.90987,     0.90987,     0.90986,     0.90985,     0.90985,     0.90984,     0.90983,     0.90983,     0.90982,     0.90981,     0.90981,\n",
            "             0.9098,     0.90979,     0.90979,     0.90978,     0.90977,     0.90977,     0.90976,     0.90975,     0.90975,     0.90974,     0.90973,     0.90973,     0.90972,     0.90971,     0.90971,      0.9097,     0.90969,     0.90969,     0.90968,     0.90967,     0.90967,     0.90966,     0.90966,\n",
            "            0.90965,     0.90964,     0.90964,     0.90963,     0.90962,     0.90962,     0.90961,      0.9096,      0.9096,     0.90959,     0.90958,     0.90958,     0.90952,     0.90945,     0.90937,      0.9093,     0.90923,     0.90916,     0.90907,     0.90887,     0.90868,     0.90855,     0.90846,\n",
            "            0.90837,     0.90828,     0.90819,      0.9081,     0.90802,     0.90794,     0.90786,     0.90777,     0.90769,     0.90761,     0.90727,       0.907,     0.90679,     0.90659,     0.90637,     0.90615,     0.90682,     0.90795,     0.90908,     0.91021,     0.91105,     0.91076,     0.91058,\n",
            "            0.91051,     0.91045,     0.91038,     0.91031,     0.91025,     0.91018,     0.91013,     0.91384,     0.91522,     0.91517,     0.91511,     0.91506,     0.91501,     0.91495,      0.9149,     0.91485,     0.91479,     0.91498,     0.91926,      0.9187,     0.91971,     0.92296,     0.92779,\n",
            "             0.9288,     0.92851,     0.92803,     0.92785,     0.92864,     0.93304,     0.93319,     0.93304,     0.93248,     0.93232,     0.93215,     0.93203,     0.93193,     0.93183,     0.93173,     0.93161,     0.93146,     0.93131,     0.93023,     0.92978,     0.92943,     0.92909,     0.92847,\n",
            "            0.92809,      0.9279,     0.92772,     0.92714,     0.92694,     0.92673,     0.93276,     0.93236,     0.93204,     0.93095,     0.93071,     0.93032,     0.92996,     0.92976,     0.92953,     0.92883,     0.92789,     0.92747,     0.92722,      0.9269,       0.926,     0.92485,     0.92394,\n",
            "            0.92351,     0.92331,      0.9231,     0.92182,     0.92161,     0.92139,     0.92077,     0.92029,     0.91923,     0.91871,     0.91648,     0.91609,     0.91565,     0.91428,     0.91341,     0.91224,     0.91823,      0.9194,     0.91912,      0.9177,     0.91718,     0.91689,     0.91605,\n",
            "            0.91572,     0.91553,     0.91535,     0.91516,     0.91634,     0.91826,     0.92019,     0.92212,      0.9237,     0.92305,     0.92293,     0.92282,      0.9227,     0.92259,     0.92247,     0.92236,     0.92184,     0.92147,      0.9213,     0.92113,     0.92095,     0.92088,     0.92249,\n",
            "             0.9241,     0.92571,     0.92732,     0.92893,     0.92995,     0.92979,     0.92963,     0.92947,     0.92931,     0.92905,     0.92878,     0.92854,     0.92839,     0.92824,     0.92808,     0.92793,     0.92925,     0.93297,     0.93669,     0.93665,     0.93611,     0.93541,     0.93496,\n",
            "            0.93461,     0.93432,     0.93393,      0.9327,      0.9293,     0.92698,     0.92442,      0.9236,     0.92287,     0.92175,     0.92083,     0.92039,     0.91997,     0.91963,     0.91929,     0.91895,     0.91727,      0.9166,     0.91539,     0.91514,     0.91489,     0.91465,      0.9144,\n",
            "            0.91544,     0.92571,     0.92481,     0.92343,     0.92403,      0.9352,     0.93378,     0.93161,     0.92972,      0.9288,     0.92748,     0.94412,     0.94299,     0.94236,     0.94589,     0.94983,     0.95376,      0.9577,     0.96058,     0.95881,      0.9581,     0.95784,     0.95759,\n",
            "            0.97825,       0.978,     0.97773,     0.97721,     0.97703,     0.97686,     0.97652,     0.97601,     0.97561,     0.97441,     0.97402,     0.97357,     0.97256,     0.97211,     0.97189,     0.97167,     0.97145,     0.97109,     0.97072,     0.97033,     0.96993,     0.96922,     0.96797,\n",
            "             0.9673,     0.96676,     0.96515,      0.9637,     0.96279,      0.9625,     0.96221,     0.96192,     0.96162,           1,           1,           1,           1,           1,           1,           1,           1,           1,           1,           1,           1,           1,           1,\n",
            "                  1,           1,           1,           1,           1,           1,           1,           1,           1,           1,           1,           1,           1,           1,           1,           1,           1,           1,           1,           1,           1,           1,           1,\n",
            "                  1,           1,           1,           1,           1,           1,           1,           1,           1,           1,           1,           1,           1,           1,           1,           1,           1,           1,           1,           1,           1,           1,           1,\n",
            "                  1,           1,           1,           1,           1,           1,           1,           1,           1,           1,           1,           1,           1,           1,           1,           1,           1,           1,           1,           1,           1,           1,           1,\n",
            "                  1,           1,           1,           1,           1,           1,           1,           1,           1,           1,           1,           1,           1,           1,           1,           1,           1,           1,           1,           1,           1,           1,           1,\n",
            "                  1,           1,           1,           1,           1,           1,           1,           1,           1,           1,           1,           1,           1,           1,           1,           1,           1,           1,           1,           1,           1,           1,           1,\n",
            "                  1,           1,           1,           1,           1,           1,           1,           1,           1,           1,           1,           1,           1,           1,           1,           1,           1,           1,           1,           1,           1,           1,           1,\n",
            "                  1,           1,           1,           1,           1,           1,           1,           1,           1,           1,           1]]), 'Confidence', 'Precision'], [array([          0,    0.001001,    0.002002,    0.003003,    0.004004,    0.005005,    0.006006,    0.007007,    0.008008,    0.009009,     0.01001,    0.011011,    0.012012,    0.013013,    0.014014,    0.015015,    0.016016,    0.017017,    0.018018,    0.019019,     0.02002,    0.021021,    0.022022,    0.023023,\n",
            "          0.024024,    0.025025,    0.026026,    0.027027,    0.028028,    0.029029,     0.03003,    0.031031,    0.032032,    0.033033,    0.034034,    0.035035,    0.036036,    0.037037,    0.038038,    0.039039,     0.04004,    0.041041,    0.042042,    0.043043,    0.044044,    0.045045,    0.046046,    0.047047,\n",
            "          0.048048,    0.049049,     0.05005,    0.051051,    0.052052,    0.053053,    0.054054,    0.055055,    0.056056,    0.057057,    0.058058,    0.059059,     0.06006,    0.061061,    0.062062,    0.063063,    0.064064,    0.065065,    0.066066,    0.067067,    0.068068,    0.069069,     0.07007,    0.071071,\n",
            "          0.072072,    0.073073,    0.074074,    0.075075,    0.076076,    0.077077,    0.078078,    0.079079,     0.08008,    0.081081,    0.082082,    0.083083,    0.084084,    0.085085,    0.086086,    0.087087,    0.088088,    0.089089,     0.09009,    0.091091,    0.092092,    0.093093,    0.094094,    0.095095,\n",
            "          0.096096,    0.097097,    0.098098,    0.099099,      0.1001,      0.1011,      0.1021,      0.1031,      0.1041,     0.10511,     0.10611,     0.10711,     0.10811,     0.10911,     0.11011,     0.11111,     0.11211,     0.11311,     0.11411,     0.11512,     0.11612,     0.11712,     0.11812,     0.11912,\n",
            "           0.12012,     0.12112,     0.12212,     0.12312,     0.12412,     0.12513,     0.12613,     0.12713,     0.12813,     0.12913,     0.13013,     0.13113,     0.13213,     0.13313,     0.13413,     0.13514,     0.13614,     0.13714,     0.13814,     0.13914,     0.14014,     0.14114,     0.14214,     0.14314,\n",
            "           0.14414,     0.14515,     0.14615,     0.14715,     0.14815,     0.14915,     0.15015,     0.15115,     0.15215,     0.15315,     0.15415,     0.15516,     0.15616,     0.15716,     0.15816,     0.15916,     0.16016,     0.16116,     0.16216,     0.16316,     0.16416,     0.16517,     0.16617,     0.16717,\n",
            "           0.16817,     0.16917,     0.17017,     0.17117,     0.17217,     0.17317,     0.17417,     0.17518,     0.17618,     0.17718,     0.17818,     0.17918,     0.18018,     0.18118,     0.18218,     0.18318,     0.18418,     0.18519,     0.18619,     0.18719,     0.18819,     0.18919,     0.19019,     0.19119,\n",
            "           0.19219,     0.19319,     0.19419,      0.1952,      0.1962,      0.1972,      0.1982,      0.1992,      0.2002,      0.2012,      0.2022,      0.2032,      0.2042,     0.20521,     0.20621,     0.20721,     0.20821,     0.20921,     0.21021,     0.21121,     0.21221,     0.21321,     0.21421,     0.21522,\n",
            "           0.21622,     0.21722,     0.21822,     0.21922,     0.22022,     0.22122,     0.22222,     0.22322,     0.22422,     0.22523,     0.22623,     0.22723,     0.22823,     0.22923,     0.23023,     0.23123,     0.23223,     0.23323,     0.23423,     0.23524,     0.23624,     0.23724,     0.23824,     0.23924,\n",
            "           0.24024,     0.24124,     0.24224,     0.24324,     0.24424,     0.24525,     0.24625,     0.24725,     0.24825,     0.24925,     0.25025,     0.25125,     0.25225,     0.25325,     0.25425,     0.25526,     0.25626,     0.25726,     0.25826,     0.25926,     0.26026,     0.26126,     0.26226,     0.26326,\n",
            "           0.26426,     0.26527,     0.26627,     0.26727,     0.26827,     0.26927,     0.27027,     0.27127,     0.27227,     0.27327,     0.27427,     0.27528,     0.27628,     0.27728,     0.27828,     0.27928,     0.28028,     0.28128,     0.28228,     0.28328,     0.28428,     0.28529,     0.28629,     0.28729,\n",
            "           0.28829,     0.28929,     0.29029,     0.29129,     0.29229,     0.29329,     0.29429,      0.2953,      0.2963,      0.2973,      0.2983,      0.2993,      0.3003,      0.3013,      0.3023,      0.3033,      0.3043,     0.30531,     0.30631,     0.30731,     0.30831,     0.30931,     0.31031,     0.31131,\n",
            "           0.31231,     0.31331,     0.31431,     0.31532,     0.31632,     0.31732,     0.31832,     0.31932,     0.32032,     0.32132,     0.32232,     0.32332,     0.32432,     0.32533,     0.32633,     0.32733,     0.32833,     0.32933,     0.33033,     0.33133,     0.33233,     0.33333,     0.33433,     0.33534,\n",
            "           0.33634,     0.33734,     0.33834,     0.33934,     0.34034,     0.34134,     0.34234,     0.34334,     0.34434,     0.34535,     0.34635,     0.34735,     0.34835,     0.34935,     0.35035,     0.35135,     0.35235,     0.35335,     0.35435,     0.35536,     0.35636,     0.35736,     0.35836,     0.35936,\n",
            "           0.36036,     0.36136,     0.36236,     0.36336,     0.36436,     0.36537,     0.36637,     0.36737,     0.36837,     0.36937,     0.37037,     0.37137,     0.37237,     0.37337,     0.37437,     0.37538,     0.37638,     0.37738,     0.37838,     0.37938,     0.38038,     0.38138,     0.38238,     0.38338,\n",
            "           0.38438,     0.38539,     0.38639,     0.38739,     0.38839,     0.38939,     0.39039,     0.39139,     0.39239,     0.39339,     0.39439,      0.3954,      0.3964,      0.3974,      0.3984,      0.3994,      0.4004,      0.4014,      0.4024,      0.4034,      0.4044,     0.40541,     0.40641,     0.40741,\n",
            "           0.40841,     0.40941,     0.41041,     0.41141,     0.41241,     0.41341,     0.41441,     0.41542,     0.41642,     0.41742,     0.41842,     0.41942,     0.42042,     0.42142,     0.42242,     0.42342,     0.42442,     0.42543,     0.42643,     0.42743,     0.42843,     0.42943,     0.43043,     0.43143,\n",
            "           0.43243,     0.43343,     0.43443,     0.43544,     0.43644,     0.43744,     0.43844,     0.43944,     0.44044,     0.44144,     0.44244,     0.44344,     0.44444,     0.44545,     0.44645,     0.44745,     0.44845,     0.44945,     0.45045,     0.45145,     0.45245,     0.45345,     0.45445,     0.45546,\n",
            "           0.45646,     0.45746,     0.45846,     0.45946,     0.46046,     0.46146,     0.46246,     0.46346,     0.46446,     0.46547,     0.46647,     0.46747,     0.46847,     0.46947,     0.47047,     0.47147,     0.47247,     0.47347,     0.47447,     0.47548,     0.47648,     0.47748,     0.47848,     0.47948,\n",
            "           0.48048,     0.48148,     0.48248,     0.48348,     0.48448,     0.48549,     0.48649,     0.48749,     0.48849,     0.48949,     0.49049,     0.49149,     0.49249,     0.49349,     0.49449,      0.4955,      0.4965,      0.4975,      0.4985,      0.4995,      0.5005,      0.5015,      0.5025,      0.5035,\n",
            "            0.5045,     0.50551,     0.50651,     0.50751,     0.50851,     0.50951,     0.51051,     0.51151,     0.51251,     0.51351,     0.51451,     0.51552,     0.51652,     0.51752,     0.51852,     0.51952,     0.52052,     0.52152,     0.52252,     0.52352,     0.52452,     0.52553,     0.52653,     0.52753,\n",
            "           0.52853,     0.52953,     0.53053,     0.53153,     0.53253,     0.53353,     0.53453,     0.53554,     0.53654,     0.53754,     0.53854,     0.53954,     0.54054,     0.54154,     0.54254,     0.54354,     0.54454,     0.54555,     0.54655,     0.54755,     0.54855,     0.54955,     0.55055,     0.55155,\n",
            "           0.55255,     0.55355,     0.55455,     0.55556,     0.55656,     0.55756,     0.55856,     0.55956,     0.56056,     0.56156,     0.56256,     0.56356,     0.56456,     0.56557,     0.56657,     0.56757,     0.56857,     0.56957,     0.57057,     0.57157,     0.57257,     0.57357,     0.57457,     0.57558,\n",
            "           0.57658,     0.57758,     0.57858,     0.57958,     0.58058,     0.58158,     0.58258,     0.58358,     0.58458,     0.58559,     0.58659,     0.58759,     0.58859,     0.58959,     0.59059,     0.59159,     0.59259,     0.59359,     0.59459,      0.5956,      0.5966,      0.5976,      0.5986,      0.5996,\n",
            "            0.6006,      0.6016,      0.6026,      0.6036,      0.6046,     0.60561,     0.60661,     0.60761,     0.60861,     0.60961,     0.61061,     0.61161,     0.61261,     0.61361,     0.61461,     0.61562,     0.61662,     0.61762,     0.61862,     0.61962,     0.62062,     0.62162,     0.62262,     0.62362,\n",
            "           0.62462,     0.62563,     0.62663,     0.62763,     0.62863,     0.62963,     0.63063,     0.63163,     0.63263,     0.63363,     0.63463,     0.63564,     0.63664,     0.63764,     0.63864,     0.63964,     0.64064,     0.64164,     0.64264,     0.64364,     0.64464,     0.64565,     0.64665,     0.64765,\n",
            "           0.64865,     0.64965,     0.65065,     0.65165,     0.65265,     0.65365,     0.65465,     0.65566,     0.65666,     0.65766,     0.65866,     0.65966,     0.66066,     0.66166,     0.66266,     0.66366,     0.66466,     0.66567,     0.66667,     0.66767,     0.66867,     0.66967,     0.67067,     0.67167,\n",
            "           0.67267,     0.67367,     0.67467,     0.67568,     0.67668,     0.67768,     0.67868,     0.67968,     0.68068,     0.68168,     0.68268,     0.68368,     0.68468,     0.68569,     0.68669,     0.68769,     0.68869,     0.68969,     0.69069,     0.69169,     0.69269,     0.69369,     0.69469,      0.6957,\n",
            "            0.6967,      0.6977,      0.6987,      0.6997,      0.7007,      0.7017,      0.7027,      0.7037,      0.7047,     0.70571,     0.70671,     0.70771,     0.70871,     0.70971,     0.71071,     0.71171,     0.71271,     0.71371,     0.71471,     0.71572,     0.71672,     0.71772,     0.71872,     0.71972,\n",
            "           0.72072,     0.72172,     0.72272,     0.72372,     0.72472,     0.72573,     0.72673,     0.72773,     0.72873,     0.72973,     0.73073,     0.73173,     0.73273,     0.73373,     0.73473,     0.73574,     0.73674,     0.73774,     0.73874,     0.73974,     0.74074,     0.74174,     0.74274,     0.74374,\n",
            "           0.74474,     0.74575,     0.74675,     0.74775,     0.74875,     0.74975,     0.75075,     0.75175,     0.75275,     0.75375,     0.75475,     0.75576,     0.75676,     0.75776,     0.75876,     0.75976,     0.76076,     0.76176,     0.76276,     0.76376,     0.76476,     0.76577,     0.76677,     0.76777,\n",
            "           0.76877,     0.76977,     0.77077,     0.77177,     0.77277,     0.77377,     0.77477,     0.77578,     0.77678,     0.77778,     0.77878,     0.77978,     0.78078,     0.78178,     0.78278,     0.78378,     0.78478,     0.78579,     0.78679,     0.78779,     0.78879,     0.78979,     0.79079,     0.79179,\n",
            "           0.79279,     0.79379,     0.79479,      0.7958,      0.7968,      0.7978,      0.7988,      0.7998,      0.8008,      0.8018,      0.8028,      0.8038,      0.8048,     0.80581,     0.80681,     0.80781,     0.80881,     0.80981,     0.81081,     0.81181,     0.81281,     0.81381,     0.81481,     0.81582,\n",
            "           0.81682,     0.81782,     0.81882,     0.81982,     0.82082,     0.82182,     0.82282,     0.82382,     0.82482,     0.82583,     0.82683,     0.82783,     0.82883,     0.82983,     0.83083,     0.83183,     0.83283,     0.83383,     0.83483,     0.83584,     0.83684,     0.83784,     0.83884,     0.83984,\n",
            "           0.84084,     0.84184,     0.84284,     0.84384,     0.84484,     0.84585,     0.84685,     0.84785,     0.84885,     0.84985,     0.85085,     0.85185,     0.85285,     0.85385,     0.85485,     0.85586,     0.85686,     0.85786,     0.85886,     0.85986,     0.86086,     0.86186,     0.86286,     0.86386,\n",
            "           0.86486,     0.86587,     0.86687,     0.86787,     0.86887,     0.86987,     0.87087,     0.87187,     0.87287,     0.87387,     0.87487,     0.87588,     0.87688,     0.87788,     0.87888,     0.87988,     0.88088,     0.88188,     0.88288,     0.88388,     0.88488,     0.88589,     0.88689,     0.88789,\n",
            "           0.88889,     0.88989,     0.89089,     0.89189,     0.89289,     0.89389,     0.89489,      0.8959,      0.8969,      0.8979,      0.8989,      0.8999,      0.9009,      0.9019,      0.9029,      0.9039,      0.9049,     0.90591,     0.90691,     0.90791,     0.90891,     0.90991,     0.91091,     0.91191,\n",
            "           0.91291,     0.91391,     0.91491,     0.91592,     0.91692,     0.91792,     0.91892,     0.91992,     0.92092,     0.92192,     0.92292,     0.92392,     0.92492,     0.92593,     0.92693,     0.92793,     0.92893,     0.92993,     0.93093,     0.93193,     0.93293,     0.93393,     0.93493,     0.93594,\n",
            "           0.93694,     0.93794,     0.93894,     0.93994,     0.94094,     0.94194,     0.94294,     0.94394,     0.94494,     0.94595,     0.94695,     0.94795,     0.94895,     0.94995,     0.95095,     0.95195,     0.95295,     0.95395,     0.95495,     0.95596,     0.95696,     0.95796,     0.95896,     0.95996,\n",
            "           0.96096,     0.96196,     0.96296,     0.96396,     0.96496,     0.96597,     0.96697,     0.96797,     0.96897,     0.96997,     0.97097,     0.97197,     0.97297,     0.97397,     0.97497,     0.97598,     0.97698,     0.97798,     0.97898,     0.97998,     0.98098,     0.98198,     0.98298,     0.98398,\n",
            "           0.98498,     0.98599,     0.98699,     0.98799,     0.98899,     0.98999,     0.99099,     0.99199,     0.99299,     0.99399,     0.99499,       0.996,       0.997,       0.998,       0.999,           1]), array([[    0.84804,     0.84804,     0.84804,     0.84804,     0.84804,     0.84804,     0.84804,     0.84804,     0.84804,     0.84804,     0.84804,     0.84804,     0.84804,     0.84804,     0.84804,     0.84804,     0.84804,     0.84804,     0.84804,     0.84804,     0.84804,     0.84804,     0.84804,\n",
            "            0.84804,     0.84804,     0.84804,     0.84804,     0.84804,     0.84804,     0.84804,     0.84804,     0.84804,     0.84804,     0.84804,     0.84804,     0.84804,     0.84804,     0.84804,     0.84804,     0.84804,     0.84804,     0.84804,     0.84804,     0.84804,     0.84804,     0.84804,\n",
            "            0.84804,     0.84804,     0.84804,     0.84804,     0.84804,     0.84804,     0.84804,     0.84804,     0.84804,     0.84804,     0.84804,     0.84804,     0.84804,     0.84804,     0.84804,     0.84804,     0.84804,     0.84804,     0.84804,     0.84804,     0.84804,     0.84804,     0.84804,\n",
            "            0.84804,     0.84804,     0.84804,     0.84804,     0.84804,     0.84804,     0.84804,     0.84804,     0.84804,     0.84804,     0.84804,     0.84804,     0.84804,     0.84804,     0.84804,     0.84804,     0.84804,     0.84804,     0.84804,     0.84804,     0.84804,     0.84804,     0.84804,\n",
            "            0.84804,     0.84804,     0.84804,     0.84804,     0.84804,     0.84804,     0.84804,     0.84804,     0.84804,     0.84804,     0.84804,     0.84804,     0.84804,     0.84804,     0.84804,     0.84804,     0.84804,     0.84804,     0.84804,     0.84804,     0.84804,     0.84804,     0.84804,\n",
            "            0.84804,     0.84804,     0.84804,     0.84804,     0.84804,     0.84804,     0.84804,     0.84804,     0.84804,     0.84804,     0.84804,     0.84804,     0.84804,     0.84804,     0.84804,     0.84804,     0.84804,     0.84804,     0.84804,     0.84804,     0.84804,     0.84804,     0.84804,\n",
            "            0.84804,     0.84804,     0.84804,     0.84804,     0.84804,     0.84804,     0.84804,     0.84804,     0.84804,     0.84804,     0.84804,     0.84804,     0.84804,     0.84804,     0.84804,     0.84804,     0.84804,     0.84804,     0.84804,     0.84804,     0.84804,     0.84804,     0.84804,\n",
            "            0.84804,     0.84804,     0.84804,     0.84804,     0.84804,     0.84804,     0.84804,     0.84804,     0.84804,     0.84804,     0.84804,     0.84804,     0.84804,     0.84804,     0.84804,     0.84804,     0.84804,     0.84804,     0.84804,     0.84804,     0.84804,     0.84804,     0.84804,\n",
            "            0.84804,     0.84804,     0.84804,     0.84804,     0.84804,     0.84804,     0.84804,     0.84804,     0.84804,     0.84804,     0.84804,     0.84804,     0.84804,     0.84804,     0.84804,     0.84804,     0.84804,     0.84804,     0.84804,     0.84804,     0.84804,     0.84804,     0.84804,\n",
            "            0.84804,     0.84804,     0.84804,     0.84804,     0.84804,     0.84804,     0.84804,     0.84804,     0.84804,     0.84804,     0.84804,     0.84804,     0.84804,     0.84804,     0.84804,     0.84804,     0.84804,     0.84804,     0.84804,     0.84804,     0.84804,     0.84804,     0.84804,\n",
            "            0.84804,     0.84804,     0.84804,     0.84804,     0.84804,     0.84804,     0.84804,     0.84804,     0.84804,     0.84804,     0.84804,     0.84804,     0.84804,     0.84804,     0.84804,     0.84804,     0.84804,     0.84804,     0.84804,     0.84804,     0.84804,     0.84804,     0.84804,\n",
            "            0.84804,     0.84804,     0.84804,     0.84804,     0.84804,     0.84804,     0.84804,     0.84804,     0.84804,     0.84804,     0.84804,     0.84804,     0.84804,     0.84804,     0.84804,     0.84804,     0.84804,     0.84804,     0.84804,     0.84804,     0.84804,     0.84804,     0.84804,\n",
            "            0.84804,     0.84804,     0.84804,     0.84804,     0.84804,     0.84804,     0.84804,     0.84804,     0.84804,     0.84804,     0.84804,     0.84804,     0.84804,     0.84804,     0.84804,     0.84804,     0.84804,     0.84804,     0.84804,     0.84804,     0.84804,     0.84804,     0.84804,\n",
            "            0.84804,     0.84804,     0.84804,     0.84804,     0.84804,     0.84804,     0.84804,     0.84804,     0.84804,     0.84804,     0.84804,     0.84804,     0.84804,     0.84804,     0.84804,     0.84804,     0.84804,     0.84804,     0.84804,     0.84804,     0.84804,     0.84804,     0.84804,\n",
            "            0.84804,     0.84804,     0.84804,     0.84804,     0.84804,     0.84804,     0.84804,     0.84804,     0.84804,     0.84804,     0.84804,     0.84804,     0.84804,     0.84804,     0.84804,     0.84804,     0.84804,     0.84804,     0.84804,     0.84804,     0.84804,     0.84804,     0.84804,\n",
            "            0.84804,     0.84804,     0.84804,     0.84804,     0.84804,     0.84804,     0.84804,     0.84804,     0.84804,     0.84804,     0.84804,     0.84804,     0.84804,     0.84804,     0.84804,     0.84804,     0.84804,     0.84804,     0.84804,     0.84804,     0.84804,     0.84804,     0.84804,\n",
            "            0.84804,     0.84804,     0.84804,     0.84804,     0.84804,     0.84804,     0.84804,     0.84804,     0.84804,     0.84804,     0.84804,     0.84804,     0.84804,     0.84804,     0.84804,     0.84804,     0.84804,     0.84804,     0.84804,     0.84804,     0.84804,     0.84804,     0.84804,\n",
            "            0.84804,     0.84804,     0.84804,     0.84804,     0.84804,     0.84804,     0.84804,     0.84804,     0.84804,     0.84804,     0.84804,     0.84804,     0.84804,     0.84804,     0.84804,     0.84804,     0.84804,     0.84804,     0.84804,     0.84804,     0.84804,     0.84804,     0.84804,\n",
            "            0.84804,     0.84804,     0.84804,     0.84804,     0.84804,     0.84804,     0.84804,     0.84804,     0.84804,     0.84804,     0.84804,     0.84804,     0.84804,     0.84804,     0.84804,     0.84804,     0.84804,     0.84804,     0.84804,     0.84804,     0.84804,     0.84804,     0.84804,\n",
            "            0.84804,     0.84804,     0.84804,     0.84804,     0.84804,     0.84804,     0.84804,     0.84804,     0.84804,     0.84804,     0.84804,     0.84804,     0.84804,     0.84804,     0.84804,     0.84804,     0.84804,     0.84804,     0.84804,     0.84804,     0.84804,     0.84804,     0.84804,\n",
            "            0.84804,     0.84804,     0.84804,     0.84804,     0.84804,     0.84804,     0.84804,     0.84804,     0.84804,     0.84804,     0.84804,     0.84804,     0.84804,     0.84804,     0.84804,     0.84804,     0.84804,     0.84804,     0.84804,     0.84804,     0.84804,     0.84804,     0.84804,\n",
            "            0.84804,     0.84804,     0.84804,     0.84804,     0.84804,     0.84804,     0.84804,     0.84804,     0.84804,     0.84804,     0.84804,     0.84804,     0.84804,     0.84804,     0.84804,     0.84804,     0.84804,     0.84804,       0.848,     0.84745,      0.8469,     0.84635,      0.8458,\n",
            "            0.84525,      0.8447,     0.84415,      0.8436,     0.84314,     0.84314,     0.84314,     0.84314,     0.84312,     0.84305,     0.84298,     0.84292,     0.84285,     0.84278,     0.84271,     0.84265,     0.84258,     0.84251,     0.84244,     0.84237,     0.84231,     0.84224,     0.84217,\n",
            "             0.8421,     0.84204,     0.84197,      0.8419,     0.84183,     0.84177,      0.8417,     0.84163,     0.84156,      0.8415,     0.84143,     0.84136,     0.84129,     0.84123,     0.84116,     0.84109,     0.84102,     0.84095,     0.84089,     0.84082,     0.84075,     0.84068,     0.84062,\n",
            "            0.84055,     0.84048,     0.84041,     0.84035,     0.84028,     0.84021,     0.84014,     0.84008,     0.84001,     0.83994,     0.83987,     0.83981,     0.83974,     0.83967,      0.8396,     0.83953,     0.83947,      0.8394,     0.83933,     0.83926,      0.8392,     0.83913,     0.83906,\n",
            "            0.83899,     0.83893,     0.83886,     0.83879,     0.83872,     0.83866,     0.83859,     0.83852,     0.83845,     0.83839,     0.83832,     0.83825,     0.83766,     0.83692,     0.83619,     0.83546,     0.83472,     0.83399,     0.83311,     0.83114,     0.82917,     0.82787,     0.82698,\n",
            "            0.82609,      0.8252,     0.82431,     0.82343,     0.82264,     0.82185,     0.82105,     0.82026,     0.81947,     0.81867,     0.81534,     0.81268,     0.81074,      0.8088,     0.80672,     0.80464,     0.80392,     0.80392,     0.80392,     0.80392,     0.80333,     0.80042,     0.79868,\n",
            "            0.79803,     0.79738,     0.79672,     0.79607,     0.79542,     0.79477,     0.79412,     0.79412,     0.79378,     0.79323,     0.79269,     0.79214,      0.7916,     0.79105,     0.79051,     0.78996,     0.78942,     0.78431,     0.78134,      0.7755,     0.76961,     0.76961,     0.76961,\n",
            "             0.7674,     0.76402,     0.75856,     0.75652,      0.7549,      0.7549,     0.75321,     0.75139,      0.7447,     0.74276,     0.74083,     0.73942,     0.73827,     0.73712,     0.73597,     0.73457,     0.73283,     0.73109,     0.71897,     0.71395,     0.71022,     0.70653,     0.69995,\n",
            "            0.69592,     0.69398,     0.69204,     0.68618,     0.68408,     0.68198,     0.68004,     0.67573,     0.67223,     0.66087,     0.65841,     0.65452,     0.65082,      0.6489,     0.64663,     0.63975,     0.63073,     0.62679,     0.62453,     0.62157,     0.61337,     0.60326,     0.59544,\n",
            "            0.59187,     0.59017,     0.58847,     0.57802,     0.57628,     0.57454,      0.5697,     0.56597,     0.55787,     0.55401,     0.53789,     0.53521,     0.53211,     0.52284,     0.51712,     0.50956,      0.5049,     0.50323,     0.50139,     0.49196,     0.48857,      0.4867,     0.48144,\n",
            "            0.47933,     0.47818,     0.47704,      0.4759,     0.47549,     0.47549,     0.47549,     0.47549,     0.47477,     0.47039,     0.46964,     0.46889,     0.46813,     0.46738,     0.46662,     0.46587,     0.46251,     0.46015,     0.45907,     0.45799,     0.45691,     0.45588,     0.45588,\n",
            "            0.45588,     0.45588,     0.45588,     0.45588,     0.45551,      0.4544,     0.45329,     0.45218,     0.45108,     0.44933,     0.44753,     0.44588,     0.44486,     0.44384,     0.44283,     0.44181,     0.44118,     0.44118,     0.44118,     0.43484,     0.43097,     0.42594,      0.4228,\n",
            "            0.42037,     0.41838,     0.41573,     0.40763,      0.3866,     0.37336,     0.35977,     0.35557,     0.35195,     0.34648,     0.34209,     0.34007,     0.33809,     0.33655,     0.33501,     0.33346,     0.32612,     0.32326,     0.31821,      0.3172,      0.3162,     0.31519,     0.31418,\n",
            "            0.30882,     0.30882,     0.30149,     0.29559,     0.28922,     0.28302,      0.2765,     0.26711,     0.25938,      0.2558,     0.25077,      0.2485,     0.24325,     0.24045,      0.2402,      0.2402,      0.2402,      0.2402,     0.23894,     0.22825,     0.22421,     0.22279,     0.22137,\n",
            "            0.22046,     0.21799,     0.21521,     0.21016,     0.20854,     0.20692,     0.20391,     0.19944,      0.1961,     0.18666,     0.18383,     0.18058,     0.17379,     0.17088,     0.16952,     0.16816,      0.1668,      0.1647,     0.16252,     0.16032,     0.15812,      0.1544,     0.14819,\n",
            "            0.14503,     0.14258,      0.1358,      0.1302,     0.12686,     0.12586,     0.12485,     0.12385,     0.12285,     0.12211,     0.12127,     0.12043,     0.11958,     0.11874,      0.1179,     0.11612,     0.11394,     0.10924,     0.10297,    0.092229,    0.086777,    0.082922,    0.082399,\n",
            "           0.081875,    0.081352,    0.080828,    0.080305,    0.079781,    0.079258,    0.078734,    0.077971,    0.076881,    0.075791,    0.074701,     0.07361,    0.072364,    0.071105,    0.069846,     0.06367,    0.061681,    0.059693,    0.058417,    0.057693,     0.05697,    0.056247,    0.055523,\n",
            "             0.0548,    0.054076,     0.05301,     0.05185,     0.05069,     0.04953,    0.048517,     0.04762,    0.046722,    0.045825,    0.044928,     0.04406,    0.043459,    0.042859,    0.042259,    0.041658,    0.041058,    0.040458,    0.039858,    0.039257,    0.038164,    0.037034,    0.035904,\n",
            "           0.034774,    0.032894,    0.030497,    0.015917,    0.013439,     0.01202,    0.010601,   0.0096907,    0.009432,   0.0091734,   0.0089148,   0.0086562,   0.0083975,   0.0081389,   0.0078803,   0.0076216,    0.007363,   0.0071044,   0.0068458,   0.0065871,   0.0063285,   0.0060699,   0.0058113,\n",
            "          0.0055526,    0.005294,   0.0050354,           0,           0,           0,           0,           0,           0,           0,           0,           0,           0,           0,           0,           0,           0,           0,           0,           0,           0,           0,           0,\n",
            "                  0,           0,           0,           0,           0,           0,           0,           0,           0,           0,           0,           0,           0,           0,           0,           0,           0,           0,           0,           0,           0,           0,           0,\n",
            "                  0,           0,           0,           0,           0,           0,           0,           0,           0,           0,           0,           0,           0,           0,           0,           0,           0,           0,           0,           0,           0,           0,           0,\n",
            "                  0,           0,           0,           0,           0,           0,           0,           0,           0,           0,           0]]), 'Confidence', 'Recall']]\n",
            "fitness: np.float64(0.5041599941329269)\n",
            "keys: ['metrics/precision(B)', 'metrics/recall(B)', 'metrics/mAP50(B)', 'metrics/mAP50-95(B)']\n",
            "maps: array([    0.46329])\n",
            "names: {0: 'Accident'}\n",
            "plot: True\n",
            "results_dict: {'metrics/precision(B)': np.float64(0.909892690147413), 'metrics/recall(B)': np.float64(0.8414956938632873), 'metrics/mAP50(B)': np.float64(0.872006178119265), 'metrics/mAP50-95(B)': np.float64(0.46328819591222264), 'fitness': np.float64(0.5041599941329269)}\n",
            "save_dir: PosixPath('runs/detect/val')\n",
            "speed: {'preprocess': 0.9480667127060082, 'inference': 4.302338464090123, 'loss': 0.009978895023320764, 'postprocess': 1.1081219861968563}\n",
            "task: 'detect'\n"
          ]
        },
        {
          "output_type": "error",
          "ename": "NameError",
          "evalue": "name 's' is not defined",
          "traceback": [
            "\u001b[0;31m---------------------------------------------------------------------------\u001b[0m",
            "\u001b[0;31mNameError\u001b[0m                                 Traceback (most recent call last)",
            "\u001b[0;32m<ipython-input-11-76aad02c4107>\u001b[0m in \u001b[0;36m<cell line: 0>\u001b[0;34m()\u001b[0m\n\u001b[1;32m     13\u001b[0m \u001b[0;31m# After validation, 'metrics' will have all details\u001b[0m\u001b[0;34m\u001b[0m\u001b[0;34m\u001b[0m\u001b[0m\n\u001b[1;32m     14\u001b[0m \u001b[0mprint\u001b[0m\u001b[0;34m(\u001b[0m\u001b[0mmetrics\u001b[0m\u001b[0;34m)\u001b[0m\u001b[0;34m\u001b[0m\u001b[0;34m\u001b[0m\u001b[0m\n\u001b[0;32m---> 15\u001b[0;31m \u001b[0ms\u001b[0m\u001b[0;34m\u001b[0m\u001b[0;34m\u001b[0m\u001b[0m\n\u001b[0m",
            "\u001b[0;31mNameError\u001b[0m: name 's' is not defined"
          ]
        }
      ]
    }
  ],
  "metadata": {
    "colab": {
      "provenance": [],
      "gpuType": "T4",
      "include_colab_link": true
    },
    "kernelspec": {
      "display_name": "Python 3",
      "name": "python3"
    },
    "language_info": {
      "name": "python"
    },
    "accelerator": "GPU"
  },
  "nbformat": 4,
  "nbformat_minor": 0
}